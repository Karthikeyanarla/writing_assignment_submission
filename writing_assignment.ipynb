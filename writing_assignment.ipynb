{
 "cells": [
  {
   "cell_type": "code",
   "execution_count": 1,
   "metadata": {},
   "outputs": [],
   "source": [
    "# importing necessary libraries\n",
    "import pandas as pd\n",
    "import numpy as np\n",
    "import seaborn as sns\n",
    "import statsmodels.api as sm\n",
    "import plotly.express as px\n",
    "import matplotlib.pyplot as plt\n",
    "import folium\n",
    "from folium.plugins import HeatMap"
   ]
  },
  {
   "cell_type": "code",
   "execution_count": 2,
   "metadata": {},
   "outputs": [],
   "source": [
    "# data prerprocessing\n",
    "df = pd.read_csv('location.csv')\n",
    "\n",
    "for i in df.columns:\n",
    "    if len(df[i].unique()) == 1:\n",
    "        df.drop(i, axis=1, inplace=True)\n",
    "\n",
    "df.drop([i for i in df.columns if len(df[i].unique()) == 1], axis=1, inplace=True)\n",
    "df = pd.read_csv(\"location.csv\")\n",
    "df.rename(columns={'Country': 'Location'}, inplace=True)\n",
    "\n",
    "df['Location'] = df['Location'].replace('United States','United States of America',)\n",
    "location = df\n",
    "\n",
    "# Load the data into a pandas dataframe\n",
    "road_safety_data = pd.read_csv(\"data.csv\")\n",
    "road_safety_data = road_safety_data.groupby('Location')['FactValueNumeric'].sum()\n",
    "\n",
    "df = road_safety_data.to_frame()\n",
    "df = df.reset_index()\n",
    "df = df.rename(columns={'index': 'Location'})\n",
    "df.sort_values(by = \"Location\", ascending = True)\n",
    "\n",
    "\n",
    "# Merge location information with road safety data\n",
    "road_safety_data = pd.merge(df, location, on='Location', how='left')\n",
    "# Clean and preprocess the data\n",
    "road_safety_data = road_safety_data.drop_duplicates()\n",
    "na_count = road_safety_data.isna().sum()\n",
    "missing_cols = na_count[na_count > 0].index\n",
    "road_safety_data[missing_cols] = road_safety_data[missing_cols].fillna(0)\n"
   ]
  },
  {
   "cell_type": "code",
   "execution_count": 3,
   "metadata": {},
   "outputs": [],
   "source": [
    "# Create a heatmap based on the number of accidents(deaths)\n",
    "locations = road_safety_data[['Latitude', 'Longitude']]\n",
    "accidents_map = folium.Map(location=[51.5074, -0.1278], zoom_start=2)\n",
    "weights = road_safety_data['FactValueNumeric']\n",
    "HeatMap(list(zip(locations.Latitude.values, locations.Longitude.values, weights)), gradient={0.2: 'blue', 0.4: 'purple', 0.6: 'orange', 1.0: 'red'}, min_opacity=0.2).add_to(accidents_map)\n",
    "accidents_map.save('accidents_heatmap.html')"
   ]
  },
  {
   "attachments": {},
   "cell_type": "markdown",
   "metadata": {},
   "source": [
    "###### HeatMap representing the number of accidents or deaths occured on road in world.\n",
    "\n",
    "Note: Embedded HTML page can be only viewed with jupyter notebook"
   ]
  },
  {
   "cell_type": "code",
   "execution_count": 4,
   "metadata": {},
   "outputs": [
    {
     "data": {
      "text/html": [
       "\n",
       "        <iframe\n",
       "            width=\"1000\"\n",
       "            height=\"500\"\n",
       "            src=\"./accidents_heatmap.html\"\n",
       "            frameborder=\"0\"\n",
       "            allowfullscreen\n",
       "            \n",
       "        ></iframe>\n",
       "        "
      ],
      "text/plain": [
       "<IPython.lib.display.IFrame at 0x174857b90>"
      ]
     },
     "execution_count": 4,
     "metadata": {},
     "output_type": "execute_result"
    }
   ],
   "source": [
    "from IPython.display import IFrame\n",
    "IFrame(src='./accidents_heatmap.html', width=1000, height=500)"
   ]
  },
  {
   "attachments": {},
   "cell_type": "markdown",
   "metadata": {},
   "source": [
    "Plotting countries which has highest population to analysis the relation between the population and deaths"
   ]
  },
  {
   "cell_type": "code",
   "execution_count": 6,
   "metadata": {},
   "outputs": [
    {
     "data": {
      "application/vnd.plotly.v1+json": {
       "config": {
        "plotlyServerURL": "https://plot.ly"
       },
       "data": [
        {
         "hovertemplate": "Location=India<br>Period=%{x}<br>FactValueNumeric=%{y}<extra></extra>",
         "legendgroup": "India",
         "line": {
          "color": "#636efa",
          "dash": "solid"
         },
         "marker": {
          "symbol": "circle"
         },
         "mode": "lines",
         "name": "India",
         "orientation": "v",
         "showlegend": true,
         "type": "scatter",
         "x": [
          2019,
          2018,
          2017,
          2016,
          2015,
          2014,
          2013,
          2012,
          2011,
          2010,
          2009,
          2008,
          2007,
          2006,
          2005,
          2004,
          2003,
          2002,
          2001,
          2000
         ],
         "xaxis": "x",
         "y": [
          212596,
          210086,
          202927,
          202999,
          204523,
          208670,
          217778,
          222797,
          217929,
          212091,
          207613,
          205913,
          197124,
          189903,
          182346,
          176179,
          175576,
          178686,
          178818,
          178132
         ],
         "yaxis": "y"
        },
        {
         "hovertemplate": "Location=China<br>Period=%{x}<br>FactValueNumeric=%{y}<extra></extra>",
         "legendgroup": "China",
         "line": {
          "color": "#EF553B",
          "dash": "solid"
         },
         "marker": {
          "symbol": "circle"
         },
         "mode": "lines",
         "name": "China",
         "orientation": "v",
         "showlegend": true,
         "type": "scatter",
         "x": [
          2019,
          2018,
          2017,
          2016,
          2015,
          2014,
          2013,
          2012,
          2011,
          2010,
          2009,
          2008,
          2007,
          2006,
          2005,
          2004,
          2003,
          2002,
          2001,
          2000
         ],
         "xaxis": "x",
         "y": [
          250272,
          252225,
          254102,
          256180,
          258175,
          264944,
          274653,
          282962,
          286458,
          279005,
          280280,
          279173,
          282827,
          279093,
          278063,
          273248,
          279480,
          290780,
          286025,
          277382
         ],
         "yaxis": "y"
        },
        {
         "hovertemplate": "Location=Indonesia<br>Period=%{x}<br>FactValueNumeric=%{y}<extra></extra>",
         "legendgroup": "Indonesia",
         "line": {
          "color": "#00cc96",
          "dash": "solid"
         },
         "marker": {
          "symbol": "circle"
         },
         "mode": "lines",
         "name": "Indonesia",
         "orientation": "v",
         "showlegend": true,
         "type": "scatter",
         "x": [
          2019,
          2018,
          2017,
          2016,
          2015,
          2014,
          2013,
          2012,
          2011,
          2010,
          2009,
          2008,
          2007,
          2006,
          2005,
          2004,
          2003,
          2002,
          2001,
          2000
         ],
         "xaxis": "x",
         "y": [
          30668,
          31012,
          31347,
          31766,
          31718,
          32511,
          32488,
          32415,
          33730,
          33035,
          33175,
          31900,
          31754,
          32467,
          32359,
          32129,
          31928,
          32094,
          31348,
          30615
         ],
         "yaxis": "y"
        },
        {
         "hovertemplate": "Location=Brazil<br>Period=%{x}<br>FactValueNumeric=%{y}<extra></extra>",
         "legendgroup": "Brazil",
         "line": {
          "color": "#ab63fa",
          "dash": "solid"
         },
         "marker": {
          "symbol": "circle"
         },
         "mode": "lines",
         "name": "Brazil",
         "orientation": "v",
         "showlegend": true,
         "type": "scatter",
         "x": [
          2019,
          2018,
          2017,
          2016,
          2015,
          2014,
          2013,
          2012,
          2011,
          2010,
          2009,
          2008,
          2007,
          2006,
          2005,
          2004,
          2003,
          2002,
          2001,
          2000
         ],
         "xaxis": "x",
         "y": [
          33871,
          35857,
          38844,
          41007,
          42505,
          47902,
          46519,
          49476,
          48314,
          47537,
          43018,
          43304,
          42834,
          41075,
          41683,
          40908,
          38234,
          38072,
          35656,
          34451
         ],
         "yaxis": "y"
        },
        {
         "hovertemplate": "Location=Nigeria<br>Period=%{x}<br>FactValueNumeric=%{y}<extra></extra>",
         "legendgroup": "Nigeria",
         "line": {
          "color": "#FFA15A",
          "dash": "solid"
         },
         "marker": {
          "symbol": "circle"
         },
         "mode": "lines",
         "name": "Nigeria",
         "orientation": "v",
         "showlegend": true,
         "type": "scatter",
         "x": [
          2019,
          2018,
          2017,
          2016,
          2015,
          2014,
          2013,
          2012,
          2011,
          2010,
          2009,
          2008,
          2007,
          2006,
          2005,
          2004,
          2003,
          2002,
          2001,
          2000
         ],
         "xaxis": "x",
         "y": [
          41693,
          41008,
          40325,
          39802,
          38749,
          38703,
          37831,
          36948,
          36572,
          39757,
          38996,
          37759,
          37853,
          37662,
          37445,
          37400,
          37774,
          38361,
          37094,
          35748
         ],
         "yaxis": "y"
        }
       ],
       "layout": {
        "legend": {
         "title": {
          "text": "Location"
         },
         "tracegroupgap": 0
        },
        "template": {
         "data": {
          "bar": [
           {
            "error_x": {
             "color": "#2a3f5f"
            },
            "error_y": {
             "color": "#2a3f5f"
            },
            "marker": {
             "line": {
              "color": "#E5ECF6",
              "width": 0.5
             },
             "pattern": {
              "fillmode": "overlay",
              "size": 10,
              "solidity": 0.2
             }
            },
            "type": "bar"
           }
          ],
          "barpolar": [
           {
            "marker": {
             "line": {
              "color": "#E5ECF6",
              "width": 0.5
             },
             "pattern": {
              "fillmode": "overlay",
              "size": 10,
              "solidity": 0.2
             }
            },
            "type": "barpolar"
           }
          ],
          "carpet": [
           {
            "aaxis": {
             "endlinecolor": "#2a3f5f",
             "gridcolor": "white",
             "linecolor": "white",
             "minorgridcolor": "white",
             "startlinecolor": "#2a3f5f"
            },
            "baxis": {
             "endlinecolor": "#2a3f5f",
             "gridcolor": "white",
             "linecolor": "white",
             "minorgridcolor": "white",
             "startlinecolor": "#2a3f5f"
            },
            "type": "carpet"
           }
          ],
          "choropleth": [
           {
            "colorbar": {
             "outlinewidth": 0,
             "ticks": ""
            },
            "type": "choropleth"
           }
          ],
          "contour": [
           {
            "colorbar": {
             "outlinewidth": 0,
             "ticks": ""
            },
            "colorscale": [
             [
              0,
              "#0d0887"
             ],
             [
              0.1111111111111111,
              "#46039f"
             ],
             [
              0.2222222222222222,
              "#7201a8"
             ],
             [
              0.3333333333333333,
              "#9c179e"
             ],
             [
              0.4444444444444444,
              "#bd3786"
             ],
             [
              0.5555555555555556,
              "#d8576b"
             ],
             [
              0.6666666666666666,
              "#ed7953"
             ],
             [
              0.7777777777777778,
              "#fb9f3a"
             ],
             [
              0.8888888888888888,
              "#fdca26"
             ],
             [
              1,
              "#f0f921"
             ]
            ],
            "type": "contour"
           }
          ],
          "contourcarpet": [
           {
            "colorbar": {
             "outlinewidth": 0,
             "ticks": ""
            },
            "type": "contourcarpet"
           }
          ],
          "heatmap": [
           {
            "colorbar": {
             "outlinewidth": 0,
             "ticks": ""
            },
            "colorscale": [
             [
              0,
              "#0d0887"
             ],
             [
              0.1111111111111111,
              "#46039f"
             ],
             [
              0.2222222222222222,
              "#7201a8"
             ],
             [
              0.3333333333333333,
              "#9c179e"
             ],
             [
              0.4444444444444444,
              "#bd3786"
             ],
             [
              0.5555555555555556,
              "#d8576b"
             ],
             [
              0.6666666666666666,
              "#ed7953"
             ],
             [
              0.7777777777777778,
              "#fb9f3a"
             ],
             [
              0.8888888888888888,
              "#fdca26"
             ],
             [
              1,
              "#f0f921"
             ]
            ],
            "type": "heatmap"
           }
          ],
          "heatmapgl": [
           {
            "colorbar": {
             "outlinewidth": 0,
             "ticks": ""
            },
            "colorscale": [
             [
              0,
              "#0d0887"
             ],
             [
              0.1111111111111111,
              "#46039f"
             ],
             [
              0.2222222222222222,
              "#7201a8"
             ],
             [
              0.3333333333333333,
              "#9c179e"
             ],
             [
              0.4444444444444444,
              "#bd3786"
             ],
             [
              0.5555555555555556,
              "#d8576b"
             ],
             [
              0.6666666666666666,
              "#ed7953"
             ],
             [
              0.7777777777777778,
              "#fb9f3a"
             ],
             [
              0.8888888888888888,
              "#fdca26"
             ],
             [
              1,
              "#f0f921"
             ]
            ],
            "type": "heatmapgl"
           }
          ],
          "histogram": [
           {
            "marker": {
             "pattern": {
              "fillmode": "overlay",
              "size": 10,
              "solidity": 0.2
             }
            },
            "type": "histogram"
           }
          ],
          "histogram2d": [
           {
            "colorbar": {
             "outlinewidth": 0,
             "ticks": ""
            },
            "colorscale": [
             [
              0,
              "#0d0887"
             ],
             [
              0.1111111111111111,
              "#46039f"
             ],
             [
              0.2222222222222222,
              "#7201a8"
             ],
             [
              0.3333333333333333,
              "#9c179e"
             ],
             [
              0.4444444444444444,
              "#bd3786"
             ],
             [
              0.5555555555555556,
              "#d8576b"
             ],
             [
              0.6666666666666666,
              "#ed7953"
             ],
             [
              0.7777777777777778,
              "#fb9f3a"
             ],
             [
              0.8888888888888888,
              "#fdca26"
             ],
             [
              1,
              "#f0f921"
             ]
            ],
            "type": "histogram2d"
           }
          ],
          "histogram2dcontour": [
           {
            "colorbar": {
             "outlinewidth": 0,
             "ticks": ""
            },
            "colorscale": [
             [
              0,
              "#0d0887"
             ],
             [
              0.1111111111111111,
              "#46039f"
             ],
             [
              0.2222222222222222,
              "#7201a8"
             ],
             [
              0.3333333333333333,
              "#9c179e"
             ],
             [
              0.4444444444444444,
              "#bd3786"
             ],
             [
              0.5555555555555556,
              "#d8576b"
             ],
             [
              0.6666666666666666,
              "#ed7953"
             ],
             [
              0.7777777777777778,
              "#fb9f3a"
             ],
             [
              0.8888888888888888,
              "#fdca26"
             ],
             [
              1,
              "#f0f921"
             ]
            ],
            "type": "histogram2dcontour"
           }
          ],
          "mesh3d": [
           {
            "colorbar": {
             "outlinewidth": 0,
             "ticks": ""
            },
            "type": "mesh3d"
           }
          ],
          "parcoords": [
           {
            "line": {
             "colorbar": {
              "outlinewidth": 0,
              "ticks": ""
             }
            },
            "type": "parcoords"
           }
          ],
          "pie": [
           {
            "automargin": true,
            "type": "pie"
           }
          ],
          "scatter": [
           {
            "fillpattern": {
             "fillmode": "overlay",
             "size": 10,
             "solidity": 0.2
            },
            "type": "scatter"
           }
          ],
          "scatter3d": [
           {
            "line": {
             "colorbar": {
              "outlinewidth": 0,
              "ticks": ""
             }
            },
            "marker": {
             "colorbar": {
              "outlinewidth": 0,
              "ticks": ""
             }
            },
            "type": "scatter3d"
           }
          ],
          "scattercarpet": [
           {
            "marker": {
             "colorbar": {
              "outlinewidth": 0,
              "ticks": ""
             }
            },
            "type": "scattercarpet"
           }
          ],
          "scattergeo": [
           {
            "marker": {
             "colorbar": {
              "outlinewidth": 0,
              "ticks": ""
             }
            },
            "type": "scattergeo"
           }
          ],
          "scattergl": [
           {
            "marker": {
             "colorbar": {
              "outlinewidth": 0,
              "ticks": ""
             }
            },
            "type": "scattergl"
           }
          ],
          "scattermapbox": [
           {
            "marker": {
             "colorbar": {
              "outlinewidth": 0,
              "ticks": ""
             }
            },
            "type": "scattermapbox"
           }
          ],
          "scatterpolar": [
           {
            "marker": {
             "colorbar": {
              "outlinewidth": 0,
              "ticks": ""
             }
            },
            "type": "scatterpolar"
           }
          ],
          "scatterpolargl": [
           {
            "marker": {
             "colorbar": {
              "outlinewidth": 0,
              "ticks": ""
             }
            },
            "type": "scatterpolargl"
           }
          ],
          "scatterternary": [
           {
            "marker": {
             "colorbar": {
              "outlinewidth": 0,
              "ticks": ""
             }
            },
            "type": "scatterternary"
           }
          ],
          "surface": [
           {
            "colorbar": {
             "outlinewidth": 0,
             "ticks": ""
            },
            "colorscale": [
             [
              0,
              "#0d0887"
             ],
             [
              0.1111111111111111,
              "#46039f"
             ],
             [
              0.2222222222222222,
              "#7201a8"
             ],
             [
              0.3333333333333333,
              "#9c179e"
             ],
             [
              0.4444444444444444,
              "#bd3786"
             ],
             [
              0.5555555555555556,
              "#d8576b"
             ],
             [
              0.6666666666666666,
              "#ed7953"
             ],
             [
              0.7777777777777778,
              "#fb9f3a"
             ],
             [
              0.8888888888888888,
              "#fdca26"
             ],
             [
              1,
              "#f0f921"
             ]
            ],
            "type": "surface"
           }
          ],
          "table": [
           {
            "cells": {
             "fill": {
              "color": "#EBF0F8"
             },
             "line": {
              "color": "white"
             }
            },
            "header": {
             "fill": {
              "color": "#C8D4E3"
             },
             "line": {
              "color": "white"
             }
            },
            "type": "table"
           }
          ]
         },
         "layout": {
          "annotationdefaults": {
           "arrowcolor": "#2a3f5f",
           "arrowhead": 0,
           "arrowwidth": 1
          },
          "autotypenumbers": "strict",
          "coloraxis": {
           "colorbar": {
            "outlinewidth": 0,
            "ticks": ""
           }
          },
          "colorscale": {
           "diverging": [
            [
             0,
             "#8e0152"
            ],
            [
             0.1,
             "#c51b7d"
            ],
            [
             0.2,
             "#de77ae"
            ],
            [
             0.3,
             "#f1b6da"
            ],
            [
             0.4,
             "#fde0ef"
            ],
            [
             0.5,
             "#f7f7f7"
            ],
            [
             0.6,
             "#e6f5d0"
            ],
            [
             0.7,
             "#b8e186"
            ],
            [
             0.8,
             "#7fbc41"
            ],
            [
             0.9,
             "#4d9221"
            ],
            [
             1,
             "#276419"
            ]
           ],
           "sequential": [
            [
             0,
             "#0d0887"
            ],
            [
             0.1111111111111111,
             "#46039f"
            ],
            [
             0.2222222222222222,
             "#7201a8"
            ],
            [
             0.3333333333333333,
             "#9c179e"
            ],
            [
             0.4444444444444444,
             "#bd3786"
            ],
            [
             0.5555555555555556,
             "#d8576b"
            ],
            [
             0.6666666666666666,
             "#ed7953"
            ],
            [
             0.7777777777777778,
             "#fb9f3a"
            ],
            [
             0.8888888888888888,
             "#fdca26"
            ],
            [
             1,
             "#f0f921"
            ]
           ],
           "sequentialminus": [
            [
             0,
             "#0d0887"
            ],
            [
             0.1111111111111111,
             "#46039f"
            ],
            [
             0.2222222222222222,
             "#7201a8"
            ],
            [
             0.3333333333333333,
             "#9c179e"
            ],
            [
             0.4444444444444444,
             "#bd3786"
            ],
            [
             0.5555555555555556,
             "#d8576b"
            ],
            [
             0.6666666666666666,
             "#ed7953"
            ],
            [
             0.7777777777777778,
             "#fb9f3a"
            ],
            [
             0.8888888888888888,
             "#fdca26"
            ],
            [
             1,
             "#f0f921"
            ]
           ]
          },
          "colorway": [
           "#636efa",
           "#EF553B",
           "#00cc96",
           "#ab63fa",
           "#FFA15A",
           "#19d3f3",
           "#FF6692",
           "#B6E880",
           "#FF97FF",
           "#FECB52"
          ],
          "font": {
           "color": "#2a3f5f"
          },
          "geo": {
           "bgcolor": "white",
           "lakecolor": "white",
           "landcolor": "#E5ECF6",
           "showlakes": true,
           "showland": true,
           "subunitcolor": "white"
          },
          "hoverlabel": {
           "align": "left"
          },
          "hovermode": "closest",
          "mapbox": {
           "style": "light"
          },
          "paper_bgcolor": "white",
          "plot_bgcolor": "#E5ECF6",
          "polar": {
           "angularaxis": {
            "gridcolor": "white",
            "linecolor": "white",
            "ticks": ""
           },
           "bgcolor": "#E5ECF6",
           "radialaxis": {
            "gridcolor": "white",
            "linecolor": "white",
            "ticks": ""
           }
          },
          "scene": {
           "xaxis": {
            "backgroundcolor": "#E5ECF6",
            "gridcolor": "white",
            "gridwidth": 2,
            "linecolor": "white",
            "showbackground": true,
            "ticks": "",
            "zerolinecolor": "white"
           },
           "yaxis": {
            "backgroundcolor": "#E5ECF6",
            "gridcolor": "white",
            "gridwidth": 2,
            "linecolor": "white",
            "showbackground": true,
            "ticks": "",
            "zerolinecolor": "white"
           },
           "zaxis": {
            "backgroundcolor": "#E5ECF6",
            "gridcolor": "white",
            "gridwidth": 2,
            "linecolor": "white",
            "showbackground": true,
            "ticks": "",
            "zerolinecolor": "white"
           }
          },
          "shapedefaults": {
           "line": {
            "color": "#2a3f5f"
           }
          },
          "ternary": {
           "aaxis": {
            "gridcolor": "white",
            "linecolor": "white",
            "ticks": ""
           },
           "baxis": {
            "gridcolor": "white",
            "linecolor": "white",
            "ticks": ""
           },
           "bgcolor": "#E5ECF6",
           "caxis": {
            "gridcolor": "white",
            "linecolor": "white",
            "ticks": ""
           }
          },
          "title": {
           "x": 0.05
          },
          "xaxis": {
           "automargin": true,
           "gridcolor": "white",
           "linecolor": "white",
           "ticks": "",
           "title": {
            "standoff": 15
           },
           "zerolinecolor": "white",
           "zerolinewidth": 2
          },
          "yaxis": {
           "automargin": true,
           "gridcolor": "white",
           "linecolor": "white",
           "ticks": "",
           "title": {
            "standoff": 15
           },
           "zerolinecolor": "white",
           "zerolinewidth": 2
          }
         }
        },
        "title": {
         "text": "Road Traffic Deaths by Country and Year"
        },
        "xaxis": {
         "anchor": "y",
         "domain": [
          0,
          1
         ],
         "title": {
          "text": "Period"
         }
        },
        "yaxis": {
         "anchor": "x",
         "domain": [
          0,
          1
         ],
         "title": {
          "text": "FactValueNumeric"
         }
        }
       }
      },
      "text/html": [
       "<div>                            <div id=\"31fe571d-80ba-4b6c-9ad6-2f46e68486b0\" class=\"plotly-graph-div\" style=\"height:525px; width:100%;\"></div>            <script type=\"text/javascript\">                require([\"plotly\"], function(Plotly) {                    window.PLOTLYENV=window.PLOTLYENV || {};                                    if (document.getElementById(\"31fe571d-80ba-4b6c-9ad6-2f46e68486b0\")) {                    Plotly.newPlot(                        \"31fe571d-80ba-4b6c-9ad6-2f46e68486b0\",                        [{\"hovertemplate\":\"Location=India<br>Period=%{x}<br>FactValueNumeric=%{y}<extra></extra>\",\"legendgroup\":\"India\",\"line\":{\"color\":\"#636efa\",\"dash\":\"solid\"},\"marker\":{\"symbol\":\"circle\"},\"mode\":\"lines\",\"name\":\"India\",\"orientation\":\"v\",\"showlegend\":true,\"x\":[2019,2018,2017,2016,2015,2014,2013,2012,2011,2010,2009,2008,2007,2006,2005,2004,2003,2002,2001,2000],\"xaxis\":\"x\",\"y\":[212596.0,210086.0,202927.0,202999.0,204523.0,208670.0,217778.0,222797.0,217929.0,212091.0,207613.0,205913.0,197124.0,189903.0,182346.0,176179.0,175576.0,178686.0,178818.0,178132.0],\"yaxis\":\"y\",\"type\":\"scatter\"},{\"hovertemplate\":\"Location=China<br>Period=%{x}<br>FactValueNumeric=%{y}<extra></extra>\",\"legendgroup\":\"China\",\"line\":{\"color\":\"#EF553B\",\"dash\":\"solid\"},\"marker\":{\"symbol\":\"circle\"},\"mode\":\"lines\",\"name\":\"China\",\"orientation\":\"v\",\"showlegend\":true,\"x\":[2019,2018,2017,2016,2015,2014,2013,2012,2011,2010,2009,2008,2007,2006,2005,2004,2003,2002,2001,2000],\"xaxis\":\"x\",\"y\":[250272.0,252225.0,254102.0,256180.0,258175.0,264944.0,274653.0,282962.0,286458.0,279005.0,280280.0,279173.0,282827.0,279093.0,278063.0,273248.0,279480.0,290780.0,286025.0,277382.0],\"yaxis\":\"y\",\"type\":\"scatter\"},{\"hovertemplate\":\"Location=Indonesia<br>Period=%{x}<br>FactValueNumeric=%{y}<extra></extra>\",\"legendgroup\":\"Indonesia\",\"line\":{\"color\":\"#00cc96\",\"dash\":\"solid\"},\"marker\":{\"symbol\":\"circle\"},\"mode\":\"lines\",\"name\":\"Indonesia\",\"orientation\":\"v\",\"showlegend\":true,\"x\":[2019,2018,2017,2016,2015,2014,2013,2012,2011,2010,2009,2008,2007,2006,2005,2004,2003,2002,2001,2000],\"xaxis\":\"x\",\"y\":[30668.0,31012.0,31347.0,31766.0,31718.0,32511.0,32488.0,32415.0,33730.0,33035.0,33175.0,31900.0,31754.0,32467.0,32359.0,32129.0,31928.0,32094.0,31348.0,30615.0],\"yaxis\":\"y\",\"type\":\"scatter\"},{\"hovertemplate\":\"Location=Brazil<br>Period=%{x}<br>FactValueNumeric=%{y}<extra></extra>\",\"legendgroup\":\"Brazil\",\"line\":{\"color\":\"#ab63fa\",\"dash\":\"solid\"},\"marker\":{\"symbol\":\"circle\"},\"mode\":\"lines\",\"name\":\"Brazil\",\"orientation\":\"v\",\"showlegend\":true,\"x\":[2019,2018,2017,2016,2015,2014,2013,2012,2011,2010,2009,2008,2007,2006,2005,2004,2003,2002,2001,2000],\"xaxis\":\"x\",\"y\":[33871.0,35857.0,38844.0,41007.0,42505.0,47902.0,46519.0,49476.0,48314.0,47537.0,43018.0,43304.0,42834.0,41075.0,41683.0,40908.0,38234.0,38072.0,35656.0,34451.0],\"yaxis\":\"y\",\"type\":\"scatter\"},{\"hovertemplate\":\"Location=Nigeria<br>Period=%{x}<br>FactValueNumeric=%{y}<extra></extra>\",\"legendgroup\":\"Nigeria\",\"line\":{\"color\":\"#FFA15A\",\"dash\":\"solid\"},\"marker\":{\"symbol\":\"circle\"},\"mode\":\"lines\",\"name\":\"Nigeria\",\"orientation\":\"v\",\"showlegend\":true,\"x\":[2019,2018,2017,2016,2015,2014,2013,2012,2011,2010,2009,2008,2007,2006,2005,2004,2003,2002,2001,2000],\"xaxis\":\"x\",\"y\":[41693.0,41008.0,40325.0,39802.0,38749.0,38703.0,37831.0,36948.0,36572.0,39757.0,38996.0,37759.0,37853.0,37662.0,37445.0,37400.0,37774.0,38361.0,37094.0,35748.0],\"yaxis\":\"y\",\"type\":\"scatter\"}],                        {\"template\":{\"data\":{\"histogram2dcontour\":[{\"type\":\"histogram2dcontour\",\"colorbar\":{\"outlinewidth\":0,\"ticks\":\"\"},\"colorscale\":[[0.0,\"#0d0887\"],[0.1111111111111111,\"#46039f\"],[0.2222222222222222,\"#7201a8\"],[0.3333333333333333,\"#9c179e\"],[0.4444444444444444,\"#bd3786\"],[0.5555555555555556,\"#d8576b\"],[0.6666666666666666,\"#ed7953\"],[0.7777777777777778,\"#fb9f3a\"],[0.8888888888888888,\"#fdca26\"],[1.0,\"#f0f921\"]]}],\"choropleth\":[{\"type\":\"choropleth\",\"colorbar\":{\"outlinewidth\":0,\"ticks\":\"\"}}],\"histogram2d\":[{\"type\":\"histogram2d\",\"colorbar\":{\"outlinewidth\":0,\"ticks\":\"\"},\"colorscale\":[[0.0,\"#0d0887\"],[0.1111111111111111,\"#46039f\"],[0.2222222222222222,\"#7201a8\"],[0.3333333333333333,\"#9c179e\"],[0.4444444444444444,\"#bd3786\"],[0.5555555555555556,\"#d8576b\"],[0.6666666666666666,\"#ed7953\"],[0.7777777777777778,\"#fb9f3a\"],[0.8888888888888888,\"#fdca26\"],[1.0,\"#f0f921\"]]}],\"heatmap\":[{\"type\":\"heatmap\",\"colorbar\":{\"outlinewidth\":0,\"ticks\":\"\"},\"colorscale\":[[0.0,\"#0d0887\"],[0.1111111111111111,\"#46039f\"],[0.2222222222222222,\"#7201a8\"],[0.3333333333333333,\"#9c179e\"],[0.4444444444444444,\"#bd3786\"],[0.5555555555555556,\"#d8576b\"],[0.6666666666666666,\"#ed7953\"],[0.7777777777777778,\"#fb9f3a\"],[0.8888888888888888,\"#fdca26\"],[1.0,\"#f0f921\"]]}],\"heatmapgl\":[{\"type\":\"heatmapgl\",\"colorbar\":{\"outlinewidth\":0,\"ticks\":\"\"},\"colorscale\":[[0.0,\"#0d0887\"],[0.1111111111111111,\"#46039f\"],[0.2222222222222222,\"#7201a8\"],[0.3333333333333333,\"#9c179e\"],[0.4444444444444444,\"#bd3786\"],[0.5555555555555556,\"#d8576b\"],[0.6666666666666666,\"#ed7953\"],[0.7777777777777778,\"#fb9f3a\"],[0.8888888888888888,\"#fdca26\"],[1.0,\"#f0f921\"]]}],\"contourcarpet\":[{\"type\":\"contourcarpet\",\"colorbar\":{\"outlinewidth\":0,\"ticks\":\"\"}}],\"contour\":[{\"type\":\"contour\",\"colorbar\":{\"outlinewidth\":0,\"ticks\":\"\"},\"colorscale\":[[0.0,\"#0d0887\"],[0.1111111111111111,\"#46039f\"],[0.2222222222222222,\"#7201a8\"],[0.3333333333333333,\"#9c179e\"],[0.4444444444444444,\"#bd3786\"],[0.5555555555555556,\"#d8576b\"],[0.6666666666666666,\"#ed7953\"],[0.7777777777777778,\"#fb9f3a\"],[0.8888888888888888,\"#fdca26\"],[1.0,\"#f0f921\"]]}],\"surface\":[{\"type\":\"surface\",\"colorbar\":{\"outlinewidth\":0,\"ticks\":\"\"},\"colorscale\":[[0.0,\"#0d0887\"],[0.1111111111111111,\"#46039f\"],[0.2222222222222222,\"#7201a8\"],[0.3333333333333333,\"#9c179e\"],[0.4444444444444444,\"#bd3786\"],[0.5555555555555556,\"#d8576b\"],[0.6666666666666666,\"#ed7953\"],[0.7777777777777778,\"#fb9f3a\"],[0.8888888888888888,\"#fdca26\"],[1.0,\"#f0f921\"]]}],\"mesh3d\":[{\"type\":\"mesh3d\",\"colorbar\":{\"outlinewidth\":0,\"ticks\":\"\"}}],\"scatter\":[{\"fillpattern\":{\"fillmode\":\"overlay\",\"size\":10,\"solidity\":0.2},\"type\":\"scatter\"}],\"parcoords\":[{\"type\":\"parcoords\",\"line\":{\"colorbar\":{\"outlinewidth\":0,\"ticks\":\"\"}}}],\"scatterpolargl\":[{\"type\":\"scatterpolargl\",\"marker\":{\"colorbar\":{\"outlinewidth\":0,\"ticks\":\"\"}}}],\"bar\":[{\"error_x\":{\"color\":\"#2a3f5f\"},\"error_y\":{\"color\":\"#2a3f5f\"},\"marker\":{\"line\":{\"color\":\"#E5ECF6\",\"width\":0.5},\"pattern\":{\"fillmode\":\"overlay\",\"size\":10,\"solidity\":0.2}},\"type\":\"bar\"}],\"scattergeo\":[{\"type\":\"scattergeo\",\"marker\":{\"colorbar\":{\"outlinewidth\":0,\"ticks\":\"\"}}}],\"scatterpolar\":[{\"type\":\"scatterpolar\",\"marker\":{\"colorbar\":{\"outlinewidth\":0,\"ticks\":\"\"}}}],\"histogram\":[{\"marker\":{\"pattern\":{\"fillmode\":\"overlay\",\"size\":10,\"solidity\":0.2}},\"type\":\"histogram\"}],\"scattergl\":[{\"type\":\"scattergl\",\"marker\":{\"colorbar\":{\"outlinewidth\":0,\"ticks\":\"\"}}}],\"scatter3d\":[{\"type\":\"scatter3d\",\"line\":{\"colorbar\":{\"outlinewidth\":0,\"ticks\":\"\"}},\"marker\":{\"colorbar\":{\"outlinewidth\":0,\"ticks\":\"\"}}}],\"scattermapbox\":[{\"type\":\"scattermapbox\",\"marker\":{\"colorbar\":{\"outlinewidth\":0,\"ticks\":\"\"}}}],\"scatterternary\":[{\"type\":\"scatterternary\",\"marker\":{\"colorbar\":{\"outlinewidth\":0,\"ticks\":\"\"}}}],\"scattercarpet\":[{\"type\":\"scattercarpet\",\"marker\":{\"colorbar\":{\"outlinewidth\":0,\"ticks\":\"\"}}}],\"carpet\":[{\"aaxis\":{\"endlinecolor\":\"#2a3f5f\",\"gridcolor\":\"white\",\"linecolor\":\"white\",\"minorgridcolor\":\"white\",\"startlinecolor\":\"#2a3f5f\"},\"baxis\":{\"endlinecolor\":\"#2a3f5f\",\"gridcolor\":\"white\",\"linecolor\":\"white\",\"minorgridcolor\":\"white\",\"startlinecolor\":\"#2a3f5f\"},\"type\":\"carpet\"}],\"table\":[{\"cells\":{\"fill\":{\"color\":\"#EBF0F8\"},\"line\":{\"color\":\"white\"}},\"header\":{\"fill\":{\"color\":\"#C8D4E3\"},\"line\":{\"color\":\"white\"}},\"type\":\"table\"}],\"barpolar\":[{\"marker\":{\"line\":{\"color\":\"#E5ECF6\",\"width\":0.5},\"pattern\":{\"fillmode\":\"overlay\",\"size\":10,\"solidity\":0.2}},\"type\":\"barpolar\"}],\"pie\":[{\"automargin\":true,\"type\":\"pie\"}]},\"layout\":{\"autotypenumbers\":\"strict\",\"colorway\":[\"#636efa\",\"#EF553B\",\"#00cc96\",\"#ab63fa\",\"#FFA15A\",\"#19d3f3\",\"#FF6692\",\"#B6E880\",\"#FF97FF\",\"#FECB52\"],\"font\":{\"color\":\"#2a3f5f\"},\"hovermode\":\"closest\",\"hoverlabel\":{\"align\":\"left\"},\"paper_bgcolor\":\"white\",\"plot_bgcolor\":\"#E5ECF6\",\"polar\":{\"bgcolor\":\"#E5ECF6\",\"angularaxis\":{\"gridcolor\":\"white\",\"linecolor\":\"white\",\"ticks\":\"\"},\"radialaxis\":{\"gridcolor\":\"white\",\"linecolor\":\"white\",\"ticks\":\"\"}},\"ternary\":{\"bgcolor\":\"#E5ECF6\",\"aaxis\":{\"gridcolor\":\"white\",\"linecolor\":\"white\",\"ticks\":\"\"},\"baxis\":{\"gridcolor\":\"white\",\"linecolor\":\"white\",\"ticks\":\"\"},\"caxis\":{\"gridcolor\":\"white\",\"linecolor\":\"white\",\"ticks\":\"\"}},\"coloraxis\":{\"colorbar\":{\"outlinewidth\":0,\"ticks\":\"\"}},\"colorscale\":{\"sequential\":[[0.0,\"#0d0887\"],[0.1111111111111111,\"#46039f\"],[0.2222222222222222,\"#7201a8\"],[0.3333333333333333,\"#9c179e\"],[0.4444444444444444,\"#bd3786\"],[0.5555555555555556,\"#d8576b\"],[0.6666666666666666,\"#ed7953\"],[0.7777777777777778,\"#fb9f3a\"],[0.8888888888888888,\"#fdca26\"],[1.0,\"#f0f921\"]],\"sequentialminus\":[[0.0,\"#0d0887\"],[0.1111111111111111,\"#46039f\"],[0.2222222222222222,\"#7201a8\"],[0.3333333333333333,\"#9c179e\"],[0.4444444444444444,\"#bd3786\"],[0.5555555555555556,\"#d8576b\"],[0.6666666666666666,\"#ed7953\"],[0.7777777777777778,\"#fb9f3a\"],[0.8888888888888888,\"#fdca26\"],[1.0,\"#f0f921\"]],\"diverging\":[[0,\"#8e0152\"],[0.1,\"#c51b7d\"],[0.2,\"#de77ae\"],[0.3,\"#f1b6da\"],[0.4,\"#fde0ef\"],[0.5,\"#f7f7f7\"],[0.6,\"#e6f5d0\"],[0.7,\"#b8e186\"],[0.8,\"#7fbc41\"],[0.9,\"#4d9221\"],[1,\"#276419\"]]},\"xaxis\":{\"gridcolor\":\"white\",\"linecolor\":\"white\",\"ticks\":\"\",\"title\":{\"standoff\":15},\"zerolinecolor\":\"white\",\"automargin\":true,\"zerolinewidth\":2},\"yaxis\":{\"gridcolor\":\"white\",\"linecolor\":\"white\",\"ticks\":\"\",\"title\":{\"standoff\":15},\"zerolinecolor\":\"white\",\"automargin\":true,\"zerolinewidth\":2},\"scene\":{\"xaxis\":{\"backgroundcolor\":\"#E5ECF6\",\"gridcolor\":\"white\",\"linecolor\":\"white\",\"showbackground\":true,\"ticks\":\"\",\"zerolinecolor\":\"white\",\"gridwidth\":2},\"yaxis\":{\"backgroundcolor\":\"#E5ECF6\",\"gridcolor\":\"white\",\"linecolor\":\"white\",\"showbackground\":true,\"ticks\":\"\",\"zerolinecolor\":\"white\",\"gridwidth\":2},\"zaxis\":{\"backgroundcolor\":\"#E5ECF6\",\"gridcolor\":\"white\",\"linecolor\":\"white\",\"showbackground\":true,\"ticks\":\"\",\"zerolinecolor\":\"white\",\"gridwidth\":2}},\"shapedefaults\":{\"line\":{\"color\":\"#2a3f5f\"}},\"annotationdefaults\":{\"arrowcolor\":\"#2a3f5f\",\"arrowhead\":0,\"arrowwidth\":1},\"geo\":{\"bgcolor\":\"white\",\"landcolor\":\"#E5ECF6\",\"subunitcolor\":\"white\",\"showland\":true,\"showlakes\":true,\"lakecolor\":\"white\"},\"title\":{\"x\":0.05},\"mapbox\":{\"style\":\"light\"}}},\"xaxis\":{\"anchor\":\"y\",\"domain\":[0.0,1.0],\"title\":{\"text\":\"Period\"}},\"yaxis\":{\"anchor\":\"x\",\"domain\":[0.0,1.0],\"title\":{\"text\":\"FactValueNumeric\"}},\"legend\":{\"title\":{\"text\":\"Location\"},\"tracegroupgap\":0},\"title\":{\"text\":\"Road Traffic Deaths by Country and Year\"}},                        {\"responsive\": true}                    ).then(function(){\n",
       "                            \n",
       "var gd = document.getElementById('31fe571d-80ba-4b6c-9ad6-2f46e68486b0');\n",
       "var x = new MutationObserver(function (mutations, observer) {{\n",
       "        var display = window.getComputedStyle(gd).display;\n",
       "        if (!display || display === 'none') {{\n",
       "            console.log([gd, 'removed!']);\n",
       "            Plotly.purge(gd);\n",
       "            observer.disconnect();\n",
       "        }}\n",
       "}});\n",
       "\n",
       "// Listen for the removal of the full notebook cells\n",
       "var notebookContainer = gd.closest('#notebook-container');\n",
       "if (notebookContainer) {{\n",
       "    x.observe(notebookContainer, {childList: true});\n",
       "}}\n",
       "\n",
       "// Listen for the clearing of the current output cell\n",
       "var outputEl = gd.closest('.output');\n",
       "if (outputEl) {{\n",
       "    x.observe(outputEl, {childList: true});\n",
       "}}\n",
       "\n",
       "                        })                };                });            </script>        </div>"
      ]
     },
     "metadata": {},
     "output_type": "display_data"
    }
   ],
   "source": [
    "road_safety_data = pd.read_csv(\"data.csv\")\n",
    "# print(road_safety_data.head(10))\n",
    "selected_df = road_safety_data[road_safety_data['Location'].isin(['USA', 'China', 'India', 'Pakisthan', 'Brazil', 'Indonesia', 'Nigeria'])]\n",
    "fig = px.line(selected_df, x='Period', y='FactValueNumeric', color='Location', title='Road Traffic Deaths by Country and Year')\n",
    "# Show the plot\n",
    "fig.show()"
   ]
  },
  {
   "attachments": {},
   "cell_type": "markdown",
   "metadata": {},
   "source": [
    "Plotting all countries accidents for the give span of time to know the common trend"
   ]
  },
  {
   "cell_type": "code",
   "execution_count": 7,
   "metadata": {},
   "outputs": [
    {
     "data": {
      "application/vnd.plotly.v1+json": {
       "config": {
        "plotlyServerURL": "https://plot.ly"
       },
       "data": [
        {
         "hovertemplate": "Location=Antigua and Barbuda<br>Period=%{x}<br>FactValueNumeric=%{y}<extra></extra>",
         "legendgroup": "Antigua and Barbuda",
         "line": {
          "color": "#636efa",
          "dash": "solid"
         },
         "marker": {
          "symbol": "circle"
         },
         "mode": "lines",
         "name": "Antigua and Barbuda",
         "showlegend": true,
         "type": "scattergl",
         "x": [
          2019,
          2018,
          2017,
          2016,
          2015,
          2014,
          2013,
          2012,
          2011,
          2010,
          2009,
          2008,
          2007,
          2006,
          2005,
          2004,
          2003,
          2002,
          2001,
          2000
         ],
         "xaxis": "x",
         "y": [
          0,
          0,
          0,
          0,
          0,
          0.51,
          1.53,
          0.67,
          7.81,
          4.73,
          5.49,
          9.55,
          6.09,
          1.96,
          0,
          2,
          8,
          2,
          10,
          7
         ],
         "yaxis": "y"
        },
        {
         "hovertemplate": "Location=Micronesia (Federated States of)<br>Period=%{x}<br>FactValueNumeric=%{y}<extra></extra>",
         "legendgroup": "Micronesia (Federated States of)",
         "line": {
          "color": "#EF553B",
          "dash": "solid"
         },
         "marker": {
          "symbol": "circle"
         },
         "mode": "lines",
         "name": "Micronesia (Federated States of)",
         "showlegend": true,
         "type": "scattergl",
         "x": [
          2019,
          2018,
          2017,
          2016,
          2015,
          2014,
          2013,
          2012,
          2011,
          2010,
          2009,
          2008,
          2007,
          2006,
          2005,
          2004,
          2003,
          2002,
          2001,
          2000
         ],
         "xaxis": "x",
         "y": [
          0.18,
          0.24,
          0.31,
          2,
          1,
          1,
          2,
          0,
          0,
          3,
          4,
          2,
          3,
          2,
          0,
          5,
          16,
          16,
          16,
          16
         ],
         "yaxis": "y"
        },
        {
         "hovertemplate": "Location=Egypt<br>Period=%{x}<br>FactValueNumeric=%{y}<extra></extra>",
         "legendgroup": "Egypt",
         "line": {
          "color": "#00cc96",
          "dash": "solid"
         },
         "marker": {
          "symbol": "circle"
         },
         "mode": "lines",
         "name": "Egypt",
         "showlegend": true,
         "type": "scattergl",
         "x": [
          2019,
          2018,
          2017,
          2016,
          2015,
          2014,
          2013,
          2012,
          2011,
          2010,
          2009,
          2008,
          2007,
          2006,
          2005,
          2004,
          2003,
          2002,
          2001,
          2000
         ],
         "xaxis": "x",
         "y": [
          10141,
          10178,
          10210,
          9287,
          10782,
          11156,
          9280,
          8851,
          10991,
          11328,
          10485,
          10489,
          9983,
          8514,
          8186,
          7954,
          8987,
          8222,
          7473,
          7734
         ],
         "yaxis": "y"
        },
        {
         "hovertemplate": "Location=Iraq<br>Period=%{x}<br>FactValueNumeric=%{y}<extra></extra>",
         "legendgroup": "Iraq",
         "line": {
          "color": "#ab63fa",
          "dash": "solid"
         },
         "marker": {
          "symbol": "circle"
         },
         "mode": "lines",
         "name": "Iraq",
         "showlegend": true,
         "type": "scattergl",
         "x": [
          2019,
          2018,
          2017,
          2016,
          2015,
          2014,
          2013,
          2012,
          2011,
          2010,
          2009,
          2008,
          2007,
          2006,
          2005,
          2004,
          2003,
          2002,
          2001,
          2000
         ],
         "xaxis": "x",
         "y": [
          10726,
          10423,
          7671,
          7468,
          7278,
          7060,
          5977,
          5996,
          5672,
          6206,
          6083,
          5982,
          5648,
          5384,
          5203,
          5541,
          5644,
          5210,
          4995,
          4870
         ],
         "yaxis": "y"
        },
        {
         "hovertemplate": "Location=Cuba<br>Period=%{x}<br>FactValueNumeric=%{y}<extra></extra>",
         "legendgroup": "Cuba",
         "line": {
          "color": "#FFA15A",
          "dash": "solid"
         },
         "marker": {
          "symbol": "circle"
         },
         "mode": "lines",
         "name": "Cuba",
         "showlegend": true,
         "type": "scattergl",
         "x": [
          2019,
          2018,
          2017,
          2016,
          2015,
          2014,
          2013,
          2012,
          2011,
          2010,
          2009,
          2008,
          2007,
          2006,
          2005,
          2004,
          2003,
          2002,
          2001,
          2000
         ],
         "xaxis": "x",
         "y": [
          1007,
          997.3,
          986.9,
          975,
          1020,
          960,
          907,
          938,
          883,
          935,
          993,
          1029,
          967,
          1092,
          1305,
          1286,
          1291,
          1488,
          1590,
          1753
         ],
         "yaxis": "y"
        },
        {
         "hovertemplate": "Location=Slovenia<br>Period=%{x}<br>FactValueNumeric=%{y}<extra></extra>",
         "legendgroup": "Slovenia",
         "line": {
          "color": "#19d3f3",
          "dash": "solid"
         },
         "marker": {
          "symbol": "circle"
         },
         "mode": "lines",
         "name": "Slovenia",
         "showlegend": true,
         "type": "scattergl",
         "x": [
          2019,
          2018,
          2017,
          2016,
          2015,
          2014,
          2013,
          2012,
          2011,
          2010,
          2009,
          2008,
          2007,
          2006,
          2005,
          2004,
          2003,
          2002,
          2001,
          2000
         ],
         "xaxis": "x",
         "y": [
          105,
          94,
          107,
          134,
          125,
          113,
          129,
          136,
          145,
          147,
          182,
          224,
          314,
          275,
          269,
          286,
          258,
          281,
          298,
          325
         ],
         "yaxis": "y"
        },
        {
         "hovertemplate": "Location=The former Yugoslav Republic of Macedonia<br>Period=%{x}<br>FactValueNumeric=%{y}<extra></extra>",
         "legendgroup": "The former Yugoslav Republic of Macedonia",
         "line": {
          "color": "#FF6692",
          "dash": "solid"
         },
         "marker": {
          "symbol": "circle"
         },
         "mode": "lines",
         "name": "The former Yugoslav Republic of Macedonia",
         "showlegend": true,
         "type": "scattergl",
         "x": [
          2019,
          2018,
          2017,
          2016,
          2015,
          2014,
          2013,
          2012,
          2011,
          2010,
          2009,
          2008,
          2007,
          2006,
          2005,
          2004,
          2003,
          2002,
          2001,
          2000
         ],
         "xaxis": "x",
         "y": [
          107.2,
          108,
          126.1,
          134,
          153,
          134,
          204,
          136,
          177,
          167,
          165,
          167,
          178,
          144,
          147,
          160,
          131,
          181,
          110,
          167
         ],
         "yaxis": "y"
        },
        {
         "hovertemplate": "Location=Myanmar<br>Period=%{x}<br>FactValueNumeric=%{y}<extra></extra>",
         "legendgroup": "Myanmar",
         "line": {
          "color": "#B6E880",
          "dash": "solid"
         },
         "marker": {
          "symbol": "circle"
         },
         "mode": "lines",
         "name": "Myanmar",
         "showlegend": true,
         "type": "scattergl",
         "x": [
          2019,
          2018,
          2017,
          2016,
          2015,
          2014,
          2013,
          2012,
          2011,
          2010,
          2009,
          2008,
          2007,
          2006,
          2005,
          2004,
          2003,
          2002,
          2001,
          2000
         ],
         "xaxis": "x",
         "y": [
          11004,
          10847,
          10694,
          10540,
          10394,
          10257,
          10105,
          10036,
          9691,
          9655,
          9618,
          9598,
          9450,
          9353,
          9446,
          9576,
          9660,
          9724,
          9737,
          9767
         ],
         "yaxis": "y"
        },
        {
         "hovertemplate": "Location=Venezuela (Bolivarian Republic of)<br>Period=%{x}<br>FactValueNumeric=%{y}<extra></extra>",
         "legendgroup": "Venezuela (Bolivarian Republic of)",
         "line": {
          "color": "#FF97FF",
          "dash": "solid"
         },
         "marker": {
          "symbol": "circle"
         },
         "mode": "lines",
         "name": "Venezuela (Bolivarian Republic of)",
         "showlegend": true,
         "type": "scattergl",
         "x": [
          2019,
          2018,
          2017,
          2016,
          2015,
          2014,
          2013,
          2012,
          2011,
          2010,
          2009,
          2008,
          2007,
          2006,
          2005,
          2004,
          2003,
          2002,
          2001,
          2000
         ],
         "xaxis": "x",
         "y": [
          11127,
          11041,
          11106,
          10640,
          10501,
          10360,
          10537,
          10105,
          8684,
          8877,
          10329,
          10416,
          10016,
          8276,
          7182,
          7328,
          6989,
          7493,
          7404,
          6631
         ],
         "yaxis": "y"
        },
        {
         "hovertemplate": "Location=Sudan<br>Period=%{x}<br>FactValueNumeric=%{y}<extra></extra>",
         "legendgroup": "Sudan",
         "line": {
          "color": "#FECB52",
          "dash": "solid"
         },
         "marker": {
          "symbol": "circle"
         },
         "mode": "lines",
         "name": "Sudan",
         "showlegend": true,
         "type": "scattergl",
         "x": [
          2019,
          2018,
          2017,
          2016,
          2015,
          2014,
          2013,
          2012,
          2011,
          2010,
          2009,
          2008,
          2007,
          2006,
          2005,
          2004,
          2003,
          2002,
          2001,
          2000
         ],
         "xaxis": "x",
         "y": [
          11459,
          10910,
          10965,
          10178,
          9783,
          9467,
          8226,
          8029,
          7451,
          8233,
          8166,
          8160,
          7999,
          7886,
          7919,
          7751,
          7576,
          7284,
          7127,
          6955
         ],
         "yaxis": "y"
        },
        {
         "hovertemplate": "Location=Seychelles<br>Period=%{x}<br>FactValueNumeric=%{y}<extra></extra>",
         "legendgroup": "Seychelles",
         "line": {
          "color": "#636efa",
          "dash": "solid"
         },
         "marker": {
          "symbol": "circle"
         },
         "mode": "lines",
         "name": "Seychelles",
         "showlegend": true,
         "type": "scattergl",
         "x": [
          2019,
          2018,
          2017,
          2016,
          2015,
          2014,
          2013,
          2012,
          2011,
          2010,
          2009,
          2008,
          2007,
          2006,
          2005,
          2004,
          2003,
          2002,
          2001,
          2000
         ],
         "xaxis": "x",
         "y": [
          11.01,
          11.02,
          11.03,
          15,
          13,
          12,
          8,
          10,
          11,
          13,
          9,
          6,
          16,
          11,
          9,
          8,
          15,
          16,
          10,
          11
         ],
         "yaxis": "y"
        },
        {
         "hovertemplate": "Location=Solomon Islands<br>Period=%{x}<br>FactValueNumeric=%{y}<extra></extra>",
         "legendgroup": "Solomon Islands",
         "line": {
          "color": "#EF553B",
          "dash": "solid"
         },
         "marker": {
          "symbol": "circle"
         },
         "mode": "lines",
         "name": "Solomon Islands",
         "showlegend": true,
         "type": "scattergl",
         "x": [
          2019,
          2018,
          2017,
          2016,
          2015,
          2014,
          2013,
          2012,
          2011,
          2010,
          2009,
          2008,
          2007,
          2006,
          2005,
          2004,
          2003,
          2002,
          2001,
          2000
         ],
         "xaxis": "x",
         "y": [
          110.7,
          108.5,
          106.4,
          104,
          102,
          99,
          98,
          95,
          94,
          94.02,
          92.01,
          88.07,
          87,
          85.01,
          82.01,
          84,
          84,
          82.99,
          78,
          73
         ],
         "yaxis": "y"
        },
        {
         "hovertemplate": "Location=Papua New Guinea<br>Period=%{x}<br>FactValueNumeric=%{y}<extra></extra>",
         "legendgroup": "Papua New Guinea",
         "line": {
          "color": "#00cc96",
          "dash": "solid"
         },
         "marker": {
          "symbol": "circle"
         },
         "mode": "lines",
         "name": "Papua New Guinea",
         "showlegend": true,
         "type": "scattergl",
         "x": [
          2019,
          2018,
          2017,
          2016,
          2015,
          2014,
          2013,
          2012,
          2011,
          2010,
          2009,
          2008,
          2007,
          2006,
          2005,
          2004,
          2003,
          2002,
          2001,
          2000
         ],
         "xaxis": "x",
         "y": [
          1105,
          1163,
          1173,
          1150,
          1142,
          1140,
          1269,
          1236,
          1258,
          1249,
          1255,
          1217,
          1194,
          1196,
          1172,
          1122,
          1096,
          1096,
          1043,
          1018
         ],
         "yaxis": "y"
        },
        {
         "hovertemplate": "Location=Nicaragua<br>Period=%{x}<br>FactValueNumeric=%{y}<extra></extra>",
         "legendgroup": "Nicaragua",
         "line": {
          "color": "#ab63fa",
          "dash": "solid"
         },
         "marker": {
          "symbol": "circle"
         },
         "mode": "lines",
         "name": "Nicaragua",
         "showlegend": true,
         "type": "scattergl",
         "x": [
          2019,
          2018,
          2017,
          2016,
          2015,
          2014,
          2013,
          2012,
          2011,
          2010,
          2009,
          2008,
          2007,
          2006,
          2005,
          2004,
          2003,
          2002,
          2001,
          2000
         ],
         "xaxis": "x",
         "y": [
          1109,
          1073,
          1038,
          1016,
          1004,
          993,
          830,
          910,
          846,
          843,
          829,
          813,
          807,
          891,
          877,
          851,
          847,
          827,
          825,
          828
         ],
         "yaxis": "y"
        },
        {
         "hovertemplate": "Location=Lebanon<br>Period=%{x}<br>FactValueNumeric=%{y}<extra></extra>",
         "legendgroup": "Lebanon",
         "line": {
          "color": "#FFA15A",
          "dash": "solid"
         },
         "marker": {
          "symbol": "circle"
         },
         "mode": "lines",
         "name": "Lebanon",
         "showlegend": true,
         "type": "scattergl",
         "x": [
          2019,
          2018,
          2017,
          2016,
          2015,
          2014,
          2013,
          2012,
          2011,
          2010,
          2009,
          2008,
          2007,
          2006,
          2005,
          2004,
          2003,
          2002,
          2001,
          2000
         ],
         "xaxis": "x",
         "y": [
          1127,
          1117,
          1114,
          1090,
          1058,
          1008,
          943.2,
          879,
          772,
          724,
          711,
          706,
          711,
          780.3,
          799,
          801,
          793,
          767,
          749,
          737
         ],
         "yaxis": "y"
        },
        {
         "hovertemplate": "Location=Norway<br>Period=%{x}<br>FactValueNumeric=%{y}<extra></extra>",
         "legendgroup": "Norway",
         "line": {
          "color": "#19d3f3",
          "dash": "solid"
         },
         "marker": {
          "symbol": "circle"
         },
         "mode": "lines",
         "name": "Norway",
         "showlegend": true,
         "type": "scattergl",
         "x": [
          2019,
          2018,
          2017,
          2016,
          2015,
          2014,
          2013,
          2012,
          2011,
          2010,
          2009,
          2008,
          2007,
          2006,
          2005,
          2004,
          2003,
          2002,
          2001,
          2000
         ],
         "xaxis": "x",
         "y": [
          114.2,
          114.2,
          112.1,
          143,
          133,
          155,
          193,
          151,
          173,
          214,
          222,
          263,
          240,
          250,
          245,
          289,
          306,
          336,
          297,
          362
         ],
         "yaxis": "y"
        },
        {
         "hovertemplate": "Location=Mauritania<br>Period=%{x}<br>FactValueNumeric=%{y}<extra></extra>",
         "legendgroup": "Mauritania",
         "line": {
          "color": "#FF6692",
          "dash": "solid"
         },
         "marker": {
          "symbol": "circle"
         },
         "mode": "lines",
         "name": "Mauritania",
         "showlegend": true,
         "type": "scattergl",
         "x": [
          2019,
          2018,
          2017,
          2016,
          2015,
          2014,
          2013,
          2012,
          2011,
          2010,
          2009,
          2008,
          2007,
          2006,
          2005,
          2004,
          2003,
          2002,
          2001,
          2000
         ],
         "xaxis": "x",
         "y": [
          1158,
          1129,
          1099,
          1064,
          1042,
          1006,
          972,
          943,
          940,
          922,
          889,
          866,
          822,
          810,
          800,
          784,
          738,
          719.5,
          700,
          686
         ],
         "yaxis": "y"
        },
        {
         "hovertemplate": "Location=Saudi Arabia<br>Period=%{x}<br>FactValueNumeric=%{y}<extra></extra>",
         "legendgroup": "Saudi Arabia",
         "line": {
          "color": "#B6E880",
          "dash": "solid"
         },
         "marker": {
          "symbol": "circle"
         },
         "mode": "lines",
         "name": "Saudi Arabia",
         "showlegend": true,
         "type": "scattergl",
         "x": [
          2019,
          2018,
          2017,
          2016,
          2015,
          2014,
          2013,
          2012,
          2011,
          2010,
          2009,
          2008,
          2007,
          2006,
          2005,
          2004,
          2003,
          2002,
          2001,
          2000
         ],
         "xaxis": "x",
         "y": [
          12317,
          11185,
          10142,
          9311,
          8313,
          7718,
          7898,
          7875,
          7375,
          6800,
          6332,
          6658,
          6555,
          6065,
          6167,
          5328,
          3980,
          3760,
          3627,
          3524
         ],
         "yaxis": "y"
        },
        {
         "hovertemplate": "Location=Fiji<br>Period=%{x}<br>FactValueNumeric=%{y}<extra></extra>",
         "legendgroup": "Fiji",
         "line": {
          "color": "#FF97FF",
          "dash": "solid"
         },
         "marker": {
          "symbol": "circle"
         },
         "mode": "lines",
         "name": "Fiji",
         "showlegend": true,
         "type": "scattergl",
         "x": [
          2019,
          2018,
          2017,
          2016,
          2015,
          2014,
          2013,
          2012,
          2011,
          2010,
          2009,
          2008,
          2007,
          2006,
          2005,
          2004,
          2003,
          2002,
          2001,
          2000
         ],
         "xaxis": "x",
         "y": [
          120.3,
          108.2,
          97.38,
          86,
          93,
          70,
          59,
          66,
          76,
          84,
          62,
          106,
          92,
          124,
          107,
          107,
          127,
          61,
          65,
          79
         ],
         "yaxis": "y"
        },
        {
         "hovertemplate": "Location=Singapore<br>Period=%{x}<br>FactValueNumeric=%{y}<extra></extra>",
         "legendgroup": "Singapore",
         "line": {
          "color": "#FECB52",
          "dash": "solid"
         },
         "marker": {
          "symbol": "circle"
         },
         "mode": "lines",
         "name": "Singapore",
         "showlegend": true,
         "type": "scattergl",
         "x": [
          2019,
          2018,
          2017,
          2016,
          2015,
          2014,
          2013,
          2012,
          2011,
          2010,
          2009,
          2008,
          2007,
          2006,
          2005,
          2004,
          2003,
          2002,
          2001,
          2000
         ],
         "xaxis": "x",
         "y": [
          121.1,
          131,
          141.7,
          155,
          167,
          174,
          173,
          188,
          242,
          261,
          219,
          277,
          276,
          233,
          214,
          261,
          288,
          261,
          238,
          262
         ],
         "yaxis": "y"
        },
        {
         "hovertemplate": "Location=Bhutan<br>Period=%{x}<br>FactValueNumeric=%{y}<extra></extra>",
         "legendgroup": "Bhutan",
         "line": {
          "color": "#636efa",
          "dash": "solid"
         },
         "marker": {
          "symbol": "circle"
         },
         "mode": "lines",
         "name": "Bhutan",
         "showlegend": true,
         "type": "scattergl",
         "x": [
          2019,
          2018,
          2017,
          2016,
          2015,
          2014,
          2013,
          2012,
          2011,
          2010,
          2009,
          2008,
          2007,
          2006,
          2005,
          2004,
          2003,
          2002,
          2001,
          2000
         ],
         "xaxis": "x",
         "y": [
          123.5,
          120.1,
          116.9,
          139,
          110,
          85,
          84,
          107,
          116,
          93,
          92,
          102,
          88,
          88,
          87,
          84,
          78,
          74,
          72,
          69
         ],
         "yaxis": "y"
        },
        {
         "hovertemplate": "Location=Australia<br>Period=%{x}<br>FactValueNumeric=%{y}<extra></extra>",
         "legendgroup": "Australia",
         "line": {
          "color": "#EF553B",
          "dash": "solid"
         },
         "marker": {
          "symbol": "circle"
         },
         "mode": "lines",
         "name": "Australia",
         "showlegend": true,
         "type": "scattergl",
         "x": [
          2019,
          2018,
          2017,
          2016,
          2015,
          2014,
          2013,
          2012,
          2011,
          2010,
          2009,
          2008,
          2007,
          2006,
          2005,
          2004,
          2003,
          2002,
          2001,
          2000
         ],
         "xaxis": "x",
         "y": [
          1245,
          1193,
          1277,
          1351,
          1243,
          1266,
          1224,
          1339,
          1337,
          1451,
          1555,
          1519,
          1653,
          1648,
          1677,
          1632,
          1671,
          1768,
          1791,
          1873
         ],
         "yaxis": "y"
        },
        {
         "hovertemplate": "Location=Lao People's Democratic Republic<br>Period=%{x}<br>FactValueNumeric=%{y}<extra></extra>",
         "legendgroup": "Lao People's Democratic Republic",
         "line": {
          "color": "#00cc96",
          "dash": "solid"
         },
         "marker": {
          "symbol": "circle"
         },
         "mode": "lines",
         "name": "Lao People's Democratic Republic",
         "showlegend": true,
         "type": "scattergl",
         "x": [
          2019,
          2018,
          2017,
          2016,
          2015,
          2014,
          2013,
          2012,
          2011,
          2010,
          2009,
          2008,
          2007,
          2006,
          2005,
          2004,
          2003,
          2002,
          2001,
          2000
         ],
         "xaxis": "x",
         "y": [
          1281,
          1223,
          1167,
          1120,
          1026,
          1087,
          938,
          916,
          890,
          894,
          874,
          853,
          842,
          814,
          804,
          784,
          766,
          749,
          724,
          733
         ],
         "yaxis": "y"
        },
        {
         "hovertemplate": "Location=Uganda<br>Period=%{x}<br>FactValueNumeric=%{y}<extra></extra>",
         "legendgroup": "Uganda",
         "line": {
          "color": "#ab63fa",
          "dash": "solid"
         },
         "marker": {
          "symbol": "circle"
         },
         "mode": "lines",
         "name": "Uganda",
         "showlegend": true,
         "type": "scattergl",
         "x": [
          2019,
          2018,
          2017,
          2016,
          2015,
          2014,
          2013,
          2012,
          2011,
          2010,
          2009,
          2008,
          2007,
          2006,
          2005,
          2004,
          2003,
          2002,
          2001,
          2000
         ],
         "xaxis": "x",
         "y": [
          13012,
          12675,
          12324,
          12036,
          11574,
          11154,
          10687,
          10189,
          9508,
          10459,
          10018,
          9662,
          9372,
          9092,
          9002,
          8699,
          8488,
          8389,
          8192,
          8010
         ],
         "yaxis": "y"
        },
        {
         "hovertemplate": "Location=South Africa<br>Period=%{x}<br>FactValueNumeric=%{y}<extra></extra>",
         "legendgroup": "South Africa",
         "line": {
          "color": "#FFA15A",
          "dash": "solid"
         },
         "marker": {
          "symbol": "circle"
         },
         "mode": "lines",
         "name": "South Africa",
         "showlegend": true,
         "type": "scattergl",
         "x": [
          2019,
          2018,
          2017,
          2016,
          2015,
          2014,
          2013,
          2012,
          2011,
          2010,
          2009,
          2008,
          2007,
          2006,
          2005,
          2004,
          2003,
          2002,
          2001,
          2000
         ],
         "xaxis": "x",
         "y": [
          13014,
          13118,
          13212,
          14507,
          13345,
          13096,
          12256,
          13979,
          14452,
          14669,
          14459,
          14682,
          15934,
          19913,
          18219,
          19516,
          20280,
          18435,
          17471,
          19780
         ],
         "yaxis": "y"
        },
        {
         "hovertemplate": "Location=Philippines<br>Period=%{x}<br>FactValueNumeric=%{y}<extra></extra>",
         "legendgroup": "Philippines",
         "line": {
          "color": "#19d3f3",
          "dash": "solid"
         },
         "marker": {
          "symbol": "circle"
         },
         "mode": "lines",
         "name": "Philippines",
         "showlegend": true,
         "type": "scattergl",
         "x": [
          2019,
          2018,
          2017,
          2016,
          2015,
          2014,
          2013,
          2012,
          2011,
          2010,
          2009,
          2008,
          2007,
          2006,
          2005,
          2004,
          2003,
          2002,
          2001,
          2000
         ],
         "xaxis": "x",
         "y": [
          13017,
          12689,
          12366,
          12690,
          12720,
          10972,
          10513,
          10509,
          10002,
          10796,
          9765,
          9130,
          9462,
          8636,
          8755,
          8567,
          8429,
          8269,
          7724,
          7679
         ],
         "yaxis": "y"
        },
        {
         "hovertemplate": "Location=Trinidad and Tobago<br>Period=%{x}<br>FactValueNumeric=%{y}<extra></extra>",
         "legendgroup": "Trinidad and Tobago",
         "line": {
          "color": "#FF6692",
          "dash": "solid"
         },
         "marker": {
          "symbol": "circle"
         },
         "mode": "lines",
         "name": "Trinidad and Tobago",
         "showlegend": true,
         "type": "scattergl",
         "x": [
          2019,
          2018,
          2017,
          2016,
          2015,
          2014,
          2013,
          2012,
          2011,
          2010,
          2009,
          2008,
          2007,
          2006,
          2005,
          2004,
          2003,
          2002,
          2001,
          2000
         ],
         "xaxis": "x",
         "y": [
          130.2,
          141.3,
          153.2,
          165,
          180,
          202,
          189,
          240,
          213,
          268,
          292,
          326,
          275,
          262,
          249,
          231,
          260,
          192,
          205,
          172
         ],
         "yaxis": "y"
        },
        {
         "hovertemplate": "Location=Eritrea<br>Period=%{x}<br>FactValueNumeric=%{y}<extra></extra>",
         "legendgroup": "Eritrea",
         "line": {
          "color": "#B6E880",
          "dash": "solid"
         },
         "marker": {
          "symbol": "circle"
         },
         "mode": "lines",
         "name": "Eritrea",
         "showlegend": true,
         "type": "scattergl",
         "x": [
          2019,
          2018,
          2017,
          2016,
          2015,
          2014,
          2013,
          2012,
          2011,
          2010,
          2009,
          2008,
          2007,
          2006,
          2005,
          2004,
          2003,
          2002,
          2001,
          2000
         ],
         "xaxis": "x",
         "y": [
          1326,
          1292,
          1260,
          1255,
          1235,
          1159,
          1133,
          1096,
          1081,
          1078,
          1060,
          1038,
          1012,
          982,
          959,
          912,
          866,
          815,
          758,
          718
         ],
         "yaxis": "y"
        },
        {
         "hovertemplate": "Location=El Salvador<br>Period=%{x}<br>FactValueNumeric=%{y}<extra></extra>",
         "legendgroup": "El Salvador",
         "line": {
          "color": "#FF97FF",
          "dash": "solid"
         },
         "marker": {
          "symbol": "circle"
         },
         "mode": "lines",
         "name": "El Salvador",
         "showlegend": true,
         "type": "scattergl",
         "x": [
          2019,
          2018,
          2017,
          2016,
          2015,
          2014,
          2013,
          2012,
          2011,
          2010,
          2009,
          2008,
          2007,
          2006,
          2005,
          2004,
          2003,
          2002,
          2001,
          2000
         ],
         "xaxis": "x",
         "y": [
          1347,
          1332,
          1318,
          1411,
          1317,
          1284,
          1192,
          1185,
          1310,
          1380,
          1517,
          1740,
          1887,
          2000,
          1797,
          2146,
          2131,
          1971,
          2090,
          2114
         ],
         "yaxis": "y"
        },
        {
         "hovertemplate": "Location=Kenya<br>Period=%{x}<br>FactValueNumeric=%{y}<extra></extra>",
         "legendgroup": "Kenya",
         "line": {
          "color": "#FECB52",
          "dash": "solid"
         },
         "marker": {
          "symbol": "circle"
         },
         "mode": "lines",
         "name": "Kenya",
         "showlegend": true,
         "type": "scattergl",
         "x": [
          2019,
          2018,
          2017,
          2016,
          2015,
          2014,
          2013,
          2012,
          2011,
          2010,
          2009,
          2008,
          2007,
          2006,
          2005,
          2004,
          2003,
          2002,
          2001,
          2000
         ],
         "xaxis": "x",
         "y": [
          14883,
          14387,
          13904,
          13463,
          13071,
          12440,
          12031,
          11783,
          11102,
          10793,
          10655,
          10311,
          9967,
          9717,
          9621,
          9229,
          9071,
          8953,
          8695,
          8452
         ],
         "yaxis": "y"
        },
        {
         "hovertemplate": "Location=Libya<br>Period=%{x}<br>FactValueNumeric=%{y}<extra></extra>",
         "legendgroup": "Libya",
         "line": {
          "color": "#636efa",
          "dash": "solid"
         },
         "marker": {
          "symbol": "circle"
         },
         "mode": "lines",
         "name": "Libya",
         "showlegend": true,
         "type": "scattergl",
         "x": [
          2019,
          2018,
          2017,
          2016,
          2015,
          2014,
          2013,
          2012,
          2011,
          2010,
          2009,
          2008,
          2007,
          2006,
          2005,
          2004,
          2003,
          2002,
          2001,
          2000
         ],
         "xaxis": "x",
         "y": [
          1444,
          1247,
          1403,
          1635,
          1558,
          1503,
          1455,
          1399,
          1639,
          1363,
          1343,
          1276,
          1265,
          1254,
          1222,
          1212,
          1187,
          1188,
          1150,
          1104
         ],
         "yaxis": "y"
        },
        {
         "hovertemplate": "Location=Tajikistan<br>Period=%{x}<br>FactValueNumeric=%{y}<extra></extra>",
         "legendgroup": "Tajikistan",
         "line": {
          "color": "#EF553B",
          "dash": "solid"
         },
         "marker": {
          "symbol": "circle"
         },
         "mode": "lines",
         "name": "Tajikistan",
         "showlegend": true,
         "type": "scattergl",
         "x": [
          2019,
          2018,
          2017,
          2016,
          2015,
          2014,
          2013,
          2012,
          2011,
          2010,
          2009,
          2008,
          2007,
          2006,
          2005,
          2004,
          2003,
          2002,
          2001,
          2000
         ],
         "xaxis": "x",
         "y": [
          1461,
          1461,
          1600,
          1577,
          1552,
          1515,
          1499,
          1461,
          1424,
          1411,
          1376,
          1338,
          1304,
          1289,
          1280,
          1271,
          1241,
          1235,
          1230,
          1210
         ],
         "yaxis": "y"
        },
        {
         "hovertemplate": "Location=Cabo Verde<br>Period=%{x}<br>FactValueNumeric=%{y}<extra></extra>",
         "legendgroup": "Cabo Verde",
         "line": {
          "color": "#00cc96",
          "dash": "solid"
         },
         "marker": {
          "symbol": "circle"
         },
         "mode": "lines",
         "name": "Cabo Verde",
         "showlegend": true,
         "type": "scattergl",
         "x": [
          2019,
          2018,
          2017,
          2016,
          2015,
          2014,
          2013,
          2012,
          2011,
          2010,
          2009,
          2008,
          2007,
          2006,
          2005,
          2004,
          2003,
          2002,
          2001,
          2000
         ],
         "xaxis": "x",
         "y": [
          147.3,
          143.1,
          139,
          135,
          131,
          127,
          123,
          119,
          117,
          116,
          112,
          109,
          110,
          109,
          110,
          109,
          108,
          104,
          102,
          98
         ],
         "yaxis": "y"
        },
        {
         "hovertemplate": "Location=Ireland<br>Period=%{x}<br>FactValueNumeric=%{y}<extra></extra>",
         "legendgroup": "Ireland",
         "line": {
          "color": "#ab63fa",
          "dash": "solid"
         },
         "marker": {
          "symbol": "circle"
         },
         "mode": "lines",
         "name": "Ireland",
         "showlegend": true,
         "type": "scattergl",
         "x": [
          2019,
          2018,
          2017,
          2016,
          2015,
          2014,
          2013,
          2012,
          2011,
          2010,
          2009,
          2008,
          2007,
          2006,
          2005,
          2004,
          2003,
          2002,
          2001,
          2000
         ],
         "xaxis": "x",
         "y": [
          153,
          146,
          162,
          194,
          167,
          199,
          194,
          168,
          192,
          219,
          268,
          288,
          348,
          376,
          412,
          389,
          347,
          390,
          425,
          431
         ],
         "yaxis": "y"
        },
        {
         "hovertemplate": "Location=Latvia<br>Period=%{x}<br>FactValueNumeric=%{y}<extra></extra>",
         "legendgroup": "Latvia",
         "line": {
          "color": "#FFA15A",
          "dash": "solid"
         },
         "marker": {
          "symbol": "circle"
         },
         "mode": "lines",
         "name": "Latvia",
         "showlegend": true,
         "type": "scattergl",
         "x": [
          2019,
          2018,
          2017,
          2016,
          2015,
          2014,
          2013,
          2012,
          2011,
          2010,
          2009,
          2008,
          2007,
          2006,
          2005,
          2004,
          2003,
          2002,
          2001,
          2000
         ],
         "xaxis": "x",
         "y": [
          153.5,
          175,
          158,
          184,
          223,
          250,
          202,
          208,
          188,
          251,
          263,
          402,
          442,
          445,
          481,
          536,
          568,
          601,
          610,
          695
         ],
         "yaxis": "y"
        },
        {
         "hovertemplate": "Location=Timor-Leste<br>Period=%{x}<br>FactValueNumeric=%{y}<extra></extra>",
         "legendgroup": "Timor-Leste",
         "line": {
          "color": "#19d3f3",
          "dash": "solid"
         },
         "marker": {
          "symbol": "circle"
         },
         "mode": "lines",
         "name": "Timor-Leste",
         "showlegend": true,
         "type": "scattergl",
         "x": [
          2019,
          2018,
          2017,
          2016,
          2015,
          2014,
          2013,
          2012,
          2011,
          2010,
          2009,
          2008,
          2007,
          2006,
          2005,
          2004,
          2003,
          2002,
          2001,
          2000
         ],
         "xaxis": "x",
         "y": [
          153.9,
          155.3,
          156.7,
          161,
          157,
          153,
          171,
          166,
          171,
          167,
          163,
          159,
          157.9,
          162,
          155,
          149,
          142,
          134,
          126.9,
          128
         ],
         "yaxis": "y"
        },
        {
         "hovertemplate": "Location=Mauritius<br>Period=%{x}<br>FactValueNumeric=%{y}<extra></extra>",
         "legendgroup": "Mauritius",
         "line": {
          "color": "#FF6692",
          "dash": "solid"
         },
         "marker": {
          "symbol": "circle"
         },
         "mode": "lines",
         "name": "Mauritius",
         "showlegend": true,
         "type": "scattergl",
         "x": [
          2019,
          2018,
          2017,
          2016,
          2015,
          2014,
          2013,
          2012,
          2011,
          2010,
          2009,
          2008,
          2007,
          2006,
          2005,
          2004,
          2003,
          2002,
          2001,
          2000
         ],
         "xaxis": "x",
         "y": [
          155.3,
          156.9,
          158.6,
          173,
          174,
          165,
          153,
          176,
          188,
          166,
          150,
          190,
          157,
          154,
          142,
          187,
          186,
          227,
          167,
          191
         ],
         "yaxis": "y"
        },
        {
         "hovertemplate": "Location=Paraguay<br>Period=%{x}<br>FactValueNumeric=%{y}<extra></extra>",
         "legendgroup": "Paraguay",
         "line": {
          "color": "#B6E880",
          "dash": "solid"
         },
         "marker": {
          "symbol": "circle"
         },
         "mode": "lines",
         "name": "Paraguay",
         "showlegend": true,
         "type": "scattergl",
         "x": [
          2019,
          2018,
          2017,
          2016,
          2015,
          2014,
          2013,
          2012,
          2011,
          2010,
          2009,
          2008,
          2007,
          2006,
          2005,
          2004,
          2003,
          2002,
          2001,
          2000
         ],
         "xaxis": "x",
         "y": [
          1552,
          1535,
          1524,
          1529,
          1472,
          1438,
          1512,
          1470,
          1540,
          1557,
          1453,
          1376,
          1033,
          996,
          842,
          692,
          659,
          490,
          647,
          502
         ],
         "yaxis": "y"
        },
        {
         "hovertemplate": "Location=Honduras<br>Period=%{x}<br>FactValueNumeric=%{y}<extra></extra>",
         "legendgroup": "Honduras",
         "line": {
          "color": "#FF97FF",
          "dash": "solid"
         },
         "marker": {
          "symbol": "circle"
         },
         "mode": "lines",
         "name": "Honduras",
         "showlegend": true,
         "type": "scattergl",
         "x": [
          2019,
          2018,
          2017,
          2016,
          2015,
          2014,
          2013,
          2012,
          2011,
          2010,
          2009,
          2008,
          2007,
          2006,
          2005,
          2004,
          2003,
          2002,
          2001,
          2000
         ],
         "xaxis": "x",
         "y": [
          1572,
          1546,
          1527,
          1517,
          1461,
          1446,
          1445,
          1412,
          1384,
          1362,
          1329,
          1282,
          1224,
          1207,
          1182,
          1161,
          1132,
          1105,
          1048,
          1015
         ],
         "yaxis": "y"
        },
        {
         "hovertemplate": "Location=Congo<br>Period=%{x}<br>FactValueNumeric=%{y}<extra></extra>",
         "legendgroup": "Congo",
         "line": {
          "color": "#FECB52",
          "dash": "solid"
         },
         "marker": {
          "symbol": "circle"
         },
         "mode": "lines",
         "name": "Congo",
         "showlegend": true,
         "type": "scattergl",
         "x": [
          2019,
          2018,
          2017,
          2016,
          2015,
          2014,
          2013,
          2012,
          2011,
          2010,
          2009,
          2008,
          2007,
          2006,
          2005,
          2004,
          2003,
          2002,
          2001,
          2000
         ],
         "xaxis": "x",
         "y": [
          1598,
          1530,
          1464,
          1405,
          1339,
          1294,
          1246,
          1210,
          1187,
          1156,
          1088,
          1040,
          1009,
          955,
          922,
          906,
          887,
          859,
          839,
          822
         ],
         "yaxis": "y"
        },
        {
         "hovertemplate": "Location=Mexico<br>Period=%{x}<br>FactValueNumeric=%{y}<extra></extra>",
         "legendgroup": "Mexico",
         "line": {
          "color": "#636efa",
          "dash": "solid"
         },
         "marker": {
          "symbol": "circle"
         },
         "mode": "lines",
         "name": "Mexico",
         "showlegend": true,
         "type": "scattergl",
         "x": [
          2019,
          2018,
          2017,
          2016,
          2015,
          2014,
          2013,
          2012,
          2011,
          2010,
          2009,
          2008,
          2007,
          2006,
          2005,
          2004,
          2003,
          2002,
          2001,
          2000
         ],
         "xaxis": "x",
         "y": [
          16303,
          16348,
          16395,
          16725,
          16574,
          16009,
          15856,
          17102,
          16615,
          16559,
          17820,
          17062,
          15349,
          16769,
          16579,
          15629,
          15444,
          14626,
          14016,
          14028
         ],
         "yaxis": "y"
        },
        {
         "hovertemplate": "Location=Russian Federation<br>Period=%{x}<br>FactValueNumeric=%{y}<extra></extra>",
         "legendgroup": "Russian Federation",
         "line": {
          "color": "#EF553B",
          "dash": "solid"
         },
         "marker": {
          "symbol": "circle"
         },
         "mode": "lines",
         "name": "Russian Federation",
         "showlegend": true,
         "type": "scattergl",
         "x": [
          2019,
          2018,
          2017,
          2016,
          2015,
          2014,
          2013,
          2012,
          2011,
          2010,
          2009,
          2008,
          2007,
          2006,
          2005,
          2004,
          2003,
          2002,
          2001,
          2000
         ],
         "xaxis": "x",
         "y": [
          17507,
          18779,
          19680,
          20938,
          25364,
          29436,
          29832,
          30829,
          30252,
          29443,
          31040,
          36517,
          40351,
          39426,
          41410,
          43098,
          44771,
          43045,
          41984,
          40792
         ],
         "yaxis": "y"
        },
        {
         "hovertemplate": "Location=Iran (Islamic Republic of)<br>Period=%{x}<br>FactValueNumeric=%{y}<extra></extra>",
         "legendgroup": "Iran (Islamic Republic of)",
         "line": {
          "color": "#00cc96",
          "dash": "solid"
         },
         "marker": {
          "symbol": "circle"
         },
         "mode": "lines",
         "name": "Iran (Islamic Republic of)",
         "showlegend": true,
         "type": "scattergl",
         "x": [
          2019,
          2018,
          2017,
          2016,
          2015,
          2014,
          2013,
          2012,
          2011,
          2010,
          2009,
          2008,
          2007,
          2006,
          2005,
          2004,
          2003,
          2002,
          2001,
          2000
         ],
         "xaxis": "x",
         "y": [
          17803,
          17716,
          16703,
          16426,
          17098,
          17395,
          18552,
          19681,
          20690,
          23970,
          23686,
          24086,
          23628,
          28422,
          28606,
          26898,
          26519,
          22551,
          20339,
          17588
         ],
         "yaxis": "y"
        },
        {
         "hovertemplate": "Location=Jordan<br>Period=%{x}<br>FactValueNumeric=%{y}<extra></extra>",
         "legendgroup": "Jordan",
         "line": {
          "color": "#ab63fa",
          "dash": "solid"
         },
         "marker": {
          "symbol": "circle"
         },
         "mode": "lines",
         "name": "Jordan",
         "showlegend": true,
         "type": "scattergl",
         "x": [
          2019,
          2018,
          2017,
          2016,
          2015,
          2014,
          2013,
          2012,
          2011,
          2010,
          2009,
          2008,
          2007,
          2006,
          2005,
          2004,
          2003,
          2002,
          2001,
          2000
         ],
         "xaxis": "x",
         "y": [
          1717,
          1757,
          2106,
          2306,
          2220,
          2133,
          2033,
          1916,
          1942,
          1630,
          1535,
          1437,
          1386,
          1336,
          1302,
          1270,
          1242,
          1245,
          1215,
          1190
         ],
         "yaxis": "y"
        },
        {
         "hovertemplate": "Location=Guyana<br>Period=%{x}<br>FactValueNumeric=%{y}<extra></extra>",
         "legendgroup": "Guyana",
         "line": {
          "color": "#FFA15A",
          "dash": "solid"
         },
         "marker": {
          "symbol": "circle"
         },
         "mode": "lines",
         "name": "Guyana",
         "showlegend": true,
         "type": "scattergl",
         "x": [
          2019,
          2018,
          2017,
          2016,
          2015,
          2014,
          2013,
          2012,
          2011,
          2010,
          2009,
          2008,
          2007,
          2006,
          2005,
          2004,
          2003,
          2002,
          2001,
          2000
         ],
         "xaxis": "x",
         "y": [
          174.8,
          175.5,
          176.2,
          190,
          187,
          217,
          150,
          155,
          196,
          135,
          117,
          172,
          266,
          248,
          213,
          217,
          209,
          179,
          181,
          196
         ],
         "yaxis": "y"
        },
        {
         "hovertemplate": "Location=Central African Republic<br>Period=%{x}<br>FactValueNumeric=%{y}<extra></extra>",
         "legendgroup": "Central African Republic",
         "line": {
          "color": "#19d3f3",
          "dash": "solid"
         },
         "marker": {
          "symbol": "circle"
         },
         "mode": "lines",
         "name": "Central African Republic",
         "showlegend": true,
         "type": "scattergl",
         "x": [
          2019,
          2018,
          2017,
          2016,
          2015,
          2014,
          2013,
          2012,
          2011,
          2010,
          2009,
          2008,
          2007,
          2006,
          2005,
          2004,
          2003,
          2002,
          2001,
          2000
         ],
         "xaxis": "x",
         "y": [
          1790,
          1678,
          1625,
          1546,
          1528,
          1504,
          1480,
          1313,
          1339,
          1339,
          1389,
          1381,
          1371,
          1360,
          1347,
          1332,
          1301,
          1202,
          1188,
          1177
         ],
         "yaxis": "y"
        },
        {
         "hovertemplate": "Location=United Republic of Tanzania<br>Period=%{x}<br>FactValueNumeric=%{y}<extra></extra>",
         "legendgroup": "United Republic of Tanzania",
         "line": {
          "color": "#FF6692",
          "dash": "solid"
         },
         "marker": {
          "symbol": "circle"
         },
         "mode": "lines",
         "name": "United Republic of Tanzania",
         "showlegend": true,
         "type": "scattergl",
         "x": [
          2019,
          2018,
          2017,
          2016,
          2015,
          2014,
          2013,
          2012,
          2011,
          2010,
          2009,
          2008,
          2007,
          2006,
          2005,
          2004,
          2003,
          2002,
          2001,
          2000
         ],
         "xaxis": "x",
         "y": [
          18054,
          17470,
          16902,
          16252,
          15858,
          15296,
          14687,
          14264,
          13062,
          12784,
          12343,
          11871,
          11718,
          11391,
          11456,
          11249,
          10903,
          11043,
          11015,
          10794
         ],
         "yaxis": "y"
        },
        {
         "hovertemplate": "Location=Malta<br>Period=%{x}<br>FactValueNumeric=%{y}<extra></extra>",
         "legendgroup": "Malta",
         "line": {
          "color": "#B6E880",
          "dash": "solid"
         },
         "marker": {
          "symbol": "circle"
         },
         "mode": "lines",
         "name": "Malta",
         "showlegend": true,
         "type": "scattergl",
         "x": [
          2019,
          2018,
          2017,
          2016,
          2015,
          2014,
          2013,
          2012,
          2011,
          2010,
          2009,
          2008,
          2007,
          2006,
          2005,
          2004,
          2003,
          2002,
          2001,
          2000
         ],
         "xaxis": "x",
         "y": [
          18.09,
          20.35,
          21.47,
          26,
          12,
          10,
          20,
          12,
          20,
          16.29,
          21.61,
          17.7,
          16,
          10,
          17,
          14,
          18,
          16,
          19,
          18
         ],
         "yaxis": "y"
        },
        {
         "hovertemplate": "Location=Spain<br>Period=%{x}<br>FactValueNumeric=%{y}<extra></extra>",
         "legendgroup": "Spain",
         "line": {
          "color": "#FF97FF",
          "dash": "solid"
         },
         "marker": {
          "symbol": "circle"
         },
         "mode": "lines",
         "name": "Spain",
         "showlegend": true,
         "type": "scattergl",
         "x": [
          2019,
          2018,
          2017,
          2016,
          2015,
          2014,
          2013,
          2012,
          2011,
          2010,
          2009,
          2008,
          2007,
          2006,
          2005,
          2004,
          2003,
          2002,
          2001,
          2000
         ],
         "xaxis": "x",
         "y": [
          1829,
          1918,
          1944,
          1922,
          1973,
          1965,
          1889,
          2002,
          2212,
          2555,
          2798,
          3196,
          3952,
          4286,
          4666,
          5056,
          5709,
          5701,
          5934,
          6295
         ],
         "yaxis": "y"
        },
        {
         "hovertemplate": "Location=Liberia<br>Period=%{x}<br>FactValueNumeric=%{y}<extra></extra>",
         "legendgroup": "Liberia",
         "line": {
          "color": "#FECB52",
          "dash": "solid"
         },
         "marker": {
          "symbol": "circle"
         },
         "mode": "lines",
         "name": "Liberia",
         "showlegend": true,
         "type": "scattergl",
         "x": [
          2019,
          2018,
          2017,
          2016,
          2015,
          2014,
          2013,
          2012,
          2011,
          2010,
          2009,
          2008,
          2007,
          2006,
          2005,
          2004,
          2003,
          2002,
          2001,
          2000
         ],
         "xaxis": "x",
         "y": [
          1920,
          1828,
          1740,
          1657,
          1574,
          1517,
          1450,
          1405,
          1322,
          1288,
          1254,
          1222,
          1163,
          1155,
          1175,
          1171,
          1154,
          1052,
          1046,
          1011
         ],
         "yaxis": "y"
        },
        {
         "hovertemplate": "Location=Tunisia<br>Period=%{x}<br>FactValueNumeric=%{y}<extra></extra>",
         "legendgroup": "Tunisia",
         "line": {
          "color": "#636efa",
          "dash": "solid"
         },
         "marker": {
          "symbol": "circle"
         },
         "mode": "lines",
         "name": "Tunisia",
         "showlegend": true,
         "type": "scattergl",
         "x": [
          2019,
          2018,
          2017,
          2016,
          2015,
          2014,
          2013,
          2012,
          2011,
          2010,
          2009,
          2008,
          2007,
          2006,
          2005,
          2004,
          2003,
          2002,
          2001,
          2000
         ],
         "xaxis": "x",
         "y": [
          1928,
          2166,
          2461,
          2595,
          2559,
          2517,
          2502,
          2482,
          2542,
          2538,
          2508,
          2498,
          2447,
          2434,
          2432,
          2348,
          2322,
          2261,
          2277,
          2302
         ],
         "yaxis": "y"
        },
        {
         "hovertemplate": "Location=Switzerland<br>Period=%{x}<br>FactValueNumeric=%{y}<extra></extra>",
         "legendgroup": "Switzerland",
         "line": {
          "color": "#EF553B",
          "dash": "solid"
         },
         "marker": {
          "symbol": "circle"
         },
         "mode": "lines",
         "name": "Switzerland",
         "showlegend": true,
         "type": "scattergl",
         "x": [
          2019,
          2018,
          2017,
          2016,
          2015,
          2014,
          2013,
          2012,
          2011,
          2010,
          2009,
          2008,
          2007,
          2006,
          2005,
          2004,
          2003,
          2002,
          2001,
          2000
         ],
         "xaxis": "x",
         "y": [
          193,
          240,
          237,
          223,
          261,
          251,
          277,
          350,
          330,
          337,
          360,
          368,
          396,
          381,
          422,
          526,
          563,
          529,
          561,
          610
         ],
         "yaxis": "y"
        },
        {
         "hovertemplate": "Location=Romania<br>Period=%{x}<br>FactValueNumeric=%{y}<extra></extra>",
         "legendgroup": "Romania",
         "line": {
          "color": "#00cc96",
          "dash": "solid"
         },
         "marker": {
          "symbol": "circle"
         },
         "mode": "lines",
         "name": "Romania",
         "showlegend": true,
         "type": "scattergl",
         "x": [
          2019,
          2018,
          2017,
          2016,
          2015,
          2014,
          2013,
          2012,
          2011,
          2010,
          2009,
          2008,
          2007,
          2006,
          2005,
          2004,
          2003,
          2002,
          2001,
          2000
         ],
         "xaxis": "x",
         "y": [
          1992,
          1995,
          2084,
          2044,
          1993,
          1996,
          1962,
          2105,
          2118,
          2451,
          2884,
          3233,
          3019,
          2811,
          2855,
          2651,
          2563,
          2536,
          2864,
          2753
         ],
         "yaxis": "y"
        },
        {
         "hovertemplate": "Location=Canada<br>Period=%{x}<br>FactValueNumeric=%{y}<extra></extra>",
         "legendgroup": "Canada",
         "line": {
          "color": "#ab63fa",
          "dash": "solid"
         },
         "marker": {
          "symbol": "circle"
         },
         "mode": "lines",
         "name": "Canada",
         "showlegend": true,
         "type": "scattergl",
         "x": [
          2019,
          2018,
          2017,
          2016,
          2015,
          2014,
          2013,
          2012,
          2011,
          2010,
          2009,
          2008,
          2007,
          2006,
          2005,
          2004,
          2003,
          2002,
          2001,
          2000
         ],
         "xaxis": "x",
         "y": [
          1998,
          2013,
          2054,
          2118,
          2073,
          2066,
          2212,
          2356,
          2189,
          2508,
          2418,
          2681,
          2924,
          2975,
          3051,
          2846,
          2871,
          3012,
          2841,
          2993
         ],
         "yaxis": "y"
        },
        {
         "hovertemplate": "Location=Kiribati<br>Period=%{x}<br>FactValueNumeric=%{y}<extra></extra>",
         "legendgroup": "Kiribati",
         "line": {
          "color": "#FFA15A",
          "dash": "solid"
         },
         "marker": {
          "symbol": "circle"
         },
         "mode": "lines",
         "name": "Kiribati",
         "showlegend": true,
         "type": "scattergl",
         "x": [
          2019,
          2018,
          2017,
          2016,
          2015,
          2014,
          2013,
          2012,
          2011,
          2010,
          2009,
          2008,
          2007,
          2006,
          2005,
          2004,
          2003,
          2002,
          2001,
          2000
         ],
         "xaxis": "x",
         "y": [
          2.26,
          2.47,
          2.69,
          5,
          4,
          5,
          1,
          6,
          2,
          6,
          5,
          2,
          6,
          17,
          10,
          17,
          17,
          7,
          6,
          7
         ],
         "yaxis": "y"
        },
        {
         "hovertemplate": "Location=Qatar<br>Period=%{x}<br>FactValueNumeric=%{y}<extra></extra>",
         "legendgroup": "Qatar",
         "line": {
          "color": "#19d3f3",
          "dash": "solid"
         },
         "marker": {
          "symbol": "circle"
         },
         "mode": "lines",
         "name": "Qatar",
         "showlegend": true,
         "type": "scattergl",
         "x": [
          2019,
          2018,
          2017,
          2016,
          2015,
          2014,
          2013,
          2012,
          2011,
          2010,
          2009,
          2008,
          2007,
          2006,
          2005,
          2004,
          2003,
          2002,
          2001,
          2000
         ],
         "xaxis": "x",
         "y": [
          205.8,
          224.7,
          236.4,
          239,
          285,
          330,
          332,
          279,
          271,
          296,
          300,
          327,
          290,
          364,
          275,
          222,
          222,
          203,
          171,
          185
         ],
         "yaxis": "y"
        },
        {
         "hovertemplate": "Location=Haiti<br>Period=%{x}<br>FactValueNumeric=%{y}<extra></extra>",
         "legendgroup": "Haiti",
         "line": {
          "color": "#FF6692",
          "dash": "solid"
         },
         "marker": {
          "symbol": "circle"
         },
         "mode": "lines",
         "name": "Haiti",
         "showlegend": true,
         "type": "scattergl",
         "x": [
          2019,
          2018,
          2017,
          2016,
          2015,
          2014,
          2013,
          2012,
          2011,
          2010,
          2009,
          2008,
          2007,
          2006,
          2005,
          2004,
          2003,
          2002,
          2001,
          2000
         ],
         "xaxis": "x",
         "y": [
          2115,
          2068,
          2023,
          1980,
          1924,
          1884,
          1836,
          1833,
          1884,
          1864,
          1788,
          1778,
          1759,
          1742,
          1704,
          1709,
          1720,
          1658,
          1610,
          1478
         ],
         "yaxis": "y"
        },
        {
         "hovertemplate": "Location=India<br>Period=%{x}<br>FactValueNumeric=%{y}<extra></extra>",
         "legendgroup": "India",
         "line": {
          "color": "#B6E880",
          "dash": "solid"
         },
         "marker": {
          "symbol": "circle"
         },
         "mode": "lines",
         "name": "India",
         "showlegend": true,
         "type": "scattergl",
         "x": [
          2019,
          2018,
          2017,
          2016,
          2015,
          2014,
          2013,
          2012,
          2011,
          2010,
          2009,
          2008,
          2007,
          2006,
          2005,
          2004,
          2003,
          2002,
          2001,
          2000
         ],
         "xaxis": "x",
         "y": [
          212596,
          210086,
          202927,
          202999,
          204523,
          208670,
          217778,
          222797,
          217929,
          212091,
          207613,
          205913,
          197124,
          189903,
          182346,
          176179,
          175576,
          178686,
          178818,
          178132
         ],
         "yaxis": "y"
        },
        {
         "hovertemplate": "Location=Denmark<br>Period=%{x}<br>FactValueNumeric=%{y}<extra></extra>",
         "legendgroup": "Denmark",
         "line": {
          "color": "#FF97FF",
          "dash": "solid"
         },
         "marker": {
          "symbol": "circle"
         },
         "mode": "lines",
         "name": "Denmark",
         "showlegend": true,
         "type": "scattergl",
         "x": [
          2019,
          2018,
          2017,
          2016,
          2015,
          2014,
          2013,
          2012,
          2011,
          2010,
          2009,
          2008,
          2007,
          2006,
          2005,
          2004,
          2003,
          2002,
          2001,
          2000
         ],
         "xaxis": "x",
         "y": [
          213.5,
          183.3,
          187.4,
          227,
          197.3,
          196,
          198,
          172,
          227,
          277,
          312,
          419,
          419,
          315,
          352,
          380,
          445,
          477,
          459,
          513
         ],
         "yaxis": "y"
        },
        {
         "hovertemplate": "Location=Finland<br>Period=%{x}<br>FactValueNumeric=%{y}<extra></extra>",
         "legendgroup": "Finland",
         "line": {
          "color": "#FECB52",
          "dash": "solid"
         },
         "marker": {
          "symbol": "circle"
         },
         "mode": "lines",
         "name": "Finland",
         "showlegend": true,
         "type": "scattergl",
         "x": [
          2019,
          2018,
          2017,
          2016,
          2015,
          2014,
          2013,
          2012,
          2011,
          2010,
          2009,
          2008,
          2007,
          2006,
          2005,
          2004,
          2003,
          2002,
          2001,
          2000
         ],
         "xaxis": "x",
         "y": [
          215,
          246,
          245,
          260,
          278,
          241,
          268,
          263,
          301,
          280,
          307,
          359,
          396,
          346,
          391,
          400,
          413,
          445,
          462,
          421
         ],
         "yaxis": "y"
        },
        {
         "hovertemplate": "Location=United Kingdom of Great Britain and Northern Ireland<br>Period=%{x}<br>FactValueNumeric=%{y}<extra></extra>",
         "legendgroup": "United Kingdom of Great Britain and Northern Ireland",
         "line": {
          "color": "#636efa",
          "dash": "solid"
         },
         "marker": {
          "symbol": "circle"
         },
         "mode": "lines",
         "name": "United Kingdom of Great Britain and Northern Ireland",
         "showlegend": true,
         "type": "scattergl",
         "x": [
          2019,
          2018,
          2017,
          2016,
          2015,
          2014,
          2013,
          2012,
          2011,
          2010,
          2009,
          2008,
          2007,
          2006,
          2005,
          2004,
          2003,
          2002,
          2001,
          2000
         ],
         "xaxis": "x",
         "y": [
          2169,
          2026,
          2015,
          2019,
          1927,
          2107,
          1858,
          1928,
          2149,
          2342,
          2702,
          3226,
          3583,
          3987,
          3995,
          4113,
          4290,
          4216,
          4164,
          4058
         ],
         "yaxis": "y"
        },
        {
         "hovertemplate": "Location=Thailand<br>Period=%{x}<br>FactValueNumeric=%{y}<extra></extra>",
         "legendgroup": "Thailand",
         "line": {
          "color": "#EF553B",
          "dash": "solid"
         },
         "marker": {
          "symbol": "circle"
         },
         "mode": "lines",
         "name": "Thailand",
         "showlegend": true,
         "type": "scattergl",
         "x": [
          2019,
          2018,
          2017,
          2016,
          2015,
          2014,
          2013,
          2012,
          2011,
          2010,
          2009,
          2008,
          2007,
          2006,
          2005,
          2004,
          2003,
          2002,
          2001,
          2000
         ],
         "xaxis": "x",
         "y": [
          22428,
          22458,
          24298,
          22447,
          22554,
          22308,
          24562,
          24635,
          25799,
          25758,
          25849,
          25854,
          25763,
          25459,
          25423,
          25257,
          25069,
          25097,
          24956,
          24570
         ],
         "yaxis": "y"
        },
        {
         "hovertemplate": "Location=Lithuania<br>Period=%{x}<br>FactValueNumeric=%{y}<extra></extra>",
         "legendgroup": "Lithuania",
         "line": {
          "color": "#00cc96",
          "dash": "solid"
         },
         "marker": {
          "symbol": "circle"
         },
         "mode": "lines",
         "name": "Lithuania",
         "showlegend": true,
         "type": "scattergl",
         "x": [
          2019,
          2018,
          2017,
          2016,
          2015,
          2014,
          2013,
          2012,
          2011,
          2010,
          2009,
          2008,
          2007,
          2006,
          2005,
          2004,
          2003,
          2002,
          2001,
          2000
         ],
         "xaxis": "x",
         "y": [
          224.5,
          210.4,
          232.8,
          234,
          307,
          333,
          292,
          394,
          363,
          377,
          430,
          587,
          867,
          881,
          855,
          798,
          804,
          783,
          765,
          798
         ],
         "yaxis": "y"
        },
        {
         "hovertemplate": "Location=Comoros<br>Period=%{x}<br>FactValueNumeric=%{y}<extra></extra>",
         "legendgroup": "Comoros",
         "line": {
          "color": "#ab63fa",
          "dash": "solid"
         },
         "marker": {
          "symbol": "circle"
         },
         "mode": "lines",
         "name": "Comoros",
         "showlegend": true,
         "type": "scattergl",
         "x": [
          2019,
          2018,
          2017,
          2016,
          2015,
          2014,
          2013,
          2012,
          2011,
          2010,
          2009,
          2008,
          2007,
          2006,
          2005,
          2004,
          2003,
          2002,
          2001,
          2000
         ],
         "xaxis": "x",
         "y": [
          226.1,
          221.3,
          216.5,
          211,
          207,
          200,
          197,
          193,
          191,
          187,
          182,
          176,
          170,
          166,
          164,
          161,
          156,
          152,
          149,
          146
         ],
         "yaxis": "y"
        },
        {
         "hovertemplate": "Location=Djibouti<br>Period=%{x}<br>FactValueNumeric=%{y}<extra></extra>",
         "legendgroup": "Djibouti",
         "line": {
          "color": "#FFA15A",
          "dash": "solid"
         },
         "marker": {
          "symbol": "circle"
         },
         "mode": "lines",
         "name": "Djibouti",
         "showlegend": true,
         "type": "scattergl",
         "x": [
          2019,
          2018,
          2017,
          2016,
          2015,
          2014,
          2013,
          2012,
          2011,
          2010,
          2009,
          2008,
          2007,
          2006,
          2005,
          2004,
          2003,
          2002,
          2001,
          2000
         ],
         "xaxis": "x",
         "y": [
          228.8,
          226.3,
          223.7,
          221,
          218,
          214,
          210,
          205,
          215,
          237,
          231,
          224,
          223,
          222,
          220,
          213,
          211,
          205,
          202,
          197
         ],
         "yaxis": "y"
        },
        {
         "hovertemplate": "Location=Barbados<br>Period=%{x}<br>FactValueNumeric=%{y}<extra></extra>",
         "legendgroup": "Barbados",
         "line": {
          "color": "#19d3f3",
          "dash": "solid"
         },
         "marker": {
          "symbol": "circle"
         },
         "mode": "lines",
         "name": "Barbados",
         "showlegend": true,
         "type": "scattergl",
         "x": [
          2019,
          2018,
          2017,
          2016,
          2015,
          2014,
          2013,
          2012,
          2011,
          2010,
          2009,
          2008,
          2007,
          2006,
          2005,
          2004,
          2003,
          2002,
          2001,
          2000
         ],
         "xaxis": "x",
         "y": [
          23.46,
          23.89,
          24.32,
          16,
          38.01,
          24,
          40.09,
          42,
          31,
          25,
          26,
          17,
          28.04,
          22,
          24,
          46,
          32,
          31,
          23.55,
          39.6
         ],
         "yaxis": "y"
        },
        {
         "hovertemplate": "Location=Togo<br>Period=%{x}<br>FactValueNumeric=%{y}<extra></extra>",
         "legendgroup": "Togo",
         "line": {
          "color": "#FF6692",
          "dash": "solid"
         },
         "marker": {
          "symbol": "circle"
         },
         "mode": "lines",
         "name": "Togo",
         "showlegend": true,
         "type": "scattergl",
         "x": [
          2019,
          2018,
          2017,
          2016,
          2015,
          2014,
          2013,
          2012,
          2011,
          2010,
          2009,
          2008,
          2007,
          2006,
          2005,
          2004,
          2003,
          2002,
          2001,
          2000
         ],
         "xaxis": "x",
         "y": [
          2316,
          2276,
          2245,
          2224,
          2191,
          2161,
          2133,
          2076,
          2054,
          1995,
          1954,
          1905,
          1841,
          1801,
          1732,
          1697,
          1649,
          1601,
          1541,
          1481
         ],
         "yaxis": "y"
        },
        {
         "hovertemplate": "Location=Kazakhstan<br>Period=%{x}<br>FactValueNumeric=%{y}<extra></extra>",
         "legendgroup": "Kazakhstan",
         "line": {
          "color": "#B6E880",
          "dash": "solid"
         },
         "marker": {
          "symbol": "circle"
         },
         "mode": "lines",
         "name": "Kazakhstan",
         "showlegend": true,
         "type": "scattergl",
         "x": [
          2019,
          2018,
          2017,
          2016,
          2015,
          2014,
          2013,
          2012,
          2011,
          2010,
          2009,
          2008,
          2007,
          2006,
          2005,
          2004,
          2003,
          2002,
          2001,
          2000
         ],
         "xaxis": "x",
         "y": [
          2352,
          2522,
          2510,
          3158,
          3231,
          3338,
          3875,
          3953,
          3961,
          4217,
          4099,
          4637,
          6209,
          6188,
          4793,
          3876,
          2839,
          2485,
          2421,
          2119
         ],
         "yaxis": "y"
        },
        {
         "hovertemplate": "Location=Bolivia (Plurinational State of)<br>Period=%{x}<br>FactValueNumeric=%{y}<extra></extra>",
         "legendgroup": "Bolivia (Plurinational State of)",
         "line": {
          "color": "#FF97FF",
          "dash": "solid"
         },
         "marker": {
          "symbol": "circle"
         },
         "mode": "lines",
         "name": "Bolivia (Plurinational State of)",
         "showlegend": true,
         "type": "scattergl",
         "x": [
          2019,
          2018,
          2017,
          2016,
          2015,
          2014,
          2013,
          2012,
          2011,
          2010,
          2009,
          2008,
          2007,
          2006,
          2005,
          2004,
          2003,
          2002,
          2001,
          2000
         ],
         "xaxis": "x",
         "y": [
          2430,
          2351,
          2275,
          1687,
          2044,
          2129,
          2476,
          2389,
          1789,
          1734,
          1637,
          1672,
          1438,
          1964,
          1400,
          1373,
          1347,
          1325,
          1271,
          1224
         ],
         "yaxis": "y"
        },
        {
         "hovertemplate": "Location=Bangladesh<br>Period=%{x}<br>FactValueNumeric=%{y}<extra></extra>",
         "legendgroup": "Bangladesh",
         "line": {
          "color": "#FECB52",
          "dash": "solid"
         },
         "marker": {
          "symbol": "circle"
         },
         "mode": "lines",
         "name": "Bangladesh",
         "showlegend": true,
         "type": "scattergl",
         "x": [
          2019,
          2018,
          2017,
          2016,
          2015,
          2014,
          2013,
          2012,
          2011,
          2010,
          2009,
          2008,
          2007,
          2006,
          2005,
          2004,
          2003,
          2002,
          2001,
          2000
         ],
         "xaxis": "x",
         "y": [
          25023,
          25069,
          24940,
          24954,
          24708,
          24579,
          24323,
          24054,
          25124,
          24872,
          24697,
          24331,
          24166,
          24829,
          24531,
          22408,
          20068,
          17830,
          15670,
          13791
         ],
         "yaxis": "y"
        },
        {
         "hovertemplate": "Location=Luxembourg<br>Period=%{x}<br>FactValueNumeric=%{y}<extra></extra>",
         "legendgroup": "Luxembourg",
         "line": {
          "color": "#636efa",
          "dash": "solid"
         },
         "marker": {
          "symbol": "circle"
         },
         "mode": "lines",
         "name": "Luxembourg",
         "showlegend": true,
         "type": "scattergl",
         "x": [
          2019,
          2018,
          2017,
          2016,
          2015,
          2014,
          2013,
          2012,
          2011,
          2010,
          2009,
          2008,
          2007,
          2006,
          2005,
          2004,
          2003,
          2002,
          2001,
          2000
         ],
         "xaxis": "x",
         "y": [
          25.09,
          40.36,
          28.36,
          36,
          37,
          36,
          45.2,
          34.11,
          33.89,
          32.93,
          48.94,
          36,
          46,
          44,
          47.97,
          52,
          55,
          64,
          72,
          78
         ],
         "yaxis": "y"
        },
        {
         "hovertemplate": "Location=Samoa<br>Period=%{x}<br>FactValueNumeric=%{y}<extra></extra>",
         "legendgroup": "Samoa",
         "line": {
          "color": "#EF553B",
          "dash": "solid"
         },
         "marker": {
          "symbol": "circle"
         },
         "mode": "lines",
         "name": "Samoa",
         "showlegend": true,
         "type": "scattergl",
         "x": [
          2019,
          2018,
          2017,
          2016,
          2015,
          2014,
          2013,
          2012,
          2011,
          2010,
          2009,
          2008,
          2007,
          2006,
          2005,
          2004,
          2003,
          2002,
          2001,
          2000
         ],
         "xaxis": "x",
         "y": [
          25.68,
          25.38,
          25.45,
          22,
          22,
          22,
          35,
          24,
          24,
          24,
          55,
          24,
          23,
          23,
          23,
          27,
          24,
          24,
          24,
          26
         ],
         "yaxis": "y"
        },
        {
         "hovertemplate": "Location=China<br>Period=%{x}<br>FactValueNumeric=%{y}<extra></extra>",
         "legendgroup": "China",
         "line": {
          "color": "#00cc96",
          "dash": "solid"
         },
         "marker": {
          "symbol": "circle"
         },
         "mode": "lines",
         "name": "China",
         "showlegend": true,
         "type": "scattergl",
         "x": [
          2019,
          2018,
          2017,
          2016,
          2015,
          2014,
          2013,
          2012,
          2011,
          2010,
          2009,
          2008,
          2007,
          2006,
          2005,
          2004,
          2003,
          2002,
          2001,
          2000
         ],
         "xaxis": "x",
         "y": [
          250272,
          252225,
          254102,
          256180,
          258175,
          264944,
          274653,
          282962,
          286458,
          279005,
          280280,
          279173,
          282827,
          279093,
          278063,
          273248,
          279480,
          290780,
          286025,
          277382
         ],
         "yaxis": "y"
        },
        {
         "hovertemplate": "Location=Syrian Arab Republic<br>Period=%{x}<br>FactValueNumeric=%{y}<extra></extra>",
         "legendgroup": "Syrian Arab Republic",
         "line": {
          "color": "#ab63fa",
          "dash": "solid"
         },
         "marker": {
          "symbol": "circle"
         },
         "mode": "lines",
         "name": "Syrian Arab Republic",
         "showlegend": true,
         "type": "scattergl",
         "x": [
          2019,
          2018,
          2017,
          2016,
          2015,
          2014,
          2013,
          2012,
          2011,
          2010,
          2009,
          2008,
          2007,
          2006,
          2005,
          2004,
          2003,
          2002,
          2001,
          2000
         ],
         "xaxis": "x",
         "y": [
          2550,
          2903,
          2926,
          4806,
          4664,
          4645,
          4511,
          4517,
          4796,
          4813,
          4813,
          4728,
          4525,
          4299,
          4021,
          3893,
          3819,
          3550,
          3583,
          3614
         ],
         "yaxis": "y"
        },
        {
         "hovertemplate": "Location=Sierra Leone<br>Period=%{x}<br>FactValueNumeric=%{y}<extra></extra>",
         "legendgroup": "Sierra Leone",
         "line": {
          "color": "#FFA15A",
          "dash": "solid"
         },
         "marker": {
          "symbol": "circle"
         },
         "mode": "lines",
         "name": "Sierra Leone",
         "showlegend": true,
         "type": "scattergl",
         "x": [
          2019,
          2018,
          2017,
          2016,
          2015,
          2014,
          2013,
          2012,
          2011,
          2010,
          2009,
          2008,
          2007,
          2006,
          2005,
          2004,
          2003,
          2002,
          2001,
          2000
         ],
         "xaxis": "x",
         "y": [
          2581,
          2462,
          2347,
          2237,
          2177,
          2015,
          1952,
          1964,
          1969,
          1924,
          1911,
          1868,
          1837,
          1821,
          1781,
          1698,
          1629,
          1553,
          1537,
          1432
         ],
         "yaxis": "y"
        },
        {
         "hovertemplate": "Location=Pakistan<br>Period=%{x}<br>FactValueNumeric=%{y}<extra></extra>",
         "legendgroup": "Pakistan",
         "line": {
          "color": "#19d3f3",
          "dash": "solid"
         },
         "marker": {
          "symbol": "circle"
         },
         "mode": "lines",
         "name": "Pakistan",
         "showlegend": true,
         "type": "scattergl",
         "x": [
          2019,
          2018,
          2017,
          2016,
          2015,
          2014,
          2013,
          2012,
          2011,
          2010,
          2009,
          2008,
          2007,
          2006,
          2005,
          2004,
          2003,
          2002,
          2001,
          2000
         ],
         "xaxis": "x",
         "y": [
          28170,
          27898,
          27619,
          27582,
          26993,
          26457,
          26219,
          25919,
          27064,
          26356,
          25527,
          24430,
          23592,
          23052,
          23128,
          22541,
          21436,
          21066,
          20490,
          19857
         ],
         "yaxis": "y"
        },
        {
         "hovertemplate": "Location=Chile<br>Period=%{x}<br>FactValueNumeric=%{y}<extra></extra>",
         "legendgroup": "Chile",
         "line": {
          "color": "#FF6692",
          "dash": "solid"
         },
         "marker": {
          "symbol": "circle"
         },
         "mode": "lines",
         "name": "Chile",
         "showlegend": true,
         "type": "scattergl",
         "x": [
          2019,
          2018,
          2017,
          2016,
          2015,
          2014,
          2013,
          2012,
          2011,
          2010,
          2009,
          2008,
          2007,
          2006,
          2005,
          2004,
          2003,
          2002,
          2001,
          2000
         ],
         "xaxis": "x",
         "y": [
          2826,
          2620,
          2580,
          2245,
          2204,
          2184,
          2175,
          2041,
          2108,
          2137,
          2096,
          2388,
          2204,
          3055,
          2869,
          2856,
          2853,
          2506,
          2519,
          2751
         ],
         "yaxis": "y"
        },
        {
         "hovertemplate": "Location=Viet Nam<br>Period=%{x}<br>FactValueNumeric=%{y}<extra></extra>",
         "legendgroup": "Viet Nam",
         "line": {
          "color": "#B6E880",
          "dash": "solid"
         },
         "marker": {
          "symbol": "circle"
         },
         "mode": "lines",
         "name": "Viet Nam",
         "showlegend": true,
         "type": "scattergl",
         "x": [
          2019,
          2018,
          2017,
          2016,
          2015,
          2014,
          2013,
          2012,
          2011,
          2010,
          2009,
          2008,
          2007,
          2006,
          2005,
          2004,
          2003,
          2002,
          2001,
          2000
         ],
         "xaxis": "x",
         "y": [
          29475,
          27868,
          26338,
          24970,
          23582,
          22629,
          22681,
          22783,
          22520,
          22529,
          21420,
          21372,
          20780,
          20721,
          20661,
          20668,
          19916,
          19813,
          19507,
          19251
         ],
         "yaxis": "y"
        },
        {
         "hovertemplate": "Location=Republic of Moldova<br>Period=%{x}<br>FactValueNumeric=%{y}<extra></extra>",
         "legendgroup": "Republic of Moldova",
         "line": {
          "color": "#FF97FF",
          "dash": "solid"
         },
         "marker": {
          "symbol": "circle"
         },
         "mode": "lines",
         "name": "Republic of Moldova",
         "showlegend": true,
         "type": "scattergl",
         "x": [
          2019,
          2018,
          2017,
          2016,
          2015,
          2014,
          2013,
          2012,
          2011,
          2010,
          2009,
          2008,
          2007,
          2006,
          2005,
          2004,
          2003,
          2002,
          2001,
          2000
         ],
         "xaxis": "x",
         "y": [
          293.2,
          311.2,
          343.2,
          394,
          422,
          459,
          439,
          564,
          556,
          538,
          565,
          670,
          704,
          615,
          644,
          695,
          665,
          650,
          662,
          571
         ],
         "yaxis": "y"
        },
        {
         "hovertemplate": "Location=Democratic Republic of the Congo<br>Period=%{x}<br>FactValueNumeric=%{y}<extra></extra>",
         "legendgroup": "Democratic Republic of the Congo",
         "line": {
          "color": "#FECB52",
          "dash": "solid"
         },
         "marker": {
          "symbol": "circle"
         },
         "mode": "lines",
         "name": "Democratic Republic of the Congo",
         "showlegend": true,
         "type": "scattergl",
         "x": [
          2019,
          2018,
          2017,
          2016,
          2015,
          2014,
          2013,
          2012,
          2011,
          2010,
          2009,
          2008,
          2007,
          2006,
          2005,
          2004,
          2003,
          2002,
          2001,
          2000
         ],
         "xaxis": "x",
         "y": [
          30256,
          27709,
          27009,
          26529,
          25536,
          24786,
          24241,
          23497,
          23795,
          23258,
          22667,
          21598,
          21019,
          20716,
          20150,
          19391,
          19533,
          19214,
          18402,
          17950
         ],
         "yaxis": "y"
        },
        {
         "hovertemplate": "Location=Indonesia<br>Period=%{x}<br>FactValueNumeric=%{y}<extra></extra>",
         "legendgroup": "Indonesia",
         "line": {
          "color": "#636efa",
          "dash": "solid"
         },
         "marker": {
          "symbol": "circle"
         },
         "mode": "lines",
         "name": "Indonesia",
         "showlegend": true,
         "type": "scattergl",
         "x": [
          2019,
          2018,
          2017,
          2016,
          2015,
          2014,
          2013,
          2012,
          2011,
          2010,
          2009,
          2008,
          2007,
          2006,
          2005,
          2004,
          2003,
          2002,
          2001,
          2000
         ],
         "xaxis": "x",
         "y": [
          30668,
          31012,
          31347,
          31766,
          31718,
          32511,
          32488,
          32415,
          33730,
          33035,
          33175,
          31900,
          31754,
          32467,
          32359,
          32129,
          31928,
          32094,
          31348,
          30615
         ],
         "yaxis": "y"
        },
        {
         "hovertemplate": "Location=Bahamas<br>Period=%{x}<br>FactValueNumeric=%{y}<extra></extra>",
         "legendgroup": "Bahamas",
         "line": {
          "color": "#EF553B",
          "dash": "solid"
         },
         "marker": {
          "symbol": "circle"
         },
         "mode": "lines",
         "name": "Bahamas",
         "showlegend": true,
         "type": "scattergl",
         "x": [
          2019,
          2018,
          2017,
          2016,
          2015,
          2014,
          2013,
          2012,
          2011,
          2010,
          2009,
          2008,
          2007,
          2006,
          2005,
          2004,
          2003,
          2002,
          2001,
          2000
         ],
         "xaxis": "x",
         "y": [
          30.17,
          31.62,
          33.06,
          31,
          30.93,
          30.04,
          51.89,
          47.11,
          47.13,
          45.16,
          56.92,
          49.94,
          52.98,
          49.15,
          67.98,
          50.97,
          41.03,
          54.33,
          63.39,
          76.18
         ],
         "yaxis": "y"
        },
        {
         "hovertemplate": "Location=Ethiopia<br>Period=%{x}<br>FactValueNumeric=%{y}<extra></extra>",
         "legendgroup": "Ethiopia",
         "line": {
          "color": "#00cc96",
          "dash": "solid"
         },
         "marker": {
          "symbol": "circle"
         },
         "mode": "lines",
         "name": "Ethiopia",
         "showlegend": true,
         "type": "scattergl",
         "x": [
          2019,
          2018,
          2017,
          2016,
          2015,
          2014,
          2013,
          2012,
          2011,
          2010,
          2009,
          2008,
          2007,
          2006,
          2005,
          2004,
          2003,
          2002,
          2001,
          2000
         ],
         "xaxis": "x",
         "y": [
          31564,
          30105,
          28702,
          27326,
          26255,
          25330,
          24580,
          24323,
          23474,
          20423,
          20036,
          19388,
          18967,
          18786,
          18730,
          18427,
          18130,
          17292,
          16666,
          16300
         ],
         "yaxis": "y"
        },
        {
         "hovertemplate": "Location=Sweden<br>Period=%{x}<br>FactValueNumeric=%{y}<extra></extra>",
         "legendgroup": "Sweden",
         "line": {
          "color": "#ab63fa",
          "dash": "solid"
         },
         "marker": {
          "symbol": "circle"
         },
         "mode": "lines",
         "name": "Sweden",
         "showlegend": true,
         "type": "scattergl",
         "x": [
          2019,
          2018,
          2017,
          2016,
          2015,
          2014,
          2013,
          2012,
          2011,
          2010,
          2009,
          2008,
          2007,
          2006,
          2005,
          2004,
          2003,
          2002,
          2001,
          2000
         ],
         "xaxis": "x",
         "y": [
          315.1,
          360.7,
          270.1,
          307.7,
          313.1,
          307.7,
          301.2,
          331.4,
          319.7,
          285.1,
          383.4,
          441,
          484.9,
          483.3,
          476.3,
          501,
          540,
          563.6,
          626.8,
          598.3
         ],
         "yaxis": "y"
        },
        {
         "hovertemplate": "Location=Germany<br>Period=%{x}<br>FactValueNumeric=%{y}<extra></extra>",
         "legendgroup": "Germany",
         "line": {
          "color": "#FFA15A",
          "dash": "solid"
         },
         "marker": {
          "symbol": "circle"
         },
         "mode": "lines",
         "name": "Germany",
         "showlegend": true,
         "type": "scattergl",
         "x": [
          2019,
          2018,
          2017,
          2016,
          2015,
          2014,
          2013,
          2012,
          2011,
          2010,
          2009,
          2008,
          2007,
          2006,
          2005,
          2004,
          2003,
          2002,
          2001,
          2000
         ],
         "xaxis": "x",
         "y": [
          3160,
          3399,
          3301,
          3327,
          3566,
          3499,
          3559,
          3804,
          4260,
          3885,
          4320,
          4685,
          5166,
          5350,
          5625,
          6106,
          6842,
          7176,
          7287,
          7830
         ],
         "yaxis": "y"
        },
        {
         "hovertemplate": "Location=Benin<br>Period=%{x}<br>FactValueNumeric=%{y}<extra></extra>",
         "legendgroup": "Benin",
         "line": {
          "color": "#19d3f3",
          "dash": "solid"
         },
         "marker": {
          "symbol": "circle"
         },
         "mode": "lines",
         "name": "Benin",
         "showlegend": true,
         "type": "scattergl",
         "x": [
          2019,
          2018,
          2017,
          2016,
          2015,
          2014,
          2013,
          2012,
          2011,
          2010,
          2009,
          2008,
          2007,
          2006,
          2005,
          2004,
          2003,
          2002,
          2001,
          2000
         ],
         "xaxis": "x",
         "y": [
          3162,
          3090,
          3019,
          2986,
          2887,
          2781,
          2699,
          2661,
          2656,
          2595,
          2497,
          2404,
          2334,
          2313,
          2303,
          2167,
          2122,
          2092,
          2017,
          1952
         ],
         "yaxis": "y"
        },
        {
         "hovertemplate": "Location=Brunei Darussalam<br>Period=%{x}<br>FactValueNumeric=%{y}<extra></extra>",
         "legendgroup": "Brunei Darussalam",
         "line": {
          "color": "#FF6692",
          "dash": "solid"
         },
         "marker": {
          "symbol": "circle"
         },
         "mode": "lines",
         "name": "Brunei Darussalam",
         "showlegend": true,
         "type": "scattergl",
         "x": [
          2019,
          2018,
          2017,
          2016,
          2015,
          2014,
          2013,
          2012,
          2011,
          2010,
          2009,
          2008,
          2007,
          2006,
          2005,
          2004,
          2003,
          2002,
          2001,
          2000
         ],
         "xaxis": "x",
         "y": [
          32.3,
          33.28,
          34.28,
          38,
          37,
          35,
          39,
          36,
          48,
          30,
          44,
          40,
          66,
          47,
          52.68,
          45,
          31,
          52,
          66,
          53
         ],
         "yaxis": "y"
        },
        {
         "hovertemplate": "Location=Italy<br>Period=%{x}<br>FactValueNumeric=%{y}<extra></extra>",
         "legendgroup": "Italy",
         "line": {
          "color": "#B6E880",
          "dash": "solid"
         },
         "marker": {
          "symbol": "circle"
         },
         "mode": "lines",
         "name": "Italy",
         "showlegend": true,
         "type": "scattergl",
         "x": [
          2019,
          2018,
          2017,
          2016,
          2015,
          2014,
          2013,
          2012,
          2011,
          2010,
          2009,
          2008,
          2007,
          2006,
          2005,
          2004,
          2003,
          2002,
          2001,
          2000
         ],
         "xaxis": "x",
         "y": [
          3221,
          3384,
          3429,
          3333,
          3559,
          3529,
          3506,
          3902,
          4276,
          4343,
          4747,
          5229,
          5685,
          6007,
          5998,
          6312,
          6766,
          7626,
          7922,
          7898
         ],
         "yaxis": "y"
        },
        {
         "hovertemplate": "Location=Cambodia<br>Period=%{x}<br>FactValueNumeric=%{y}<extra></extra>",
         "legendgroup": "Cambodia",
         "line": {
          "color": "#FF97FF",
          "dash": "solid"
         },
         "marker": {
          "symbol": "circle"
         },
         "mode": "lines",
         "name": "Cambodia",
         "showlegend": true,
         "type": "scattergl",
         "x": [
          2019,
          2018,
          2017,
          2016,
          2015,
          2014,
          2013,
          2012,
          2011,
          2010,
          2009,
          2008,
          2007,
          2006,
          2005,
          2004,
          2003,
          2002,
          2001,
          2000
         ],
         "xaxis": "x",
         "y": [
          3223,
          3081,
          2944,
          2803,
          2696,
          2650,
          2576,
          2520,
          2612,
          2587,
          2520,
          2457,
          2379,
          2407,
          2375,
          2301,
          2267,
          2233,
          2187,
          2178
         ],
         "yaxis": "y"
        },
        {
         "hovertemplate": "Location=Croatia<br>Period=%{x}<br>FactValueNumeric=%{y}<extra></extra>",
         "legendgroup": "Croatia",
         "line": {
          "color": "#FECB52",
          "dash": "solid"
         },
         "marker": {
          "symbol": "circle"
         },
         "mode": "lines",
         "name": "Croatia",
         "showlegend": true,
         "type": "scattergl",
         "x": [
          2019,
          2018,
          2017,
          2016,
          2015,
          2014,
          2013,
          2012,
          2011,
          2010,
          2009,
          2008,
          2007,
          2006,
          2005,
          2004,
          2003,
          2002,
          2001,
          2000
         ],
         "xaxis": "x",
         "y": [
          328.2,
          350.7,
          365.7,
          340,
          392,
          347,
          395,
          412,
          479,
          455,
          565,
          685,
          638,
          633,
          616,
          627,
          723,
          646,
          667,
          675
         ],
         "yaxis": "y"
        },
        {
         "hovertemplate": "Location=Brazil<br>Period=%{x}<br>FactValueNumeric=%{y}<extra></extra>",
         "legendgroup": "Brazil",
         "line": {
          "color": "#636efa",
          "dash": "solid"
         },
         "marker": {
          "symbol": "circle"
         },
         "mode": "lines",
         "name": "Brazil",
         "showlegend": true,
         "type": "scattergl",
         "x": [
          2019,
          2018,
          2017,
          2016,
          2015,
          2014,
          2013,
          2012,
          2011,
          2010,
          2009,
          2008,
          2007,
          2006,
          2005,
          2004,
          2003,
          2002,
          2001,
          2000
         ],
         "xaxis": "x",
         "y": [
          33871,
          35857,
          38844,
          41007,
          42505,
          47902,
          46519,
          49476,
          48314,
          47537,
          43018,
          43304,
          42834,
          41075,
          41683,
          40908,
          38234,
          38072,
          35656,
          34451
         ],
         "yaxis": "y"
        },
        {
         "hovertemplate": "Location=Slovakia<br>Period=%{x}<br>FactValueNumeric=%{y}<extra></extra>",
         "legendgroup": "Slovakia",
         "line": {
          "color": "#EF553B",
          "dash": "solid"
         },
         "marker": {
          "symbol": "circle"
         },
         "mode": "lines",
         "name": "Slovakia",
         "showlegend": true,
         "type": "scattergl",
         "x": [
          2019,
          2018,
          2017,
          2016,
          2015,
          2014,
          2013,
          2012,
          2011,
          2010,
          2009,
          2008,
          2007,
          2006,
          2005,
          2004,
          2003,
          2002,
          2001,
          2000
         ],
         "xaxis": "x",
         "y": [
          331,
          334.8,
          339.3,
          343.6,
          347.4,
          355.9,
          283.6,
          428.2,
          473.3,
          484.2,
          516.5,
          779.8,
          673.6,
          752.4,
          738.9,
          780.3,
          824.8,
          770.9,
          814.6,
          816
         ],
         "yaxis": "y"
        },
        {
         "hovertemplate": "Location=Israel<br>Period=%{x}<br>FactValueNumeric=%{y}<extra></extra>",
         "legendgroup": "Israel",
         "line": {
          "color": "#00cc96",
          "dash": "solid"
         },
         "marker": {
          "symbol": "circle"
         },
         "mode": "lines",
         "name": "Israel",
         "showlegend": true,
         "type": "scattergl",
         "x": [
          2019,
          2018,
          2017,
          2016,
          2015,
          2014,
          2013,
          2012,
          2011,
          2010,
          2009,
          2008,
          2007,
          2006,
          2005,
          2004,
          2003,
          2002,
          2001,
          2000
         ],
         "xaxis": "x",
         "y": [
          333,
          285,
          331,
          345,
          332,
          279.3,
          286,
          271,
          352,
          363,
          320.5,
          416.1,
          394,
          427,
          462,
          495,
          465,
          535.6,
          559,
          475
         ],
         "yaxis": "y"
        },
        {
         "hovertemplate": "Location=France<br>Period=%{x}<br>FactValueNumeric=%{y}<extra></extra>",
         "legendgroup": "France",
         "line": {
          "color": "#ab63fa",
          "dash": "solid"
         },
         "marker": {
          "symbol": "circle"
         },
         "mode": "lines",
         "name": "France",
         "showlegend": true,
         "type": "scattergl",
         "x": [
          2019,
          2018,
          2017,
          2016,
          2015,
          2014,
          2013,
          2012,
          2011,
          2010,
          2009,
          2008,
          2007,
          2006,
          2005,
          2004,
          2003,
          2002,
          2001,
          2000
         ],
         "xaxis": "x",
         "y": [
          3339,
          3349,
          3555,
          3585,
          3568,
          3489,
          3369,
          3766,
          4086,
          4116,
          4405,
          4408,
          4763,
          4855,
          5483,
          5409,
          6064,
          7467,
          7959,
          7880
         ],
         "yaxis": "y"
        },
        {
         "hovertemplate": "Location=Albania<br>Period=%{x}<br>FactValueNumeric=%{y}<extra></extra>",
         "legendgroup": "Albania",
         "line": {
          "color": "#FFA15A",
          "dash": "solid"
         },
         "marker": {
          "symbol": "circle"
         },
         "mode": "lines",
         "name": "Albania",
         "showlegend": true,
         "type": "scattergl",
         "x": [
          2019,
          2018,
          2017,
          2016,
          2015,
          2014,
          2013,
          2012,
          2011,
          2010,
          2009,
          2008,
          2007,
          2006,
          2005,
          2004,
          2003,
          2002,
          2001,
          2000
         ],
         "xaxis": "x",
         "y": [
          337.1,
          316.9,
          329.9,
          399,
          398,
          394,
          403,
          403,
          419,
          415,
          428,
          435,
          449,
          456,
          461,
          455,
          457,
          453,
          454,
          449
         ],
         "yaxis": "y"
        },
        {
         "hovertemplate": "Location=Tonga<br>Period=%{x}<br>FactValueNumeric=%{y}<extra></extra>",
         "legendgroup": "Tonga",
         "line": {
          "color": "#19d3f3",
          "dash": "solid"
         },
         "marker": {
          "symbol": "circle"
         },
         "mode": "lines",
         "name": "Tonga",
         "showlegend": true,
         "type": "scattergl",
         "x": [
          2019,
          2018,
          2017,
          2016,
          2015,
          2014,
          2013,
          2012,
          2011,
          2010,
          2009,
          2008,
          2007,
          2006,
          2005,
          2004,
          2003,
          2002,
          2001,
          2000
         ],
         "xaxis": "x",
         "y": [
          34.43,
          24.67,
          17.68,
          18,
          7,
          6,
          8,
          8,
          9,
          6,
          11,
          18,
          14,
          15,
          14,
          13,
          13,
          13,
          13,
          13
         ],
         "yaxis": "y"
        },
        {
         "hovertemplate": "Location=Ecuador<br>Period=%{x}<br>FactValueNumeric=%{y}<extra></extra>",
         "legendgroup": "Ecuador",
         "line": {
          "color": "#FF6692",
          "dash": "solid"
         },
         "marker": {
          "symbol": "circle"
         },
         "mode": "lines",
         "name": "Ecuador",
         "showlegend": true,
         "type": "scattergl",
         "x": [
          2019,
          2018,
          2017,
          2016,
          2015,
          2014,
          2013,
          2012,
          2011,
          2010,
          2009,
          2008,
          2007,
          2006,
          2005,
          2004,
          2003,
          2002,
          2001,
          2000
         ],
         "xaxis": "x",
         "y": [
          3490,
          3537,
          3581,
          3490,
          3804,
          3825,
          3470,
          3445,
          3768,
          3682,
          3392,
          2893,
          2733,
          2594,
          2379,
          1873,
          2014,
          1973,
          1908,
          1713
         ],
         "yaxis": "y"
        },
        {
         "hovertemplate": "Location=Poland<br>Period=%{x}<br>FactValueNumeric=%{y}<extra></extra>",
         "legendgroup": "Poland",
         "line": {
          "color": "#B6E880",
          "dash": "solid"
         },
         "marker": {
          "symbol": "circle"
         },
         "mode": "lines",
         "name": "Poland",
         "showlegend": true,
         "type": "scattergl",
         "x": [
          2019,
          2018,
          2017,
          2016,
          2015,
          2014,
          2013,
          2012,
          2011,
          2010,
          2009,
          2008,
          2007,
          2006,
          2005,
          2004,
          2003,
          2002,
          2001,
          2000
         ],
         "xaxis": "x",
         "y": [
          3555,
          3497,
          3460,
          3698,
          3551,
          3947,
          4107,
          4236,
          4915,
          4594,
          5093,
          6353,
          6285,
          5786,
          6140,
          6486,
          6341,
          6623,
          6404,
          7170
         ],
         "yaxis": "y"
        },
        {
         "hovertemplate": "Location=Zambia<br>Period=%{x}<br>FactValueNumeric=%{y}<extra></extra>",
         "legendgroup": "Zambia",
         "line": {
          "color": "#FF97FF",
          "dash": "solid"
         },
         "marker": {
          "symbol": "circle"
         },
         "mode": "lines",
         "name": "Zambia",
         "showlegend": true,
         "type": "scattergl",
         "x": [
          2019,
          2018,
          2017,
          2016,
          2015,
          2014,
          2013,
          2012,
          2011,
          2010,
          2009,
          2008,
          2007,
          2006,
          2005,
          2004,
          2003,
          2002,
          2001,
          2000
         ],
         "xaxis": "x",
         "y": [
          3654,
          3559,
          3466,
          3472,
          3312,
          3170,
          3040,
          2957,
          2899,
          3217,
          3146,
          3066,
          3017,
          3029,
          3017,
          2993,
          2953,
          2954,
          2907,
          2850
         ],
         "yaxis": "y"
        },
        {
         "hovertemplate": "Location=Equatorial Guinea<br>Period=%{x}<br>FactValueNumeric=%{y}<extra></extra>",
         "legendgroup": "Equatorial Guinea",
         "line": {
          "color": "#FECB52",
          "dash": "solid"
         },
         "marker": {
          "symbol": "circle"
         },
         "mode": "lines",
         "name": "Equatorial Guinea",
         "showlegend": true,
         "type": "scattergl",
         "x": [
          2019,
          2018,
          2017,
          2016,
          2015,
          2014,
          2013,
          2012,
          2011,
          2010,
          2009,
          2008,
          2007,
          2006,
          2005,
          2004,
          2003,
          2002,
          2001,
          2000
         ],
         "xaxis": "x",
         "y": [
          368.5,
          344.1,
          321,
          300,
          278,
          258,
          239,
          229,
          210,
          196,
          174.7,
          165,
          156,
          153,
          150.5,
          141.6,
          142.6,
          133.6,
          129,
          134
         ],
         "yaxis": "y"
        },
        {
         "hovertemplate": "Location=Rwanda<br>Period=%{x}<br>FactValueNumeric=%{y}<extra></extra>",
         "legendgroup": "Rwanda",
         "line": {
          "color": "#636efa",
          "dash": "solid"
         },
         "marker": {
          "symbol": "circle"
         },
         "mode": "lines",
         "name": "Rwanda",
         "showlegend": true,
         "type": "scattergl",
         "x": [
          2019,
          2018,
          2017,
          2016,
          2015,
          2014,
          2013,
          2012,
          2011,
          2010,
          2009,
          2008,
          2007,
          2006,
          2005,
          2004,
          2003,
          2002,
          2001,
          2000
         ],
         "xaxis": "x",
         "y": [
          3718,
          3679,
          3639,
          3535,
          3435,
          3313,
          3500,
          3607,
          3500,
          3414,
          3340,
          3205,
          3215,
          3213,
          3274,
          3188,
          3155,
          3133,
          2994,
          3012
         ],
         "yaxis": "y"
        },
        {
         "hovertemplate": "Location=Guinea<br>Period=%{x}<br>FactValueNumeric=%{y}<extra></extra>",
         "legendgroup": "Guinea",
         "line": {
          "color": "#EF553B",
          "dash": "solid"
         },
         "marker": {
          "symbol": "circle"
         },
         "mode": "lines",
         "name": "Guinea",
         "showlegend": true,
         "type": "scattergl",
         "x": [
          2019,
          2018,
          2017,
          2016,
          2015,
          2014,
          2013,
          2012,
          2011,
          2010,
          2009,
          2008,
          2007,
          2006,
          2005,
          2004,
          2003,
          2002,
          2001,
          2000
         ],
         "xaxis": "x",
         "y": [
          3788,
          3690,
          3595,
          3490,
          3423,
          3324,
          3214,
          3134,
          3192,
          3160,
          3050,
          2990,
          2958,
          2856,
          2795,
          2729,
          2655,
          2592,
          2583,
          2562
         ],
         "yaxis": "y"
        },
        {
         "hovertemplate": "Location=Senegal<br>Period=%{x}<br>FactValueNumeric=%{y}<extra></extra>",
         "legendgroup": "Senegal",
         "line": {
          "color": "#00cc96",
          "dash": "solid"
         },
         "marker": {
          "symbol": "circle"
         },
         "mode": "lines",
         "name": "Senegal",
         "showlegend": true,
         "type": "scattergl",
         "x": [
          2019,
          2018,
          2017,
          2016,
          2015,
          2014,
          2013,
          2012,
          2011,
          2010,
          2009,
          2008,
          2007,
          2006,
          2005,
          2004,
          2003,
          2002,
          2001,
          2000
         ],
         "xaxis": "x",
         "y": [
          3832,
          3751,
          3670,
          3609,
          3508,
          3422,
          3389,
          3308,
          3345,
          3270,
          3145,
          3049,
          2975,
          2884,
          2747,
          2691,
          2652,
          2538,
          2468,
          2431
         ],
         "yaxis": "y"
        },
        {
         "hovertemplate": "Location=Eswatini<br>Period=%{x}<br>FactValueNumeric=%{y}<extra></extra>",
         "legendgroup": "Eswatini",
         "line": {
          "color": "#ab63fa",
          "dash": "solid"
         },
         "marker": {
          "symbol": "circle"
         },
         "mode": "lines",
         "name": "Eswatini",
         "showlegend": true,
         "type": "scattergl",
         "x": [
          2019,
          2018,
          2017,
          2016,
          2015,
          2014,
          2013,
          2012,
          2011,
          2010,
          2009,
          2008,
          2007,
          2006,
          2005,
          2004,
          2003,
          2002,
          2001,
          2000
         ],
         "xaxis": "x",
         "y": [
          384.3,
          375,
          366.5,
          361,
          348,
          341,
          334,
          329,
          332,
          320.2,
          313.6,
          304,
          300.1,
          295.9,
          308.4,
          312.1,
          307.3,
          301.2,
          303.2,
          300.2
         ],
         "yaxis": "y"
        },
        {
         "hovertemplate": "Location=Uzbekistan<br>Period=%{x}<br>FactValueNumeric=%{y}<extra></extra>",
         "legendgroup": "Uzbekistan",
         "line": {
          "color": "#FFA15A",
          "dash": "solid"
         },
         "marker": {
          "symbol": "circle"
         },
         "mode": "lines",
         "name": "Uzbekistan",
         "showlegend": true,
         "type": "scattergl",
         "x": [
          2019,
          2018,
          2017,
          2016,
          2015,
          2014,
          2013,
          2012,
          2011,
          2010,
          2009,
          2008,
          2007,
          2006,
          2005,
          2004,
          2003,
          2002,
          2001,
          2000
         ],
         "xaxis": "x",
         "y": [
          3853,
          3326,
          3585,
          3617,
          3694,
          3306,
          3482,
          3045,
          3262,
          3216,
          3611,
          2928,
          2790,
          2669,
          3397,
          3346,
          2555,
          2098,
          2404,
          2413
         ],
         "yaxis": "y"
        },
        {
         "hovertemplate": "Location=Guatemala<br>Period=%{x}<br>FactValueNumeric=%{y}<extra></extra>",
         "legendgroup": "Guatemala",
         "line": {
          "color": "#19d3f3",
          "dash": "solid"
         },
         "marker": {
          "symbol": "circle"
         },
         "mode": "lines",
         "name": "Guatemala",
         "showlegend": true,
         "type": "scattergl",
         "x": [
          2019,
          2018,
          2017,
          2016,
          2015,
          2014,
          2013,
          2012,
          2011,
          2010,
          2009,
          2008,
          2007,
          2006,
          2005,
          2004,
          2003,
          2002,
          2001,
          2000
         ],
         "xaxis": "x",
         "y": [
          4026,
          3512,
          3063,
          2758,
          2275,
          2044,
          2038,
          1757,
          1639,
          1958,
          2243,
          2329,
          2752,
          618,
          573,
          634,
          610,
          589,
          670,
          798
         ],
         "yaxis": "y"
        },
        {
         "hovertemplate": "Location=South Sudan<br>Period=%{x}<br>FactValueNumeric=%{y}<extra></extra>",
         "legendgroup": "South Sudan",
         "line": {
          "color": "#FF6692",
          "dash": "solid"
         },
         "marker": {
          "symbol": "circle"
         },
         "mode": "lines",
         "name": "South Sudan",
         "showlegend": true,
         "type": "scattergl",
         "x": [
          2019,
          2018,
          2017,
          2016,
          2015,
          2014,
          2013,
          2012,
          2011,
          2010,
          2009,
          2008,
          2007,
          2006,
          2005,
          2004,
          2003,
          2002,
          2001,
          2000
         ],
         "xaxis": "x",
         "y": [
          4063,
          3924,
          3785,
          3661,
          3543,
          3364,
          3228,
          3132,
          2692,
          2407,
          2194,
          2010,
          1798,
          1678,
          1573,
          1477,
          1384,
          1316,
          1252,
          1193
         ],
         "yaxis": "y"
        },
        {
         "hovertemplate": "Location=Burundi<br>Period=%{x}<br>FactValueNumeric=%{y}<extra></extra>",
         "legendgroup": "Burundi",
         "line": {
          "color": "#B6E880",
          "dash": "solid"
         },
         "marker": {
          "symbol": "circle"
         },
         "mode": "lines",
         "name": "Burundi",
         "showlegend": true,
         "type": "scattergl",
         "x": [
          2019,
          2018,
          2017,
          2016,
          2015,
          2014,
          2013,
          2012,
          2011,
          2010,
          2009,
          2008,
          2007,
          2006,
          2005,
          2004,
          2003,
          2002,
          2001,
          2000
         ],
         "xaxis": "x",
         "y": [
          4089,
          3929,
          3774,
          3651,
          3498,
          3307,
          3225,
          3127,
          2952,
          2878,
          2774,
          2684,
          2623,
          2522,
          2203,
          2119,
          2060,
          1962,
          1968,
          1936
         ],
         "yaxis": "y"
        },
        {
         "hovertemplate": "Location=Nigeria<br>Period=%{x}<br>FactValueNumeric=%{y}<extra></extra>",
         "legendgroup": "Nigeria",
         "line": {
          "color": "#FF97FF",
          "dash": "solid"
         },
         "marker": {
          "symbol": "circle"
         },
         "mode": "lines",
         "name": "Nigeria",
         "showlegend": true,
         "type": "scattergl",
         "x": [
          2019,
          2018,
          2017,
          2016,
          2015,
          2014,
          2013,
          2012,
          2011,
          2010,
          2009,
          2008,
          2007,
          2006,
          2005,
          2004,
          2003,
          2002,
          2001,
          2000
         ],
         "xaxis": "x",
         "y": [
          41693,
          41008,
          40325,
          39802,
          38749,
          38703,
          37831,
          36948,
          36572,
          39757,
          38996,
          37759,
          37853,
          37662,
          37445,
          37400,
          37774,
          38361,
          37094,
          35748
         ],
         "yaxis": "y"
        },
        {
         "hovertemplate": "Location=United States of America<br>Period=%{x}<br>FactValueNumeric=%{y}<extra></extra>",
         "legendgroup": "United States of America",
         "line": {
          "color": "#FECB52",
          "dash": "solid"
         },
         "marker": {
          "symbol": "circle"
         },
         "mode": "lines",
         "name": "United States of America",
         "showlegend": true,
         "type": "scattergl",
         "x": [
          2019,
          2018,
          2017,
          2016,
          2015,
          2014,
          2013,
          2012,
          2011,
          2010,
          2009,
          2008,
          2007,
          2006,
          2005,
          2004,
          2003,
          2002,
          2001,
          2000
         ],
         "xaxis": "x",
         "y": [
          41694,
          41053,
          41550,
          41555,
          38705,
          36061,
          36174,
          37405,
          36128,
          36153,
          37139,
          40721,
          44863,
          46474,
          46394,
          46158,
          46286,
          46575,
          44676,
          44148
         ],
         "yaxis": "y"
        },
        {
         "hovertemplate": "Location=Sri Lanka<br>Period=%{x}<br>FactValueNumeric=%{y}<extra></extra>",
         "legendgroup": "Sri Lanka",
         "line": {
          "color": "#636efa",
          "dash": "solid"
         },
         "marker": {
          "symbol": "circle"
         },
         "mode": "lines",
         "name": "Sri Lanka",
         "showlegend": true,
         "type": "scattergl",
         "x": [
          2019,
          2018,
          2017,
          2016,
          2015,
          2014,
          2013,
          2012,
          2011,
          2010,
          2009,
          2008,
          2007,
          2006,
          2005,
          2004,
          2003,
          2002,
          2001,
          2000
         ],
         "xaxis": "x",
         "y": [
          4200,
          3798,
          3434,
          3096,
          2904,
          2516,
          2610,
          2643,
          2885,
          2875,
          2884,
          2841,
          2861,
          2834,
          2903,
          2849,
          2890,
          2880,
          2885,
          2842
         ],
         "yaxis": "y"
        },
        {
         "hovertemplate": "Location=Somalia<br>Period=%{x}<br>FactValueNumeric=%{y}<extra></extra>",
         "legendgroup": "Somalia",
         "line": {
          "color": "#EF553B",
          "dash": "solid"
         },
         "marker": {
          "symbol": "circle"
         },
         "mode": "lines",
         "name": "Somalia",
         "showlegend": true,
         "type": "scattergl",
         "x": [
          2019,
          2018,
          2017,
          2016,
          2015,
          2014,
          2013,
          2012,
          2011,
          2010,
          2009,
          2008,
          2007,
          2006,
          2005,
          2004,
          2003,
          2002,
          2001,
          2000
         ],
         "xaxis": "x",
         "y": [
          4231,
          4111,
          3994,
          3884,
          3749,
          3654,
          3525,
          3442,
          3434,
          3334,
          3217,
          3144,
          3014,
          2954,
          2857,
          2804,
          2672,
          2484,
          2480,
          2453
         ],
         "yaxis": "y"
        },
        {
         "hovertemplate": "Location=Austria<br>Period=%{x}<br>FactValueNumeric=%{y}<extra></extra>",
         "legendgroup": "Austria",
         "line": {
          "color": "#00cc96",
          "dash": "solid"
         },
         "marker": {
          "symbol": "circle"
         },
         "mode": "lines",
         "name": "Austria",
         "showlegend": true,
         "type": "scattergl",
         "x": [
          2019,
          2018,
          2017,
          2016,
          2015,
          2014,
          2013,
          2012,
          2011,
          2010,
          2009,
          2008,
          2007,
          2006,
          2005,
          2004,
          2003,
          2002,
          2001,
          2000
         ],
         "xaxis": "x",
         "y": [
          435.7,
          428.6,
          433.7,
          452,
          494,
          443,
          469,
          547,
          539,
          569,
          653,
          700,
          712,
          753,
          792,
          905,
          960,
          986,
          988,
          1006
         ],
         "yaxis": "y"
        },
        {
         "hovertemplate": "Location=Republic of Korea<br>Period=%{x}<br>FactValueNumeric=%{y}<extra></extra>",
         "legendgroup": "Republic of Korea",
         "line": {
          "color": "#ab63fa",
          "dash": "solid"
         },
         "marker": {
          "symbol": "circle"
         },
         "mode": "lines",
         "name": "Republic of Korea",
         "showlegend": true,
         "type": "scattergl",
         "x": [
          2019,
          2018,
          2017,
          2016,
          2015,
          2014,
          2013,
          2012,
          2011,
          2010,
          2009,
          2008,
          2007,
          2006,
          2005,
          2004,
          2003,
          2002,
          2001,
          2000
         ],
         "xaxis": "x",
         "y": [
          4399,
          4396,
          4866,
          4990,
          5396,
          5502,
          5930,
          6360,
          6372,
          6793,
          7263,
          7369,
          7527,
          7771,
          7840,
          8066,
          9075,
          8905,
          9998,
          12141
         ],
         "yaxis": "y"
        },
        {
         "hovertemplate": "Location=Vanuatu<br>Period=%{x}<br>FactValueNumeric=%{y}<extra></extra>",
         "legendgroup": "Vanuatu",
         "line": {
          "color": "#FFA15A",
          "dash": "solid"
         },
         "marker": {
          "symbol": "circle"
         },
         "mode": "lines",
         "name": "Vanuatu",
         "showlegend": true,
         "type": "scattergl",
         "x": [
          2019,
          2018,
          2017,
          2016,
          2015,
          2014,
          2013,
          2012,
          2011,
          2010,
          2009,
          2008,
          2007,
          2006,
          2005,
          2004,
          2003,
          2002,
          2001,
          2000
         ],
         "xaxis": "x",
         "y": [
          44.57,
          44.1,
          43.61,
          43,
          42,
          39,
          34,
          33,
          33,
          32,
          31,
          30,
          30,
          29,
          29,
          29,
          29.12,
          28,
          27,
          26
         ],
         "yaxis": "y"
        },
        {
         "hovertemplate": "Location=Peru<br>Period=%{x}<br>FactValueNumeric=%{y}<extra></extra>",
         "legendgroup": "Peru",
         "line": {
          "color": "#19d3f3",
          "dash": "solid"
         },
         "marker": {
          "symbol": "circle"
         },
         "mode": "lines",
         "name": "Peru",
         "showlegend": true,
         "type": "scattergl",
         "x": [
          2019,
          2018,
          2017,
          2016,
          2015,
          2014,
          2013,
          2012,
          2011,
          2010,
          2009,
          2008,
          2007,
          2006,
          2005,
          2004,
          2003,
          2002,
          2001,
          2000
         ],
         "xaxis": "x",
         "y": [
          4414,
          4384,
          4349,
          4286,
          4221,
          4078,
          4167,
          4300,
          4732,
          3827,
          4346,
          4675,
          4703,
          4665,
          4425,
          4242,
          3827,
          3925,
          4299,
          4178
         ],
         "yaxis": "y"
        },
        {
         "hovertemplate": "Location=Jamaica<br>Period=%{x}<br>FactValueNumeric=%{y}<extra></extra>",
         "legendgroup": "Jamaica",
         "line": {
          "color": "#FF6692",
          "dash": "solid"
         },
         "marker": {
          "symbol": "circle"
         },
         "mode": "lines",
         "name": "Jamaica",
         "showlegend": true,
         "type": "scattergl",
         "x": [
          2019,
          2018,
          2017,
          2016,
          2015,
          2014,
          2013,
          2012,
          2011,
          2010,
          2009,
          2008,
          2007,
          2006,
          2005,
          2004,
          2003,
          2002,
          2001,
          2000
         ],
         "xaxis": "x",
         "y": [
          444,
          419,
          394.3,
          380.7,
          383.8,
          330.7,
          306.4,
          258.8,
          365.5,
          320.2,
          354.8,
          343.7,
          350.2,
          387.8,
          339.2,
          337.6,
          369.4,
          390.1,
          359.7,
          332.3
         ],
         "yaxis": "y"
        },
        {
         "hovertemplate": "Location=Bosnia and Herzegovina<br>Period=%{x}<br>FactValueNumeric=%{y}<extra></extra>",
         "legendgroup": "Bosnia and Herzegovina",
         "line": {
          "color": "#B6E880",
          "dash": "solid"
         },
         "marker": {
          "symbol": "circle"
         },
         "mode": "lines",
         "name": "Bosnia and Herzegovina",
         "showlegend": true,
         "type": "scattergl",
         "x": [
          2019,
          2018,
          2017,
          2016,
          2015,
          2014,
          2013,
          2012,
          2011,
          2010,
          2009,
          2008,
          2007,
          2006,
          2005,
          2004,
          2003,
          2002,
          2001,
          2000
         ],
         "xaxis": "x",
         "y": [
          446,
          472.9,
          523.4,
          552,
          543,
          538,
          544,
          564,
          545,
          627,
          638,
          643,
          657,
          661,
          670,
          683,
          691,
          695,
          708,
          713
         ],
         "yaxis": "y"
        },
        {
         "hovertemplate": "Location=Mali<br>Period=%{x}<br>FactValueNumeric=%{y}<extra></extra>",
         "legendgroup": "Mali",
         "line": {
          "color": "#FF97FF",
          "dash": "solid"
         },
         "marker": {
          "symbol": "circle"
         },
         "mode": "lines",
         "name": "Mali",
         "showlegend": true,
         "type": "scattergl",
         "x": [
          2019,
          2018,
          2017,
          2016,
          2015,
          2014,
          2013,
          2012,
          2011,
          2010,
          2009,
          2008,
          2007,
          2006,
          2005,
          2004,
          2003,
          2002,
          2001,
          2000
         ],
         "xaxis": "x",
         "y": [
          4465,
          4359,
          4256,
          4159,
          4054,
          3966,
          3893,
          3784,
          3728,
          3643,
          3533,
          3382,
          3247,
          3156,
          3085,
          3026,
          2940,
          2880,
          2800,
          2798
         ],
         "yaxis": "y"
        },
        {
         "hovertemplate": "Location=Ukraine<br>Period=%{x}<br>FactValueNumeric=%{y}<extra></extra>",
         "legendgroup": "Ukraine",
         "line": {
          "color": "#FECB52",
          "dash": "solid"
         },
         "marker": {
          "symbol": "circle"
         },
         "mode": "lines",
         "name": "Ukraine",
         "showlegend": true,
         "type": "scattergl",
         "x": [
          2019,
          2018,
          2017,
          2016,
          2015,
          2014,
          2013,
          2012,
          2011,
          2010,
          2009,
          2008,
          2007,
          2006,
          2005,
          2004,
          2003,
          2002,
          2001,
          2000
         ],
         "xaxis": "x",
         "y": [
          4487,
          4429,
          4599,
          6089,
          5797,
          6201,
          6596,
          7060,
          6926,
          7066,
          7836,
          11452,
          13674,
          11790,
          11797,
          9719,
          9581,
          9358,
          8605,
          6646
         ],
         "yaxis": "y"
        },
        {
         "hovertemplate": "Location=Japan<br>Period=%{x}<br>FactValueNumeric=%{y}<extra></extra>",
         "legendgroup": "Japan",
         "line": {
          "color": "#636efa",
          "dash": "solid"
         },
         "marker": {
          "symbol": "circle"
         },
         "mode": "lines",
         "name": "Japan",
         "showlegend": true,
         "type": "scattergl",
         "x": [
          2019,
          2018,
          2017,
          2016,
          2015,
          2014,
          2013,
          2012,
          2011,
          2010,
          2009,
          2008,
          2007,
          2006,
          2005,
          2004,
          2003,
          2002,
          2001,
          2000
         ],
         "xaxis": "x",
         "y": [
          4566,
          4648,
          4944,
          5224,
          5395,
          5417,
          5781,
          6117,
          6381,
          6844,
          6888,
          7101,
          7945,
          10981,
          12040,
          12930,
          13526,
          14504,
          15414,
          15911
         ],
         "yaxis": "y"
        },
        {
         "hovertemplate": "Location=New Zealand<br>Period=%{x}<br>FactValueNumeric=%{y}<extra></extra>",
         "legendgroup": "New Zealand",
         "line": {
          "color": "#EF553B",
          "dash": "solid"
         },
         "marker": {
          "symbol": "circle"
         },
         "mode": "lines",
         "name": "New Zealand",
         "showlegend": true,
         "type": "scattergl",
         "x": [
          2019,
          2018,
          2017,
          2016,
          2015,
          2014,
          2013,
          2012,
          2011,
          2010,
          2009,
          2008,
          2007,
          2006,
          2005,
          2004,
          2003,
          2002,
          2001,
          2000
         ],
         "xaxis": "x",
         "y": [
          458,
          420.2,
          421.2,
          364,
          356,
          327,
          279,
          340,
          323,
          407,
          415,
          392,
          443,
          421,
          424,
          457,
          491,
          449,
          469,
          476
         ],
         "yaxis": "y"
        },
        {
         "hovertemplate": "Location=Nepal<br>Period=%{x}<br>FactValueNumeric=%{y}<extra></extra>",
         "legendgroup": "Nepal",
         "line": {
          "color": "#00cc96",
          "dash": "solid"
         },
         "marker": {
          "symbol": "circle"
         },
         "mode": "lines",
         "name": "Nepal",
         "showlegend": true,
         "type": "scattergl",
         "x": [
          2019,
          2018,
          2017,
          2016,
          2015,
          2014,
          2013,
          2012,
          2011,
          2010,
          2009,
          2008,
          2007,
          2006,
          2005,
          2004,
          2003,
          2002,
          2001,
          2000
         ],
         "xaxis": "x",
         "y": [
          4654,
          4561,
          4476,
          4622,
          4404,
          4288,
          4238,
          4238,
          4347,
          4255,
          4226,
          4230,
          4212,
          4147,
          4124,
          4038,
          3865,
          3779,
          3726,
          3717
         ],
         "yaxis": "y"
        },
        {
         "hovertemplate": "Location=Montenegro<br>Period=%{x}<br>FactValueNumeric=%{y}<extra></extra>",
         "legendgroup": "Montenegro",
         "line": {
          "color": "#ab63fa",
          "dash": "solid"
         },
         "marker": {
          "symbol": "circle"
         },
         "mode": "lines",
         "name": "Montenegro",
         "showlegend": true,
         "type": "scattergl",
         "x": [
          2019,
          2018,
          2017,
          2016,
          2015,
          2014,
          2013,
          2012,
          2011,
          2010,
          2009,
          2008,
          2007,
          2006,
          2005,
          2004,
          2003,
          2002,
          2001,
          2000
         ],
         "xaxis": "x",
         "y": [
          48,
          49,
          65,
          67,
          53,
          67,
          76,
          47,
          60,
          98,
          103,
          115,
          126,
          88,
          98,
          94,
          87,
          84,
          108,
          87
         ],
         "yaxis": "y"
        },
        {
         "hovertemplate": "Location=Georgia<br>Period=%{x}<br>FactValueNumeric=%{y}<extra></extra>",
         "legendgroup": "Georgia",
         "line": {
          "color": "#FFA15A",
          "dash": "solid"
         },
         "marker": {
          "symbol": "circle"
         },
         "mode": "lines",
         "name": "Georgia",
         "showlegend": true,
         "type": "scattergl",
         "x": [
          2019,
          2018,
          2017,
          2016,
          2015,
          2014,
          2013,
          2012,
          2011,
          2010,
          2009,
          2008,
          2007,
          2006,
          2005,
          2004,
          2003,
          2002,
          2001,
          2000
         ],
         "xaxis": "x",
         "y": [
          496,
          473,
          533,
          599,
          634,
          585,
          530,
          624,
          542,
          706,
          764,
          894,
          760,
          696,
          599,
          657,
          591,
          531,
          575,
          516
         ],
         "yaxis": "y"
        },
        {
         "hovertemplate": "Location=Uruguay<br>Period=%{x}<br>FactValueNumeric=%{y}<extra></extra>",
         "legendgroup": "Uruguay",
         "line": {
          "color": "#19d3f3",
          "dash": "solid"
         },
         "marker": {
          "symbol": "circle"
         },
         "mode": "lines",
         "name": "Uruguay",
         "showlegend": true,
         "type": "scattergl",
         "x": [
          2019,
          2018,
          2017,
          2016,
          2015,
          2014,
          2013,
          2012,
          2011,
          2010,
          2009,
          2008,
          2007,
          2006,
          2005,
          2004,
          2003,
          2002,
          2001,
          2000
         ],
         "xaxis": "x",
         "y": [
          511.6,
          544,
          485,
          460,
          522,
          555,
          585,
          527,
          590,
          573,
          552,
          531,
          479,
          481,
          424,
          462,
          406,
          410,
          518,
          559
         ],
         "yaxis": "y"
        },
        {
         "hovertemplate": "Location=Chad<br>Period=%{x}<br>FactValueNumeric=%{y}<extra></extra>",
         "legendgroup": "Chad",
         "line": {
          "color": "#FF6692",
          "dash": "solid"
         },
         "marker": {
          "symbol": "circle"
         },
         "mode": "lines",
         "name": "Chad",
         "showlegend": true,
         "type": "scattergl",
         "x": [
          2019,
          2018,
          2017,
          2016,
          2015,
          2014,
          2013,
          2012,
          2011,
          2010,
          2009,
          2008,
          2007,
          2006,
          2005,
          2004,
          2003,
          2002,
          2001,
          2000
         ],
         "xaxis": "x",
         "y": [
          5171,
          4740,
          4342,
          3990,
          3630,
          3365,
          3172,
          3028,
          3063,
          2948,
          2882,
          2791,
          2658,
          2560,
          2500,
          2439,
          2478,
          2384,
          2307,
          2252
         ],
         "yaxis": "y"
        },
        {
         "hovertemplate": "Location=Gabon<br>Period=%{x}<br>FactValueNumeric=%{y}<extra></extra>",
         "legendgroup": "Gabon",
         "line": {
          "color": "#B6E880",
          "dash": "solid"
         },
         "marker": {
          "symbol": "circle"
         },
         "mode": "lines",
         "name": "Gabon",
         "showlegend": true,
         "type": "scattergl",
         "x": [
          2019,
          2018,
          2017,
          2016,
          2015,
          2014,
          2013,
          2012,
          2011,
          2010,
          2009,
          2008,
          2007,
          2006,
          2005,
          2004,
          2003,
          2002,
          2001,
          2000
         ],
         "xaxis": "x",
         "y": [
          518.4,
          503.7,
          493.7,
          463.6,
          446,
          429.3,
          429.5,
          421,
          409.5,
          394,
          395.4,
          368,
          367.3,
          343.4,
          311.1,
          339.8,
          305.4,
          302.3,
          295.6,
          261
         ],
         "yaxis": "y"
        },
        {
         "hovertemplate": "Location=Oman<br>Period=%{x}<br>FactValueNumeric=%{y}<extra></extra>",
         "legendgroup": "Oman",
         "line": {
          "color": "#FF97FF",
          "dash": "solid"
         },
         "marker": {
          "symbol": "circle"
         },
         "mode": "lines",
         "name": "Oman",
         "showlegend": true,
         "type": "scattergl",
         "x": [
          2019,
          2018,
          2017,
          2016,
          2015,
          2014,
          2013,
          2012,
          2011,
          2010,
          2009,
          2008,
          2007,
          2006,
          2005,
          2004,
          2003,
          2002,
          2001,
          2000
         ],
         "xaxis": "x",
         "y": [
          527,
          657,
          660,
          713,
          696,
          841,
          941,
          1174,
          1089,
          845,
          1020,
          980,
          823,
          702,
          710,
          657,
          596,
          598,
          514,
          507
         ],
         "yaxis": "y"
        },
        {
         "hovertemplate": "Location=Saint Lucia<br>Period=%{x}<br>FactValueNumeric=%{y}<extra></extra>",
         "legendgroup": "Saint Lucia",
         "line": {
          "color": "#FECB52",
          "dash": "solid"
         },
         "marker": {
          "symbol": "circle"
         },
         "mode": "lines",
         "name": "Saint Lucia",
         "showlegend": true,
         "type": "scattergl",
         "x": [
          2019,
          2018,
          2017,
          2016,
          2015,
          2014,
          2013,
          2012,
          2011,
          2010,
          2009,
          2008,
          2007,
          2006,
          2005,
          2004,
          2003,
          2002,
          2001,
          2000
         ],
         "xaxis": "x",
         "y": [
          54.55,
          48.52,
          43.15,
          63,
          34,
          23,
          32,
          16,
          43,
          16.82,
          31.66,
          6,
          28,
          10,
          22,
          33,
          28,
          38,
          25,
          31
         ],
         "yaxis": "y"
        },
        {
         "hovertemplate": "Location=Türkiye<br>Period=%{x}<br>FactValueNumeric=%{y}<extra></extra>",
         "legendgroup": "Türkiye",
         "line": {
          "color": "#636efa",
          "dash": "solid"
         },
         "marker": {
          "symbol": "circle"
         },
         "mode": "lines",
         "name": "Türkiye",
         "showlegend": true,
         "type": "scattergl",
         "x": [
          2019,
          2018,
          2017,
          2016,
          2015,
          2014,
          2013,
          2012,
          2011,
          2010,
          2009,
          2008,
          2007,
          2006,
          2005,
          2004,
          2003,
          2002,
          2001,
          2000
         ],
         "xaxis": "x",
         "y": [
          5573,
          6882,
          7657,
          7526,
          7763,
          7450,
          7825,
          7953,
          8089,
          4935,
          4458,
          4367,
          5162,
          4777,
          4645,
          4564,
          4360,
          4429,
          4522,
          5681
         ],
         "yaxis": "y"
        },
        {
         "hovertemplate": "Location=Estonia<br>Period=%{x}<br>FactValueNumeric=%{y}<extra></extra>",
         "legendgroup": "Estonia",
         "line": {
          "color": "#EF553B",
          "dash": "solid"
         },
         "marker": {
          "symbol": "circle"
         },
         "mode": "lines",
         "name": "Estonia",
         "showlegend": true,
         "type": "scattergl",
         "x": [
          2019,
          2018,
          2017,
          2016,
          2015,
          2014,
          2013,
          2012,
          2011,
          2010,
          2009,
          2008,
          2007,
          2006,
          2005,
          2004,
          2003,
          2002,
          2001,
          2000
         ],
         "xaxis": "x",
         "y": [
          59.18,
          75.62,
          53.7,
          80,
          84,
          80,
          94,
          90,
          108,
          90,
          117,
          166,
          229,
          261,
          199,
          189,
          187,
          231,
          222,
          247
         ],
         "yaxis": "y"
        },
        {
         "hovertemplate": "Location=Armenia<br>Period=%{x}<br>FactValueNumeric=%{y}<extra></extra>",
         "legendgroup": "Armenia",
         "line": {
          "color": "#00cc96",
          "dash": "solid"
         },
         "marker": {
          "symbol": "circle"
         },
         "mode": "lines",
         "name": "Armenia",
         "showlegend": true,
         "type": "scattergl",
         "x": [
          2019,
          2018,
          2017,
          2016,
          2015,
          2014,
          2013,
          2012,
          2011,
          2010,
          2009,
          2008,
          2007,
          2006,
          2005,
          2004,
          2003,
          2002,
          2001,
          2000
         ],
         "xaxis": "x",
         "y": [
          590.1,
          601.8,
          482.8,
          461,
          490,
          485,
          486,
          491,
          510,
          519,
          516,
          504,
          515,
          528,
          546,
          554,
          558,
          579,
          594,
          603
         ],
         "yaxis": "y"
        },
        {
         "hovertemplate": "Location=Panama<br>Period=%{x}<br>FactValueNumeric=%{y}<extra></extra>",
         "legendgroup": "Panama",
         "line": {
          "color": "#ab63fa",
          "dash": "solid"
         },
         "marker": {
          "symbol": "circle"
         },
         "mode": "lines",
         "name": "Panama",
         "showlegend": true,
         "type": "scattergl",
         "x": [
          2019,
          2018,
          2017,
          2016,
          2015,
          2014,
          2013,
          2012,
          2011,
          2010,
          2009,
          2008,
          2007,
          2006,
          2005,
          2004,
          2003,
          2002,
          2001,
          2000
         ],
         "xaxis": "x",
         "y": [
          591.2,
          580.2,
          550.9,
          575,
          565,
          554,
          494,
          532,
          519,
          481,
          485,
          541,
          506,
          544,
          459,
          454,
          495,
          495,
          477,
          468
         ],
         "yaxis": "y"
        },
        {
         "hovertemplate": "Location=Niger<br>Period=%{x}<br>FactValueNumeric=%{y}<extra></extra>",
         "legendgroup": "Niger",
         "line": {
          "color": "#FFA15A",
          "dash": "solid"
         },
         "marker": {
          "symbol": "circle"
         },
         "mode": "lines",
         "name": "Niger",
         "showlegend": true,
         "type": "scattergl",
         "x": [
          2019,
          2018,
          2017,
          2016,
          2015,
          2014,
          2013,
          2012,
          2011,
          2010,
          2009,
          2008,
          2007,
          2006,
          2005,
          2004,
          2003,
          2002,
          2001,
          2000
         ],
         "xaxis": "x",
         "y": [
          5946,
          5758,
          5575,
          5414,
          5215,
          5017,
          4824,
          4659,
          4679,
          4489,
          4324,
          4146,
          4012,
          3905,
          3752,
          3663,
          3542,
          3449,
          3302,
          3222
         ],
         "yaxis": "y"
        },
        {
         "hovertemplate": "Location=Iceland<br>Period=%{x}<br>FactValueNumeric=%{y}<extra></extra>",
         "legendgroup": "Iceland",
         "line": {
          "color": "#19d3f3",
          "dash": "solid"
         },
         "marker": {
          "symbol": "circle"
         },
         "mode": "lines",
         "name": "Iceland",
         "showlegend": true,
         "type": "scattergl",
         "x": [
          2019,
          2018,
          2017,
          2016,
          2015,
          2014,
          2013,
          2012,
          2011,
          2010,
          2009,
          2008,
          2007,
          2006,
          2005,
          2004,
          2003,
          2002,
          2001,
          2000
         ],
         "xaxis": "x",
         "y": [
          6.95,
          23.43,
          18.53,
          22,
          16,
          6,
          16,
          11,
          13.97,
          8.22,
          18,
          14,
          15.03,
          32.26,
          20,
          24.03,
          24.22,
          30,
          27.2,
          33
         ],
         "yaxis": "y"
        },
        {
         "hovertemplate": "Location=Sao Tome and Principe<br>Period=%{x}<br>FactValueNumeric=%{y}<extra></extra>",
         "legendgroup": "Sao Tome and Principe",
         "line": {
          "color": "#FF6692",
          "dash": "solid"
         },
         "marker": {
          "symbol": "circle"
         },
         "mode": "lines",
         "name": "Sao Tome and Principe",
         "showlegend": true,
         "type": "scattergl",
         "x": [
          2019,
          2018,
          2017,
          2016,
          2015,
          2014,
          2013,
          2012,
          2011,
          2010,
          2009,
          2008,
          2007,
          2006,
          2005,
          2004,
          2003,
          2002,
          2001,
          2000
         ],
         "xaxis": "x",
         "y": [
          60,
          58.3,
          56.64,
          55,
          54,
          52,
          51,
          49,
          48,
          48,
          46,
          45,
          45,
          45,
          45,
          44.24,
          21.48,
          20.8,
          14.64,
          17.52
         ],
         "yaxis": "y"
        },
        {
         "hovertemplate": "Location=Afghanistan<br>Period=%{x}<br>FactValueNumeric=%{y}<extra></extra>",
         "legendgroup": "Afghanistan",
         "line": {
          "color": "#B6E880",
          "dash": "solid"
         },
         "marker": {
          "symbol": "circle"
         },
         "mode": "lines",
         "name": "Afghanistan",
         "showlegend": true,
         "type": "scattergl",
         "x": [
          2019,
          2018,
          2017,
          2016,
          2015,
          2014,
          2013,
          2012,
          2011,
          2010,
          2009,
          2008,
          2007,
          2006,
          2005,
          2004,
          2003,
          2002,
          2001,
          2000
         ],
         "xaxis": "x",
         "y": [
          6033,
          5295,
          5490,
          5240,
          4942,
          4693,
          4506,
          4296,
          4282,
          4208,
          4095,
          4161,
          4053,
          3982,
          3891,
          3757,
          3556,
          3371,
          3265,
          3044
         ],
         "yaxis": "y"
        },
        {
         "hovertemplate": "Location=Zimbabwe<br>Period=%{x}<br>FactValueNumeric=%{y}<extra></extra>",
         "legendgroup": "Zimbabwe",
         "line": {
          "color": "#FF97FF",
          "dash": "solid"
         },
         "marker": {
          "symbol": "circle"
         },
         "mode": "lines",
         "name": "Zimbabwe",
         "showlegend": true,
         "type": "scattergl",
         "x": [
          2019,
          2018,
          2017,
          2016,
          2015,
          2014,
          2013,
          2012,
          2011,
          2010,
          2009,
          2008,
          2007,
          2006,
          2005,
          2004,
          2003,
          2002,
          2001,
          2000
         ],
         "xaxis": "x",
         "y": [
          6037,
          5867,
          5702,
          5601,
          5353,
          5151,
          5030,
          4895,
          4822,
          4774,
          4753,
          4637,
          4480,
          4431,
          4259,
          4188,
          4044,
          3869,
          3541,
          3483
         ],
         "yaxis": "y"
        },
        {
         "hovertemplate": "Location=Botswana<br>Period=%{x}<br>FactValueNumeric=%{y}<extra></extra>",
         "legendgroup": "Botswana",
         "line": {
          "color": "#FECB52",
          "dash": "solid"
         },
         "marker": {
          "symbol": "circle"
         },
         "mode": "lines",
         "name": "Botswana",
         "showlegend": true,
         "type": "scattergl",
         "x": [
          2019,
          2018,
          2017,
          2016,
          2015,
          2014,
          2013,
          2012,
          2011,
          2010,
          2009,
          2008,
          2007,
          2006,
          2005,
          2004,
          2003,
          2002,
          2001,
          2000
         ],
         "xaxis": "x",
         "y": [
          608.5,
          579.5,
          551.8,
          535,
          526,
          506,
          431,
          431.5,
          480.2,
          480,
          469.5,
          458.4,
          489.3,
          452.8,
          445.6,
          526.3,
          550.3,
          514,
          521,
          523.2
         ],
         "yaxis": "y"
        },
        {
         "hovertemplate": "Location=Morocco<br>Period=%{x}<br>FactValueNumeric=%{y}<extra></extra>",
         "legendgroup": "Morocco",
         "line": {
          "color": "#636efa",
          "dash": "solid"
         },
         "marker": {
          "symbol": "circle"
         },
         "mode": "lines",
         "name": "Morocco",
         "showlegend": true,
         "type": "scattergl",
         "x": [
          2019,
          2018,
          2017,
          2016,
          2015,
          2014,
          2013,
          2012,
          2011,
          2010,
          2009,
          2008,
          2007,
          2006,
          2005,
          2004,
          2003,
          2002,
          2001,
          2000
         ],
         "xaxis": "x",
         "y": [
          6185,
          6369,
          6811,
          6917,
          6841,
          6784,
          6770,
          6761,
          6848,
          7568,
          7554,
          7482,
          7411,
          7376,
          7301,
          7156,
          7165,
          7069,
          6937,
          6870
         ],
         "yaxis": "y"
        },
        {
         "hovertemplate": "Location=Guinea-Bissau<br>Period=%{x}<br>FactValueNumeric=%{y}<extra></extra>",
         "legendgroup": "Guinea-Bissau",
         "line": {
          "color": "#EF553B",
          "dash": "solid"
         },
         "marker": {
          "symbol": "circle"
         },
         "mode": "lines",
         "name": "Guinea-Bissau",
         "showlegend": true,
         "type": "scattergl",
         "x": [
          2019,
          2018,
          2017,
          2016,
          2015,
          2014,
          2013,
          2012,
          2011,
          2010,
          2009,
          2008,
          2007,
          2006,
          2005,
          2004,
          2003,
          2002,
          2001,
          2000
         ],
         "xaxis": "x",
         "y": [
          619.1,
          602.3,
          585.7,
          565,
          557,
          545,
          519,
          499,
          487,
          479,
          464,
          450.3,
          445.2,
          432.1,
          423,
          413.9,
          405.3,
          384.3,
          373.3,
          368.3
         ],
         "yaxis": "y"
        },
        {
         "hovertemplate": "Location=Côte d’Ivoire<br>Period=%{x}<br>FactValueNumeric=%{y}<extra></extra>",
         "legendgroup": "Côte d’Ivoire",
         "line": {
          "color": "#00cc96",
          "dash": "solid"
         },
         "marker": {
          "symbol": "circle"
         },
         "mode": "lines",
         "name": "Côte d’Ivoire",
         "showlegend": true,
         "type": "scattergl",
         "x": [
          2019,
          2018,
          2017,
          2016,
          2015,
          2014,
          2013,
          2012,
          2011,
          2010,
          2009,
          2008,
          2007,
          2006,
          2005,
          2004,
          2003,
          2002,
          2001,
          2000
         ],
         "xaxis": "x",
         "y": [
          6202,
          5985,
          5775,
          5582,
          5379,
          5215,
          5197,
          5163,
          5430,
          5293,
          5120,
          4989,
          4876,
          4843,
          4832,
          4755,
          4553,
          4380,
          4263,
          4187
         ],
         "yaxis": "y"
        },
        {
         "hovertemplate": "Location=Democratic People's Republic of Korea<br>Period=%{x}<br>FactValueNumeric=%{y}<extra></extra>",
         "legendgroup": "Democratic People's Republic of Korea",
         "line": {
          "color": "#ab63fa",
          "dash": "solid"
         },
         "marker": {
          "symbol": "circle"
         },
         "mode": "lines",
         "name": "Democratic People's Republic of Korea",
         "showlegend": true,
         "type": "scattergl",
         "x": [
          2019,
          2018,
          2017,
          2016,
          2015,
          2014,
          2013,
          2012,
          2011,
          2010,
          2009,
          2008,
          2007,
          2006,
          2005,
          2004,
          2003,
          2002,
          2001,
          2000
         ],
         "xaxis": "x",
         "y": [
          6210,
          6148,
          6042,
          6096,
          5915,
          5897,
          5788,
          5769,
          5804,
          5731,
          5720,
          5757,
          5723,
          5575,
          5410,
          5396,
          5411,
          5261,
          5157,
          5195
         ],
         "yaxis": "y"
        },
        {
         "hovertemplate": "Location=Malawi<br>Period=%{x}<br>FactValueNumeric=%{y}<extra></extra>",
         "legendgroup": "Malawi",
         "line": {
          "color": "#FFA15A",
          "dash": "solid"
         },
         "marker": {
          "symbol": "circle"
         },
         "mode": "lines",
         "name": "Malawi",
         "showlegend": true,
         "type": "scattergl",
         "x": [
          2019,
          2018,
          2017,
          2016,
          2015,
          2014,
          2013,
          2012,
          2011,
          2010,
          2009,
          2008,
          2007,
          2006,
          2005,
          2004,
          2003,
          2002,
          2001,
          2000
         ],
         "xaxis": "x",
         "y": [
          6221,
          6009,
          5804,
          5601,
          5421,
          5232,
          5041,
          4854,
          4521,
          4448,
          4360,
          4300,
          4238,
          4204,
          4158,
          4050,
          3917,
          3893,
          3700,
          3480
         ],
         "yaxis": "y"
        },
        {
         "hovertemplate": "Location=Argentina<br>Period=%{x}<br>FactValueNumeric=%{y}<extra></extra>",
         "legendgroup": "Argentina",
         "line": {
          "color": "#19d3f3",
          "dash": "solid"
         },
         "marker": {
          "symbol": "circle"
         },
         "mode": "lines",
         "name": "Argentina",
         "showlegend": true,
         "type": "scattergl",
         "x": [
          2019,
          2018,
          2017,
          2016,
          2015,
          2014,
          2013,
          2012,
          2011,
          2010,
          2009,
          2008,
          2007,
          2006,
          2005,
          2004,
          2003,
          2002,
          2001,
          2000
         ],
         "xaxis": "x",
         "y": [
          6298,
          6021,
          6151,
          6119,
          5980,
          5700,
          6052,
          5468,
          5729,
          5252,
          5381,
          5938,
          5596,
          5150,
          4527,
          4084,
          3584,
          3696,
          4339,
          4228
         ],
         "yaxis": "y"
        },
        {
         "hovertemplate": "Location=Burkina Faso<br>Period=%{x}<br>FactValueNumeric=%{y}<extra></extra>",
         "legendgroup": "Burkina Faso",
         "line": {
          "color": "#FF6692",
          "dash": "solid"
         },
         "marker": {
          "symbol": "circle"
         },
         "mode": "lines",
         "name": "Burkina Faso",
         "showlegend": true,
         "type": "scattergl",
         "x": [
          2019,
          2018,
          2017,
          2016,
          2015,
          2014,
          2013,
          2012,
          2011,
          2010,
          2009,
          2008,
          2007,
          2006,
          2005,
          2004,
          2003,
          2002,
          2001,
          2000
         ],
         "xaxis": "x",
         "y": [
          6303,
          6091,
          5885,
          5686,
          5510,
          5317,
          5086,
          4908,
          4831,
          4707,
          4456,
          4358,
          4223,
          4070,
          3915,
          3787,
          3594,
          3445,
          3314,
          3207
         ],
         "yaxis": "y"
        },
        {
         "hovertemplate": "Location=Czechia<br>Period=%{x}<br>FactValueNumeric=%{y}<extra></extra>",
         "legendgroup": "Czechia",
         "line": {
          "color": "#B6E880",
          "dash": "solid"
         },
         "marker": {
          "symbol": "circle"
         },
         "mode": "lines",
         "name": "Czechia",
         "showlegend": true,
         "type": "scattergl",
         "x": [
          2019,
          2018,
          2017,
          2016,
          2015,
          2014,
          2013,
          2012,
          2011,
          2010,
          2009,
          2008,
          2007,
          2006,
          2005,
          2004,
          2003,
          2002,
          2001,
          2000
         ],
         "xaxis": "x",
         "y": [
          636,
          676,
          595,
          630,
          761,
          709,
          674,
          765,
          797,
          827,
          929,
          1109,
          1260,
          1096,
          1326,
          1425,
          1492,
          1474,
          1374,
          1532
         ],
         "yaxis": "y"
        },
        {
         "hovertemplate": "Location=Bulgaria<br>Period=%{x}<br>FactValueNumeric=%{y}<extra></extra>",
         "legendgroup": "Bulgaria",
         "line": {
          "color": "#FF97FF",
          "dash": "solid"
         },
         "marker": {
          "symbol": "circle"
         },
         "mode": "lines",
         "name": "Bulgaria",
         "showlegend": true,
         "type": "scattergl",
         "x": [
          2019,
          2018,
          2017,
          2016,
          2015,
          2014,
          2013,
          2012,
          2011,
          2010,
          2009,
          2008,
          2007,
          2006,
          2005,
          2004,
          2003,
          2002,
          2001,
          2000
         ],
         "xaxis": "x",
         "y": [
          647,
          629,
          703,
          730,
          730,
          680,
          620,
          620,
          677,
          799,
          929,
          1094,
          1085,
          1075,
          987,
          969,
          990,
          989,
          1043,
          1043
         ],
         "yaxis": "y"
        },
        {
         "hovertemplate": "Location=Kuwait<br>Period=%{x}<br>FactValueNumeric=%{y}<extra></extra>",
         "legendgroup": "Kuwait",
         "line": {
          "color": "#FECB52",
          "dash": "solid"
         },
         "marker": {
          "symbol": "circle"
         },
         "mode": "lines",
         "name": "Kuwait",
         "showlegend": true,
         "type": "scattergl",
         "x": [
          2019,
          2018,
          2017,
          2016,
          2015,
          2014,
          2013,
          2012,
          2011,
          2010,
          2009,
          2008,
          2007,
          2006,
          2005,
          2004,
          2003,
          2002,
          2001,
          2000
         ],
         "xaxis": "x",
         "y": [
          649.4,
          672.1,
          693.4,
          715,
          723,
          703,
          761,
          828,
          701,
          601,
          722,
          756,
          739,
          689,
          669,
          560,
          562,
          503,
          497,
          534
         ],
         "yaxis": "y"
        },
        {
         "hovertemplate": "Location=Serbia<br>Period=%{x}<br>FactValueNumeric=%{y}<extra></extra>",
         "legendgroup": "Serbia",
         "line": {
          "color": "#636efa",
          "dash": "solid"
         },
         "marker": {
          "symbol": "circle"
         },
         "mode": "lines",
         "name": "Serbia",
         "showlegend": true,
         "type": "scattergl",
         "x": [
          2019,
          2018,
          2017,
          2016,
          2015,
          2014,
          2013,
          2012,
          2011,
          2010,
          2009,
          2008,
          2007,
          2006,
          2005,
          2004,
          2003,
          2002,
          2001,
          2000
         ],
         "xaxis": "x",
         "y": [
          655.5,
          657.2,
          756.1,
          651.6,
          597.8,
          663.3,
          751.1,
          798.9,
          867.4,
          804.8,
          964.1,
          1064,
          1147,
          1048,
          919.8,
          840.9,
          747.9,
          879.3,
          1298,
          1030
         ],
         "yaxis": "y"
        },
        {
         "hovertemplate": "Location=Belgium<br>Period=%{x}<br>FactValueNumeric=%{y}<extra></extra>",
         "legendgroup": "Belgium",
         "line": {
          "color": "#EF553B",
          "dash": "solid"
         },
         "marker": {
          "symbol": "circle"
         },
         "mode": "lines",
         "name": "Belgium",
         "showlegend": true,
         "type": "scattergl",
         "x": [
          2019,
          2018,
          2017,
          2016,
          2015,
          2014,
          2013,
          2012,
          2011,
          2010,
          2009,
          2008,
          2007,
          2006,
          2005,
          2004,
          2003,
          2002,
          2001,
          2000
         ],
         "xaxis": "x",
         "y": [
          666,
          623,
          628,
          657,
          755,
          750,
          778,
          794,
          902,
          889,
          1023,
          1015,
          1160,
          1115,
          1154,
          1198,
          1251,
          1437,
          1633,
          1712
         ],
         "yaxis": "y"
        },
        {
         "hovertemplate": "Location=Azerbaijan<br>Period=%{x}<br>FactValueNumeric=%{y}<extra></extra>",
         "legendgroup": "Azerbaijan",
         "line": {
          "color": "#00cc96",
          "dash": "solid"
         },
         "marker": {
          "symbol": "circle"
         },
         "mode": "lines",
         "name": "Azerbaijan",
         "showlegend": true,
         "type": "scattergl",
         "x": [
          2019,
          2018,
          2017,
          2016,
          2015,
          2014,
          2013,
          2012,
          2011,
          2010,
          2009,
          2008,
          2007,
          2006,
          2005,
          2004,
          2003,
          2002,
          2001,
          2000
         ],
         "xaxis": "x",
         "y": [
          676.4,
          804,
          835,
          845,
          995,
          1251,
          1296,
          1300,
          1131,
          1030,
          1035,
          1171,
          1199,
          1143,
          1185,
          903,
          1213,
          838,
          819,
          663
         ],
         "yaxis": "y"
        },
        {
         "hovertemplate": "Location=Lesotho<br>Period=%{x}<br>FactValueNumeric=%{y}<extra></extra>",
         "legendgroup": "Lesotho",
         "line": {
          "color": "#ab63fa",
          "dash": "solid"
         },
         "marker": {
          "symbol": "circle"
         },
         "mode": "lines",
         "name": "Lesotho",
         "showlegend": true,
         "type": "scattergl",
         "x": [
          2019,
          2018,
          2017,
          2016,
          2015,
          2014,
          2013,
          2012,
          2011,
          2010,
          2009,
          2008,
          2007,
          2006,
          2005,
          2004,
          2003,
          2002,
          2001,
          2000
         ],
         "xaxis": "x",
         "y": [
          678.5,
          667,
          890.5,
          638.7,
          620.8,
          603,
          584.2,
          575,
          550,
          552,
          552,
          549,
          553,
          553.4,
          550.4,
          545.5,
          567.3,
          567.5,
          552.6,
          548.8
         ],
         "yaxis": "y"
        },
        {
         "hovertemplate": "Location=Mongolia<br>Period=%{x}<br>FactValueNumeric=%{y}<extra></extra>",
         "legendgroup": "Mongolia",
         "line": {
          "color": "#FFA15A",
          "dash": "solid"
         },
         "marker": {
          "symbol": "circle"
         },
         "mode": "lines",
         "name": "Mongolia",
         "showlegend": true,
         "type": "scattergl",
         "x": [
          2019,
          2018,
          2017,
          2016,
          2015,
          2014,
          2013,
          2012,
          2011,
          2010,
          2009,
          2008,
          2007,
          2006,
          2005,
          2004,
          2003,
          2002,
          2001,
          2000
         ],
         "xaxis": "x",
         "y": [
          678.6,
          662.5,
          646.2,
          499,
          583,
          700,
          597,
          611,
          563,
          506,
          469,
          516,
          579,
          554,
          549,
          526,
          391,
          538,
          385,
          380
         ],
         "yaxis": "y"
        },
        {
         "hovertemplate": "Location=Cyprus<br>Period=%{x}<br>FactValueNumeric=%{y}<extra></extra>",
         "legendgroup": "Cyprus",
         "line": {
          "color": "#19d3f3",
          "dash": "solid"
         },
         "marker": {
          "symbol": "circle"
         },
         "mode": "lines",
         "name": "Cyprus",
         "showlegend": true,
         "type": "scattergl",
         "x": [
          2019,
          2018,
          2017,
          2016,
          2015,
          2014,
          2013,
          2012,
          2011,
          2010,
          2009,
          2008,
          2007,
          2006,
          2005,
          2004,
          2003,
          2002,
          2001,
          2000
         ],
         "xaxis": "x",
         "y": [
          68.94,
          65.11,
          70.33,
          60.95,
          78,
          61,
          57,
          68.91,
          87.58,
          91.78,
          101.6,
          106,
          118,
          96.07,
          129,
          147.4,
          117,
          118,
          113,
          116
         ],
         "yaxis": "y"
        },
        {
         "hovertemplate": "Location=Netherlands<br>Period=%{x}<br>FactValueNumeric=%{y}<extra></extra>",
         "legendgroup": "Netherlands",
         "line": {
          "color": "#FF6692",
          "dash": "solid"
         },
         "marker": {
          "symbol": "circle"
         },
         "mode": "lines",
         "name": "Netherlands",
         "showlegend": true,
         "type": "scattergl",
         "x": [
          2019,
          2018,
          2017,
          2016,
          2015,
          2014,
          2013,
          2012,
          2011,
          2010,
          2009,
          2008,
          2007,
          2006,
          2005,
          2004,
          2003,
          2002,
          2001,
          2000
         ],
         "xaxis": "x",
         "y": [
          681,
          699,
          632,
          648,
          640,
          588,
          588,
          675,
          681,
          660,
          742,
          773,
          816,
          836,
          842,
          908,
          1122,
          1102,
          1117,
          1202
         ],
         "yaxis": "y"
        },
        {
         "hovertemplate": "Location=Dominican Republic<br>Period=%{x}<br>FactValueNumeric=%{y}<extra></extra>",
         "legendgroup": "Dominican Republic",
         "line": {
          "color": "#B6E880",
          "dash": "solid"
         },
         "marker": {
          "symbol": "circle"
         },
         "mode": "lines",
         "name": "Dominican Republic",
         "showlegend": true,
         "type": "scattergl",
         "x": [
          2019,
          2018,
          2017,
          2016,
          2015,
          2014,
          2013,
          2012,
          2011,
          2010,
          2009,
          2008,
          2007,
          2006,
          2005,
          2004,
          2003,
          2002,
          2001,
          2000
         ],
         "xaxis": "x",
         "y": [
          6937,
          5682,
          4868,
          3684,
          3379,
          3221,
          4015,
          3003,
          2520,
          2699,
          2276,
          2453,
          2259,
          2363,
          2626,
          3230,
          3470,
          3205,
          2766,
          2493
         ],
         "yaxis": "y"
        },
        {
         "hovertemplate": "Location=Gambia<br>Period=%{x}<br>FactValueNumeric=%{y}<extra></extra>",
         "legendgroup": "Gambia",
         "line": {
          "color": "#FF97FF",
          "dash": "solid"
         },
         "marker": {
          "symbol": "circle"
         },
         "mode": "lines",
         "name": "Gambia",
         "showlegend": true,
         "type": "scattergl",
         "x": [
          2019,
          2018,
          2017,
          2016,
          2015,
          2014,
          2013,
          2012,
          2011,
          2010,
          2009,
          2008,
          2007,
          2006,
          2005,
          2004,
          2003,
          2002,
          2001,
          2000
         ],
         "xaxis": "x",
         "y": [
          695.3,
          664,
          633.9,
          605,
          579,
          552,
          524,
          503,
          496,
          475,
          457,
          449,
          435,
          425,
          405,
          388,
          370,
          362,
          347,
          339
         ],
         "yaxis": "y"
        },
        {
         "hovertemplate": "Location=Malaysia<br>Period=%{x}<br>FactValueNumeric=%{y}<extra></extra>",
         "legendgroup": "Malaysia",
         "line": {
          "color": "#FECB52",
          "dash": "solid"
         },
         "marker": {
          "symbol": "circle"
         },
         "mode": "lines",
         "name": "Malaysia",
         "showlegend": true,
         "type": "scattergl",
         "x": [
          2019,
          2018,
          2017,
          2016,
          2015,
          2014,
          2013,
          2012,
          2011,
          2010,
          2009,
          2008,
          2007,
          2006,
          2005,
          2004,
          2003,
          2002,
          2001,
          2000
         ],
         "xaxis": "x",
         "y": [
          7181,
          7153,
          7123,
          7374,
          6914,
          6881,
          7129,
          7131,
          7090,
          7085,
          6954,
          6729,
          6477,
          6482,
          6392,
          6421,
          6481,
          6074,
          6030,
          6222
         ],
         "yaxis": "y"
        },
        {
         "hovertemplate": "Location=Belarus<br>Period=%{x}<br>FactValueNumeric=%{y}<extra></extra>",
         "legendgroup": "Belarus",
         "line": {
          "color": "#636efa",
          "dash": "solid"
         },
         "marker": {
          "symbol": "circle"
         },
         "mode": "lines",
         "name": "Belarus",
         "showlegend": true,
         "type": "scattergl",
         "x": [
          2019,
          2018,
          2017,
          2016,
          2015,
          2014,
          2013,
          2012,
          2011,
          2010,
          2009,
          2008,
          2007,
          2006,
          2005,
          2004,
          2003,
          2002,
          2001,
          2000
         ],
         "xaxis": "x",
         "y": [
          722,
          785.6,
          842.7,
          841.4,
          950.1,
          1083,
          1279,
          1486,
          1748,
          2066,
          1841,
          2255,
          2224,
          2100,
          2109,
          2214,
          2587,
          2544,
          1739,
          1758
         ],
         "yaxis": "y"
        },
        {
         "hovertemplate": "Location=Costa Rica<br>Period=%{x}<br>FactValueNumeric=%{y}<extra></extra>",
         "legendgroup": "Costa Rica",
         "line": {
          "color": "#EF553B",
          "dash": "solid"
         },
         "marker": {
          "symbol": "circle"
         },
         "mode": "lines",
         "name": "Costa Rica",
         "showlegend": true,
         "type": "scattergl",
         "x": [
          2019,
          2018,
          2017,
          2016,
          2015,
          2014,
          2013,
          2012,
          2011,
          2010,
          2009,
          2008,
          2007,
          2006,
          2005,
          2004,
          2003,
          2002,
          2001,
          2000
         ],
         "xaxis": "x",
         "y": [
          745.9,
          721,
          728.3,
          812,
          798,
          682,
          644,
          699,
          616,
          640,
          721,
          751,
          709,
          712,
          620,
          650,
          642,
          698,
          696,
          704
         ],
         "yaxis": "y"
        },
        {
         "hovertemplate": "Location=Hungary<br>Period=%{x}<br>FactValueNumeric=%{y}<extra></extra>",
         "legendgroup": "Hungary",
         "line": {
          "color": "#00cc96",
          "dash": "solid"
         },
         "marker": {
          "symbol": "circle"
         },
         "mode": "lines",
         "name": "Hungary",
         "showlegend": true,
         "type": "scattergl",
         "x": [
          2019,
          2018,
          2017,
          2016,
          2015,
          2014,
          2013,
          2012,
          2011,
          2010,
          2009,
          2008,
          2007,
          2006,
          2005,
          2004,
          2003,
          2002,
          2001,
          2000
         ],
         "xaxis": "x",
         "y": [
          750,
          788.6,
          777.7,
          756,
          767,
          783,
          767,
          812,
          843,
          914,
          1039,
          1227,
          1474,
          1539,
          1492,
          1533,
          1533,
          1642,
          1380,
          1293
         ],
         "yaxis": "y"
        },
        {
         "hovertemplate": "Location=Colombia<br>Period=%{x}<br>FactValueNumeric=%{y}<extra></extra>",
         "legendgroup": "Colombia",
         "line": {
          "color": "#ab63fa",
          "dash": "solid"
         },
         "marker": {
          "symbol": "circle"
         },
         "mode": "lines",
         "name": "Colombia",
         "showlegend": true,
         "type": "scattergl",
         "x": [
          2019,
          2018,
          2017,
          2016,
          2015,
          2014,
          2013,
          2012,
          2011,
          2010,
          2009,
          2008,
          2007,
          2006,
          2005,
          2004,
          2003,
          2002,
          2001,
          2000
         ],
         "xaxis": "x",
         "y": [
          7765,
          8105,
          8411,
          8948,
          8540,
          7944,
          7768,
          7688,
          7196,
          7330,
          7908,
          7970,
          7837,
          7536,
          7226,
          7353,
          7119,
          7776,
          8067,
          7942
         ],
         "yaxis": "y"
        },
        {
         "hovertemplate": "Location=Ghana<br>Period=%{x}<br>FactValueNumeric=%{y}<extra></extra>",
         "legendgroup": "Ghana",
         "line": {
          "color": "#FFA15A",
          "dash": "solid"
         },
         "marker": {
          "symbol": "circle"
         },
         "mode": "lines",
         "name": "Ghana",
         "showlegend": true,
         "type": "scattergl",
         "x": [
          2019,
          2018,
          2017,
          2016,
          2015,
          2014,
          2013,
          2012,
          2011,
          2010,
          2009,
          2008,
          2007,
          2006,
          2005,
          2004,
          2003,
          2002,
          2001,
          2000
         ],
         "xaxis": "x",
         "y": [
          7808,
          7528,
          7257,
          7018,
          6783,
          6522,
          6233,
          6051,
          5941,
          5885,
          5772,
          5626,
          5511,
          5507,
          5567,
          5411,
          5320,
          5247,
          5095,
          4977
         ],
         "yaxis": "y"
        },
        {
         "hovertemplate": "Location=Cameroon<br>Period=%{x}<br>FactValueNumeric=%{y}<extra></extra>",
         "legendgroup": "Cameroon",
         "line": {
          "color": "#19d3f3",
          "dash": "solid"
         },
         "marker": {
          "symbol": "circle"
         },
         "mode": "lines",
         "name": "Cameroon",
         "showlegend": true,
         "type": "scattergl",
         "x": [
          2019,
          2018,
          2017,
          2016,
          2015,
          2014,
          2013,
          2012,
          2011,
          2010,
          2009,
          2008,
          2007,
          2006,
          2005,
          2004,
          2003,
          2002,
          2001,
          2000
         ],
         "xaxis": "x",
         "y": [
          7810,
          7545,
          7287,
          7066,
          6756,
          6554,
          6337,
          6147,
          6059,
          5871,
          5641,
          5461,
          5259,
          5129,
          5019,
          4794,
          4597,
          4530,
          4386,
          4258
         ],
         "yaxis": "y"
        },
        {
         "hovertemplate": "Location=Madagascar<br>Period=%{x}<br>FactValueNumeric=%{y}<extra></extra>",
         "legendgroup": "Madagascar",
         "line": {
          "color": "#FF6692",
          "dash": "solid"
         },
         "marker": {
          "symbol": "circle"
         },
         "mode": "lines",
         "name": "Madagascar",
         "showlegend": true,
         "type": "scattergl",
         "x": [
          2019,
          2018,
          2017,
          2016,
          2015,
          2014,
          2013,
          2012,
          2011,
          2010,
          2009,
          2008,
          2007,
          2006,
          2005,
          2004,
          2003,
          2002,
          2001,
          2000
         ],
         "xaxis": "x",
         "y": [
          7880,
          7625,
          7366,
          7108,
          6868,
          6630,
          6367,
          6115,
          5862,
          5652,
          5401,
          5096,
          4968,
          4860,
          4741,
          4701,
          4569,
          4487,
          4242,
          4198
         ],
         "yaxis": "y"
        },
        {
         "hovertemplate": "Location=Saint Vincent and the Grenadines<br>Period=%{x}<br>FactValueNumeric=%{y}<extra></extra>",
         "legendgroup": "Saint Vincent and the Grenadines",
         "line": {
          "color": "#B6E880",
          "dash": "solid"
         },
         "marker": {
          "symbol": "circle"
         },
         "mode": "lines",
         "name": "Saint Vincent and the Grenadines",
         "showlegend": true,
         "type": "scattergl",
         "x": [
          2019,
          2018,
          2017,
          2016,
          2015,
          2014,
          2013,
          2012,
          2011,
          2010,
          2009,
          2008,
          2007,
          2006,
          2005,
          2004,
          2003,
          2002,
          2001,
          2000
         ],
         "xaxis": "x",
         "y": [
          8.19,
          7.87,
          7.55,
          7,
          7,
          7,
          9,
          6,
          4,
          3.99,
          8.42,
          5.99,
          8.94,
          14,
          9,
          8,
          11,
          5,
          6,
          5
         ],
         "yaxis": "y"
        },
        {
         "hovertemplate": "Location=Maldives<br>Period=%{x}<br>FactValueNumeric=%{y}<extra></extra>",
         "legendgroup": "Maldives",
         "line": {
          "color": "#FF97FF",
          "dash": "solid"
         },
         "marker": {
          "symbol": "circle"
         },
         "mode": "lines",
         "name": "Maldives",
         "showlegend": true,
         "type": "scattergl",
         "x": [
          2019,
          2018,
          2017,
          2016,
          2015,
          2014,
          2013,
          2012,
          2011,
          2010,
          2009,
          2008,
          2007,
          2006,
          2005,
          2004,
          2003,
          2002,
          2001,
          2000
         ],
         "xaxis": "x",
         "y": [
          8.64,
          8.88,
          8.86,
          4.11,
          12.01,
          11.01,
          12,
          5.1,
          9.03,
          11.01,
          9.05,
          7.09,
          12.02,
          8.09,
          16,
          5,
          2,
          6,
          2,
          5
         ],
         "yaxis": "y"
        },
        {
         "hovertemplate": "Location=Grenada<br>Period=%{x}<br>FactValueNumeric=%{y}<extra></extra>",
         "legendgroup": "Grenada",
         "line": {
          "color": "#FECB52",
          "dash": "solid"
         },
         "marker": {
          "symbol": "circle"
         },
         "mode": "lines",
         "name": "Grenada",
         "showlegend": true,
         "type": "scattergl",
         "x": [
          2019,
          2018,
          2017,
          2016,
          2015,
          2014,
          2013,
          2012,
          2011,
          2010,
          2009,
          2008,
          2007,
          2006,
          2005,
          2004,
          2003,
          2002,
          2001,
          2000
         ],
         "xaxis": "x",
         "y": [
          8.92,
          8.68,
          8.44,
          10,
          9,
          5,
          9,
          4,
          9,
          6,
          4,
          12,
          8,
          16,
          13,
          2,
          2,
          8,
          7,
          5
         ],
         "yaxis": "y"
        },
        {
         "hovertemplate": "Location=Turkmenistan<br>Period=%{x}<br>FactValueNumeric=%{y}<extra></extra>",
         "legendgroup": "Turkmenistan",
         "line": {
          "color": "#636efa",
          "dash": "solid"
         },
         "marker": {
          "symbol": "circle"
         },
         "mode": "lines",
         "name": "Turkmenistan",
         "showlegend": true,
         "type": "scattergl",
         "x": [
          2019,
          2018,
          2017,
          2016,
          2015,
          2014,
          2013,
          2012,
          2011,
          2010,
          2009,
          2008,
          2007,
          2006,
          2005,
          2004,
          2003,
          2002,
          2001,
          2000
         ],
         "xaxis": "x",
         "y": [
          800.3,
          827.6,
          839.2,
          801.9,
          910,
          893,
          914,
          835,
          858,
          858,
          837,
          822,
          825,
          821,
          816,
          816,
          783,
          768,
          744,
          727
         ],
         "yaxis": "y"
        },
        {
         "hovertemplate": "Location=Kyrgyzstan<br>Period=%{x}<br>FactValueNumeric=%{y}<extra></extra>",
         "legendgroup": "Kyrgyzstan",
         "line": {
          "color": "#EF553B",
          "dash": "solid"
         },
         "marker": {
          "symbol": "circle"
         },
         "mode": "lines",
         "name": "Kyrgyzstan",
         "showlegend": true,
         "type": "scattergl",
         "x": [
          2019,
          2018,
          2017,
          2016,
          2015,
          2014,
          2013,
          2012,
          2011,
          2010,
          2009,
          2008,
          2007,
          2006,
          2005,
          2004,
          2003,
          2002,
          2001,
          2000
         ],
         "xaxis": "x",
         "y": [
          812.5,
          807.7,
          1023,
          916,
          1042,
          1011,
          1156,
          1074,
          1065,
          977,
          1061,
          1146,
          1128,
          1051,
          893,
          943,
          897,
          731,
          703,
          611
         ],
         "yaxis": "y"
        },
        {
         "hovertemplate": "Location=Angola<br>Period=%{x}<br>FactValueNumeric=%{y}<extra></extra>",
         "legendgroup": "Angola",
         "line": {
          "color": "#00cc96",
          "dash": "solid"
         },
         "marker": {
          "symbol": "circle"
         },
         "mode": "lines",
         "name": "Angola",
         "showlegend": true,
         "type": "scattergl",
         "x": [
          2019,
          2018,
          2017,
          2016,
          2015,
          2014,
          2013,
          2012,
          2011,
          2010,
          2009,
          2008,
          2007,
          2006,
          2005,
          2004,
          2003,
          2002,
          2001,
          2000
         ],
         "xaxis": "x",
         "y": [
          8317,
          8009,
          7596,
          7137,
          6586,
          6248,
          5817,
          5813,
          6149,
          6025,
          6155,
          5416,
          5324,
          4952,
          5064,
          4853,
          4577,
          4448,
          4269,
          4110
         ],
         "yaxis": "y"
        },
        {
         "hovertemplate": "Location=Portugal<br>Period=%{x}<br>FactValueNumeric=%{y}<extra></extra>",
         "legendgroup": "Portugal",
         "line": {
          "color": "#ab63fa",
          "dash": "solid"
         },
         "marker": {
          "symbol": "circle"
         },
         "mode": "lines",
         "name": "Portugal",
         "showlegend": true,
         "type": "scattergl",
         "x": [
          2019,
          2018,
          2017,
          2016,
          2015,
          2014,
          2013,
          2012,
          2011,
          2010,
          2009,
          2008,
          2007,
          2006,
          2005,
          2004,
          2003,
          2002,
          2001,
          2000
         ],
         "xaxis": "x",
         "y": [
          838.2,
          921.6,
          822.3,
          768,
          856,
          883,
          828,
          837,
          1141,
          1188,
          1270,
          1281,
          1380,
          1695,
          1858,
          1997,
          2022,
          2207,
          2224,
          1994
         ],
         "yaxis": "y"
        },
        {
         "hovertemplate": "Location=Bahrain<br>Period=%{x}<br>FactValueNumeric=%{y}<extra></extra>",
         "legendgroup": "Bahrain",
         "line": {
          "color": "#FFA15A",
          "dash": "solid"
         },
         "marker": {
          "symbol": "circle"
         },
         "mode": "lines",
         "name": "Bahrain",
         "showlegend": true,
         "type": "scattergl",
         "x": [
          2019,
          2018,
          2017,
          2016,
          2015,
          2014,
          2013,
          2012,
          2011,
          2010,
          2009,
          2008,
          2007,
          2006,
          2005,
          2004,
          2003,
          2002,
          2001,
          2000
         ],
         "xaxis": "x",
         "y": [
          84.96,
          88.83,
          92.45,
          99,
          103,
          98,
          128,
          123,
          124,
          134,
          160,
          151,
          164,
          209,
          139,
          130,
          125,
          139,
          121,
          80
         ],
         "yaxis": "y"
        },
        {
         "hovertemplate": "Location=Yemen<br>Period=%{x}<br>FactValueNumeric=%{y}<extra></extra>",
         "legendgroup": "Yemen",
         "line": {
          "color": "#19d3f3",
          "dash": "solid"
         },
         "marker": {
          "symbol": "circle"
         },
         "mode": "lines",
         "name": "Yemen",
         "showlegend": true,
         "type": "scattergl",
         "x": [
          2019,
          2018,
          2017,
          2016,
          2015,
          2014,
          2013,
          2012,
          2011,
          2010,
          2009,
          2008,
          2007,
          2006,
          2005,
          2004,
          2003,
          2002,
          2001,
          2000
         ],
         "xaxis": "x",
         "y": [
          8561,
          8092,
          7644,
          7418,
          6896,
          6281,
          5884,
          5747,
          5741,
          5355,
          5177,
          4860,
          4688,
          4526,
          4419,
          4375,
          4173,
          4053,
          3934,
          3815
         ],
         "yaxis": "y"
        },
        {
         "hovertemplate": "Location=Namibia<br>Period=%{x}<br>FactValueNumeric=%{y}<extra></extra>",
         "legendgroup": "Namibia",
         "line": {
          "color": "#FF6692",
          "dash": "solid"
         },
         "marker": {
          "symbol": "circle"
         },
         "mode": "lines",
         "name": "Namibia",
         "showlegend": true,
         "type": "scattergl",
         "x": [
          2019,
          2018,
          2017,
          2016,
          2015,
          2014,
          2013,
          2012,
          2011,
          2010,
          2009,
          2008,
          2007,
          2006,
          2005,
          2004,
          2003,
          2002,
          2001,
          2000
         ],
         "xaxis": "x",
         "y": [
          868.3,
          833.6,
          800.1,
          754,
          740,
          706,
          676,
          617,
          516,
          556,
          558.2,
          434.4,
          431.7,
          464.7,
          425.1,
          420,
          427.7,
          429.5,
          415.7,
          404.5
         ],
         "yaxis": "y"
        },
        {
         "hovertemplate": "Location=Greece<br>Period=%{x}<br>FactValueNumeric=%{y}<extra></extra>",
         "legendgroup": "Greece",
         "line": {
          "color": "#B6E880",
          "dash": "solid"
         },
         "marker": {
          "symbol": "circle"
         },
         "mode": "lines",
         "name": "Greece",
         "showlegend": true,
         "type": "scattergl",
         "x": [
          2019,
          2018,
          2017,
          2016,
          2015,
          2014,
          2013,
          2012,
          2011,
          2010,
          2009,
          2008,
          2007,
          2006,
          2005,
          2004,
          2003,
          2002,
          2001,
          2000
         ],
         "xaxis": "x",
         "y": [
          870.3,
          871.5,
          910.1,
          1026,
          988,
          994,
          1109,
          1213,
          1327,
          1428,
          1636,
          1712,
          1795,
          1793,
          1860,
          1965,
          1773,
          1832,
          2031,
          2200
         ],
         "yaxis": "y"
        },
        {
         "hovertemplate": "Location=United Arab Emirates<br>Period=%{x}<br>FactValueNumeric=%{y}<extra></extra>",
         "legendgroup": "United Arab Emirates",
         "line": {
          "color": "#FF97FF",
          "dash": "solid"
         },
         "marker": {
          "symbol": "circle"
         },
         "mode": "lines",
         "name": "United Arab Emirates",
         "showlegend": true,
         "type": "scattergl",
         "x": [
          2019,
          2018,
          2017,
          2016,
          2015,
          2014,
          2013,
          2012,
          2011,
          2010,
          2009,
          2008,
          2007,
          2006,
          2005,
          2004,
          2003,
          2002,
          2001,
          2000
         ],
         "xaxis": "x",
         "y": [
          870.4,
          1085,
          1258,
          1678,
          1676,
          1636,
          1623,
          1635,
          1710,
          1659,
          1506,
          1273,
          1089,
          910,
          856,
          850,
          900,
          778,
          522,
          502
         ],
         "yaxis": "y"
        },
        {
         "hovertemplate": "Location=Belize<br>Period=%{x}<br>FactValueNumeric=%{y}<extra></extra>",
         "legendgroup": "Belize",
         "line": {
          "color": "#FECB52",
          "dash": "solid"
         },
         "marker": {
          "symbol": "circle"
         },
         "mode": "lines",
         "name": "Belize",
         "showlegend": true,
         "type": "scattergl",
         "x": [
          2019,
          2018,
          2017,
          2016,
          2015,
          2014,
          2013,
          2012,
          2011,
          2010,
          2009,
          2008,
          2007,
          2006,
          2005,
          2004,
          2003,
          2002,
          2001,
          2000
         ],
         "xaxis": "x",
         "y": [
          88.05,
          86.02,
          73.05,
          103.9,
          91.93,
          85.94,
          74.96,
          72,
          60,
          45,
          52.96,
          103.6,
          96.77,
          83.91,
          101.8,
          64.98,
          85,
          94.81,
          95.75,
          73
         ],
         "yaxis": "y"
        },
        {
         "hovertemplate": "Location=Suriname<br>Period=%{x}<br>FactValueNumeric=%{y}<extra></extra>",
         "legendgroup": "Suriname",
         "line": {
          "color": "#636efa",
          "dash": "solid"
         },
         "marker": {
          "symbol": "circle"
         },
         "mode": "lines",
         "name": "Suriname",
         "showlegend": true,
         "type": "scattergl",
         "x": [
          2019,
          2018,
          2017,
          2016,
          2015,
          2014,
          2013,
          2012,
          2011,
          2010,
          2009,
          2008,
          2007,
          2006,
          2005,
          2004,
          2003,
          2002,
          2001,
          2000
         ],
         "xaxis": "x",
         "y": [
          89.09,
          90.18,
          91.27,
          81,
          64,
          90,
          79,
          85,
          119,
          103,
          139,
          126,
          130,
          125,
          132,
          145,
          99,
          86,
          61,
          121
         ],
         "yaxis": "y"
        },
        {
         "hovertemplate": "Location=Algeria<br>Period=%{x}<br>FactValueNumeric=%{y}<extra></extra>",
         "legendgroup": "Algeria",
         "line": {
          "color": "#EF553B",
          "dash": "solid"
         },
         "marker": {
          "symbol": "circle"
         },
         "mode": "lines",
         "name": "Algeria",
         "showlegend": true,
         "type": "scattergl",
         "x": [
          2019,
          2018,
          2017,
          2016,
          2015,
          2014,
          2013,
          2012,
          2011,
          2010,
          2009,
          2008,
          2007,
          2006,
          2005,
          2004,
          2003,
          2002,
          2001,
          2000
         ],
         "xaxis": "x",
         "y": [
          8996,
          8849,
          8698,
          8538,
          8415,
          8255,
          8052,
          7986,
          8180,
          8023,
          7944,
          7784,
          7615,
          7459,
          7314,
          7348,
          7325,
          7262,
          7133,
          6996
         ],
         "yaxis": "y"
        },
        {
         "hovertemplate": "Location=Mozambique<br>Period=%{x}<br>FactValueNumeric=%{y}<extra></extra>",
         "legendgroup": "Mozambique",
         "line": {
          "color": "#00cc96",
          "dash": "solid"
         },
         "marker": {
          "symbol": "circle"
         },
         "mode": "lines",
         "name": "Mozambique",
         "showlegend": true,
         "type": "scattergl",
         "x": [
          2019,
          2018,
          2017,
          2016,
          2015,
          2014,
          2013,
          2012,
          2011,
          2010,
          2009,
          2008,
          2007,
          2006,
          2005,
          2004,
          2003,
          2002,
          2001,
          2000
         ],
         "xaxis": "x",
         "y": [
          9117,
          8878,
          8645,
          8665,
          8305,
          8001,
          7741,
          7556,
          7356,
          7231,
          7093,
          6994,
          6772,
          6739,
          6626,
          6591,
          6485,
          6365,
          6180,
          6017
         ],
         "yaxis": "y"
        }
       ],
       "layout": {
        "legend": {
         "title": {
          "text": "Location"
         },
         "tracegroupgap": 0
        },
        "template": {
         "data": {
          "bar": [
           {
            "error_x": {
             "color": "#2a3f5f"
            },
            "error_y": {
             "color": "#2a3f5f"
            },
            "marker": {
             "line": {
              "color": "#E5ECF6",
              "width": 0.5
             },
             "pattern": {
              "fillmode": "overlay",
              "size": 10,
              "solidity": 0.2
             }
            },
            "type": "bar"
           }
          ],
          "barpolar": [
           {
            "marker": {
             "line": {
              "color": "#E5ECF6",
              "width": 0.5
             },
             "pattern": {
              "fillmode": "overlay",
              "size": 10,
              "solidity": 0.2
             }
            },
            "type": "barpolar"
           }
          ],
          "carpet": [
           {
            "aaxis": {
             "endlinecolor": "#2a3f5f",
             "gridcolor": "white",
             "linecolor": "white",
             "minorgridcolor": "white",
             "startlinecolor": "#2a3f5f"
            },
            "baxis": {
             "endlinecolor": "#2a3f5f",
             "gridcolor": "white",
             "linecolor": "white",
             "minorgridcolor": "white",
             "startlinecolor": "#2a3f5f"
            },
            "type": "carpet"
           }
          ],
          "choropleth": [
           {
            "colorbar": {
             "outlinewidth": 0,
             "ticks": ""
            },
            "type": "choropleth"
           }
          ],
          "contour": [
           {
            "colorbar": {
             "outlinewidth": 0,
             "ticks": ""
            },
            "colorscale": [
             [
              0,
              "#0d0887"
             ],
             [
              0.1111111111111111,
              "#46039f"
             ],
             [
              0.2222222222222222,
              "#7201a8"
             ],
             [
              0.3333333333333333,
              "#9c179e"
             ],
             [
              0.4444444444444444,
              "#bd3786"
             ],
             [
              0.5555555555555556,
              "#d8576b"
             ],
             [
              0.6666666666666666,
              "#ed7953"
             ],
             [
              0.7777777777777778,
              "#fb9f3a"
             ],
             [
              0.8888888888888888,
              "#fdca26"
             ],
             [
              1,
              "#f0f921"
             ]
            ],
            "type": "contour"
           }
          ],
          "contourcarpet": [
           {
            "colorbar": {
             "outlinewidth": 0,
             "ticks": ""
            },
            "type": "contourcarpet"
           }
          ],
          "heatmap": [
           {
            "colorbar": {
             "outlinewidth": 0,
             "ticks": ""
            },
            "colorscale": [
             [
              0,
              "#0d0887"
             ],
             [
              0.1111111111111111,
              "#46039f"
             ],
             [
              0.2222222222222222,
              "#7201a8"
             ],
             [
              0.3333333333333333,
              "#9c179e"
             ],
             [
              0.4444444444444444,
              "#bd3786"
             ],
             [
              0.5555555555555556,
              "#d8576b"
             ],
             [
              0.6666666666666666,
              "#ed7953"
             ],
             [
              0.7777777777777778,
              "#fb9f3a"
             ],
             [
              0.8888888888888888,
              "#fdca26"
             ],
             [
              1,
              "#f0f921"
             ]
            ],
            "type": "heatmap"
           }
          ],
          "heatmapgl": [
           {
            "colorbar": {
             "outlinewidth": 0,
             "ticks": ""
            },
            "colorscale": [
             [
              0,
              "#0d0887"
             ],
             [
              0.1111111111111111,
              "#46039f"
             ],
             [
              0.2222222222222222,
              "#7201a8"
             ],
             [
              0.3333333333333333,
              "#9c179e"
             ],
             [
              0.4444444444444444,
              "#bd3786"
             ],
             [
              0.5555555555555556,
              "#d8576b"
             ],
             [
              0.6666666666666666,
              "#ed7953"
             ],
             [
              0.7777777777777778,
              "#fb9f3a"
             ],
             [
              0.8888888888888888,
              "#fdca26"
             ],
             [
              1,
              "#f0f921"
             ]
            ],
            "type": "heatmapgl"
           }
          ],
          "histogram": [
           {
            "marker": {
             "pattern": {
              "fillmode": "overlay",
              "size": 10,
              "solidity": 0.2
             }
            },
            "type": "histogram"
           }
          ],
          "histogram2d": [
           {
            "colorbar": {
             "outlinewidth": 0,
             "ticks": ""
            },
            "colorscale": [
             [
              0,
              "#0d0887"
             ],
             [
              0.1111111111111111,
              "#46039f"
             ],
             [
              0.2222222222222222,
              "#7201a8"
             ],
             [
              0.3333333333333333,
              "#9c179e"
             ],
             [
              0.4444444444444444,
              "#bd3786"
             ],
             [
              0.5555555555555556,
              "#d8576b"
             ],
             [
              0.6666666666666666,
              "#ed7953"
             ],
             [
              0.7777777777777778,
              "#fb9f3a"
             ],
             [
              0.8888888888888888,
              "#fdca26"
             ],
             [
              1,
              "#f0f921"
             ]
            ],
            "type": "histogram2d"
           }
          ],
          "histogram2dcontour": [
           {
            "colorbar": {
             "outlinewidth": 0,
             "ticks": ""
            },
            "colorscale": [
             [
              0,
              "#0d0887"
             ],
             [
              0.1111111111111111,
              "#46039f"
             ],
             [
              0.2222222222222222,
              "#7201a8"
             ],
             [
              0.3333333333333333,
              "#9c179e"
             ],
             [
              0.4444444444444444,
              "#bd3786"
             ],
             [
              0.5555555555555556,
              "#d8576b"
             ],
             [
              0.6666666666666666,
              "#ed7953"
             ],
             [
              0.7777777777777778,
              "#fb9f3a"
             ],
             [
              0.8888888888888888,
              "#fdca26"
             ],
             [
              1,
              "#f0f921"
             ]
            ],
            "type": "histogram2dcontour"
           }
          ],
          "mesh3d": [
           {
            "colorbar": {
             "outlinewidth": 0,
             "ticks": ""
            },
            "type": "mesh3d"
           }
          ],
          "parcoords": [
           {
            "line": {
             "colorbar": {
              "outlinewidth": 0,
              "ticks": ""
             }
            },
            "type": "parcoords"
           }
          ],
          "pie": [
           {
            "automargin": true,
            "type": "pie"
           }
          ],
          "scatter": [
           {
            "fillpattern": {
             "fillmode": "overlay",
             "size": 10,
             "solidity": 0.2
            },
            "type": "scatter"
           }
          ],
          "scatter3d": [
           {
            "line": {
             "colorbar": {
              "outlinewidth": 0,
              "ticks": ""
             }
            },
            "marker": {
             "colorbar": {
              "outlinewidth": 0,
              "ticks": ""
             }
            },
            "type": "scatter3d"
           }
          ],
          "scattercarpet": [
           {
            "marker": {
             "colorbar": {
              "outlinewidth": 0,
              "ticks": ""
             }
            },
            "type": "scattercarpet"
           }
          ],
          "scattergeo": [
           {
            "marker": {
             "colorbar": {
              "outlinewidth": 0,
              "ticks": ""
             }
            },
            "type": "scattergeo"
           }
          ],
          "scattergl": [
           {
            "marker": {
             "colorbar": {
              "outlinewidth": 0,
              "ticks": ""
             }
            },
            "type": "scattergl"
           }
          ],
          "scattermapbox": [
           {
            "marker": {
             "colorbar": {
              "outlinewidth": 0,
              "ticks": ""
             }
            },
            "type": "scattermapbox"
           }
          ],
          "scatterpolar": [
           {
            "marker": {
             "colorbar": {
              "outlinewidth": 0,
              "ticks": ""
             }
            },
            "type": "scatterpolar"
           }
          ],
          "scatterpolargl": [
           {
            "marker": {
             "colorbar": {
              "outlinewidth": 0,
              "ticks": ""
             }
            },
            "type": "scatterpolargl"
           }
          ],
          "scatterternary": [
           {
            "marker": {
             "colorbar": {
              "outlinewidth": 0,
              "ticks": ""
             }
            },
            "type": "scatterternary"
           }
          ],
          "surface": [
           {
            "colorbar": {
             "outlinewidth": 0,
             "ticks": ""
            },
            "colorscale": [
             [
              0,
              "#0d0887"
             ],
             [
              0.1111111111111111,
              "#46039f"
             ],
             [
              0.2222222222222222,
              "#7201a8"
             ],
             [
              0.3333333333333333,
              "#9c179e"
             ],
             [
              0.4444444444444444,
              "#bd3786"
             ],
             [
              0.5555555555555556,
              "#d8576b"
             ],
             [
              0.6666666666666666,
              "#ed7953"
             ],
             [
              0.7777777777777778,
              "#fb9f3a"
             ],
             [
              0.8888888888888888,
              "#fdca26"
             ],
             [
              1,
              "#f0f921"
             ]
            ],
            "type": "surface"
           }
          ],
          "table": [
           {
            "cells": {
             "fill": {
              "color": "#EBF0F8"
             },
             "line": {
              "color": "white"
             }
            },
            "header": {
             "fill": {
              "color": "#C8D4E3"
             },
             "line": {
              "color": "white"
             }
            },
            "type": "table"
           }
          ]
         },
         "layout": {
          "annotationdefaults": {
           "arrowcolor": "#2a3f5f",
           "arrowhead": 0,
           "arrowwidth": 1
          },
          "autotypenumbers": "strict",
          "coloraxis": {
           "colorbar": {
            "outlinewidth": 0,
            "ticks": ""
           }
          },
          "colorscale": {
           "diverging": [
            [
             0,
             "#8e0152"
            ],
            [
             0.1,
             "#c51b7d"
            ],
            [
             0.2,
             "#de77ae"
            ],
            [
             0.3,
             "#f1b6da"
            ],
            [
             0.4,
             "#fde0ef"
            ],
            [
             0.5,
             "#f7f7f7"
            ],
            [
             0.6,
             "#e6f5d0"
            ],
            [
             0.7,
             "#b8e186"
            ],
            [
             0.8,
             "#7fbc41"
            ],
            [
             0.9,
             "#4d9221"
            ],
            [
             1,
             "#276419"
            ]
           ],
           "sequential": [
            [
             0,
             "#0d0887"
            ],
            [
             0.1111111111111111,
             "#46039f"
            ],
            [
             0.2222222222222222,
             "#7201a8"
            ],
            [
             0.3333333333333333,
             "#9c179e"
            ],
            [
             0.4444444444444444,
             "#bd3786"
            ],
            [
             0.5555555555555556,
             "#d8576b"
            ],
            [
             0.6666666666666666,
             "#ed7953"
            ],
            [
             0.7777777777777778,
             "#fb9f3a"
            ],
            [
             0.8888888888888888,
             "#fdca26"
            ],
            [
             1,
             "#f0f921"
            ]
           ],
           "sequentialminus": [
            [
             0,
             "#0d0887"
            ],
            [
             0.1111111111111111,
             "#46039f"
            ],
            [
             0.2222222222222222,
             "#7201a8"
            ],
            [
             0.3333333333333333,
             "#9c179e"
            ],
            [
             0.4444444444444444,
             "#bd3786"
            ],
            [
             0.5555555555555556,
             "#d8576b"
            ],
            [
             0.6666666666666666,
             "#ed7953"
            ],
            [
             0.7777777777777778,
             "#fb9f3a"
            ],
            [
             0.8888888888888888,
             "#fdca26"
            ],
            [
             1,
             "#f0f921"
            ]
           ]
          },
          "colorway": [
           "#636efa",
           "#EF553B",
           "#00cc96",
           "#ab63fa",
           "#FFA15A",
           "#19d3f3",
           "#FF6692",
           "#B6E880",
           "#FF97FF",
           "#FECB52"
          ],
          "font": {
           "color": "#2a3f5f"
          },
          "geo": {
           "bgcolor": "white",
           "lakecolor": "white",
           "landcolor": "#E5ECF6",
           "showlakes": true,
           "showland": true,
           "subunitcolor": "white"
          },
          "hoverlabel": {
           "align": "left"
          },
          "hovermode": "closest",
          "mapbox": {
           "style": "light"
          },
          "paper_bgcolor": "white",
          "plot_bgcolor": "#E5ECF6",
          "polar": {
           "angularaxis": {
            "gridcolor": "white",
            "linecolor": "white",
            "ticks": ""
           },
           "bgcolor": "#E5ECF6",
           "radialaxis": {
            "gridcolor": "white",
            "linecolor": "white",
            "ticks": ""
           }
          },
          "scene": {
           "xaxis": {
            "backgroundcolor": "#E5ECF6",
            "gridcolor": "white",
            "gridwidth": 2,
            "linecolor": "white",
            "showbackground": true,
            "ticks": "",
            "zerolinecolor": "white"
           },
           "yaxis": {
            "backgroundcolor": "#E5ECF6",
            "gridcolor": "white",
            "gridwidth": 2,
            "linecolor": "white",
            "showbackground": true,
            "ticks": "",
            "zerolinecolor": "white"
           },
           "zaxis": {
            "backgroundcolor": "#E5ECF6",
            "gridcolor": "white",
            "gridwidth": 2,
            "linecolor": "white",
            "showbackground": true,
            "ticks": "",
            "zerolinecolor": "white"
           }
          },
          "shapedefaults": {
           "line": {
            "color": "#2a3f5f"
           }
          },
          "ternary": {
           "aaxis": {
            "gridcolor": "white",
            "linecolor": "white",
            "ticks": ""
           },
           "baxis": {
            "gridcolor": "white",
            "linecolor": "white",
            "ticks": ""
           },
           "bgcolor": "#E5ECF6",
           "caxis": {
            "gridcolor": "white",
            "linecolor": "white",
            "ticks": ""
           }
          },
          "title": {
           "x": 0.05
          },
          "xaxis": {
           "automargin": true,
           "gridcolor": "white",
           "linecolor": "white",
           "ticks": "",
           "title": {
            "standoff": 15
           },
           "zerolinecolor": "white",
           "zerolinewidth": 2
          },
          "yaxis": {
           "automargin": true,
           "gridcolor": "white",
           "linecolor": "white",
           "ticks": "",
           "title": {
            "standoff": 15
           },
           "zerolinecolor": "white",
           "zerolinewidth": 2
          }
         }
        },
        "title": {
         "text": "Road Traffic Deaths by Country and Year"
        },
        "xaxis": {
         "anchor": "y",
         "domain": [
          0,
          1
         ],
         "title": {
          "text": "Period"
         }
        },
        "yaxis": {
         "anchor": "x",
         "domain": [
          0,
          1
         ],
         "title": {
          "text": "FactValueNumeric"
         }
        }
       }
      },
      "text/html": [
       "<div>                            <div id=\"695c7475-ac94-4698-b4cd-e17f67efd251\" class=\"plotly-graph-div\" style=\"height:525px; width:100%;\"></div>            <script type=\"text/javascript\">                require([\"plotly\"], function(Plotly) {                    window.PLOTLYENV=window.PLOTLYENV || {};                                    if (document.getElementById(\"695c7475-ac94-4698-b4cd-e17f67efd251\")) {                    Plotly.newPlot(                        \"695c7475-ac94-4698-b4cd-e17f67efd251\",                        [{\"hovertemplate\":\"Location=Antigua and Barbuda<br>Period=%{x}<br>FactValueNumeric=%{y}<extra></extra>\",\"legendgroup\":\"Antigua and Barbuda\",\"line\":{\"color\":\"#636efa\",\"dash\":\"solid\"},\"marker\":{\"symbol\":\"circle\"},\"mode\":\"lines\",\"name\":\"Antigua and Barbuda\",\"showlegend\":true,\"x\":[2019,2018,2017,2016,2015,2014,2013,2012,2011,2010,2009,2008,2007,2006,2005,2004,2003,2002,2001,2000],\"xaxis\":\"x\",\"y\":[0.0,0.0,0.0,0.0,0.0,0.51,1.53,0.67,7.81,4.73,5.49,9.55,6.09,1.96,0.0,2.0,8.0,2.0,10.0,7.0],\"yaxis\":\"y\",\"type\":\"scattergl\"},{\"hovertemplate\":\"Location=Micronesia (Federated States of)<br>Period=%{x}<br>FactValueNumeric=%{y}<extra></extra>\",\"legendgroup\":\"Micronesia (Federated States of)\",\"line\":{\"color\":\"#EF553B\",\"dash\":\"solid\"},\"marker\":{\"symbol\":\"circle\"},\"mode\":\"lines\",\"name\":\"Micronesia (Federated States of)\",\"showlegend\":true,\"x\":[2019,2018,2017,2016,2015,2014,2013,2012,2011,2010,2009,2008,2007,2006,2005,2004,2003,2002,2001,2000],\"xaxis\":\"x\",\"y\":[0.18,0.24,0.31,2.0,1.0,1.0,2.0,0.0,0.0,3.0,4.0,2.0,3.0,2.0,0.0,5.0,16.0,16.0,16.0,16.0],\"yaxis\":\"y\",\"type\":\"scattergl\"},{\"hovertemplate\":\"Location=Egypt<br>Period=%{x}<br>FactValueNumeric=%{y}<extra></extra>\",\"legendgroup\":\"Egypt\",\"line\":{\"color\":\"#00cc96\",\"dash\":\"solid\"},\"marker\":{\"symbol\":\"circle\"},\"mode\":\"lines\",\"name\":\"Egypt\",\"showlegend\":true,\"x\":[2019,2018,2017,2016,2015,2014,2013,2012,2011,2010,2009,2008,2007,2006,2005,2004,2003,2002,2001,2000],\"xaxis\":\"x\",\"y\":[10141.0,10178.0,10210.0,9287.0,10782.0,11156.0,9280.0,8851.0,10991.0,11328.0,10485.0,10489.0,9983.0,8514.0,8186.0,7954.0,8987.0,8222.0,7473.0,7734.0],\"yaxis\":\"y\",\"type\":\"scattergl\"},{\"hovertemplate\":\"Location=Iraq<br>Period=%{x}<br>FactValueNumeric=%{y}<extra></extra>\",\"legendgroup\":\"Iraq\",\"line\":{\"color\":\"#ab63fa\",\"dash\":\"solid\"},\"marker\":{\"symbol\":\"circle\"},\"mode\":\"lines\",\"name\":\"Iraq\",\"showlegend\":true,\"x\":[2019,2018,2017,2016,2015,2014,2013,2012,2011,2010,2009,2008,2007,2006,2005,2004,2003,2002,2001,2000],\"xaxis\":\"x\",\"y\":[10726.0,10423.0,7671.0,7468.0,7278.0,7060.0,5977.0,5996.0,5672.0,6206.0,6083.0,5982.0,5648.0,5384.0,5203.0,5541.0,5644.0,5210.0,4995.0,4870.0],\"yaxis\":\"y\",\"type\":\"scattergl\"},{\"hovertemplate\":\"Location=Cuba<br>Period=%{x}<br>FactValueNumeric=%{y}<extra></extra>\",\"legendgroup\":\"Cuba\",\"line\":{\"color\":\"#FFA15A\",\"dash\":\"solid\"},\"marker\":{\"symbol\":\"circle\"},\"mode\":\"lines\",\"name\":\"Cuba\",\"showlegend\":true,\"x\":[2019,2018,2017,2016,2015,2014,2013,2012,2011,2010,2009,2008,2007,2006,2005,2004,2003,2002,2001,2000],\"xaxis\":\"x\",\"y\":[1007.0,997.3,986.9,975.0,1020.0,960.0,907.0,938.0,883.0,935.0,993.0,1029.0,967.0,1092.0,1305.0,1286.0,1291.0,1488.0,1590.0,1753.0],\"yaxis\":\"y\",\"type\":\"scattergl\"},{\"hovertemplate\":\"Location=Slovenia<br>Period=%{x}<br>FactValueNumeric=%{y}<extra></extra>\",\"legendgroup\":\"Slovenia\",\"line\":{\"color\":\"#19d3f3\",\"dash\":\"solid\"},\"marker\":{\"symbol\":\"circle\"},\"mode\":\"lines\",\"name\":\"Slovenia\",\"showlegend\":true,\"x\":[2019,2018,2017,2016,2015,2014,2013,2012,2011,2010,2009,2008,2007,2006,2005,2004,2003,2002,2001,2000],\"xaxis\":\"x\",\"y\":[105.0,94.0,107.0,134.0,125.0,113.0,129.0,136.0,145.0,147.0,182.0,224.0,314.0,275.0,269.0,286.0,258.0,281.0,298.0,325.0],\"yaxis\":\"y\",\"type\":\"scattergl\"},{\"hovertemplate\":\"Location=The former Yugoslav Republic of Macedonia<br>Period=%{x}<br>FactValueNumeric=%{y}<extra></extra>\",\"legendgroup\":\"The former Yugoslav Republic of Macedonia\",\"line\":{\"color\":\"#FF6692\",\"dash\":\"solid\"},\"marker\":{\"symbol\":\"circle\"},\"mode\":\"lines\",\"name\":\"The former Yugoslav Republic of Macedonia\",\"showlegend\":true,\"x\":[2019,2018,2017,2016,2015,2014,2013,2012,2011,2010,2009,2008,2007,2006,2005,2004,2003,2002,2001,2000],\"xaxis\":\"x\",\"y\":[107.2,108.0,126.1,134.0,153.0,134.0,204.0,136.0,177.0,167.0,165.0,167.0,178.0,144.0,147.0,160.0,131.0,181.0,110.0,167.0],\"yaxis\":\"y\",\"type\":\"scattergl\"},{\"hovertemplate\":\"Location=Myanmar<br>Period=%{x}<br>FactValueNumeric=%{y}<extra></extra>\",\"legendgroup\":\"Myanmar\",\"line\":{\"color\":\"#B6E880\",\"dash\":\"solid\"},\"marker\":{\"symbol\":\"circle\"},\"mode\":\"lines\",\"name\":\"Myanmar\",\"showlegend\":true,\"x\":[2019,2018,2017,2016,2015,2014,2013,2012,2011,2010,2009,2008,2007,2006,2005,2004,2003,2002,2001,2000],\"xaxis\":\"x\",\"y\":[11004.0,10847.0,10694.0,10540.0,10394.0,10257.0,10105.0,10036.0,9691.0,9655.0,9618.0,9598.0,9450.0,9353.0,9446.0,9576.0,9660.0,9724.0,9737.0,9767.0],\"yaxis\":\"y\",\"type\":\"scattergl\"},{\"hovertemplate\":\"Location=Venezuela (Bolivarian Republic of)<br>Period=%{x}<br>FactValueNumeric=%{y}<extra></extra>\",\"legendgroup\":\"Venezuela (Bolivarian Republic of)\",\"line\":{\"color\":\"#FF97FF\",\"dash\":\"solid\"},\"marker\":{\"symbol\":\"circle\"},\"mode\":\"lines\",\"name\":\"Venezuela (Bolivarian Republic of)\",\"showlegend\":true,\"x\":[2019,2018,2017,2016,2015,2014,2013,2012,2011,2010,2009,2008,2007,2006,2005,2004,2003,2002,2001,2000],\"xaxis\":\"x\",\"y\":[11127.0,11041.0,11106.0,10640.0,10501.0,10360.0,10537.0,10105.0,8684.0,8877.0,10329.0,10416.0,10016.0,8276.0,7182.0,7328.0,6989.0,7493.0,7404.0,6631.0],\"yaxis\":\"y\",\"type\":\"scattergl\"},{\"hovertemplate\":\"Location=Sudan<br>Period=%{x}<br>FactValueNumeric=%{y}<extra></extra>\",\"legendgroup\":\"Sudan\",\"line\":{\"color\":\"#FECB52\",\"dash\":\"solid\"},\"marker\":{\"symbol\":\"circle\"},\"mode\":\"lines\",\"name\":\"Sudan\",\"showlegend\":true,\"x\":[2019,2018,2017,2016,2015,2014,2013,2012,2011,2010,2009,2008,2007,2006,2005,2004,2003,2002,2001,2000],\"xaxis\":\"x\",\"y\":[11459.0,10910.0,10965.0,10178.0,9783.0,9467.0,8226.0,8029.0,7451.0,8233.0,8166.0,8160.0,7999.0,7886.0,7919.0,7751.0,7576.0,7284.0,7127.0,6955.0],\"yaxis\":\"y\",\"type\":\"scattergl\"},{\"hovertemplate\":\"Location=Seychelles<br>Period=%{x}<br>FactValueNumeric=%{y}<extra></extra>\",\"legendgroup\":\"Seychelles\",\"line\":{\"color\":\"#636efa\",\"dash\":\"solid\"},\"marker\":{\"symbol\":\"circle\"},\"mode\":\"lines\",\"name\":\"Seychelles\",\"showlegend\":true,\"x\":[2019,2018,2017,2016,2015,2014,2013,2012,2011,2010,2009,2008,2007,2006,2005,2004,2003,2002,2001,2000],\"xaxis\":\"x\",\"y\":[11.01,11.02,11.03,15.0,13.0,12.0,8.0,10.0,11.0,13.0,9.0,6.0,16.0,11.0,9.0,8.0,15.0,16.0,10.0,11.0],\"yaxis\":\"y\",\"type\":\"scattergl\"},{\"hovertemplate\":\"Location=Solomon Islands<br>Period=%{x}<br>FactValueNumeric=%{y}<extra></extra>\",\"legendgroup\":\"Solomon Islands\",\"line\":{\"color\":\"#EF553B\",\"dash\":\"solid\"},\"marker\":{\"symbol\":\"circle\"},\"mode\":\"lines\",\"name\":\"Solomon Islands\",\"showlegend\":true,\"x\":[2019,2018,2017,2016,2015,2014,2013,2012,2011,2010,2009,2008,2007,2006,2005,2004,2003,2002,2001,2000],\"xaxis\":\"x\",\"y\":[110.7,108.5,106.4,104.0,102.0,99.0,98.0,95.0,94.0,94.02,92.01,88.07,87.0,85.01,82.01,84.0,84.0,82.99,78.0,73.0],\"yaxis\":\"y\",\"type\":\"scattergl\"},{\"hovertemplate\":\"Location=Papua New Guinea<br>Period=%{x}<br>FactValueNumeric=%{y}<extra></extra>\",\"legendgroup\":\"Papua New Guinea\",\"line\":{\"color\":\"#00cc96\",\"dash\":\"solid\"},\"marker\":{\"symbol\":\"circle\"},\"mode\":\"lines\",\"name\":\"Papua New Guinea\",\"showlegend\":true,\"x\":[2019,2018,2017,2016,2015,2014,2013,2012,2011,2010,2009,2008,2007,2006,2005,2004,2003,2002,2001,2000],\"xaxis\":\"x\",\"y\":[1105.0,1163.0,1173.0,1150.0,1142.0,1140.0,1269.0,1236.0,1258.0,1249.0,1255.0,1217.0,1194.0,1196.0,1172.0,1122.0,1096.0,1096.0,1043.0,1018.0],\"yaxis\":\"y\",\"type\":\"scattergl\"},{\"hovertemplate\":\"Location=Nicaragua<br>Period=%{x}<br>FactValueNumeric=%{y}<extra></extra>\",\"legendgroup\":\"Nicaragua\",\"line\":{\"color\":\"#ab63fa\",\"dash\":\"solid\"},\"marker\":{\"symbol\":\"circle\"},\"mode\":\"lines\",\"name\":\"Nicaragua\",\"showlegend\":true,\"x\":[2019,2018,2017,2016,2015,2014,2013,2012,2011,2010,2009,2008,2007,2006,2005,2004,2003,2002,2001,2000],\"xaxis\":\"x\",\"y\":[1109.0,1073.0,1038.0,1016.0,1004.0,993.0,830.0,910.0,846.0,843.0,829.0,813.0,807.0,891.0,877.0,851.0,847.0,827.0,825.0,828.0],\"yaxis\":\"y\",\"type\":\"scattergl\"},{\"hovertemplate\":\"Location=Lebanon<br>Period=%{x}<br>FactValueNumeric=%{y}<extra></extra>\",\"legendgroup\":\"Lebanon\",\"line\":{\"color\":\"#FFA15A\",\"dash\":\"solid\"},\"marker\":{\"symbol\":\"circle\"},\"mode\":\"lines\",\"name\":\"Lebanon\",\"showlegend\":true,\"x\":[2019,2018,2017,2016,2015,2014,2013,2012,2011,2010,2009,2008,2007,2006,2005,2004,2003,2002,2001,2000],\"xaxis\":\"x\",\"y\":[1127.0,1117.0,1114.0,1090.0,1058.0,1008.0,943.2,879.0,772.0,724.0,711.0,706.0,711.0,780.3,799.0,801.0,793.0,767.0,749.0,737.0],\"yaxis\":\"y\",\"type\":\"scattergl\"},{\"hovertemplate\":\"Location=Norway<br>Period=%{x}<br>FactValueNumeric=%{y}<extra></extra>\",\"legendgroup\":\"Norway\",\"line\":{\"color\":\"#19d3f3\",\"dash\":\"solid\"},\"marker\":{\"symbol\":\"circle\"},\"mode\":\"lines\",\"name\":\"Norway\",\"showlegend\":true,\"x\":[2019,2018,2017,2016,2015,2014,2013,2012,2011,2010,2009,2008,2007,2006,2005,2004,2003,2002,2001,2000],\"xaxis\":\"x\",\"y\":[114.2,114.2,112.1,143.0,133.0,155.0,193.0,151.0,173.0,214.0,222.0,263.0,240.0,250.0,245.0,289.0,306.0,336.0,297.0,362.0],\"yaxis\":\"y\",\"type\":\"scattergl\"},{\"hovertemplate\":\"Location=Mauritania<br>Period=%{x}<br>FactValueNumeric=%{y}<extra></extra>\",\"legendgroup\":\"Mauritania\",\"line\":{\"color\":\"#FF6692\",\"dash\":\"solid\"},\"marker\":{\"symbol\":\"circle\"},\"mode\":\"lines\",\"name\":\"Mauritania\",\"showlegend\":true,\"x\":[2019,2018,2017,2016,2015,2014,2013,2012,2011,2010,2009,2008,2007,2006,2005,2004,2003,2002,2001,2000],\"xaxis\":\"x\",\"y\":[1158.0,1129.0,1099.0,1064.0,1042.0,1006.0,972.0,943.0,940.0,922.0,889.0,866.0,822.0,810.0,800.0,784.0,738.0,719.5,700.0,686.0],\"yaxis\":\"y\",\"type\":\"scattergl\"},{\"hovertemplate\":\"Location=Saudi Arabia<br>Period=%{x}<br>FactValueNumeric=%{y}<extra></extra>\",\"legendgroup\":\"Saudi Arabia\",\"line\":{\"color\":\"#B6E880\",\"dash\":\"solid\"},\"marker\":{\"symbol\":\"circle\"},\"mode\":\"lines\",\"name\":\"Saudi Arabia\",\"showlegend\":true,\"x\":[2019,2018,2017,2016,2015,2014,2013,2012,2011,2010,2009,2008,2007,2006,2005,2004,2003,2002,2001,2000],\"xaxis\":\"x\",\"y\":[12317.0,11185.0,10142.0,9311.0,8313.0,7718.0,7898.0,7875.0,7375.0,6800.0,6332.0,6658.0,6555.0,6065.0,6167.0,5328.0,3980.0,3760.0,3627.0,3524.0],\"yaxis\":\"y\",\"type\":\"scattergl\"},{\"hovertemplate\":\"Location=Fiji<br>Period=%{x}<br>FactValueNumeric=%{y}<extra></extra>\",\"legendgroup\":\"Fiji\",\"line\":{\"color\":\"#FF97FF\",\"dash\":\"solid\"},\"marker\":{\"symbol\":\"circle\"},\"mode\":\"lines\",\"name\":\"Fiji\",\"showlegend\":true,\"x\":[2019,2018,2017,2016,2015,2014,2013,2012,2011,2010,2009,2008,2007,2006,2005,2004,2003,2002,2001,2000],\"xaxis\":\"x\",\"y\":[120.3,108.2,97.38,86.0,93.0,70.0,59.0,66.0,76.0,84.0,62.0,106.0,92.0,124.0,107.0,107.0,127.0,61.0,65.0,79.0],\"yaxis\":\"y\",\"type\":\"scattergl\"},{\"hovertemplate\":\"Location=Singapore<br>Period=%{x}<br>FactValueNumeric=%{y}<extra></extra>\",\"legendgroup\":\"Singapore\",\"line\":{\"color\":\"#FECB52\",\"dash\":\"solid\"},\"marker\":{\"symbol\":\"circle\"},\"mode\":\"lines\",\"name\":\"Singapore\",\"showlegend\":true,\"x\":[2019,2018,2017,2016,2015,2014,2013,2012,2011,2010,2009,2008,2007,2006,2005,2004,2003,2002,2001,2000],\"xaxis\":\"x\",\"y\":[121.1,131.0,141.7,155.0,167.0,174.0,173.0,188.0,242.0,261.0,219.0,277.0,276.0,233.0,214.0,261.0,288.0,261.0,238.0,262.0],\"yaxis\":\"y\",\"type\":\"scattergl\"},{\"hovertemplate\":\"Location=Bhutan<br>Period=%{x}<br>FactValueNumeric=%{y}<extra></extra>\",\"legendgroup\":\"Bhutan\",\"line\":{\"color\":\"#636efa\",\"dash\":\"solid\"},\"marker\":{\"symbol\":\"circle\"},\"mode\":\"lines\",\"name\":\"Bhutan\",\"showlegend\":true,\"x\":[2019,2018,2017,2016,2015,2014,2013,2012,2011,2010,2009,2008,2007,2006,2005,2004,2003,2002,2001,2000],\"xaxis\":\"x\",\"y\":[123.5,120.1,116.9,139.0,110.0,85.0,84.0,107.0,116.0,93.0,92.0,102.0,88.0,88.0,87.0,84.0,78.0,74.0,72.0,69.0],\"yaxis\":\"y\",\"type\":\"scattergl\"},{\"hovertemplate\":\"Location=Australia<br>Period=%{x}<br>FactValueNumeric=%{y}<extra></extra>\",\"legendgroup\":\"Australia\",\"line\":{\"color\":\"#EF553B\",\"dash\":\"solid\"},\"marker\":{\"symbol\":\"circle\"},\"mode\":\"lines\",\"name\":\"Australia\",\"showlegend\":true,\"x\":[2019,2018,2017,2016,2015,2014,2013,2012,2011,2010,2009,2008,2007,2006,2005,2004,2003,2002,2001,2000],\"xaxis\":\"x\",\"y\":[1245.0,1193.0,1277.0,1351.0,1243.0,1266.0,1224.0,1339.0,1337.0,1451.0,1555.0,1519.0,1653.0,1648.0,1677.0,1632.0,1671.0,1768.0,1791.0,1873.0],\"yaxis\":\"y\",\"type\":\"scattergl\"},{\"hovertemplate\":\"Location=Lao People's Democratic Republic<br>Period=%{x}<br>FactValueNumeric=%{y}<extra></extra>\",\"legendgroup\":\"Lao People's Democratic Republic\",\"line\":{\"color\":\"#00cc96\",\"dash\":\"solid\"},\"marker\":{\"symbol\":\"circle\"},\"mode\":\"lines\",\"name\":\"Lao People's Democratic Republic\",\"showlegend\":true,\"x\":[2019,2018,2017,2016,2015,2014,2013,2012,2011,2010,2009,2008,2007,2006,2005,2004,2003,2002,2001,2000],\"xaxis\":\"x\",\"y\":[1281.0,1223.0,1167.0,1120.0,1026.0,1087.0,938.0,916.0,890.0,894.0,874.0,853.0,842.0,814.0,804.0,784.0,766.0,749.0,724.0,733.0],\"yaxis\":\"y\",\"type\":\"scattergl\"},{\"hovertemplate\":\"Location=Uganda<br>Period=%{x}<br>FactValueNumeric=%{y}<extra></extra>\",\"legendgroup\":\"Uganda\",\"line\":{\"color\":\"#ab63fa\",\"dash\":\"solid\"},\"marker\":{\"symbol\":\"circle\"},\"mode\":\"lines\",\"name\":\"Uganda\",\"showlegend\":true,\"x\":[2019,2018,2017,2016,2015,2014,2013,2012,2011,2010,2009,2008,2007,2006,2005,2004,2003,2002,2001,2000],\"xaxis\":\"x\",\"y\":[13012.0,12675.0,12324.0,12036.0,11574.0,11154.0,10687.0,10189.0,9508.0,10459.0,10018.0,9662.0,9372.0,9092.0,9002.0,8699.0,8488.0,8389.0,8192.0,8010.0],\"yaxis\":\"y\",\"type\":\"scattergl\"},{\"hovertemplate\":\"Location=South Africa<br>Period=%{x}<br>FactValueNumeric=%{y}<extra></extra>\",\"legendgroup\":\"South Africa\",\"line\":{\"color\":\"#FFA15A\",\"dash\":\"solid\"},\"marker\":{\"symbol\":\"circle\"},\"mode\":\"lines\",\"name\":\"South Africa\",\"showlegend\":true,\"x\":[2019,2018,2017,2016,2015,2014,2013,2012,2011,2010,2009,2008,2007,2006,2005,2004,2003,2002,2001,2000],\"xaxis\":\"x\",\"y\":[13014.0,13118.0,13212.0,14507.0,13345.0,13096.0,12256.0,13979.0,14452.0,14669.0,14459.0,14682.0,15934.0,19913.0,18219.0,19516.0,20280.0,18435.0,17471.0,19780.0],\"yaxis\":\"y\",\"type\":\"scattergl\"},{\"hovertemplate\":\"Location=Philippines<br>Period=%{x}<br>FactValueNumeric=%{y}<extra></extra>\",\"legendgroup\":\"Philippines\",\"line\":{\"color\":\"#19d3f3\",\"dash\":\"solid\"},\"marker\":{\"symbol\":\"circle\"},\"mode\":\"lines\",\"name\":\"Philippines\",\"showlegend\":true,\"x\":[2019,2018,2017,2016,2015,2014,2013,2012,2011,2010,2009,2008,2007,2006,2005,2004,2003,2002,2001,2000],\"xaxis\":\"x\",\"y\":[13017.0,12689.0,12366.0,12690.0,12720.0,10972.0,10513.0,10509.0,10002.0,10796.0,9765.0,9130.0,9462.0,8636.0,8755.0,8567.0,8429.0,8269.0,7724.0,7679.0],\"yaxis\":\"y\",\"type\":\"scattergl\"},{\"hovertemplate\":\"Location=Trinidad and Tobago<br>Period=%{x}<br>FactValueNumeric=%{y}<extra></extra>\",\"legendgroup\":\"Trinidad and Tobago\",\"line\":{\"color\":\"#FF6692\",\"dash\":\"solid\"},\"marker\":{\"symbol\":\"circle\"},\"mode\":\"lines\",\"name\":\"Trinidad and Tobago\",\"showlegend\":true,\"x\":[2019,2018,2017,2016,2015,2014,2013,2012,2011,2010,2009,2008,2007,2006,2005,2004,2003,2002,2001,2000],\"xaxis\":\"x\",\"y\":[130.2,141.3,153.2,165.0,180.0,202.0,189.0,240.0,213.0,268.0,292.0,326.0,275.0,262.0,249.0,231.0,260.0,192.0,205.0,172.0],\"yaxis\":\"y\",\"type\":\"scattergl\"},{\"hovertemplate\":\"Location=Eritrea<br>Period=%{x}<br>FactValueNumeric=%{y}<extra></extra>\",\"legendgroup\":\"Eritrea\",\"line\":{\"color\":\"#B6E880\",\"dash\":\"solid\"},\"marker\":{\"symbol\":\"circle\"},\"mode\":\"lines\",\"name\":\"Eritrea\",\"showlegend\":true,\"x\":[2019,2018,2017,2016,2015,2014,2013,2012,2011,2010,2009,2008,2007,2006,2005,2004,2003,2002,2001,2000],\"xaxis\":\"x\",\"y\":[1326.0,1292.0,1260.0,1255.0,1235.0,1159.0,1133.0,1096.0,1081.0,1078.0,1060.0,1038.0,1012.0,982.0,959.0,912.0,866.0,815.0,758.0,718.0],\"yaxis\":\"y\",\"type\":\"scattergl\"},{\"hovertemplate\":\"Location=El Salvador<br>Period=%{x}<br>FactValueNumeric=%{y}<extra></extra>\",\"legendgroup\":\"El Salvador\",\"line\":{\"color\":\"#FF97FF\",\"dash\":\"solid\"},\"marker\":{\"symbol\":\"circle\"},\"mode\":\"lines\",\"name\":\"El Salvador\",\"showlegend\":true,\"x\":[2019,2018,2017,2016,2015,2014,2013,2012,2011,2010,2009,2008,2007,2006,2005,2004,2003,2002,2001,2000],\"xaxis\":\"x\",\"y\":[1347.0,1332.0,1318.0,1411.0,1317.0,1284.0,1192.0,1185.0,1310.0,1380.0,1517.0,1740.0,1887.0,2000.0,1797.0,2146.0,2131.0,1971.0,2090.0,2114.0],\"yaxis\":\"y\",\"type\":\"scattergl\"},{\"hovertemplate\":\"Location=Kenya<br>Period=%{x}<br>FactValueNumeric=%{y}<extra></extra>\",\"legendgroup\":\"Kenya\",\"line\":{\"color\":\"#FECB52\",\"dash\":\"solid\"},\"marker\":{\"symbol\":\"circle\"},\"mode\":\"lines\",\"name\":\"Kenya\",\"showlegend\":true,\"x\":[2019,2018,2017,2016,2015,2014,2013,2012,2011,2010,2009,2008,2007,2006,2005,2004,2003,2002,2001,2000],\"xaxis\":\"x\",\"y\":[14883.0,14387.0,13904.0,13463.0,13071.0,12440.0,12031.0,11783.0,11102.0,10793.0,10655.0,10311.0,9967.0,9717.0,9621.0,9229.0,9071.0,8953.0,8695.0,8452.0],\"yaxis\":\"y\",\"type\":\"scattergl\"},{\"hovertemplate\":\"Location=Libya<br>Period=%{x}<br>FactValueNumeric=%{y}<extra></extra>\",\"legendgroup\":\"Libya\",\"line\":{\"color\":\"#636efa\",\"dash\":\"solid\"},\"marker\":{\"symbol\":\"circle\"},\"mode\":\"lines\",\"name\":\"Libya\",\"showlegend\":true,\"x\":[2019,2018,2017,2016,2015,2014,2013,2012,2011,2010,2009,2008,2007,2006,2005,2004,2003,2002,2001,2000],\"xaxis\":\"x\",\"y\":[1444.0,1247.0,1403.0,1635.0,1558.0,1503.0,1455.0,1399.0,1639.0,1363.0,1343.0,1276.0,1265.0,1254.0,1222.0,1212.0,1187.0,1188.0,1150.0,1104.0],\"yaxis\":\"y\",\"type\":\"scattergl\"},{\"hovertemplate\":\"Location=Tajikistan<br>Period=%{x}<br>FactValueNumeric=%{y}<extra></extra>\",\"legendgroup\":\"Tajikistan\",\"line\":{\"color\":\"#EF553B\",\"dash\":\"solid\"},\"marker\":{\"symbol\":\"circle\"},\"mode\":\"lines\",\"name\":\"Tajikistan\",\"showlegend\":true,\"x\":[2019,2018,2017,2016,2015,2014,2013,2012,2011,2010,2009,2008,2007,2006,2005,2004,2003,2002,2001,2000],\"xaxis\":\"x\",\"y\":[1461.0,1461.0,1600.0,1577.0,1552.0,1515.0,1499.0,1461.0,1424.0,1411.0,1376.0,1338.0,1304.0,1289.0,1280.0,1271.0,1241.0,1235.0,1230.0,1210.0],\"yaxis\":\"y\",\"type\":\"scattergl\"},{\"hovertemplate\":\"Location=Cabo Verde<br>Period=%{x}<br>FactValueNumeric=%{y}<extra></extra>\",\"legendgroup\":\"Cabo Verde\",\"line\":{\"color\":\"#00cc96\",\"dash\":\"solid\"},\"marker\":{\"symbol\":\"circle\"},\"mode\":\"lines\",\"name\":\"Cabo Verde\",\"showlegend\":true,\"x\":[2019,2018,2017,2016,2015,2014,2013,2012,2011,2010,2009,2008,2007,2006,2005,2004,2003,2002,2001,2000],\"xaxis\":\"x\",\"y\":[147.3,143.1,139.0,135.0,131.0,127.0,123.0,119.0,117.0,116.0,112.0,109.0,110.0,109.0,110.0,109.0,108.0,104.0,102.0,98.0],\"yaxis\":\"y\",\"type\":\"scattergl\"},{\"hovertemplate\":\"Location=Ireland<br>Period=%{x}<br>FactValueNumeric=%{y}<extra></extra>\",\"legendgroup\":\"Ireland\",\"line\":{\"color\":\"#ab63fa\",\"dash\":\"solid\"},\"marker\":{\"symbol\":\"circle\"},\"mode\":\"lines\",\"name\":\"Ireland\",\"showlegend\":true,\"x\":[2019,2018,2017,2016,2015,2014,2013,2012,2011,2010,2009,2008,2007,2006,2005,2004,2003,2002,2001,2000],\"xaxis\":\"x\",\"y\":[153.0,146.0,162.0,194.0,167.0,199.0,194.0,168.0,192.0,219.0,268.0,288.0,348.0,376.0,412.0,389.0,347.0,390.0,425.0,431.0],\"yaxis\":\"y\",\"type\":\"scattergl\"},{\"hovertemplate\":\"Location=Latvia<br>Period=%{x}<br>FactValueNumeric=%{y}<extra></extra>\",\"legendgroup\":\"Latvia\",\"line\":{\"color\":\"#FFA15A\",\"dash\":\"solid\"},\"marker\":{\"symbol\":\"circle\"},\"mode\":\"lines\",\"name\":\"Latvia\",\"showlegend\":true,\"x\":[2019,2018,2017,2016,2015,2014,2013,2012,2011,2010,2009,2008,2007,2006,2005,2004,2003,2002,2001,2000],\"xaxis\":\"x\",\"y\":[153.5,175.0,158.0,184.0,223.0,250.0,202.0,208.0,188.0,251.0,263.0,402.0,442.0,445.0,481.0,536.0,568.0,601.0,610.0,695.0],\"yaxis\":\"y\",\"type\":\"scattergl\"},{\"hovertemplate\":\"Location=Timor-Leste<br>Period=%{x}<br>FactValueNumeric=%{y}<extra></extra>\",\"legendgroup\":\"Timor-Leste\",\"line\":{\"color\":\"#19d3f3\",\"dash\":\"solid\"},\"marker\":{\"symbol\":\"circle\"},\"mode\":\"lines\",\"name\":\"Timor-Leste\",\"showlegend\":true,\"x\":[2019,2018,2017,2016,2015,2014,2013,2012,2011,2010,2009,2008,2007,2006,2005,2004,2003,2002,2001,2000],\"xaxis\":\"x\",\"y\":[153.9,155.3,156.7,161.0,157.0,153.0,171.0,166.0,171.0,167.0,163.0,159.0,157.9,162.0,155.0,149.0,142.0,134.0,126.9,128.0],\"yaxis\":\"y\",\"type\":\"scattergl\"},{\"hovertemplate\":\"Location=Mauritius<br>Period=%{x}<br>FactValueNumeric=%{y}<extra></extra>\",\"legendgroup\":\"Mauritius\",\"line\":{\"color\":\"#FF6692\",\"dash\":\"solid\"},\"marker\":{\"symbol\":\"circle\"},\"mode\":\"lines\",\"name\":\"Mauritius\",\"showlegend\":true,\"x\":[2019,2018,2017,2016,2015,2014,2013,2012,2011,2010,2009,2008,2007,2006,2005,2004,2003,2002,2001,2000],\"xaxis\":\"x\",\"y\":[155.3,156.9,158.6,173.0,174.0,165.0,153.0,176.0,188.0,166.0,150.0,190.0,157.0,154.0,142.0,187.0,186.0,227.0,167.0,191.0],\"yaxis\":\"y\",\"type\":\"scattergl\"},{\"hovertemplate\":\"Location=Paraguay<br>Period=%{x}<br>FactValueNumeric=%{y}<extra></extra>\",\"legendgroup\":\"Paraguay\",\"line\":{\"color\":\"#B6E880\",\"dash\":\"solid\"},\"marker\":{\"symbol\":\"circle\"},\"mode\":\"lines\",\"name\":\"Paraguay\",\"showlegend\":true,\"x\":[2019,2018,2017,2016,2015,2014,2013,2012,2011,2010,2009,2008,2007,2006,2005,2004,2003,2002,2001,2000],\"xaxis\":\"x\",\"y\":[1552.0,1535.0,1524.0,1529.0,1472.0,1438.0,1512.0,1470.0,1540.0,1557.0,1453.0,1376.0,1033.0,996.0,842.0,692.0,659.0,490.0,647.0,502.0],\"yaxis\":\"y\",\"type\":\"scattergl\"},{\"hovertemplate\":\"Location=Honduras<br>Period=%{x}<br>FactValueNumeric=%{y}<extra></extra>\",\"legendgroup\":\"Honduras\",\"line\":{\"color\":\"#FF97FF\",\"dash\":\"solid\"},\"marker\":{\"symbol\":\"circle\"},\"mode\":\"lines\",\"name\":\"Honduras\",\"showlegend\":true,\"x\":[2019,2018,2017,2016,2015,2014,2013,2012,2011,2010,2009,2008,2007,2006,2005,2004,2003,2002,2001,2000],\"xaxis\":\"x\",\"y\":[1572.0,1546.0,1527.0,1517.0,1461.0,1446.0,1445.0,1412.0,1384.0,1362.0,1329.0,1282.0,1224.0,1207.0,1182.0,1161.0,1132.0,1105.0,1048.0,1015.0],\"yaxis\":\"y\",\"type\":\"scattergl\"},{\"hovertemplate\":\"Location=Congo<br>Period=%{x}<br>FactValueNumeric=%{y}<extra></extra>\",\"legendgroup\":\"Congo\",\"line\":{\"color\":\"#FECB52\",\"dash\":\"solid\"},\"marker\":{\"symbol\":\"circle\"},\"mode\":\"lines\",\"name\":\"Congo\",\"showlegend\":true,\"x\":[2019,2018,2017,2016,2015,2014,2013,2012,2011,2010,2009,2008,2007,2006,2005,2004,2003,2002,2001,2000],\"xaxis\":\"x\",\"y\":[1598.0,1530.0,1464.0,1405.0,1339.0,1294.0,1246.0,1210.0,1187.0,1156.0,1088.0,1040.0,1009.0,955.0,922.0,906.0,887.0,859.0,839.0,822.0],\"yaxis\":\"y\",\"type\":\"scattergl\"},{\"hovertemplate\":\"Location=Mexico<br>Period=%{x}<br>FactValueNumeric=%{y}<extra></extra>\",\"legendgroup\":\"Mexico\",\"line\":{\"color\":\"#636efa\",\"dash\":\"solid\"},\"marker\":{\"symbol\":\"circle\"},\"mode\":\"lines\",\"name\":\"Mexico\",\"showlegend\":true,\"x\":[2019,2018,2017,2016,2015,2014,2013,2012,2011,2010,2009,2008,2007,2006,2005,2004,2003,2002,2001,2000],\"xaxis\":\"x\",\"y\":[16303.0,16348.0,16395.0,16725.0,16574.0,16009.0,15856.0,17102.0,16615.0,16559.0,17820.0,17062.0,15349.0,16769.0,16579.0,15629.0,15444.0,14626.0,14016.0,14028.0],\"yaxis\":\"y\",\"type\":\"scattergl\"},{\"hovertemplate\":\"Location=Russian Federation<br>Period=%{x}<br>FactValueNumeric=%{y}<extra></extra>\",\"legendgroup\":\"Russian Federation\",\"line\":{\"color\":\"#EF553B\",\"dash\":\"solid\"},\"marker\":{\"symbol\":\"circle\"},\"mode\":\"lines\",\"name\":\"Russian Federation\",\"showlegend\":true,\"x\":[2019,2018,2017,2016,2015,2014,2013,2012,2011,2010,2009,2008,2007,2006,2005,2004,2003,2002,2001,2000],\"xaxis\":\"x\",\"y\":[17507.0,18779.0,19680.0,20938.0,25364.0,29436.0,29832.0,30829.0,30252.0,29443.0,31040.0,36517.0,40351.0,39426.0,41410.0,43098.0,44771.0,43045.0,41984.0,40792.0],\"yaxis\":\"y\",\"type\":\"scattergl\"},{\"hovertemplate\":\"Location=Iran (Islamic Republic of)<br>Period=%{x}<br>FactValueNumeric=%{y}<extra></extra>\",\"legendgroup\":\"Iran (Islamic Republic of)\",\"line\":{\"color\":\"#00cc96\",\"dash\":\"solid\"},\"marker\":{\"symbol\":\"circle\"},\"mode\":\"lines\",\"name\":\"Iran (Islamic Republic of)\",\"showlegend\":true,\"x\":[2019,2018,2017,2016,2015,2014,2013,2012,2011,2010,2009,2008,2007,2006,2005,2004,2003,2002,2001,2000],\"xaxis\":\"x\",\"y\":[17803.0,17716.0,16703.0,16426.0,17098.0,17395.0,18552.0,19681.0,20690.0,23970.0,23686.0,24086.0,23628.0,28422.0,28606.0,26898.0,26519.0,22551.0,20339.0,17588.0],\"yaxis\":\"y\",\"type\":\"scattergl\"},{\"hovertemplate\":\"Location=Jordan<br>Period=%{x}<br>FactValueNumeric=%{y}<extra></extra>\",\"legendgroup\":\"Jordan\",\"line\":{\"color\":\"#ab63fa\",\"dash\":\"solid\"},\"marker\":{\"symbol\":\"circle\"},\"mode\":\"lines\",\"name\":\"Jordan\",\"showlegend\":true,\"x\":[2019,2018,2017,2016,2015,2014,2013,2012,2011,2010,2009,2008,2007,2006,2005,2004,2003,2002,2001,2000],\"xaxis\":\"x\",\"y\":[1717.0,1757.0,2106.0,2306.0,2220.0,2133.0,2033.0,1916.0,1942.0,1630.0,1535.0,1437.0,1386.0,1336.0,1302.0,1270.0,1242.0,1245.0,1215.0,1190.0],\"yaxis\":\"y\",\"type\":\"scattergl\"},{\"hovertemplate\":\"Location=Guyana<br>Period=%{x}<br>FactValueNumeric=%{y}<extra></extra>\",\"legendgroup\":\"Guyana\",\"line\":{\"color\":\"#FFA15A\",\"dash\":\"solid\"},\"marker\":{\"symbol\":\"circle\"},\"mode\":\"lines\",\"name\":\"Guyana\",\"showlegend\":true,\"x\":[2019,2018,2017,2016,2015,2014,2013,2012,2011,2010,2009,2008,2007,2006,2005,2004,2003,2002,2001,2000],\"xaxis\":\"x\",\"y\":[174.8,175.5,176.2,190.0,187.0,217.0,150.0,155.0,196.0,135.0,117.0,172.0,266.0,248.0,213.0,217.0,209.0,179.0,181.0,196.0],\"yaxis\":\"y\",\"type\":\"scattergl\"},{\"hovertemplate\":\"Location=Central African Republic<br>Period=%{x}<br>FactValueNumeric=%{y}<extra></extra>\",\"legendgroup\":\"Central African Republic\",\"line\":{\"color\":\"#19d3f3\",\"dash\":\"solid\"},\"marker\":{\"symbol\":\"circle\"},\"mode\":\"lines\",\"name\":\"Central African Republic\",\"showlegend\":true,\"x\":[2019,2018,2017,2016,2015,2014,2013,2012,2011,2010,2009,2008,2007,2006,2005,2004,2003,2002,2001,2000],\"xaxis\":\"x\",\"y\":[1790.0,1678.0,1625.0,1546.0,1528.0,1504.0,1480.0,1313.0,1339.0,1339.0,1389.0,1381.0,1371.0,1360.0,1347.0,1332.0,1301.0,1202.0,1188.0,1177.0],\"yaxis\":\"y\",\"type\":\"scattergl\"},{\"hovertemplate\":\"Location=United Republic of Tanzania<br>Period=%{x}<br>FactValueNumeric=%{y}<extra></extra>\",\"legendgroup\":\"United Republic of Tanzania\",\"line\":{\"color\":\"#FF6692\",\"dash\":\"solid\"},\"marker\":{\"symbol\":\"circle\"},\"mode\":\"lines\",\"name\":\"United Republic of Tanzania\",\"showlegend\":true,\"x\":[2019,2018,2017,2016,2015,2014,2013,2012,2011,2010,2009,2008,2007,2006,2005,2004,2003,2002,2001,2000],\"xaxis\":\"x\",\"y\":[18054.0,17470.0,16902.0,16252.0,15858.0,15296.0,14687.0,14264.0,13062.0,12784.0,12343.0,11871.0,11718.0,11391.0,11456.0,11249.0,10903.0,11043.0,11015.0,10794.0],\"yaxis\":\"y\",\"type\":\"scattergl\"},{\"hovertemplate\":\"Location=Malta<br>Period=%{x}<br>FactValueNumeric=%{y}<extra></extra>\",\"legendgroup\":\"Malta\",\"line\":{\"color\":\"#B6E880\",\"dash\":\"solid\"},\"marker\":{\"symbol\":\"circle\"},\"mode\":\"lines\",\"name\":\"Malta\",\"showlegend\":true,\"x\":[2019,2018,2017,2016,2015,2014,2013,2012,2011,2010,2009,2008,2007,2006,2005,2004,2003,2002,2001,2000],\"xaxis\":\"x\",\"y\":[18.09,20.35,21.47,26.0,12.0,10.0,20.0,12.0,20.0,16.29,21.61,17.7,16.0,10.0,17.0,14.0,18.0,16.0,19.0,18.0],\"yaxis\":\"y\",\"type\":\"scattergl\"},{\"hovertemplate\":\"Location=Spain<br>Period=%{x}<br>FactValueNumeric=%{y}<extra></extra>\",\"legendgroup\":\"Spain\",\"line\":{\"color\":\"#FF97FF\",\"dash\":\"solid\"},\"marker\":{\"symbol\":\"circle\"},\"mode\":\"lines\",\"name\":\"Spain\",\"showlegend\":true,\"x\":[2019,2018,2017,2016,2015,2014,2013,2012,2011,2010,2009,2008,2007,2006,2005,2004,2003,2002,2001,2000],\"xaxis\":\"x\",\"y\":[1829.0,1918.0,1944.0,1922.0,1973.0,1965.0,1889.0,2002.0,2212.0,2555.0,2798.0,3196.0,3952.0,4286.0,4666.0,5056.0,5709.0,5701.0,5934.0,6295.0],\"yaxis\":\"y\",\"type\":\"scattergl\"},{\"hovertemplate\":\"Location=Liberia<br>Period=%{x}<br>FactValueNumeric=%{y}<extra></extra>\",\"legendgroup\":\"Liberia\",\"line\":{\"color\":\"#FECB52\",\"dash\":\"solid\"},\"marker\":{\"symbol\":\"circle\"},\"mode\":\"lines\",\"name\":\"Liberia\",\"showlegend\":true,\"x\":[2019,2018,2017,2016,2015,2014,2013,2012,2011,2010,2009,2008,2007,2006,2005,2004,2003,2002,2001,2000],\"xaxis\":\"x\",\"y\":[1920.0,1828.0,1740.0,1657.0,1574.0,1517.0,1450.0,1405.0,1322.0,1288.0,1254.0,1222.0,1163.0,1155.0,1175.0,1171.0,1154.0,1052.0,1046.0,1011.0],\"yaxis\":\"y\",\"type\":\"scattergl\"},{\"hovertemplate\":\"Location=Tunisia<br>Period=%{x}<br>FactValueNumeric=%{y}<extra></extra>\",\"legendgroup\":\"Tunisia\",\"line\":{\"color\":\"#636efa\",\"dash\":\"solid\"},\"marker\":{\"symbol\":\"circle\"},\"mode\":\"lines\",\"name\":\"Tunisia\",\"showlegend\":true,\"x\":[2019,2018,2017,2016,2015,2014,2013,2012,2011,2010,2009,2008,2007,2006,2005,2004,2003,2002,2001,2000],\"xaxis\":\"x\",\"y\":[1928.0,2166.0,2461.0,2595.0,2559.0,2517.0,2502.0,2482.0,2542.0,2538.0,2508.0,2498.0,2447.0,2434.0,2432.0,2348.0,2322.0,2261.0,2277.0,2302.0],\"yaxis\":\"y\",\"type\":\"scattergl\"},{\"hovertemplate\":\"Location=Switzerland<br>Period=%{x}<br>FactValueNumeric=%{y}<extra></extra>\",\"legendgroup\":\"Switzerland\",\"line\":{\"color\":\"#EF553B\",\"dash\":\"solid\"},\"marker\":{\"symbol\":\"circle\"},\"mode\":\"lines\",\"name\":\"Switzerland\",\"showlegend\":true,\"x\":[2019,2018,2017,2016,2015,2014,2013,2012,2011,2010,2009,2008,2007,2006,2005,2004,2003,2002,2001,2000],\"xaxis\":\"x\",\"y\":[193.0,240.0,237.0,223.0,261.0,251.0,277.0,350.0,330.0,337.0,360.0,368.0,396.0,381.0,422.0,526.0,563.0,529.0,561.0,610.0],\"yaxis\":\"y\",\"type\":\"scattergl\"},{\"hovertemplate\":\"Location=Romania<br>Period=%{x}<br>FactValueNumeric=%{y}<extra></extra>\",\"legendgroup\":\"Romania\",\"line\":{\"color\":\"#00cc96\",\"dash\":\"solid\"},\"marker\":{\"symbol\":\"circle\"},\"mode\":\"lines\",\"name\":\"Romania\",\"showlegend\":true,\"x\":[2019,2018,2017,2016,2015,2014,2013,2012,2011,2010,2009,2008,2007,2006,2005,2004,2003,2002,2001,2000],\"xaxis\":\"x\",\"y\":[1992.0,1995.0,2084.0,2044.0,1993.0,1996.0,1962.0,2105.0,2118.0,2451.0,2884.0,3233.0,3019.0,2811.0,2855.0,2651.0,2563.0,2536.0,2864.0,2753.0],\"yaxis\":\"y\",\"type\":\"scattergl\"},{\"hovertemplate\":\"Location=Canada<br>Period=%{x}<br>FactValueNumeric=%{y}<extra></extra>\",\"legendgroup\":\"Canada\",\"line\":{\"color\":\"#ab63fa\",\"dash\":\"solid\"},\"marker\":{\"symbol\":\"circle\"},\"mode\":\"lines\",\"name\":\"Canada\",\"showlegend\":true,\"x\":[2019,2018,2017,2016,2015,2014,2013,2012,2011,2010,2009,2008,2007,2006,2005,2004,2003,2002,2001,2000],\"xaxis\":\"x\",\"y\":[1998.0,2013.0,2054.0,2118.0,2073.0,2066.0,2212.0,2356.0,2189.0,2508.0,2418.0,2681.0,2924.0,2975.0,3051.0,2846.0,2871.0,3012.0,2841.0,2993.0],\"yaxis\":\"y\",\"type\":\"scattergl\"},{\"hovertemplate\":\"Location=Kiribati<br>Period=%{x}<br>FactValueNumeric=%{y}<extra></extra>\",\"legendgroup\":\"Kiribati\",\"line\":{\"color\":\"#FFA15A\",\"dash\":\"solid\"},\"marker\":{\"symbol\":\"circle\"},\"mode\":\"lines\",\"name\":\"Kiribati\",\"showlegend\":true,\"x\":[2019,2018,2017,2016,2015,2014,2013,2012,2011,2010,2009,2008,2007,2006,2005,2004,2003,2002,2001,2000],\"xaxis\":\"x\",\"y\":[2.26,2.47,2.69,5.0,4.0,5.0,1.0,6.0,2.0,6.0,5.0,2.0,6.0,17.0,10.0,17.0,17.0,7.0,6.0,7.0],\"yaxis\":\"y\",\"type\":\"scattergl\"},{\"hovertemplate\":\"Location=Qatar<br>Period=%{x}<br>FactValueNumeric=%{y}<extra></extra>\",\"legendgroup\":\"Qatar\",\"line\":{\"color\":\"#19d3f3\",\"dash\":\"solid\"},\"marker\":{\"symbol\":\"circle\"},\"mode\":\"lines\",\"name\":\"Qatar\",\"showlegend\":true,\"x\":[2019,2018,2017,2016,2015,2014,2013,2012,2011,2010,2009,2008,2007,2006,2005,2004,2003,2002,2001,2000],\"xaxis\":\"x\",\"y\":[205.8,224.7,236.4,239.0,285.0,330.0,332.0,279.0,271.0,296.0,300.0,327.0,290.0,364.0,275.0,222.0,222.0,203.0,171.0,185.0],\"yaxis\":\"y\",\"type\":\"scattergl\"},{\"hovertemplate\":\"Location=Haiti<br>Period=%{x}<br>FactValueNumeric=%{y}<extra></extra>\",\"legendgroup\":\"Haiti\",\"line\":{\"color\":\"#FF6692\",\"dash\":\"solid\"},\"marker\":{\"symbol\":\"circle\"},\"mode\":\"lines\",\"name\":\"Haiti\",\"showlegend\":true,\"x\":[2019,2018,2017,2016,2015,2014,2013,2012,2011,2010,2009,2008,2007,2006,2005,2004,2003,2002,2001,2000],\"xaxis\":\"x\",\"y\":[2115.0,2068.0,2023.0,1980.0,1924.0,1884.0,1836.0,1833.0,1884.0,1864.0,1788.0,1778.0,1759.0,1742.0,1704.0,1709.0,1720.0,1658.0,1610.0,1478.0],\"yaxis\":\"y\",\"type\":\"scattergl\"},{\"hovertemplate\":\"Location=India<br>Period=%{x}<br>FactValueNumeric=%{y}<extra></extra>\",\"legendgroup\":\"India\",\"line\":{\"color\":\"#B6E880\",\"dash\":\"solid\"},\"marker\":{\"symbol\":\"circle\"},\"mode\":\"lines\",\"name\":\"India\",\"showlegend\":true,\"x\":[2019,2018,2017,2016,2015,2014,2013,2012,2011,2010,2009,2008,2007,2006,2005,2004,2003,2002,2001,2000],\"xaxis\":\"x\",\"y\":[212596.0,210086.0,202927.0,202999.0,204523.0,208670.0,217778.0,222797.0,217929.0,212091.0,207613.0,205913.0,197124.0,189903.0,182346.0,176179.0,175576.0,178686.0,178818.0,178132.0],\"yaxis\":\"y\",\"type\":\"scattergl\"},{\"hovertemplate\":\"Location=Denmark<br>Period=%{x}<br>FactValueNumeric=%{y}<extra></extra>\",\"legendgroup\":\"Denmark\",\"line\":{\"color\":\"#FF97FF\",\"dash\":\"solid\"},\"marker\":{\"symbol\":\"circle\"},\"mode\":\"lines\",\"name\":\"Denmark\",\"showlegend\":true,\"x\":[2019,2018,2017,2016,2015,2014,2013,2012,2011,2010,2009,2008,2007,2006,2005,2004,2003,2002,2001,2000],\"xaxis\":\"x\",\"y\":[213.5,183.3,187.4,227.0,197.3,196.0,198.0,172.0,227.0,277.0,312.0,419.0,419.0,315.0,352.0,380.0,445.0,477.0,459.0,513.0],\"yaxis\":\"y\",\"type\":\"scattergl\"},{\"hovertemplate\":\"Location=Finland<br>Period=%{x}<br>FactValueNumeric=%{y}<extra></extra>\",\"legendgroup\":\"Finland\",\"line\":{\"color\":\"#FECB52\",\"dash\":\"solid\"},\"marker\":{\"symbol\":\"circle\"},\"mode\":\"lines\",\"name\":\"Finland\",\"showlegend\":true,\"x\":[2019,2018,2017,2016,2015,2014,2013,2012,2011,2010,2009,2008,2007,2006,2005,2004,2003,2002,2001,2000],\"xaxis\":\"x\",\"y\":[215.0,246.0,245.0,260.0,278.0,241.0,268.0,263.0,301.0,280.0,307.0,359.0,396.0,346.0,391.0,400.0,413.0,445.0,462.0,421.0],\"yaxis\":\"y\",\"type\":\"scattergl\"},{\"hovertemplate\":\"Location=United Kingdom of Great Britain and Northern Ireland<br>Period=%{x}<br>FactValueNumeric=%{y}<extra></extra>\",\"legendgroup\":\"United Kingdom of Great Britain and Northern Ireland\",\"line\":{\"color\":\"#636efa\",\"dash\":\"solid\"},\"marker\":{\"symbol\":\"circle\"},\"mode\":\"lines\",\"name\":\"United Kingdom of Great Britain and Northern Ireland\",\"showlegend\":true,\"x\":[2019,2018,2017,2016,2015,2014,2013,2012,2011,2010,2009,2008,2007,2006,2005,2004,2003,2002,2001,2000],\"xaxis\":\"x\",\"y\":[2169.0,2026.0,2015.0,2019.0,1927.0,2107.0,1858.0,1928.0,2149.0,2342.0,2702.0,3226.0,3583.0,3987.0,3995.0,4113.0,4290.0,4216.0,4164.0,4058.0],\"yaxis\":\"y\",\"type\":\"scattergl\"},{\"hovertemplate\":\"Location=Thailand<br>Period=%{x}<br>FactValueNumeric=%{y}<extra></extra>\",\"legendgroup\":\"Thailand\",\"line\":{\"color\":\"#EF553B\",\"dash\":\"solid\"},\"marker\":{\"symbol\":\"circle\"},\"mode\":\"lines\",\"name\":\"Thailand\",\"showlegend\":true,\"x\":[2019,2018,2017,2016,2015,2014,2013,2012,2011,2010,2009,2008,2007,2006,2005,2004,2003,2002,2001,2000],\"xaxis\":\"x\",\"y\":[22428.0,22458.0,24298.0,22447.0,22554.0,22308.0,24562.0,24635.0,25799.0,25758.0,25849.0,25854.0,25763.0,25459.0,25423.0,25257.0,25069.0,25097.0,24956.0,24570.0],\"yaxis\":\"y\",\"type\":\"scattergl\"},{\"hovertemplate\":\"Location=Lithuania<br>Period=%{x}<br>FactValueNumeric=%{y}<extra></extra>\",\"legendgroup\":\"Lithuania\",\"line\":{\"color\":\"#00cc96\",\"dash\":\"solid\"},\"marker\":{\"symbol\":\"circle\"},\"mode\":\"lines\",\"name\":\"Lithuania\",\"showlegend\":true,\"x\":[2019,2018,2017,2016,2015,2014,2013,2012,2011,2010,2009,2008,2007,2006,2005,2004,2003,2002,2001,2000],\"xaxis\":\"x\",\"y\":[224.5,210.4,232.8,234.0,307.0,333.0,292.0,394.0,363.0,377.0,430.0,587.0,867.0,881.0,855.0,798.0,804.0,783.0,765.0,798.0],\"yaxis\":\"y\",\"type\":\"scattergl\"},{\"hovertemplate\":\"Location=Comoros<br>Period=%{x}<br>FactValueNumeric=%{y}<extra></extra>\",\"legendgroup\":\"Comoros\",\"line\":{\"color\":\"#ab63fa\",\"dash\":\"solid\"},\"marker\":{\"symbol\":\"circle\"},\"mode\":\"lines\",\"name\":\"Comoros\",\"showlegend\":true,\"x\":[2019,2018,2017,2016,2015,2014,2013,2012,2011,2010,2009,2008,2007,2006,2005,2004,2003,2002,2001,2000],\"xaxis\":\"x\",\"y\":[226.1,221.3,216.5,211.0,207.0,200.0,197.0,193.0,191.0,187.0,182.0,176.0,170.0,166.0,164.0,161.0,156.0,152.0,149.0,146.0],\"yaxis\":\"y\",\"type\":\"scattergl\"},{\"hovertemplate\":\"Location=Djibouti<br>Period=%{x}<br>FactValueNumeric=%{y}<extra></extra>\",\"legendgroup\":\"Djibouti\",\"line\":{\"color\":\"#FFA15A\",\"dash\":\"solid\"},\"marker\":{\"symbol\":\"circle\"},\"mode\":\"lines\",\"name\":\"Djibouti\",\"showlegend\":true,\"x\":[2019,2018,2017,2016,2015,2014,2013,2012,2011,2010,2009,2008,2007,2006,2005,2004,2003,2002,2001,2000],\"xaxis\":\"x\",\"y\":[228.8,226.3,223.7,221.0,218.0,214.0,210.0,205.0,215.0,237.0,231.0,224.0,223.0,222.0,220.0,213.0,211.0,205.0,202.0,197.0],\"yaxis\":\"y\",\"type\":\"scattergl\"},{\"hovertemplate\":\"Location=Barbados<br>Period=%{x}<br>FactValueNumeric=%{y}<extra></extra>\",\"legendgroup\":\"Barbados\",\"line\":{\"color\":\"#19d3f3\",\"dash\":\"solid\"},\"marker\":{\"symbol\":\"circle\"},\"mode\":\"lines\",\"name\":\"Barbados\",\"showlegend\":true,\"x\":[2019,2018,2017,2016,2015,2014,2013,2012,2011,2010,2009,2008,2007,2006,2005,2004,2003,2002,2001,2000],\"xaxis\":\"x\",\"y\":[23.46,23.89,24.32,16.0,38.01,24.0,40.09,42.0,31.0,25.0,26.0,17.0,28.04,22.0,24.0,46.0,32.0,31.0,23.55,39.6],\"yaxis\":\"y\",\"type\":\"scattergl\"},{\"hovertemplate\":\"Location=Togo<br>Period=%{x}<br>FactValueNumeric=%{y}<extra></extra>\",\"legendgroup\":\"Togo\",\"line\":{\"color\":\"#FF6692\",\"dash\":\"solid\"},\"marker\":{\"symbol\":\"circle\"},\"mode\":\"lines\",\"name\":\"Togo\",\"showlegend\":true,\"x\":[2019,2018,2017,2016,2015,2014,2013,2012,2011,2010,2009,2008,2007,2006,2005,2004,2003,2002,2001,2000],\"xaxis\":\"x\",\"y\":[2316.0,2276.0,2245.0,2224.0,2191.0,2161.0,2133.0,2076.0,2054.0,1995.0,1954.0,1905.0,1841.0,1801.0,1732.0,1697.0,1649.0,1601.0,1541.0,1481.0],\"yaxis\":\"y\",\"type\":\"scattergl\"},{\"hovertemplate\":\"Location=Kazakhstan<br>Period=%{x}<br>FactValueNumeric=%{y}<extra></extra>\",\"legendgroup\":\"Kazakhstan\",\"line\":{\"color\":\"#B6E880\",\"dash\":\"solid\"},\"marker\":{\"symbol\":\"circle\"},\"mode\":\"lines\",\"name\":\"Kazakhstan\",\"showlegend\":true,\"x\":[2019,2018,2017,2016,2015,2014,2013,2012,2011,2010,2009,2008,2007,2006,2005,2004,2003,2002,2001,2000],\"xaxis\":\"x\",\"y\":[2352.0,2522.0,2510.0,3158.0,3231.0,3338.0,3875.0,3953.0,3961.0,4217.0,4099.0,4637.0,6209.0,6188.0,4793.0,3876.0,2839.0,2485.0,2421.0,2119.0],\"yaxis\":\"y\",\"type\":\"scattergl\"},{\"hovertemplate\":\"Location=Bolivia (Plurinational State of)<br>Period=%{x}<br>FactValueNumeric=%{y}<extra></extra>\",\"legendgroup\":\"Bolivia (Plurinational State of)\",\"line\":{\"color\":\"#FF97FF\",\"dash\":\"solid\"},\"marker\":{\"symbol\":\"circle\"},\"mode\":\"lines\",\"name\":\"Bolivia (Plurinational State of)\",\"showlegend\":true,\"x\":[2019,2018,2017,2016,2015,2014,2013,2012,2011,2010,2009,2008,2007,2006,2005,2004,2003,2002,2001,2000],\"xaxis\":\"x\",\"y\":[2430.0,2351.0,2275.0,1687.0,2044.0,2129.0,2476.0,2389.0,1789.0,1734.0,1637.0,1672.0,1438.0,1964.0,1400.0,1373.0,1347.0,1325.0,1271.0,1224.0],\"yaxis\":\"y\",\"type\":\"scattergl\"},{\"hovertemplate\":\"Location=Bangladesh<br>Period=%{x}<br>FactValueNumeric=%{y}<extra></extra>\",\"legendgroup\":\"Bangladesh\",\"line\":{\"color\":\"#FECB52\",\"dash\":\"solid\"},\"marker\":{\"symbol\":\"circle\"},\"mode\":\"lines\",\"name\":\"Bangladesh\",\"showlegend\":true,\"x\":[2019,2018,2017,2016,2015,2014,2013,2012,2011,2010,2009,2008,2007,2006,2005,2004,2003,2002,2001,2000],\"xaxis\":\"x\",\"y\":[25023.0,25069.0,24940.0,24954.0,24708.0,24579.0,24323.0,24054.0,25124.0,24872.0,24697.0,24331.0,24166.0,24829.0,24531.0,22408.0,20068.0,17830.0,15670.0,13791.0],\"yaxis\":\"y\",\"type\":\"scattergl\"},{\"hovertemplate\":\"Location=Luxembourg<br>Period=%{x}<br>FactValueNumeric=%{y}<extra></extra>\",\"legendgroup\":\"Luxembourg\",\"line\":{\"color\":\"#636efa\",\"dash\":\"solid\"},\"marker\":{\"symbol\":\"circle\"},\"mode\":\"lines\",\"name\":\"Luxembourg\",\"showlegend\":true,\"x\":[2019,2018,2017,2016,2015,2014,2013,2012,2011,2010,2009,2008,2007,2006,2005,2004,2003,2002,2001,2000],\"xaxis\":\"x\",\"y\":[25.09,40.36,28.36,36.0,37.0,36.0,45.2,34.11,33.89,32.93,48.94,36.0,46.0,44.0,47.97,52.0,55.0,64.0,72.0,78.0],\"yaxis\":\"y\",\"type\":\"scattergl\"},{\"hovertemplate\":\"Location=Samoa<br>Period=%{x}<br>FactValueNumeric=%{y}<extra></extra>\",\"legendgroup\":\"Samoa\",\"line\":{\"color\":\"#EF553B\",\"dash\":\"solid\"},\"marker\":{\"symbol\":\"circle\"},\"mode\":\"lines\",\"name\":\"Samoa\",\"showlegend\":true,\"x\":[2019,2018,2017,2016,2015,2014,2013,2012,2011,2010,2009,2008,2007,2006,2005,2004,2003,2002,2001,2000],\"xaxis\":\"x\",\"y\":[25.68,25.38,25.45,22.0,22.0,22.0,35.0,24.0,24.0,24.0,55.0,24.0,23.0,23.0,23.0,27.0,24.0,24.0,24.0,26.0],\"yaxis\":\"y\",\"type\":\"scattergl\"},{\"hovertemplate\":\"Location=China<br>Period=%{x}<br>FactValueNumeric=%{y}<extra></extra>\",\"legendgroup\":\"China\",\"line\":{\"color\":\"#00cc96\",\"dash\":\"solid\"},\"marker\":{\"symbol\":\"circle\"},\"mode\":\"lines\",\"name\":\"China\",\"showlegend\":true,\"x\":[2019,2018,2017,2016,2015,2014,2013,2012,2011,2010,2009,2008,2007,2006,2005,2004,2003,2002,2001,2000],\"xaxis\":\"x\",\"y\":[250272.0,252225.0,254102.0,256180.0,258175.0,264944.0,274653.0,282962.0,286458.0,279005.0,280280.0,279173.0,282827.0,279093.0,278063.0,273248.0,279480.0,290780.0,286025.0,277382.0],\"yaxis\":\"y\",\"type\":\"scattergl\"},{\"hovertemplate\":\"Location=Syrian Arab Republic<br>Period=%{x}<br>FactValueNumeric=%{y}<extra></extra>\",\"legendgroup\":\"Syrian Arab Republic\",\"line\":{\"color\":\"#ab63fa\",\"dash\":\"solid\"},\"marker\":{\"symbol\":\"circle\"},\"mode\":\"lines\",\"name\":\"Syrian Arab Republic\",\"showlegend\":true,\"x\":[2019,2018,2017,2016,2015,2014,2013,2012,2011,2010,2009,2008,2007,2006,2005,2004,2003,2002,2001,2000],\"xaxis\":\"x\",\"y\":[2550.0,2903.0,2926.0,4806.0,4664.0,4645.0,4511.0,4517.0,4796.0,4813.0,4813.0,4728.0,4525.0,4299.0,4021.0,3893.0,3819.0,3550.0,3583.0,3614.0],\"yaxis\":\"y\",\"type\":\"scattergl\"},{\"hovertemplate\":\"Location=Sierra Leone<br>Period=%{x}<br>FactValueNumeric=%{y}<extra></extra>\",\"legendgroup\":\"Sierra Leone\",\"line\":{\"color\":\"#FFA15A\",\"dash\":\"solid\"},\"marker\":{\"symbol\":\"circle\"},\"mode\":\"lines\",\"name\":\"Sierra Leone\",\"showlegend\":true,\"x\":[2019,2018,2017,2016,2015,2014,2013,2012,2011,2010,2009,2008,2007,2006,2005,2004,2003,2002,2001,2000],\"xaxis\":\"x\",\"y\":[2581.0,2462.0,2347.0,2237.0,2177.0,2015.0,1952.0,1964.0,1969.0,1924.0,1911.0,1868.0,1837.0,1821.0,1781.0,1698.0,1629.0,1553.0,1537.0,1432.0],\"yaxis\":\"y\",\"type\":\"scattergl\"},{\"hovertemplate\":\"Location=Pakistan<br>Period=%{x}<br>FactValueNumeric=%{y}<extra></extra>\",\"legendgroup\":\"Pakistan\",\"line\":{\"color\":\"#19d3f3\",\"dash\":\"solid\"},\"marker\":{\"symbol\":\"circle\"},\"mode\":\"lines\",\"name\":\"Pakistan\",\"showlegend\":true,\"x\":[2019,2018,2017,2016,2015,2014,2013,2012,2011,2010,2009,2008,2007,2006,2005,2004,2003,2002,2001,2000],\"xaxis\":\"x\",\"y\":[28170.0,27898.0,27619.0,27582.0,26993.0,26457.0,26219.0,25919.0,27064.0,26356.0,25527.0,24430.0,23592.0,23052.0,23128.0,22541.0,21436.0,21066.0,20490.0,19857.0],\"yaxis\":\"y\",\"type\":\"scattergl\"},{\"hovertemplate\":\"Location=Chile<br>Period=%{x}<br>FactValueNumeric=%{y}<extra></extra>\",\"legendgroup\":\"Chile\",\"line\":{\"color\":\"#FF6692\",\"dash\":\"solid\"},\"marker\":{\"symbol\":\"circle\"},\"mode\":\"lines\",\"name\":\"Chile\",\"showlegend\":true,\"x\":[2019,2018,2017,2016,2015,2014,2013,2012,2011,2010,2009,2008,2007,2006,2005,2004,2003,2002,2001,2000],\"xaxis\":\"x\",\"y\":[2826.0,2620.0,2580.0,2245.0,2204.0,2184.0,2175.0,2041.0,2108.0,2137.0,2096.0,2388.0,2204.0,3055.0,2869.0,2856.0,2853.0,2506.0,2519.0,2751.0],\"yaxis\":\"y\",\"type\":\"scattergl\"},{\"hovertemplate\":\"Location=Viet Nam<br>Period=%{x}<br>FactValueNumeric=%{y}<extra></extra>\",\"legendgroup\":\"Viet Nam\",\"line\":{\"color\":\"#B6E880\",\"dash\":\"solid\"},\"marker\":{\"symbol\":\"circle\"},\"mode\":\"lines\",\"name\":\"Viet Nam\",\"showlegend\":true,\"x\":[2019,2018,2017,2016,2015,2014,2013,2012,2011,2010,2009,2008,2007,2006,2005,2004,2003,2002,2001,2000],\"xaxis\":\"x\",\"y\":[29475.0,27868.0,26338.0,24970.0,23582.0,22629.0,22681.0,22783.0,22520.0,22529.0,21420.0,21372.0,20780.0,20721.0,20661.0,20668.0,19916.0,19813.0,19507.0,19251.0],\"yaxis\":\"y\",\"type\":\"scattergl\"},{\"hovertemplate\":\"Location=Republic of Moldova<br>Period=%{x}<br>FactValueNumeric=%{y}<extra></extra>\",\"legendgroup\":\"Republic of Moldova\",\"line\":{\"color\":\"#FF97FF\",\"dash\":\"solid\"},\"marker\":{\"symbol\":\"circle\"},\"mode\":\"lines\",\"name\":\"Republic of Moldova\",\"showlegend\":true,\"x\":[2019,2018,2017,2016,2015,2014,2013,2012,2011,2010,2009,2008,2007,2006,2005,2004,2003,2002,2001,2000],\"xaxis\":\"x\",\"y\":[293.2,311.2,343.2,394.0,422.0,459.0,439.0,564.0,556.0,538.0,565.0,670.0,704.0,615.0,644.0,695.0,665.0,650.0,662.0,571.0],\"yaxis\":\"y\",\"type\":\"scattergl\"},{\"hovertemplate\":\"Location=Democratic Republic of the Congo<br>Period=%{x}<br>FactValueNumeric=%{y}<extra></extra>\",\"legendgroup\":\"Democratic Republic of the Congo\",\"line\":{\"color\":\"#FECB52\",\"dash\":\"solid\"},\"marker\":{\"symbol\":\"circle\"},\"mode\":\"lines\",\"name\":\"Democratic Republic of the Congo\",\"showlegend\":true,\"x\":[2019,2018,2017,2016,2015,2014,2013,2012,2011,2010,2009,2008,2007,2006,2005,2004,2003,2002,2001,2000],\"xaxis\":\"x\",\"y\":[30256.0,27709.0,27009.0,26529.0,25536.0,24786.0,24241.0,23497.0,23795.0,23258.0,22667.0,21598.0,21019.0,20716.0,20150.0,19391.0,19533.0,19214.0,18402.0,17950.0],\"yaxis\":\"y\",\"type\":\"scattergl\"},{\"hovertemplate\":\"Location=Indonesia<br>Period=%{x}<br>FactValueNumeric=%{y}<extra></extra>\",\"legendgroup\":\"Indonesia\",\"line\":{\"color\":\"#636efa\",\"dash\":\"solid\"},\"marker\":{\"symbol\":\"circle\"},\"mode\":\"lines\",\"name\":\"Indonesia\",\"showlegend\":true,\"x\":[2019,2018,2017,2016,2015,2014,2013,2012,2011,2010,2009,2008,2007,2006,2005,2004,2003,2002,2001,2000],\"xaxis\":\"x\",\"y\":[30668.0,31012.0,31347.0,31766.0,31718.0,32511.0,32488.0,32415.0,33730.0,33035.0,33175.0,31900.0,31754.0,32467.0,32359.0,32129.0,31928.0,32094.0,31348.0,30615.0],\"yaxis\":\"y\",\"type\":\"scattergl\"},{\"hovertemplate\":\"Location=Bahamas<br>Period=%{x}<br>FactValueNumeric=%{y}<extra></extra>\",\"legendgroup\":\"Bahamas\",\"line\":{\"color\":\"#EF553B\",\"dash\":\"solid\"},\"marker\":{\"symbol\":\"circle\"},\"mode\":\"lines\",\"name\":\"Bahamas\",\"showlegend\":true,\"x\":[2019,2018,2017,2016,2015,2014,2013,2012,2011,2010,2009,2008,2007,2006,2005,2004,2003,2002,2001,2000],\"xaxis\":\"x\",\"y\":[30.17,31.62,33.06,31.0,30.93,30.04,51.89,47.11,47.13,45.16,56.92,49.94,52.98,49.15,67.98,50.97,41.03,54.33,63.39,76.18],\"yaxis\":\"y\",\"type\":\"scattergl\"},{\"hovertemplate\":\"Location=Ethiopia<br>Period=%{x}<br>FactValueNumeric=%{y}<extra></extra>\",\"legendgroup\":\"Ethiopia\",\"line\":{\"color\":\"#00cc96\",\"dash\":\"solid\"},\"marker\":{\"symbol\":\"circle\"},\"mode\":\"lines\",\"name\":\"Ethiopia\",\"showlegend\":true,\"x\":[2019,2018,2017,2016,2015,2014,2013,2012,2011,2010,2009,2008,2007,2006,2005,2004,2003,2002,2001,2000],\"xaxis\":\"x\",\"y\":[31564.0,30105.0,28702.0,27326.0,26255.0,25330.0,24580.0,24323.0,23474.0,20423.0,20036.0,19388.0,18967.0,18786.0,18730.0,18427.0,18130.0,17292.0,16666.0,16300.0],\"yaxis\":\"y\",\"type\":\"scattergl\"},{\"hovertemplate\":\"Location=Sweden<br>Period=%{x}<br>FactValueNumeric=%{y}<extra></extra>\",\"legendgroup\":\"Sweden\",\"line\":{\"color\":\"#ab63fa\",\"dash\":\"solid\"},\"marker\":{\"symbol\":\"circle\"},\"mode\":\"lines\",\"name\":\"Sweden\",\"showlegend\":true,\"x\":[2019,2018,2017,2016,2015,2014,2013,2012,2011,2010,2009,2008,2007,2006,2005,2004,2003,2002,2001,2000],\"xaxis\":\"x\",\"y\":[315.1,360.7,270.1,307.7,313.1,307.7,301.2,331.4,319.7,285.1,383.4,441.0,484.9,483.3,476.3,501.0,540.0,563.6,626.8,598.3],\"yaxis\":\"y\",\"type\":\"scattergl\"},{\"hovertemplate\":\"Location=Germany<br>Period=%{x}<br>FactValueNumeric=%{y}<extra></extra>\",\"legendgroup\":\"Germany\",\"line\":{\"color\":\"#FFA15A\",\"dash\":\"solid\"},\"marker\":{\"symbol\":\"circle\"},\"mode\":\"lines\",\"name\":\"Germany\",\"showlegend\":true,\"x\":[2019,2018,2017,2016,2015,2014,2013,2012,2011,2010,2009,2008,2007,2006,2005,2004,2003,2002,2001,2000],\"xaxis\":\"x\",\"y\":[3160.0,3399.0,3301.0,3327.0,3566.0,3499.0,3559.0,3804.0,4260.0,3885.0,4320.0,4685.0,5166.0,5350.0,5625.0,6106.0,6842.0,7176.0,7287.0,7830.0],\"yaxis\":\"y\",\"type\":\"scattergl\"},{\"hovertemplate\":\"Location=Benin<br>Period=%{x}<br>FactValueNumeric=%{y}<extra></extra>\",\"legendgroup\":\"Benin\",\"line\":{\"color\":\"#19d3f3\",\"dash\":\"solid\"},\"marker\":{\"symbol\":\"circle\"},\"mode\":\"lines\",\"name\":\"Benin\",\"showlegend\":true,\"x\":[2019,2018,2017,2016,2015,2014,2013,2012,2011,2010,2009,2008,2007,2006,2005,2004,2003,2002,2001,2000],\"xaxis\":\"x\",\"y\":[3162.0,3090.0,3019.0,2986.0,2887.0,2781.0,2699.0,2661.0,2656.0,2595.0,2497.0,2404.0,2334.0,2313.0,2303.0,2167.0,2122.0,2092.0,2017.0,1952.0],\"yaxis\":\"y\",\"type\":\"scattergl\"},{\"hovertemplate\":\"Location=Brunei Darussalam<br>Period=%{x}<br>FactValueNumeric=%{y}<extra></extra>\",\"legendgroup\":\"Brunei Darussalam\",\"line\":{\"color\":\"#FF6692\",\"dash\":\"solid\"},\"marker\":{\"symbol\":\"circle\"},\"mode\":\"lines\",\"name\":\"Brunei Darussalam\",\"showlegend\":true,\"x\":[2019,2018,2017,2016,2015,2014,2013,2012,2011,2010,2009,2008,2007,2006,2005,2004,2003,2002,2001,2000],\"xaxis\":\"x\",\"y\":[32.3,33.28,34.28,38.0,37.0,35.0,39.0,36.0,48.0,30.0,44.0,40.0,66.0,47.0,52.68,45.0,31.0,52.0,66.0,53.0],\"yaxis\":\"y\",\"type\":\"scattergl\"},{\"hovertemplate\":\"Location=Italy<br>Period=%{x}<br>FactValueNumeric=%{y}<extra></extra>\",\"legendgroup\":\"Italy\",\"line\":{\"color\":\"#B6E880\",\"dash\":\"solid\"},\"marker\":{\"symbol\":\"circle\"},\"mode\":\"lines\",\"name\":\"Italy\",\"showlegend\":true,\"x\":[2019,2018,2017,2016,2015,2014,2013,2012,2011,2010,2009,2008,2007,2006,2005,2004,2003,2002,2001,2000],\"xaxis\":\"x\",\"y\":[3221.0,3384.0,3429.0,3333.0,3559.0,3529.0,3506.0,3902.0,4276.0,4343.0,4747.0,5229.0,5685.0,6007.0,5998.0,6312.0,6766.0,7626.0,7922.0,7898.0],\"yaxis\":\"y\",\"type\":\"scattergl\"},{\"hovertemplate\":\"Location=Cambodia<br>Period=%{x}<br>FactValueNumeric=%{y}<extra></extra>\",\"legendgroup\":\"Cambodia\",\"line\":{\"color\":\"#FF97FF\",\"dash\":\"solid\"},\"marker\":{\"symbol\":\"circle\"},\"mode\":\"lines\",\"name\":\"Cambodia\",\"showlegend\":true,\"x\":[2019,2018,2017,2016,2015,2014,2013,2012,2011,2010,2009,2008,2007,2006,2005,2004,2003,2002,2001,2000],\"xaxis\":\"x\",\"y\":[3223.0,3081.0,2944.0,2803.0,2696.0,2650.0,2576.0,2520.0,2612.0,2587.0,2520.0,2457.0,2379.0,2407.0,2375.0,2301.0,2267.0,2233.0,2187.0,2178.0],\"yaxis\":\"y\",\"type\":\"scattergl\"},{\"hovertemplate\":\"Location=Croatia<br>Period=%{x}<br>FactValueNumeric=%{y}<extra></extra>\",\"legendgroup\":\"Croatia\",\"line\":{\"color\":\"#FECB52\",\"dash\":\"solid\"},\"marker\":{\"symbol\":\"circle\"},\"mode\":\"lines\",\"name\":\"Croatia\",\"showlegend\":true,\"x\":[2019,2018,2017,2016,2015,2014,2013,2012,2011,2010,2009,2008,2007,2006,2005,2004,2003,2002,2001,2000],\"xaxis\":\"x\",\"y\":[328.2,350.7,365.7,340.0,392.0,347.0,395.0,412.0,479.0,455.0,565.0,685.0,638.0,633.0,616.0,627.0,723.0,646.0,667.0,675.0],\"yaxis\":\"y\",\"type\":\"scattergl\"},{\"hovertemplate\":\"Location=Brazil<br>Period=%{x}<br>FactValueNumeric=%{y}<extra></extra>\",\"legendgroup\":\"Brazil\",\"line\":{\"color\":\"#636efa\",\"dash\":\"solid\"},\"marker\":{\"symbol\":\"circle\"},\"mode\":\"lines\",\"name\":\"Brazil\",\"showlegend\":true,\"x\":[2019,2018,2017,2016,2015,2014,2013,2012,2011,2010,2009,2008,2007,2006,2005,2004,2003,2002,2001,2000],\"xaxis\":\"x\",\"y\":[33871.0,35857.0,38844.0,41007.0,42505.0,47902.0,46519.0,49476.0,48314.0,47537.0,43018.0,43304.0,42834.0,41075.0,41683.0,40908.0,38234.0,38072.0,35656.0,34451.0],\"yaxis\":\"y\",\"type\":\"scattergl\"},{\"hovertemplate\":\"Location=Slovakia<br>Period=%{x}<br>FactValueNumeric=%{y}<extra></extra>\",\"legendgroup\":\"Slovakia\",\"line\":{\"color\":\"#EF553B\",\"dash\":\"solid\"},\"marker\":{\"symbol\":\"circle\"},\"mode\":\"lines\",\"name\":\"Slovakia\",\"showlegend\":true,\"x\":[2019,2018,2017,2016,2015,2014,2013,2012,2011,2010,2009,2008,2007,2006,2005,2004,2003,2002,2001,2000],\"xaxis\":\"x\",\"y\":[331.0,334.8,339.3,343.6,347.4,355.9,283.6,428.2,473.3,484.2,516.5,779.8,673.6,752.4,738.9,780.3,824.8,770.9,814.6,816.0],\"yaxis\":\"y\",\"type\":\"scattergl\"},{\"hovertemplate\":\"Location=Israel<br>Period=%{x}<br>FactValueNumeric=%{y}<extra></extra>\",\"legendgroup\":\"Israel\",\"line\":{\"color\":\"#00cc96\",\"dash\":\"solid\"},\"marker\":{\"symbol\":\"circle\"},\"mode\":\"lines\",\"name\":\"Israel\",\"showlegend\":true,\"x\":[2019,2018,2017,2016,2015,2014,2013,2012,2011,2010,2009,2008,2007,2006,2005,2004,2003,2002,2001,2000],\"xaxis\":\"x\",\"y\":[333.0,285.0,331.0,345.0,332.0,279.3,286.0,271.0,352.0,363.0,320.5,416.1,394.0,427.0,462.0,495.0,465.0,535.6,559.0,475.0],\"yaxis\":\"y\",\"type\":\"scattergl\"},{\"hovertemplate\":\"Location=France<br>Period=%{x}<br>FactValueNumeric=%{y}<extra></extra>\",\"legendgroup\":\"France\",\"line\":{\"color\":\"#ab63fa\",\"dash\":\"solid\"},\"marker\":{\"symbol\":\"circle\"},\"mode\":\"lines\",\"name\":\"France\",\"showlegend\":true,\"x\":[2019,2018,2017,2016,2015,2014,2013,2012,2011,2010,2009,2008,2007,2006,2005,2004,2003,2002,2001,2000],\"xaxis\":\"x\",\"y\":[3339.0,3349.0,3555.0,3585.0,3568.0,3489.0,3369.0,3766.0,4086.0,4116.0,4405.0,4408.0,4763.0,4855.0,5483.0,5409.0,6064.0,7467.0,7959.0,7880.0],\"yaxis\":\"y\",\"type\":\"scattergl\"},{\"hovertemplate\":\"Location=Albania<br>Period=%{x}<br>FactValueNumeric=%{y}<extra></extra>\",\"legendgroup\":\"Albania\",\"line\":{\"color\":\"#FFA15A\",\"dash\":\"solid\"},\"marker\":{\"symbol\":\"circle\"},\"mode\":\"lines\",\"name\":\"Albania\",\"showlegend\":true,\"x\":[2019,2018,2017,2016,2015,2014,2013,2012,2011,2010,2009,2008,2007,2006,2005,2004,2003,2002,2001,2000],\"xaxis\":\"x\",\"y\":[337.1,316.9,329.9,399.0,398.0,394.0,403.0,403.0,419.0,415.0,428.0,435.0,449.0,456.0,461.0,455.0,457.0,453.0,454.0,449.0],\"yaxis\":\"y\",\"type\":\"scattergl\"},{\"hovertemplate\":\"Location=Tonga<br>Period=%{x}<br>FactValueNumeric=%{y}<extra></extra>\",\"legendgroup\":\"Tonga\",\"line\":{\"color\":\"#19d3f3\",\"dash\":\"solid\"},\"marker\":{\"symbol\":\"circle\"},\"mode\":\"lines\",\"name\":\"Tonga\",\"showlegend\":true,\"x\":[2019,2018,2017,2016,2015,2014,2013,2012,2011,2010,2009,2008,2007,2006,2005,2004,2003,2002,2001,2000],\"xaxis\":\"x\",\"y\":[34.43,24.67,17.68,18.0,7.0,6.0,8.0,8.0,9.0,6.0,11.0,18.0,14.0,15.0,14.0,13.0,13.0,13.0,13.0,13.0],\"yaxis\":\"y\",\"type\":\"scattergl\"},{\"hovertemplate\":\"Location=Ecuador<br>Period=%{x}<br>FactValueNumeric=%{y}<extra></extra>\",\"legendgroup\":\"Ecuador\",\"line\":{\"color\":\"#FF6692\",\"dash\":\"solid\"},\"marker\":{\"symbol\":\"circle\"},\"mode\":\"lines\",\"name\":\"Ecuador\",\"showlegend\":true,\"x\":[2019,2018,2017,2016,2015,2014,2013,2012,2011,2010,2009,2008,2007,2006,2005,2004,2003,2002,2001,2000],\"xaxis\":\"x\",\"y\":[3490.0,3537.0,3581.0,3490.0,3804.0,3825.0,3470.0,3445.0,3768.0,3682.0,3392.0,2893.0,2733.0,2594.0,2379.0,1873.0,2014.0,1973.0,1908.0,1713.0],\"yaxis\":\"y\",\"type\":\"scattergl\"},{\"hovertemplate\":\"Location=Poland<br>Period=%{x}<br>FactValueNumeric=%{y}<extra></extra>\",\"legendgroup\":\"Poland\",\"line\":{\"color\":\"#B6E880\",\"dash\":\"solid\"},\"marker\":{\"symbol\":\"circle\"},\"mode\":\"lines\",\"name\":\"Poland\",\"showlegend\":true,\"x\":[2019,2018,2017,2016,2015,2014,2013,2012,2011,2010,2009,2008,2007,2006,2005,2004,2003,2002,2001,2000],\"xaxis\":\"x\",\"y\":[3555.0,3497.0,3460.0,3698.0,3551.0,3947.0,4107.0,4236.0,4915.0,4594.0,5093.0,6353.0,6285.0,5786.0,6140.0,6486.0,6341.0,6623.0,6404.0,7170.0],\"yaxis\":\"y\",\"type\":\"scattergl\"},{\"hovertemplate\":\"Location=Zambia<br>Period=%{x}<br>FactValueNumeric=%{y}<extra></extra>\",\"legendgroup\":\"Zambia\",\"line\":{\"color\":\"#FF97FF\",\"dash\":\"solid\"},\"marker\":{\"symbol\":\"circle\"},\"mode\":\"lines\",\"name\":\"Zambia\",\"showlegend\":true,\"x\":[2019,2018,2017,2016,2015,2014,2013,2012,2011,2010,2009,2008,2007,2006,2005,2004,2003,2002,2001,2000],\"xaxis\":\"x\",\"y\":[3654.0,3559.0,3466.0,3472.0,3312.0,3170.0,3040.0,2957.0,2899.0,3217.0,3146.0,3066.0,3017.0,3029.0,3017.0,2993.0,2953.0,2954.0,2907.0,2850.0],\"yaxis\":\"y\",\"type\":\"scattergl\"},{\"hovertemplate\":\"Location=Equatorial Guinea<br>Period=%{x}<br>FactValueNumeric=%{y}<extra></extra>\",\"legendgroup\":\"Equatorial Guinea\",\"line\":{\"color\":\"#FECB52\",\"dash\":\"solid\"},\"marker\":{\"symbol\":\"circle\"},\"mode\":\"lines\",\"name\":\"Equatorial Guinea\",\"showlegend\":true,\"x\":[2019,2018,2017,2016,2015,2014,2013,2012,2011,2010,2009,2008,2007,2006,2005,2004,2003,2002,2001,2000],\"xaxis\":\"x\",\"y\":[368.5,344.1,321.0,300.0,278.0,258.0,239.0,229.0,210.0,196.0,174.7,165.0,156.0,153.0,150.5,141.6,142.6,133.6,129.0,134.0],\"yaxis\":\"y\",\"type\":\"scattergl\"},{\"hovertemplate\":\"Location=Rwanda<br>Period=%{x}<br>FactValueNumeric=%{y}<extra></extra>\",\"legendgroup\":\"Rwanda\",\"line\":{\"color\":\"#636efa\",\"dash\":\"solid\"},\"marker\":{\"symbol\":\"circle\"},\"mode\":\"lines\",\"name\":\"Rwanda\",\"showlegend\":true,\"x\":[2019,2018,2017,2016,2015,2014,2013,2012,2011,2010,2009,2008,2007,2006,2005,2004,2003,2002,2001,2000],\"xaxis\":\"x\",\"y\":[3718.0,3679.0,3639.0,3535.0,3435.0,3313.0,3500.0,3607.0,3500.0,3414.0,3340.0,3205.0,3215.0,3213.0,3274.0,3188.0,3155.0,3133.0,2994.0,3012.0],\"yaxis\":\"y\",\"type\":\"scattergl\"},{\"hovertemplate\":\"Location=Guinea<br>Period=%{x}<br>FactValueNumeric=%{y}<extra></extra>\",\"legendgroup\":\"Guinea\",\"line\":{\"color\":\"#EF553B\",\"dash\":\"solid\"},\"marker\":{\"symbol\":\"circle\"},\"mode\":\"lines\",\"name\":\"Guinea\",\"showlegend\":true,\"x\":[2019,2018,2017,2016,2015,2014,2013,2012,2011,2010,2009,2008,2007,2006,2005,2004,2003,2002,2001,2000],\"xaxis\":\"x\",\"y\":[3788.0,3690.0,3595.0,3490.0,3423.0,3324.0,3214.0,3134.0,3192.0,3160.0,3050.0,2990.0,2958.0,2856.0,2795.0,2729.0,2655.0,2592.0,2583.0,2562.0],\"yaxis\":\"y\",\"type\":\"scattergl\"},{\"hovertemplate\":\"Location=Senegal<br>Period=%{x}<br>FactValueNumeric=%{y}<extra></extra>\",\"legendgroup\":\"Senegal\",\"line\":{\"color\":\"#00cc96\",\"dash\":\"solid\"},\"marker\":{\"symbol\":\"circle\"},\"mode\":\"lines\",\"name\":\"Senegal\",\"showlegend\":true,\"x\":[2019,2018,2017,2016,2015,2014,2013,2012,2011,2010,2009,2008,2007,2006,2005,2004,2003,2002,2001,2000],\"xaxis\":\"x\",\"y\":[3832.0,3751.0,3670.0,3609.0,3508.0,3422.0,3389.0,3308.0,3345.0,3270.0,3145.0,3049.0,2975.0,2884.0,2747.0,2691.0,2652.0,2538.0,2468.0,2431.0],\"yaxis\":\"y\",\"type\":\"scattergl\"},{\"hovertemplate\":\"Location=Eswatini<br>Period=%{x}<br>FactValueNumeric=%{y}<extra></extra>\",\"legendgroup\":\"Eswatini\",\"line\":{\"color\":\"#ab63fa\",\"dash\":\"solid\"},\"marker\":{\"symbol\":\"circle\"},\"mode\":\"lines\",\"name\":\"Eswatini\",\"showlegend\":true,\"x\":[2019,2018,2017,2016,2015,2014,2013,2012,2011,2010,2009,2008,2007,2006,2005,2004,2003,2002,2001,2000],\"xaxis\":\"x\",\"y\":[384.3,375.0,366.5,361.0,348.0,341.0,334.0,329.0,332.0,320.2,313.6,304.0,300.1,295.9,308.4,312.1,307.3,301.2,303.2,300.2],\"yaxis\":\"y\",\"type\":\"scattergl\"},{\"hovertemplate\":\"Location=Uzbekistan<br>Period=%{x}<br>FactValueNumeric=%{y}<extra></extra>\",\"legendgroup\":\"Uzbekistan\",\"line\":{\"color\":\"#FFA15A\",\"dash\":\"solid\"},\"marker\":{\"symbol\":\"circle\"},\"mode\":\"lines\",\"name\":\"Uzbekistan\",\"showlegend\":true,\"x\":[2019,2018,2017,2016,2015,2014,2013,2012,2011,2010,2009,2008,2007,2006,2005,2004,2003,2002,2001,2000],\"xaxis\":\"x\",\"y\":[3853.0,3326.0,3585.0,3617.0,3694.0,3306.0,3482.0,3045.0,3262.0,3216.0,3611.0,2928.0,2790.0,2669.0,3397.0,3346.0,2555.0,2098.0,2404.0,2413.0],\"yaxis\":\"y\",\"type\":\"scattergl\"},{\"hovertemplate\":\"Location=Guatemala<br>Period=%{x}<br>FactValueNumeric=%{y}<extra></extra>\",\"legendgroup\":\"Guatemala\",\"line\":{\"color\":\"#19d3f3\",\"dash\":\"solid\"},\"marker\":{\"symbol\":\"circle\"},\"mode\":\"lines\",\"name\":\"Guatemala\",\"showlegend\":true,\"x\":[2019,2018,2017,2016,2015,2014,2013,2012,2011,2010,2009,2008,2007,2006,2005,2004,2003,2002,2001,2000],\"xaxis\":\"x\",\"y\":[4026.0,3512.0,3063.0,2758.0,2275.0,2044.0,2038.0,1757.0,1639.0,1958.0,2243.0,2329.0,2752.0,618.0,573.0,634.0,610.0,589.0,670.0,798.0],\"yaxis\":\"y\",\"type\":\"scattergl\"},{\"hovertemplate\":\"Location=South Sudan<br>Period=%{x}<br>FactValueNumeric=%{y}<extra></extra>\",\"legendgroup\":\"South Sudan\",\"line\":{\"color\":\"#FF6692\",\"dash\":\"solid\"},\"marker\":{\"symbol\":\"circle\"},\"mode\":\"lines\",\"name\":\"South Sudan\",\"showlegend\":true,\"x\":[2019,2018,2017,2016,2015,2014,2013,2012,2011,2010,2009,2008,2007,2006,2005,2004,2003,2002,2001,2000],\"xaxis\":\"x\",\"y\":[4063.0,3924.0,3785.0,3661.0,3543.0,3364.0,3228.0,3132.0,2692.0,2407.0,2194.0,2010.0,1798.0,1678.0,1573.0,1477.0,1384.0,1316.0,1252.0,1193.0],\"yaxis\":\"y\",\"type\":\"scattergl\"},{\"hovertemplate\":\"Location=Burundi<br>Period=%{x}<br>FactValueNumeric=%{y}<extra></extra>\",\"legendgroup\":\"Burundi\",\"line\":{\"color\":\"#B6E880\",\"dash\":\"solid\"},\"marker\":{\"symbol\":\"circle\"},\"mode\":\"lines\",\"name\":\"Burundi\",\"showlegend\":true,\"x\":[2019,2018,2017,2016,2015,2014,2013,2012,2011,2010,2009,2008,2007,2006,2005,2004,2003,2002,2001,2000],\"xaxis\":\"x\",\"y\":[4089.0,3929.0,3774.0,3651.0,3498.0,3307.0,3225.0,3127.0,2952.0,2878.0,2774.0,2684.0,2623.0,2522.0,2203.0,2119.0,2060.0,1962.0,1968.0,1936.0],\"yaxis\":\"y\",\"type\":\"scattergl\"},{\"hovertemplate\":\"Location=Nigeria<br>Period=%{x}<br>FactValueNumeric=%{y}<extra></extra>\",\"legendgroup\":\"Nigeria\",\"line\":{\"color\":\"#FF97FF\",\"dash\":\"solid\"},\"marker\":{\"symbol\":\"circle\"},\"mode\":\"lines\",\"name\":\"Nigeria\",\"showlegend\":true,\"x\":[2019,2018,2017,2016,2015,2014,2013,2012,2011,2010,2009,2008,2007,2006,2005,2004,2003,2002,2001,2000],\"xaxis\":\"x\",\"y\":[41693.0,41008.0,40325.0,39802.0,38749.0,38703.0,37831.0,36948.0,36572.0,39757.0,38996.0,37759.0,37853.0,37662.0,37445.0,37400.0,37774.0,38361.0,37094.0,35748.0],\"yaxis\":\"y\",\"type\":\"scattergl\"},{\"hovertemplate\":\"Location=United States of America<br>Period=%{x}<br>FactValueNumeric=%{y}<extra></extra>\",\"legendgroup\":\"United States of America\",\"line\":{\"color\":\"#FECB52\",\"dash\":\"solid\"},\"marker\":{\"symbol\":\"circle\"},\"mode\":\"lines\",\"name\":\"United States of America\",\"showlegend\":true,\"x\":[2019,2018,2017,2016,2015,2014,2013,2012,2011,2010,2009,2008,2007,2006,2005,2004,2003,2002,2001,2000],\"xaxis\":\"x\",\"y\":[41694.0,41053.0,41550.0,41555.0,38705.0,36061.0,36174.0,37405.0,36128.0,36153.0,37139.0,40721.0,44863.0,46474.0,46394.0,46158.0,46286.0,46575.0,44676.0,44148.0],\"yaxis\":\"y\",\"type\":\"scattergl\"},{\"hovertemplate\":\"Location=Sri Lanka<br>Period=%{x}<br>FactValueNumeric=%{y}<extra></extra>\",\"legendgroup\":\"Sri Lanka\",\"line\":{\"color\":\"#636efa\",\"dash\":\"solid\"},\"marker\":{\"symbol\":\"circle\"},\"mode\":\"lines\",\"name\":\"Sri Lanka\",\"showlegend\":true,\"x\":[2019,2018,2017,2016,2015,2014,2013,2012,2011,2010,2009,2008,2007,2006,2005,2004,2003,2002,2001,2000],\"xaxis\":\"x\",\"y\":[4200.0,3798.0,3434.0,3096.0,2904.0,2516.0,2610.0,2643.0,2885.0,2875.0,2884.0,2841.0,2861.0,2834.0,2903.0,2849.0,2890.0,2880.0,2885.0,2842.0],\"yaxis\":\"y\",\"type\":\"scattergl\"},{\"hovertemplate\":\"Location=Somalia<br>Period=%{x}<br>FactValueNumeric=%{y}<extra></extra>\",\"legendgroup\":\"Somalia\",\"line\":{\"color\":\"#EF553B\",\"dash\":\"solid\"},\"marker\":{\"symbol\":\"circle\"},\"mode\":\"lines\",\"name\":\"Somalia\",\"showlegend\":true,\"x\":[2019,2018,2017,2016,2015,2014,2013,2012,2011,2010,2009,2008,2007,2006,2005,2004,2003,2002,2001,2000],\"xaxis\":\"x\",\"y\":[4231.0,4111.0,3994.0,3884.0,3749.0,3654.0,3525.0,3442.0,3434.0,3334.0,3217.0,3144.0,3014.0,2954.0,2857.0,2804.0,2672.0,2484.0,2480.0,2453.0],\"yaxis\":\"y\",\"type\":\"scattergl\"},{\"hovertemplate\":\"Location=Austria<br>Period=%{x}<br>FactValueNumeric=%{y}<extra></extra>\",\"legendgroup\":\"Austria\",\"line\":{\"color\":\"#00cc96\",\"dash\":\"solid\"},\"marker\":{\"symbol\":\"circle\"},\"mode\":\"lines\",\"name\":\"Austria\",\"showlegend\":true,\"x\":[2019,2018,2017,2016,2015,2014,2013,2012,2011,2010,2009,2008,2007,2006,2005,2004,2003,2002,2001,2000],\"xaxis\":\"x\",\"y\":[435.7,428.6,433.7,452.0,494.0,443.0,469.0,547.0,539.0,569.0,653.0,700.0,712.0,753.0,792.0,905.0,960.0,986.0,988.0,1006.0],\"yaxis\":\"y\",\"type\":\"scattergl\"},{\"hovertemplate\":\"Location=Republic of Korea<br>Period=%{x}<br>FactValueNumeric=%{y}<extra></extra>\",\"legendgroup\":\"Republic of Korea\",\"line\":{\"color\":\"#ab63fa\",\"dash\":\"solid\"},\"marker\":{\"symbol\":\"circle\"},\"mode\":\"lines\",\"name\":\"Republic of Korea\",\"showlegend\":true,\"x\":[2019,2018,2017,2016,2015,2014,2013,2012,2011,2010,2009,2008,2007,2006,2005,2004,2003,2002,2001,2000],\"xaxis\":\"x\",\"y\":[4399.0,4396.0,4866.0,4990.0,5396.0,5502.0,5930.0,6360.0,6372.0,6793.0,7263.0,7369.0,7527.0,7771.0,7840.0,8066.0,9075.0,8905.0,9998.0,12141.0],\"yaxis\":\"y\",\"type\":\"scattergl\"},{\"hovertemplate\":\"Location=Vanuatu<br>Period=%{x}<br>FactValueNumeric=%{y}<extra></extra>\",\"legendgroup\":\"Vanuatu\",\"line\":{\"color\":\"#FFA15A\",\"dash\":\"solid\"},\"marker\":{\"symbol\":\"circle\"},\"mode\":\"lines\",\"name\":\"Vanuatu\",\"showlegend\":true,\"x\":[2019,2018,2017,2016,2015,2014,2013,2012,2011,2010,2009,2008,2007,2006,2005,2004,2003,2002,2001,2000],\"xaxis\":\"x\",\"y\":[44.57,44.1,43.61,43.0,42.0,39.0,34.0,33.0,33.0,32.0,31.0,30.0,30.0,29.0,29.0,29.0,29.12,28.0,27.0,26.0],\"yaxis\":\"y\",\"type\":\"scattergl\"},{\"hovertemplate\":\"Location=Peru<br>Period=%{x}<br>FactValueNumeric=%{y}<extra></extra>\",\"legendgroup\":\"Peru\",\"line\":{\"color\":\"#19d3f3\",\"dash\":\"solid\"},\"marker\":{\"symbol\":\"circle\"},\"mode\":\"lines\",\"name\":\"Peru\",\"showlegend\":true,\"x\":[2019,2018,2017,2016,2015,2014,2013,2012,2011,2010,2009,2008,2007,2006,2005,2004,2003,2002,2001,2000],\"xaxis\":\"x\",\"y\":[4414.0,4384.0,4349.0,4286.0,4221.0,4078.0,4167.0,4300.0,4732.0,3827.0,4346.0,4675.0,4703.0,4665.0,4425.0,4242.0,3827.0,3925.0,4299.0,4178.0],\"yaxis\":\"y\",\"type\":\"scattergl\"},{\"hovertemplate\":\"Location=Jamaica<br>Period=%{x}<br>FactValueNumeric=%{y}<extra></extra>\",\"legendgroup\":\"Jamaica\",\"line\":{\"color\":\"#FF6692\",\"dash\":\"solid\"},\"marker\":{\"symbol\":\"circle\"},\"mode\":\"lines\",\"name\":\"Jamaica\",\"showlegend\":true,\"x\":[2019,2018,2017,2016,2015,2014,2013,2012,2011,2010,2009,2008,2007,2006,2005,2004,2003,2002,2001,2000],\"xaxis\":\"x\",\"y\":[444.0,419.0,394.3,380.7,383.8,330.7,306.4,258.8,365.5,320.2,354.8,343.7,350.2,387.8,339.2,337.6,369.4,390.1,359.7,332.3],\"yaxis\":\"y\",\"type\":\"scattergl\"},{\"hovertemplate\":\"Location=Bosnia and Herzegovina<br>Period=%{x}<br>FactValueNumeric=%{y}<extra></extra>\",\"legendgroup\":\"Bosnia and Herzegovina\",\"line\":{\"color\":\"#B6E880\",\"dash\":\"solid\"},\"marker\":{\"symbol\":\"circle\"},\"mode\":\"lines\",\"name\":\"Bosnia and Herzegovina\",\"showlegend\":true,\"x\":[2019,2018,2017,2016,2015,2014,2013,2012,2011,2010,2009,2008,2007,2006,2005,2004,2003,2002,2001,2000],\"xaxis\":\"x\",\"y\":[446.0,472.9,523.4,552.0,543.0,538.0,544.0,564.0,545.0,627.0,638.0,643.0,657.0,661.0,670.0,683.0,691.0,695.0,708.0,713.0],\"yaxis\":\"y\",\"type\":\"scattergl\"},{\"hovertemplate\":\"Location=Mali<br>Period=%{x}<br>FactValueNumeric=%{y}<extra></extra>\",\"legendgroup\":\"Mali\",\"line\":{\"color\":\"#FF97FF\",\"dash\":\"solid\"},\"marker\":{\"symbol\":\"circle\"},\"mode\":\"lines\",\"name\":\"Mali\",\"showlegend\":true,\"x\":[2019,2018,2017,2016,2015,2014,2013,2012,2011,2010,2009,2008,2007,2006,2005,2004,2003,2002,2001,2000],\"xaxis\":\"x\",\"y\":[4465.0,4359.0,4256.0,4159.0,4054.0,3966.0,3893.0,3784.0,3728.0,3643.0,3533.0,3382.0,3247.0,3156.0,3085.0,3026.0,2940.0,2880.0,2800.0,2798.0],\"yaxis\":\"y\",\"type\":\"scattergl\"},{\"hovertemplate\":\"Location=Ukraine<br>Period=%{x}<br>FactValueNumeric=%{y}<extra></extra>\",\"legendgroup\":\"Ukraine\",\"line\":{\"color\":\"#FECB52\",\"dash\":\"solid\"},\"marker\":{\"symbol\":\"circle\"},\"mode\":\"lines\",\"name\":\"Ukraine\",\"showlegend\":true,\"x\":[2019,2018,2017,2016,2015,2014,2013,2012,2011,2010,2009,2008,2007,2006,2005,2004,2003,2002,2001,2000],\"xaxis\":\"x\",\"y\":[4487.0,4429.0,4599.0,6089.0,5797.0,6201.0,6596.0,7060.0,6926.0,7066.0,7836.0,11452.0,13674.0,11790.0,11797.0,9719.0,9581.0,9358.0,8605.0,6646.0],\"yaxis\":\"y\",\"type\":\"scattergl\"},{\"hovertemplate\":\"Location=Japan<br>Period=%{x}<br>FactValueNumeric=%{y}<extra></extra>\",\"legendgroup\":\"Japan\",\"line\":{\"color\":\"#636efa\",\"dash\":\"solid\"},\"marker\":{\"symbol\":\"circle\"},\"mode\":\"lines\",\"name\":\"Japan\",\"showlegend\":true,\"x\":[2019,2018,2017,2016,2015,2014,2013,2012,2011,2010,2009,2008,2007,2006,2005,2004,2003,2002,2001,2000],\"xaxis\":\"x\",\"y\":[4566.0,4648.0,4944.0,5224.0,5395.0,5417.0,5781.0,6117.0,6381.0,6844.0,6888.0,7101.0,7945.0,10981.0,12040.0,12930.0,13526.0,14504.0,15414.0,15911.0],\"yaxis\":\"y\",\"type\":\"scattergl\"},{\"hovertemplate\":\"Location=New Zealand<br>Period=%{x}<br>FactValueNumeric=%{y}<extra></extra>\",\"legendgroup\":\"New Zealand\",\"line\":{\"color\":\"#EF553B\",\"dash\":\"solid\"},\"marker\":{\"symbol\":\"circle\"},\"mode\":\"lines\",\"name\":\"New Zealand\",\"showlegend\":true,\"x\":[2019,2018,2017,2016,2015,2014,2013,2012,2011,2010,2009,2008,2007,2006,2005,2004,2003,2002,2001,2000],\"xaxis\":\"x\",\"y\":[458.0,420.2,421.2,364.0,356.0,327.0,279.0,340.0,323.0,407.0,415.0,392.0,443.0,421.0,424.0,457.0,491.0,449.0,469.0,476.0],\"yaxis\":\"y\",\"type\":\"scattergl\"},{\"hovertemplate\":\"Location=Nepal<br>Period=%{x}<br>FactValueNumeric=%{y}<extra></extra>\",\"legendgroup\":\"Nepal\",\"line\":{\"color\":\"#00cc96\",\"dash\":\"solid\"},\"marker\":{\"symbol\":\"circle\"},\"mode\":\"lines\",\"name\":\"Nepal\",\"showlegend\":true,\"x\":[2019,2018,2017,2016,2015,2014,2013,2012,2011,2010,2009,2008,2007,2006,2005,2004,2003,2002,2001,2000],\"xaxis\":\"x\",\"y\":[4654.0,4561.0,4476.0,4622.0,4404.0,4288.0,4238.0,4238.0,4347.0,4255.0,4226.0,4230.0,4212.0,4147.0,4124.0,4038.0,3865.0,3779.0,3726.0,3717.0],\"yaxis\":\"y\",\"type\":\"scattergl\"},{\"hovertemplate\":\"Location=Montenegro<br>Period=%{x}<br>FactValueNumeric=%{y}<extra></extra>\",\"legendgroup\":\"Montenegro\",\"line\":{\"color\":\"#ab63fa\",\"dash\":\"solid\"},\"marker\":{\"symbol\":\"circle\"},\"mode\":\"lines\",\"name\":\"Montenegro\",\"showlegend\":true,\"x\":[2019,2018,2017,2016,2015,2014,2013,2012,2011,2010,2009,2008,2007,2006,2005,2004,2003,2002,2001,2000],\"xaxis\":\"x\",\"y\":[48.0,49.0,65.0,67.0,53.0,67.0,76.0,47.0,60.0,98.0,103.0,115.0,126.0,88.0,98.0,94.0,87.0,84.0,108.0,87.0],\"yaxis\":\"y\",\"type\":\"scattergl\"},{\"hovertemplate\":\"Location=Georgia<br>Period=%{x}<br>FactValueNumeric=%{y}<extra></extra>\",\"legendgroup\":\"Georgia\",\"line\":{\"color\":\"#FFA15A\",\"dash\":\"solid\"},\"marker\":{\"symbol\":\"circle\"},\"mode\":\"lines\",\"name\":\"Georgia\",\"showlegend\":true,\"x\":[2019,2018,2017,2016,2015,2014,2013,2012,2011,2010,2009,2008,2007,2006,2005,2004,2003,2002,2001,2000],\"xaxis\":\"x\",\"y\":[496.0,473.0,533.0,599.0,634.0,585.0,530.0,624.0,542.0,706.0,764.0,894.0,760.0,696.0,599.0,657.0,591.0,531.0,575.0,516.0],\"yaxis\":\"y\",\"type\":\"scattergl\"},{\"hovertemplate\":\"Location=Uruguay<br>Period=%{x}<br>FactValueNumeric=%{y}<extra></extra>\",\"legendgroup\":\"Uruguay\",\"line\":{\"color\":\"#19d3f3\",\"dash\":\"solid\"},\"marker\":{\"symbol\":\"circle\"},\"mode\":\"lines\",\"name\":\"Uruguay\",\"showlegend\":true,\"x\":[2019,2018,2017,2016,2015,2014,2013,2012,2011,2010,2009,2008,2007,2006,2005,2004,2003,2002,2001,2000],\"xaxis\":\"x\",\"y\":[511.6,544.0,485.0,460.0,522.0,555.0,585.0,527.0,590.0,573.0,552.0,531.0,479.0,481.0,424.0,462.0,406.0,410.0,518.0,559.0],\"yaxis\":\"y\",\"type\":\"scattergl\"},{\"hovertemplate\":\"Location=Chad<br>Period=%{x}<br>FactValueNumeric=%{y}<extra></extra>\",\"legendgroup\":\"Chad\",\"line\":{\"color\":\"#FF6692\",\"dash\":\"solid\"},\"marker\":{\"symbol\":\"circle\"},\"mode\":\"lines\",\"name\":\"Chad\",\"showlegend\":true,\"x\":[2019,2018,2017,2016,2015,2014,2013,2012,2011,2010,2009,2008,2007,2006,2005,2004,2003,2002,2001,2000],\"xaxis\":\"x\",\"y\":[5171.0,4740.0,4342.0,3990.0,3630.0,3365.0,3172.0,3028.0,3063.0,2948.0,2882.0,2791.0,2658.0,2560.0,2500.0,2439.0,2478.0,2384.0,2307.0,2252.0],\"yaxis\":\"y\",\"type\":\"scattergl\"},{\"hovertemplate\":\"Location=Gabon<br>Period=%{x}<br>FactValueNumeric=%{y}<extra></extra>\",\"legendgroup\":\"Gabon\",\"line\":{\"color\":\"#B6E880\",\"dash\":\"solid\"},\"marker\":{\"symbol\":\"circle\"},\"mode\":\"lines\",\"name\":\"Gabon\",\"showlegend\":true,\"x\":[2019,2018,2017,2016,2015,2014,2013,2012,2011,2010,2009,2008,2007,2006,2005,2004,2003,2002,2001,2000],\"xaxis\":\"x\",\"y\":[518.4,503.7,493.7,463.6,446.0,429.3,429.5,421.0,409.5,394.0,395.4,368.0,367.3,343.4,311.1,339.8,305.4,302.3,295.6,261.0],\"yaxis\":\"y\",\"type\":\"scattergl\"},{\"hovertemplate\":\"Location=Oman<br>Period=%{x}<br>FactValueNumeric=%{y}<extra></extra>\",\"legendgroup\":\"Oman\",\"line\":{\"color\":\"#FF97FF\",\"dash\":\"solid\"},\"marker\":{\"symbol\":\"circle\"},\"mode\":\"lines\",\"name\":\"Oman\",\"showlegend\":true,\"x\":[2019,2018,2017,2016,2015,2014,2013,2012,2011,2010,2009,2008,2007,2006,2005,2004,2003,2002,2001,2000],\"xaxis\":\"x\",\"y\":[527.0,657.0,660.0,713.0,696.0,841.0,941.0,1174.0,1089.0,845.0,1020.0,980.0,823.0,702.0,710.0,657.0,596.0,598.0,514.0,507.0],\"yaxis\":\"y\",\"type\":\"scattergl\"},{\"hovertemplate\":\"Location=Saint Lucia<br>Period=%{x}<br>FactValueNumeric=%{y}<extra></extra>\",\"legendgroup\":\"Saint Lucia\",\"line\":{\"color\":\"#FECB52\",\"dash\":\"solid\"},\"marker\":{\"symbol\":\"circle\"},\"mode\":\"lines\",\"name\":\"Saint Lucia\",\"showlegend\":true,\"x\":[2019,2018,2017,2016,2015,2014,2013,2012,2011,2010,2009,2008,2007,2006,2005,2004,2003,2002,2001,2000],\"xaxis\":\"x\",\"y\":[54.55,48.52,43.15,63.0,34.0,23.0,32.0,16.0,43.0,16.82,31.66,6.0,28.0,10.0,22.0,33.0,28.0,38.0,25.0,31.0],\"yaxis\":\"y\",\"type\":\"scattergl\"},{\"hovertemplate\":\"Location=T\\u00fcrkiye<br>Period=%{x}<br>FactValueNumeric=%{y}<extra></extra>\",\"legendgroup\":\"T\\u00fcrkiye\",\"line\":{\"color\":\"#636efa\",\"dash\":\"solid\"},\"marker\":{\"symbol\":\"circle\"},\"mode\":\"lines\",\"name\":\"T\\u00fcrkiye\",\"showlegend\":true,\"x\":[2019,2018,2017,2016,2015,2014,2013,2012,2011,2010,2009,2008,2007,2006,2005,2004,2003,2002,2001,2000],\"xaxis\":\"x\",\"y\":[5573.0,6882.0,7657.0,7526.0,7763.0,7450.0,7825.0,7953.0,8089.0,4935.0,4458.0,4367.0,5162.0,4777.0,4645.0,4564.0,4360.0,4429.0,4522.0,5681.0],\"yaxis\":\"y\",\"type\":\"scattergl\"},{\"hovertemplate\":\"Location=Estonia<br>Period=%{x}<br>FactValueNumeric=%{y}<extra></extra>\",\"legendgroup\":\"Estonia\",\"line\":{\"color\":\"#EF553B\",\"dash\":\"solid\"},\"marker\":{\"symbol\":\"circle\"},\"mode\":\"lines\",\"name\":\"Estonia\",\"showlegend\":true,\"x\":[2019,2018,2017,2016,2015,2014,2013,2012,2011,2010,2009,2008,2007,2006,2005,2004,2003,2002,2001,2000],\"xaxis\":\"x\",\"y\":[59.18,75.62,53.7,80.0,84.0,80.0,94.0,90.0,108.0,90.0,117.0,166.0,229.0,261.0,199.0,189.0,187.0,231.0,222.0,247.0],\"yaxis\":\"y\",\"type\":\"scattergl\"},{\"hovertemplate\":\"Location=Armenia<br>Period=%{x}<br>FactValueNumeric=%{y}<extra></extra>\",\"legendgroup\":\"Armenia\",\"line\":{\"color\":\"#00cc96\",\"dash\":\"solid\"},\"marker\":{\"symbol\":\"circle\"},\"mode\":\"lines\",\"name\":\"Armenia\",\"showlegend\":true,\"x\":[2019,2018,2017,2016,2015,2014,2013,2012,2011,2010,2009,2008,2007,2006,2005,2004,2003,2002,2001,2000],\"xaxis\":\"x\",\"y\":[590.1,601.8,482.8,461.0,490.0,485.0,486.0,491.0,510.0,519.0,516.0,504.0,515.0,528.0,546.0,554.0,558.0,579.0,594.0,603.0],\"yaxis\":\"y\",\"type\":\"scattergl\"},{\"hovertemplate\":\"Location=Panama<br>Period=%{x}<br>FactValueNumeric=%{y}<extra></extra>\",\"legendgroup\":\"Panama\",\"line\":{\"color\":\"#ab63fa\",\"dash\":\"solid\"},\"marker\":{\"symbol\":\"circle\"},\"mode\":\"lines\",\"name\":\"Panama\",\"showlegend\":true,\"x\":[2019,2018,2017,2016,2015,2014,2013,2012,2011,2010,2009,2008,2007,2006,2005,2004,2003,2002,2001,2000],\"xaxis\":\"x\",\"y\":[591.2,580.2,550.9,575.0,565.0,554.0,494.0,532.0,519.0,481.0,485.0,541.0,506.0,544.0,459.0,454.0,495.0,495.0,477.0,468.0],\"yaxis\":\"y\",\"type\":\"scattergl\"},{\"hovertemplate\":\"Location=Niger<br>Period=%{x}<br>FactValueNumeric=%{y}<extra></extra>\",\"legendgroup\":\"Niger\",\"line\":{\"color\":\"#FFA15A\",\"dash\":\"solid\"},\"marker\":{\"symbol\":\"circle\"},\"mode\":\"lines\",\"name\":\"Niger\",\"showlegend\":true,\"x\":[2019,2018,2017,2016,2015,2014,2013,2012,2011,2010,2009,2008,2007,2006,2005,2004,2003,2002,2001,2000],\"xaxis\":\"x\",\"y\":[5946.0,5758.0,5575.0,5414.0,5215.0,5017.0,4824.0,4659.0,4679.0,4489.0,4324.0,4146.0,4012.0,3905.0,3752.0,3663.0,3542.0,3449.0,3302.0,3222.0],\"yaxis\":\"y\",\"type\":\"scattergl\"},{\"hovertemplate\":\"Location=Iceland<br>Period=%{x}<br>FactValueNumeric=%{y}<extra></extra>\",\"legendgroup\":\"Iceland\",\"line\":{\"color\":\"#19d3f3\",\"dash\":\"solid\"},\"marker\":{\"symbol\":\"circle\"},\"mode\":\"lines\",\"name\":\"Iceland\",\"showlegend\":true,\"x\":[2019,2018,2017,2016,2015,2014,2013,2012,2011,2010,2009,2008,2007,2006,2005,2004,2003,2002,2001,2000],\"xaxis\":\"x\",\"y\":[6.95,23.43,18.53,22.0,16.0,6.0,16.0,11.0,13.97,8.22,18.0,14.0,15.03,32.26,20.0,24.03,24.22,30.0,27.2,33.0],\"yaxis\":\"y\",\"type\":\"scattergl\"},{\"hovertemplate\":\"Location=Sao Tome and Principe<br>Period=%{x}<br>FactValueNumeric=%{y}<extra></extra>\",\"legendgroup\":\"Sao Tome and Principe\",\"line\":{\"color\":\"#FF6692\",\"dash\":\"solid\"},\"marker\":{\"symbol\":\"circle\"},\"mode\":\"lines\",\"name\":\"Sao Tome and Principe\",\"showlegend\":true,\"x\":[2019,2018,2017,2016,2015,2014,2013,2012,2011,2010,2009,2008,2007,2006,2005,2004,2003,2002,2001,2000],\"xaxis\":\"x\",\"y\":[60.0,58.3,56.64,55.0,54.0,52.0,51.0,49.0,48.0,48.0,46.0,45.0,45.0,45.0,45.0,44.24,21.48,20.8,14.64,17.52],\"yaxis\":\"y\",\"type\":\"scattergl\"},{\"hovertemplate\":\"Location=Afghanistan<br>Period=%{x}<br>FactValueNumeric=%{y}<extra></extra>\",\"legendgroup\":\"Afghanistan\",\"line\":{\"color\":\"#B6E880\",\"dash\":\"solid\"},\"marker\":{\"symbol\":\"circle\"},\"mode\":\"lines\",\"name\":\"Afghanistan\",\"showlegend\":true,\"x\":[2019,2018,2017,2016,2015,2014,2013,2012,2011,2010,2009,2008,2007,2006,2005,2004,2003,2002,2001,2000],\"xaxis\":\"x\",\"y\":[6033.0,5295.0,5490.0,5240.0,4942.0,4693.0,4506.0,4296.0,4282.0,4208.0,4095.0,4161.0,4053.0,3982.0,3891.0,3757.0,3556.0,3371.0,3265.0,3044.0],\"yaxis\":\"y\",\"type\":\"scattergl\"},{\"hovertemplate\":\"Location=Zimbabwe<br>Period=%{x}<br>FactValueNumeric=%{y}<extra></extra>\",\"legendgroup\":\"Zimbabwe\",\"line\":{\"color\":\"#FF97FF\",\"dash\":\"solid\"},\"marker\":{\"symbol\":\"circle\"},\"mode\":\"lines\",\"name\":\"Zimbabwe\",\"showlegend\":true,\"x\":[2019,2018,2017,2016,2015,2014,2013,2012,2011,2010,2009,2008,2007,2006,2005,2004,2003,2002,2001,2000],\"xaxis\":\"x\",\"y\":[6037.0,5867.0,5702.0,5601.0,5353.0,5151.0,5030.0,4895.0,4822.0,4774.0,4753.0,4637.0,4480.0,4431.0,4259.0,4188.0,4044.0,3869.0,3541.0,3483.0],\"yaxis\":\"y\",\"type\":\"scattergl\"},{\"hovertemplate\":\"Location=Botswana<br>Period=%{x}<br>FactValueNumeric=%{y}<extra></extra>\",\"legendgroup\":\"Botswana\",\"line\":{\"color\":\"#FECB52\",\"dash\":\"solid\"},\"marker\":{\"symbol\":\"circle\"},\"mode\":\"lines\",\"name\":\"Botswana\",\"showlegend\":true,\"x\":[2019,2018,2017,2016,2015,2014,2013,2012,2011,2010,2009,2008,2007,2006,2005,2004,2003,2002,2001,2000],\"xaxis\":\"x\",\"y\":[608.5,579.5,551.8,535.0,526.0,506.0,431.0,431.5,480.2,480.0,469.5,458.4,489.3,452.8,445.6,526.3,550.3,514.0,521.0,523.2],\"yaxis\":\"y\",\"type\":\"scattergl\"},{\"hovertemplate\":\"Location=Morocco<br>Period=%{x}<br>FactValueNumeric=%{y}<extra></extra>\",\"legendgroup\":\"Morocco\",\"line\":{\"color\":\"#636efa\",\"dash\":\"solid\"},\"marker\":{\"symbol\":\"circle\"},\"mode\":\"lines\",\"name\":\"Morocco\",\"showlegend\":true,\"x\":[2019,2018,2017,2016,2015,2014,2013,2012,2011,2010,2009,2008,2007,2006,2005,2004,2003,2002,2001,2000],\"xaxis\":\"x\",\"y\":[6185.0,6369.0,6811.0,6917.0,6841.0,6784.0,6770.0,6761.0,6848.0,7568.0,7554.0,7482.0,7411.0,7376.0,7301.0,7156.0,7165.0,7069.0,6937.0,6870.0],\"yaxis\":\"y\",\"type\":\"scattergl\"},{\"hovertemplate\":\"Location=Guinea-Bissau<br>Period=%{x}<br>FactValueNumeric=%{y}<extra></extra>\",\"legendgroup\":\"Guinea-Bissau\",\"line\":{\"color\":\"#EF553B\",\"dash\":\"solid\"},\"marker\":{\"symbol\":\"circle\"},\"mode\":\"lines\",\"name\":\"Guinea-Bissau\",\"showlegend\":true,\"x\":[2019,2018,2017,2016,2015,2014,2013,2012,2011,2010,2009,2008,2007,2006,2005,2004,2003,2002,2001,2000],\"xaxis\":\"x\",\"y\":[619.1,602.3,585.7,565.0,557.0,545.0,519.0,499.0,487.0,479.0,464.0,450.3,445.2,432.1,423.0,413.9,405.3,384.3,373.3,368.3],\"yaxis\":\"y\",\"type\":\"scattergl\"},{\"hovertemplate\":\"Location=C\\u00f4te d\\u2019Ivoire<br>Period=%{x}<br>FactValueNumeric=%{y}<extra></extra>\",\"legendgroup\":\"C\\u00f4te d\\u2019Ivoire\",\"line\":{\"color\":\"#00cc96\",\"dash\":\"solid\"},\"marker\":{\"symbol\":\"circle\"},\"mode\":\"lines\",\"name\":\"C\\u00f4te d\\u2019Ivoire\",\"showlegend\":true,\"x\":[2019,2018,2017,2016,2015,2014,2013,2012,2011,2010,2009,2008,2007,2006,2005,2004,2003,2002,2001,2000],\"xaxis\":\"x\",\"y\":[6202.0,5985.0,5775.0,5582.0,5379.0,5215.0,5197.0,5163.0,5430.0,5293.0,5120.0,4989.0,4876.0,4843.0,4832.0,4755.0,4553.0,4380.0,4263.0,4187.0],\"yaxis\":\"y\",\"type\":\"scattergl\"},{\"hovertemplate\":\"Location=Democratic People's Republic of Korea<br>Period=%{x}<br>FactValueNumeric=%{y}<extra></extra>\",\"legendgroup\":\"Democratic People's Republic of Korea\",\"line\":{\"color\":\"#ab63fa\",\"dash\":\"solid\"},\"marker\":{\"symbol\":\"circle\"},\"mode\":\"lines\",\"name\":\"Democratic People's Republic of Korea\",\"showlegend\":true,\"x\":[2019,2018,2017,2016,2015,2014,2013,2012,2011,2010,2009,2008,2007,2006,2005,2004,2003,2002,2001,2000],\"xaxis\":\"x\",\"y\":[6210.0,6148.0,6042.0,6096.0,5915.0,5897.0,5788.0,5769.0,5804.0,5731.0,5720.0,5757.0,5723.0,5575.0,5410.0,5396.0,5411.0,5261.0,5157.0,5195.0],\"yaxis\":\"y\",\"type\":\"scattergl\"},{\"hovertemplate\":\"Location=Malawi<br>Period=%{x}<br>FactValueNumeric=%{y}<extra></extra>\",\"legendgroup\":\"Malawi\",\"line\":{\"color\":\"#FFA15A\",\"dash\":\"solid\"},\"marker\":{\"symbol\":\"circle\"},\"mode\":\"lines\",\"name\":\"Malawi\",\"showlegend\":true,\"x\":[2019,2018,2017,2016,2015,2014,2013,2012,2011,2010,2009,2008,2007,2006,2005,2004,2003,2002,2001,2000],\"xaxis\":\"x\",\"y\":[6221.0,6009.0,5804.0,5601.0,5421.0,5232.0,5041.0,4854.0,4521.0,4448.0,4360.0,4300.0,4238.0,4204.0,4158.0,4050.0,3917.0,3893.0,3700.0,3480.0],\"yaxis\":\"y\",\"type\":\"scattergl\"},{\"hovertemplate\":\"Location=Argentina<br>Period=%{x}<br>FactValueNumeric=%{y}<extra></extra>\",\"legendgroup\":\"Argentina\",\"line\":{\"color\":\"#19d3f3\",\"dash\":\"solid\"},\"marker\":{\"symbol\":\"circle\"},\"mode\":\"lines\",\"name\":\"Argentina\",\"showlegend\":true,\"x\":[2019,2018,2017,2016,2015,2014,2013,2012,2011,2010,2009,2008,2007,2006,2005,2004,2003,2002,2001,2000],\"xaxis\":\"x\",\"y\":[6298.0,6021.0,6151.0,6119.0,5980.0,5700.0,6052.0,5468.0,5729.0,5252.0,5381.0,5938.0,5596.0,5150.0,4527.0,4084.0,3584.0,3696.0,4339.0,4228.0],\"yaxis\":\"y\",\"type\":\"scattergl\"},{\"hovertemplate\":\"Location=Burkina Faso<br>Period=%{x}<br>FactValueNumeric=%{y}<extra></extra>\",\"legendgroup\":\"Burkina Faso\",\"line\":{\"color\":\"#FF6692\",\"dash\":\"solid\"},\"marker\":{\"symbol\":\"circle\"},\"mode\":\"lines\",\"name\":\"Burkina Faso\",\"showlegend\":true,\"x\":[2019,2018,2017,2016,2015,2014,2013,2012,2011,2010,2009,2008,2007,2006,2005,2004,2003,2002,2001,2000],\"xaxis\":\"x\",\"y\":[6303.0,6091.0,5885.0,5686.0,5510.0,5317.0,5086.0,4908.0,4831.0,4707.0,4456.0,4358.0,4223.0,4070.0,3915.0,3787.0,3594.0,3445.0,3314.0,3207.0],\"yaxis\":\"y\",\"type\":\"scattergl\"},{\"hovertemplate\":\"Location=Czechia<br>Period=%{x}<br>FactValueNumeric=%{y}<extra></extra>\",\"legendgroup\":\"Czechia\",\"line\":{\"color\":\"#B6E880\",\"dash\":\"solid\"},\"marker\":{\"symbol\":\"circle\"},\"mode\":\"lines\",\"name\":\"Czechia\",\"showlegend\":true,\"x\":[2019,2018,2017,2016,2015,2014,2013,2012,2011,2010,2009,2008,2007,2006,2005,2004,2003,2002,2001,2000],\"xaxis\":\"x\",\"y\":[636.0,676.0,595.0,630.0,761.0,709.0,674.0,765.0,797.0,827.0,929.0,1109.0,1260.0,1096.0,1326.0,1425.0,1492.0,1474.0,1374.0,1532.0],\"yaxis\":\"y\",\"type\":\"scattergl\"},{\"hovertemplate\":\"Location=Bulgaria<br>Period=%{x}<br>FactValueNumeric=%{y}<extra></extra>\",\"legendgroup\":\"Bulgaria\",\"line\":{\"color\":\"#FF97FF\",\"dash\":\"solid\"},\"marker\":{\"symbol\":\"circle\"},\"mode\":\"lines\",\"name\":\"Bulgaria\",\"showlegend\":true,\"x\":[2019,2018,2017,2016,2015,2014,2013,2012,2011,2010,2009,2008,2007,2006,2005,2004,2003,2002,2001,2000],\"xaxis\":\"x\",\"y\":[647.0,629.0,703.0,730.0,730.0,680.0,620.0,620.0,677.0,799.0,929.0,1094.0,1085.0,1075.0,987.0,969.0,990.0,989.0,1043.0,1043.0],\"yaxis\":\"y\",\"type\":\"scattergl\"},{\"hovertemplate\":\"Location=Kuwait<br>Period=%{x}<br>FactValueNumeric=%{y}<extra></extra>\",\"legendgroup\":\"Kuwait\",\"line\":{\"color\":\"#FECB52\",\"dash\":\"solid\"},\"marker\":{\"symbol\":\"circle\"},\"mode\":\"lines\",\"name\":\"Kuwait\",\"showlegend\":true,\"x\":[2019,2018,2017,2016,2015,2014,2013,2012,2011,2010,2009,2008,2007,2006,2005,2004,2003,2002,2001,2000],\"xaxis\":\"x\",\"y\":[649.4,672.1,693.4,715.0,723.0,703.0,761.0,828.0,701.0,601.0,722.0,756.0,739.0,689.0,669.0,560.0,562.0,503.0,497.0,534.0],\"yaxis\":\"y\",\"type\":\"scattergl\"},{\"hovertemplate\":\"Location=Serbia<br>Period=%{x}<br>FactValueNumeric=%{y}<extra></extra>\",\"legendgroup\":\"Serbia\",\"line\":{\"color\":\"#636efa\",\"dash\":\"solid\"},\"marker\":{\"symbol\":\"circle\"},\"mode\":\"lines\",\"name\":\"Serbia\",\"showlegend\":true,\"x\":[2019,2018,2017,2016,2015,2014,2013,2012,2011,2010,2009,2008,2007,2006,2005,2004,2003,2002,2001,2000],\"xaxis\":\"x\",\"y\":[655.5,657.2,756.1,651.6,597.8,663.3,751.1,798.9,867.4,804.8,964.1,1064.0,1147.0,1048.0,919.8,840.9,747.9,879.3,1298.0,1030.0],\"yaxis\":\"y\",\"type\":\"scattergl\"},{\"hovertemplate\":\"Location=Belgium<br>Period=%{x}<br>FactValueNumeric=%{y}<extra></extra>\",\"legendgroup\":\"Belgium\",\"line\":{\"color\":\"#EF553B\",\"dash\":\"solid\"},\"marker\":{\"symbol\":\"circle\"},\"mode\":\"lines\",\"name\":\"Belgium\",\"showlegend\":true,\"x\":[2019,2018,2017,2016,2015,2014,2013,2012,2011,2010,2009,2008,2007,2006,2005,2004,2003,2002,2001,2000],\"xaxis\":\"x\",\"y\":[666.0,623.0,628.0,657.0,755.0,750.0,778.0,794.0,902.0,889.0,1023.0,1015.0,1160.0,1115.0,1154.0,1198.0,1251.0,1437.0,1633.0,1712.0],\"yaxis\":\"y\",\"type\":\"scattergl\"},{\"hovertemplate\":\"Location=Azerbaijan<br>Period=%{x}<br>FactValueNumeric=%{y}<extra></extra>\",\"legendgroup\":\"Azerbaijan\",\"line\":{\"color\":\"#00cc96\",\"dash\":\"solid\"},\"marker\":{\"symbol\":\"circle\"},\"mode\":\"lines\",\"name\":\"Azerbaijan\",\"showlegend\":true,\"x\":[2019,2018,2017,2016,2015,2014,2013,2012,2011,2010,2009,2008,2007,2006,2005,2004,2003,2002,2001,2000],\"xaxis\":\"x\",\"y\":[676.4,804.0,835.0,845.0,995.0,1251.0,1296.0,1300.0,1131.0,1030.0,1035.0,1171.0,1199.0,1143.0,1185.0,903.0,1213.0,838.0,819.0,663.0],\"yaxis\":\"y\",\"type\":\"scattergl\"},{\"hovertemplate\":\"Location=Lesotho<br>Period=%{x}<br>FactValueNumeric=%{y}<extra></extra>\",\"legendgroup\":\"Lesotho\",\"line\":{\"color\":\"#ab63fa\",\"dash\":\"solid\"},\"marker\":{\"symbol\":\"circle\"},\"mode\":\"lines\",\"name\":\"Lesotho\",\"showlegend\":true,\"x\":[2019,2018,2017,2016,2015,2014,2013,2012,2011,2010,2009,2008,2007,2006,2005,2004,2003,2002,2001,2000],\"xaxis\":\"x\",\"y\":[678.5,667.0,890.5,638.7,620.8,603.0,584.2,575.0,550.0,552.0,552.0,549.0,553.0,553.4,550.4,545.5,567.3,567.5,552.6,548.8],\"yaxis\":\"y\",\"type\":\"scattergl\"},{\"hovertemplate\":\"Location=Mongolia<br>Period=%{x}<br>FactValueNumeric=%{y}<extra></extra>\",\"legendgroup\":\"Mongolia\",\"line\":{\"color\":\"#FFA15A\",\"dash\":\"solid\"},\"marker\":{\"symbol\":\"circle\"},\"mode\":\"lines\",\"name\":\"Mongolia\",\"showlegend\":true,\"x\":[2019,2018,2017,2016,2015,2014,2013,2012,2011,2010,2009,2008,2007,2006,2005,2004,2003,2002,2001,2000],\"xaxis\":\"x\",\"y\":[678.6,662.5,646.2,499.0,583.0,700.0,597.0,611.0,563.0,506.0,469.0,516.0,579.0,554.0,549.0,526.0,391.0,538.0,385.0,380.0],\"yaxis\":\"y\",\"type\":\"scattergl\"},{\"hovertemplate\":\"Location=Cyprus<br>Period=%{x}<br>FactValueNumeric=%{y}<extra></extra>\",\"legendgroup\":\"Cyprus\",\"line\":{\"color\":\"#19d3f3\",\"dash\":\"solid\"},\"marker\":{\"symbol\":\"circle\"},\"mode\":\"lines\",\"name\":\"Cyprus\",\"showlegend\":true,\"x\":[2019,2018,2017,2016,2015,2014,2013,2012,2011,2010,2009,2008,2007,2006,2005,2004,2003,2002,2001,2000],\"xaxis\":\"x\",\"y\":[68.94,65.11,70.33,60.95,78.0,61.0,57.0,68.91,87.58,91.78,101.6,106.0,118.0,96.07,129.0,147.4,117.0,118.0,113.0,116.0],\"yaxis\":\"y\",\"type\":\"scattergl\"},{\"hovertemplate\":\"Location=Netherlands<br>Period=%{x}<br>FactValueNumeric=%{y}<extra></extra>\",\"legendgroup\":\"Netherlands\",\"line\":{\"color\":\"#FF6692\",\"dash\":\"solid\"},\"marker\":{\"symbol\":\"circle\"},\"mode\":\"lines\",\"name\":\"Netherlands\",\"showlegend\":true,\"x\":[2019,2018,2017,2016,2015,2014,2013,2012,2011,2010,2009,2008,2007,2006,2005,2004,2003,2002,2001,2000],\"xaxis\":\"x\",\"y\":[681.0,699.0,632.0,648.0,640.0,588.0,588.0,675.0,681.0,660.0,742.0,773.0,816.0,836.0,842.0,908.0,1122.0,1102.0,1117.0,1202.0],\"yaxis\":\"y\",\"type\":\"scattergl\"},{\"hovertemplate\":\"Location=Dominican Republic<br>Period=%{x}<br>FactValueNumeric=%{y}<extra></extra>\",\"legendgroup\":\"Dominican Republic\",\"line\":{\"color\":\"#B6E880\",\"dash\":\"solid\"},\"marker\":{\"symbol\":\"circle\"},\"mode\":\"lines\",\"name\":\"Dominican Republic\",\"showlegend\":true,\"x\":[2019,2018,2017,2016,2015,2014,2013,2012,2011,2010,2009,2008,2007,2006,2005,2004,2003,2002,2001,2000],\"xaxis\":\"x\",\"y\":[6937.0,5682.0,4868.0,3684.0,3379.0,3221.0,4015.0,3003.0,2520.0,2699.0,2276.0,2453.0,2259.0,2363.0,2626.0,3230.0,3470.0,3205.0,2766.0,2493.0],\"yaxis\":\"y\",\"type\":\"scattergl\"},{\"hovertemplate\":\"Location=Gambia<br>Period=%{x}<br>FactValueNumeric=%{y}<extra></extra>\",\"legendgroup\":\"Gambia\",\"line\":{\"color\":\"#FF97FF\",\"dash\":\"solid\"},\"marker\":{\"symbol\":\"circle\"},\"mode\":\"lines\",\"name\":\"Gambia\",\"showlegend\":true,\"x\":[2019,2018,2017,2016,2015,2014,2013,2012,2011,2010,2009,2008,2007,2006,2005,2004,2003,2002,2001,2000],\"xaxis\":\"x\",\"y\":[695.3,664.0,633.9,605.0,579.0,552.0,524.0,503.0,496.0,475.0,457.0,449.0,435.0,425.0,405.0,388.0,370.0,362.0,347.0,339.0],\"yaxis\":\"y\",\"type\":\"scattergl\"},{\"hovertemplate\":\"Location=Malaysia<br>Period=%{x}<br>FactValueNumeric=%{y}<extra></extra>\",\"legendgroup\":\"Malaysia\",\"line\":{\"color\":\"#FECB52\",\"dash\":\"solid\"},\"marker\":{\"symbol\":\"circle\"},\"mode\":\"lines\",\"name\":\"Malaysia\",\"showlegend\":true,\"x\":[2019,2018,2017,2016,2015,2014,2013,2012,2011,2010,2009,2008,2007,2006,2005,2004,2003,2002,2001,2000],\"xaxis\":\"x\",\"y\":[7181.0,7153.0,7123.0,7374.0,6914.0,6881.0,7129.0,7131.0,7090.0,7085.0,6954.0,6729.0,6477.0,6482.0,6392.0,6421.0,6481.0,6074.0,6030.0,6222.0],\"yaxis\":\"y\",\"type\":\"scattergl\"},{\"hovertemplate\":\"Location=Belarus<br>Period=%{x}<br>FactValueNumeric=%{y}<extra></extra>\",\"legendgroup\":\"Belarus\",\"line\":{\"color\":\"#636efa\",\"dash\":\"solid\"},\"marker\":{\"symbol\":\"circle\"},\"mode\":\"lines\",\"name\":\"Belarus\",\"showlegend\":true,\"x\":[2019,2018,2017,2016,2015,2014,2013,2012,2011,2010,2009,2008,2007,2006,2005,2004,2003,2002,2001,2000],\"xaxis\":\"x\",\"y\":[722.0,785.6,842.7,841.4,950.1,1083.0,1279.0,1486.0,1748.0,2066.0,1841.0,2255.0,2224.0,2100.0,2109.0,2214.0,2587.0,2544.0,1739.0,1758.0],\"yaxis\":\"y\",\"type\":\"scattergl\"},{\"hovertemplate\":\"Location=Costa Rica<br>Period=%{x}<br>FactValueNumeric=%{y}<extra></extra>\",\"legendgroup\":\"Costa Rica\",\"line\":{\"color\":\"#EF553B\",\"dash\":\"solid\"},\"marker\":{\"symbol\":\"circle\"},\"mode\":\"lines\",\"name\":\"Costa Rica\",\"showlegend\":true,\"x\":[2019,2018,2017,2016,2015,2014,2013,2012,2011,2010,2009,2008,2007,2006,2005,2004,2003,2002,2001,2000],\"xaxis\":\"x\",\"y\":[745.9,721.0,728.3,812.0,798.0,682.0,644.0,699.0,616.0,640.0,721.0,751.0,709.0,712.0,620.0,650.0,642.0,698.0,696.0,704.0],\"yaxis\":\"y\",\"type\":\"scattergl\"},{\"hovertemplate\":\"Location=Hungary<br>Period=%{x}<br>FactValueNumeric=%{y}<extra></extra>\",\"legendgroup\":\"Hungary\",\"line\":{\"color\":\"#00cc96\",\"dash\":\"solid\"},\"marker\":{\"symbol\":\"circle\"},\"mode\":\"lines\",\"name\":\"Hungary\",\"showlegend\":true,\"x\":[2019,2018,2017,2016,2015,2014,2013,2012,2011,2010,2009,2008,2007,2006,2005,2004,2003,2002,2001,2000],\"xaxis\":\"x\",\"y\":[750.0,788.6,777.7,756.0,767.0,783.0,767.0,812.0,843.0,914.0,1039.0,1227.0,1474.0,1539.0,1492.0,1533.0,1533.0,1642.0,1380.0,1293.0],\"yaxis\":\"y\",\"type\":\"scattergl\"},{\"hovertemplate\":\"Location=Colombia<br>Period=%{x}<br>FactValueNumeric=%{y}<extra></extra>\",\"legendgroup\":\"Colombia\",\"line\":{\"color\":\"#ab63fa\",\"dash\":\"solid\"},\"marker\":{\"symbol\":\"circle\"},\"mode\":\"lines\",\"name\":\"Colombia\",\"showlegend\":true,\"x\":[2019,2018,2017,2016,2015,2014,2013,2012,2011,2010,2009,2008,2007,2006,2005,2004,2003,2002,2001,2000],\"xaxis\":\"x\",\"y\":[7765.0,8105.0,8411.0,8948.0,8540.0,7944.0,7768.0,7688.0,7196.0,7330.0,7908.0,7970.0,7837.0,7536.0,7226.0,7353.0,7119.0,7776.0,8067.0,7942.0],\"yaxis\":\"y\",\"type\":\"scattergl\"},{\"hovertemplate\":\"Location=Ghana<br>Period=%{x}<br>FactValueNumeric=%{y}<extra></extra>\",\"legendgroup\":\"Ghana\",\"line\":{\"color\":\"#FFA15A\",\"dash\":\"solid\"},\"marker\":{\"symbol\":\"circle\"},\"mode\":\"lines\",\"name\":\"Ghana\",\"showlegend\":true,\"x\":[2019,2018,2017,2016,2015,2014,2013,2012,2011,2010,2009,2008,2007,2006,2005,2004,2003,2002,2001,2000],\"xaxis\":\"x\",\"y\":[7808.0,7528.0,7257.0,7018.0,6783.0,6522.0,6233.0,6051.0,5941.0,5885.0,5772.0,5626.0,5511.0,5507.0,5567.0,5411.0,5320.0,5247.0,5095.0,4977.0],\"yaxis\":\"y\",\"type\":\"scattergl\"},{\"hovertemplate\":\"Location=Cameroon<br>Period=%{x}<br>FactValueNumeric=%{y}<extra></extra>\",\"legendgroup\":\"Cameroon\",\"line\":{\"color\":\"#19d3f3\",\"dash\":\"solid\"},\"marker\":{\"symbol\":\"circle\"},\"mode\":\"lines\",\"name\":\"Cameroon\",\"showlegend\":true,\"x\":[2019,2018,2017,2016,2015,2014,2013,2012,2011,2010,2009,2008,2007,2006,2005,2004,2003,2002,2001,2000],\"xaxis\":\"x\",\"y\":[7810.0,7545.0,7287.0,7066.0,6756.0,6554.0,6337.0,6147.0,6059.0,5871.0,5641.0,5461.0,5259.0,5129.0,5019.0,4794.0,4597.0,4530.0,4386.0,4258.0],\"yaxis\":\"y\",\"type\":\"scattergl\"},{\"hovertemplate\":\"Location=Madagascar<br>Period=%{x}<br>FactValueNumeric=%{y}<extra></extra>\",\"legendgroup\":\"Madagascar\",\"line\":{\"color\":\"#FF6692\",\"dash\":\"solid\"},\"marker\":{\"symbol\":\"circle\"},\"mode\":\"lines\",\"name\":\"Madagascar\",\"showlegend\":true,\"x\":[2019,2018,2017,2016,2015,2014,2013,2012,2011,2010,2009,2008,2007,2006,2005,2004,2003,2002,2001,2000],\"xaxis\":\"x\",\"y\":[7880.0,7625.0,7366.0,7108.0,6868.0,6630.0,6367.0,6115.0,5862.0,5652.0,5401.0,5096.0,4968.0,4860.0,4741.0,4701.0,4569.0,4487.0,4242.0,4198.0],\"yaxis\":\"y\",\"type\":\"scattergl\"},{\"hovertemplate\":\"Location=Saint Vincent and the Grenadines<br>Period=%{x}<br>FactValueNumeric=%{y}<extra></extra>\",\"legendgroup\":\"Saint Vincent and the Grenadines\",\"line\":{\"color\":\"#B6E880\",\"dash\":\"solid\"},\"marker\":{\"symbol\":\"circle\"},\"mode\":\"lines\",\"name\":\"Saint Vincent and the Grenadines\",\"showlegend\":true,\"x\":[2019,2018,2017,2016,2015,2014,2013,2012,2011,2010,2009,2008,2007,2006,2005,2004,2003,2002,2001,2000],\"xaxis\":\"x\",\"y\":[8.19,7.87,7.55,7.0,7.0,7.0,9.0,6.0,4.0,3.99,8.42,5.99,8.94,14.0,9.0,8.0,11.0,5.0,6.0,5.0],\"yaxis\":\"y\",\"type\":\"scattergl\"},{\"hovertemplate\":\"Location=Maldives<br>Period=%{x}<br>FactValueNumeric=%{y}<extra></extra>\",\"legendgroup\":\"Maldives\",\"line\":{\"color\":\"#FF97FF\",\"dash\":\"solid\"},\"marker\":{\"symbol\":\"circle\"},\"mode\":\"lines\",\"name\":\"Maldives\",\"showlegend\":true,\"x\":[2019,2018,2017,2016,2015,2014,2013,2012,2011,2010,2009,2008,2007,2006,2005,2004,2003,2002,2001,2000],\"xaxis\":\"x\",\"y\":[8.64,8.88,8.86,4.11,12.01,11.01,12.0,5.1,9.03,11.01,9.05,7.09,12.02,8.09,16.0,5.0,2.0,6.0,2.0,5.0],\"yaxis\":\"y\",\"type\":\"scattergl\"},{\"hovertemplate\":\"Location=Grenada<br>Period=%{x}<br>FactValueNumeric=%{y}<extra></extra>\",\"legendgroup\":\"Grenada\",\"line\":{\"color\":\"#FECB52\",\"dash\":\"solid\"},\"marker\":{\"symbol\":\"circle\"},\"mode\":\"lines\",\"name\":\"Grenada\",\"showlegend\":true,\"x\":[2019,2018,2017,2016,2015,2014,2013,2012,2011,2010,2009,2008,2007,2006,2005,2004,2003,2002,2001,2000],\"xaxis\":\"x\",\"y\":[8.92,8.68,8.44,10.0,9.0,5.0,9.0,4.0,9.0,6.0,4.0,12.0,8.0,16.0,13.0,2.0,2.0,8.0,7.0,5.0],\"yaxis\":\"y\",\"type\":\"scattergl\"},{\"hovertemplate\":\"Location=Turkmenistan<br>Period=%{x}<br>FactValueNumeric=%{y}<extra></extra>\",\"legendgroup\":\"Turkmenistan\",\"line\":{\"color\":\"#636efa\",\"dash\":\"solid\"},\"marker\":{\"symbol\":\"circle\"},\"mode\":\"lines\",\"name\":\"Turkmenistan\",\"showlegend\":true,\"x\":[2019,2018,2017,2016,2015,2014,2013,2012,2011,2010,2009,2008,2007,2006,2005,2004,2003,2002,2001,2000],\"xaxis\":\"x\",\"y\":[800.3,827.6,839.2,801.9,910.0,893.0,914.0,835.0,858.0,858.0,837.0,822.0,825.0,821.0,816.0,816.0,783.0,768.0,744.0,727.0],\"yaxis\":\"y\",\"type\":\"scattergl\"},{\"hovertemplate\":\"Location=Kyrgyzstan<br>Period=%{x}<br>FactValueNumeric=%{y}<extra></extra>\",\"legendgroup\":\"Kyrgyzstan\",\"line\":{\"color\":\"#EF553B\",\"dash\":\"solid\"},\"marker\":{\"symbol\":\"circle\"},\"mode\":\"lines\",\"name\":\"Kyrgyzstan\",\"showlegend\":true,\"x\":[2019,2018,2017,2016,2015,2014,2013,2012,2011,2010,2009,2008,2007,2006,2005,2004,2003,2002,2001,2000],\"xaxis\":\"x\",\"y\":[812.5,807.7,1023.0,916.0,1042.0,1011.0,1156.0,1074.0,1065.0,977.0,1061.0,1146.0,1128.0,1051.0,893.0,943.0,897.0,731.0,703.0,611.0],\"yaxis\":\"y\",\"type\":\"scattergl\"},{\"hovertemplate\":\"Location=Angola<br>Period=%{x}<br>FactValueNumeric=%{y}<extra></extra>\",\"legendgroup\":\"Angola\",\"line\":{\"color\":\"#00cc96\",\"dash\":\"solid\"},\"marker\":{\"symbol\":\"circle\"},\"mode\":\"lines\",\"name\":\"Angola\",\"showlegend\":true,\"x\":[2019,2018,2017,2016,2015,2014,2013,2012,2011,2010,2009,2008,2007,2006,2005,2004,2003,2002,2001,2000],\"xaxis\":\"x\",\"y\":[8317.0,8009.0,7596.0,7137.0,6586.0,6248.0,5817.0,5813.0,6149.0,6025.0,6155.0,5416.0,5324.0,4952.0,5064.0,4853.0,4577.0,4448.0,4269.0,4110.0],\"yaxis\":\"y\",\"type\":\"scattergl\"},{\"hovertemplate\":\"Location=Portugal<br>Period=%{x}<br>FactValueNumeric=%{y}<extra></extra>\",\"legendgroup\":\"Portugal\",\"line\":{\"color\":\"#ab63fa\",\"dash\":\"solid\"},\"marker\":{\"symbol\":\"circle\"},\"mode\":\"lines\",\"name\":\"Portugal\",\"showlegend\":true,\"x\":[2019,2018,2017,2016,2015,2014,2013,2012,2011,2010,2009,2008,2007,2006,2005,2004,2003,2002,2001,2000],\"xaxis\":\"x\",\"y\":[838.2,921.6,822.3,768.0,856.0,883.0,828.0,837.0,1141.0,1188.0,1270.0,1281.0,1380.0,1695.0,1858.0,1997.0,2022.0,2207.0,2224.0,1994.0],\"yaxis\":\"y\",\"type\":\"scattergl\"},{\"hovertemplate\":\"Location=Bahrain<br>Period=%{x}<br>FactValueNumeric=%{y}<extra></extra>\",\"legendgroup\":\"Bahrain\",\"line\":{\"color\":\"#FFA15A\",\"dash\":\"solid\"},\"marker\":{\"symbol\":\"circle\"},\"mode\":\"lines\",\"name\":\"Bahrain\",\"showlegend\":true,\"x\":[2019,2018,2017,2016,2015,2014,2013,2012,2011,2010,2009,2008,2007,2006,2005,2004,2003,2002,2001,2000],\"xaxis\":\"x\",\"y\":[84.96,88.83,92.45,99.0,103.0,98.0,128.0,123.0,124.0,134.0,160.0,151.0,164.0,209.0,139.0,130.0,125.0,139.0,121.0,80.0],\"yaxis\":\"y\",\"type\":\"scattergl\"},{\"hovertemplate\":\"Location=Yemen<br>Period=%{x}<br>FactValueNumeric=%{y}<extra></extra>\",\"legendgroup\":\"Yemen\",\"line\":{\"color\":\"#19d3f3\",\"dash\":\"solid\"},\"marker\":{\"symbol\":\"circle\"},\"mode\":\"lines\",\"name\":\"Yemen\",\"showlegend\":true,\"x\":[2019,2018,2017,2016,2015,2014,2013,2012,2011,2010,2009,2008,2007,2006,2005,2004,2003,2002,2001,2000],\"xaxis\":\"x\",\"y\":[8561.0,8092.0,7644.0,7418.0,6896.0,6281.0,5884.0,5747.0,5741.0,5355.0,5177.0,4860.0,4688.0,4526.0,4419.0,4375.0,4173.0,4053.0,3934.0,3815.0],\"yaxis\":\"y\",\"type\":\"scattergl\"},{\"hovertemplate\":\"Location=Namibia<br>Period=%{x}<br>FactValueNumeric=%{y}<extra></extra>\",\"legendgroup\":\"Namibia\",\"line\":{\"color\":\"#FF6692\",\"dash\":\"solid\"},\"marker\":{\"symbol\":\"circle\"},\"mode\":\"lines\",\"name\":\"Namibia\",\"showlegend\":true,\"x\":[2019,2018,2017,2016,2015,2014,2013,2012,2011,2010,2009,2008,2007,2006,2005,2004,2003,2002,2001,2000],\"xaxis\":\"x\",\"y\":[868.3,833.6,800.1,754.0,740.0,706.0,676.0,617.0,516.0,556.0,558.2,434.4,431.7,464.7,425.1,420.0,427.7,429.5,415.7,404.5],\"yaxis\":\"y\",\"type\":\"scattergl\"},{\"hovertemplate\":\"Location=Greece<br>Period=%{x}<br>FactValueNumeric=%{y}<extra></extra>\",\"legendgroup\":\"Greece\",\"line\":{\"color\":\"#B6E880\",\"dash\":\"solid\"},\"marker\":{\"symbol\":\"circle\"},\"mode\":\"lines\",\"name\":\"Greece\",\"showlegend\":true,\"x\":[2019,2018,2017,2016,2015,2014,2013,2012,2011,2010,2009,2008,2007,2006,2005,2004,2003,2002,2001,2000],\"xaxis\":\"x\",\"y\":[870.3,871.5,910.1,1026.0,988.0,994.0,1109.0,1213.0,1327.0,1428.0,1636.0,1712.0,1795.0,1793.0,1860.0,1965.0,1773.0,1832.0,2031.0,2200.0],\"yaxis\":\"y\",\"type\":\"scattergl\"},{\"hovertemplate\":\"Location=United Arab Emirates<br>Period=%{x}<br>FactValueNumeric=%{y}<extra></extra>\",\"legendgroup\":\"United Arab Emirates\",\"line\":{\"color\":\"#FF97FF\",\"dash\":\"solid\"},\"marker\":{\"symbol\":\"circle\"},\"mode\":\"lines\",\"name\":\"United Arab Emirates\",\"showlegend\":true,\"x\":[2019,2018,2017,2016,2015,2014,2013,2012,2011,2010,2009,2008,2007,2006,2005,2004,2003,2002,2001,2000],\"xaxis\":\"x\",\"y\":[870.4,1085.0,1258.0,1678.0,1676.0,1636.0,1623.0,1635.0,1710.0,1659.0,1506.0,1273.0,1089.0,910.0,856.0,850.0,900.0,778.0,522.0,502.0],\"yaxis\":\"y\",\"type\":\"scattergl\"},{\"hovertemplate\":\"Location=Belize<br>Period=%{x}<br>FactValueNumeric=%{y}<extra></extra>\",\"legendgroup\":\"Belize\",\"line\":{\"color\":\"#FECB52\",\"dash\":\"solid\"},\"marker\":{\"symbol\":\"circle\"},\"mode\":\"lines\",\"name\":\"Belize\",\"showlegend\":true,\"x\":[2019,2018,2017,2016,2015,2014,2013,2012,2011,2010,2009,2008,2007,2006,2005,2004,2003,2002,2001,2000],\"xaxis\":\"x\",\"y\":[88.05,86.02,73.05,103.9,91.93,85.94,74.96,72.0,60.0,45.0,52.96,103.6,96.77,83.91,101.8,64.98,85.0,94.81,95.75,73.0],\"yaxis\":\"y\",\"type\":\"scattergl\"},{\"hovertemplate\":\"Location=Suriname<br>Period=%{x}<br>FactValueNumeric=%{y}<extra></extra>\",\"legendgroup\":\"Suriname\",\"line\":{\"color\":\"#636efa\",\"dash\":\"solid\"},\"marker\":{\"symbol\":\"circle\"},\"mode\":\"lines\",\"name\":\"Suriname\",\"showlegend\":true,\"x\":[2019,2018,2017,2016,2015,2014,2013,2012,2011,2010,2009,2008,2007,2006,2005,2004,2003,2002,2001,2000],\"xaxis\":\"x\",\"y\":[89.09,90.18,91.27,81.0,64.0,90.0,79.0,85.0,119.0,103.0,139.0,126.0,130.0,125.0,132.0,145.0,99.0,86.0,61.0,121.0],\"yaxis\":\"y\",\"type\":\"scattergl\"},{\"hovertemplate\":\"Location=Algeria<br>Period=%{x}<br>FactValueNumeric=%{y}<extra></extra>\",\"legendgroup\":\"Algeria\",\"line\":{\"color\":\"#EF553B\",\"dash\":\"solid\"},\"marker\":{\"symbol\":\"circle\"},\"mode\":\"lines\",\"name\":\"Algeria\",\"showlegend\":true,\"x\":[2019,2018,2017,2016,2015,2014,2013,2012,2011,2010,2009,2008,2007,2006,2005,2004,2003,2002,2001,2000],\"xaxis\":\"x\",\"y\":[8996.0,8849.0,8698.0,8538.0,8415.0,8255.0,8052.0,7986.0,8180.0,8023.0,7944.0,7784.0,7615.0,7459.0,7314.0,7348.0,7325.0,7262.0,7133.0,6996.0],\"yaxis\":\"y\",\"type\":\"scattergl\"},{\"hovertemplate\":\"Location=Mozambique<br>Period=%{x}<br>FactValueNumeric=%{y}<extra></extra>\",\"legendgroup\":\"Mozambique\",\"line\":{\"color\":\"#00cc96\",\"dash\":\"solid\"},\"marker\":{\"symbol\":\"circle\"},\"mode\":\"lines\",\"name\":\"Mozambique\",\"showlegend\":true,\"x\":[2019,2018,2017,2016,2015,2014,2013,2012,2011,2010,2009,2008,2007,2006,2005,2004,2003,2002,2001,2000],\"xaxis\":\"x\",\"y\":[9117.0,8878.0,8645.0,8665.0,8305.0,8001.0,7741.0,7556.0,7356.0,7231.0,7093.0,6994.0,6772.0,6739.0,6626.0,6591.0,6485.0,6365.0,6180.0,6017.0],\"yaxis\":\"y\",\"type\":\"scattergl\"}],                        {\"template\":{\"data\":{\"histogram2dcontour\":[{\"type\":\"histogram2dcontour\",\"colorbar\":{\"outlinewidth\":0,\"ticks\":\"\"},\"colorscale\":[[0.0,\"#0d0887\"],[0.1111111111111111,\"#46039f\"],[0.2222222222222222,\"#7201a8\"],[0.3333333333333333,\"#9c179e\"],[0.4444444444444444,\"#bd3786\"],[0.5555555555555556,\"#d8576b\"],[0.6666666666666666,\"#ed7953\"],[0.7777777777777778,\"#fb9f3a\"],[0.8888888888888888,\"#fdca26\"],[1.0,\"#f0f921\"]]}],\"choropleth\":[{\"type\":\"choropleth\",\"colorbar\":{\"outlinewidth\":0,\"ticks\":\"\"}}],\"histogram2d\":[{\"type\":\"histogram2d\",\"colorbar\":{\"outlinewidth\":0,\"ticks\":\"\"},\"colorscale\":[[0.0,\"#0d0887\"],[0.1111111111111111,\"#46039f\"],[0.2222222222222222,\"#7201a8\"],[0.3333333333333333,\"#9c179e\"],[0.4444444444444444,\"#bd3786\"],[0.5555555555555556,\"#d8576b\"],[0.6666666666666666,\"#ed7953\"],[0.7777777777777778,\"#fb9f3a\"],[0.8888888888888888,\"#fdca26\"],[1.0,\"#f0f921\"]]}],\"heatmap\":[{\"type\":\"heatmap\",\"colorbar\":{\"outlinewidth\":0,\"ticks\":\"\"},\"colorscale\":[[0.0,\"#0d0887\"],[0.1111111111111111,\"#46039f\"],[0.2222222222222222,\"#7201a8\"],[0.3333333333333333,\"#9c179e\"],[0.4444444444444444,\"#bd3786\"],[0.5555555555555556,\"#d8576b\"],[0.6666666666666666,\"#ed7953\"],[0.7777777777777778,\"#fb9f3a\"],[0.8888888888888888,\"#fdca26\"],[1.0,\"#f0f921\"]]}],\"heatmapgl\":[{\"type\":\"heatmapgl\",\"colorbar\":{\"outlinewidth\":0,\"ticks\":\"\"},\"colorscale\":[[0.0,\"#0d0887\"],[0.1111111111111111,\"#46039f\"],[0.2222222222222222,\"#7201a8\"],[0.3333333333333333,\"#9c179e\"],[0.4444444444444444,\"#bd3786\"],[0.5555555555555556,\"#d8576b\"],[0.6666666666666666,\"#ed7953\"],[0.7777777777777778,\"#fb9f3a\"],[0.8888888888888888,\"#fdca26\"],[1.0,\"#f0f921\"]]}],\"contourcarpet\":[{\"type\":\"contourcarpet\",\"colorbar\":{\"outlinewidth\":0,\"ticks\":\"\"}}],\"contour\":[{\"type\":\"contour\",\"colorbar\":{\"outlinewidth\":0,\"ticks\":\"\"},\"colorscale\":[[0.0,\"#0d0887\"],[0.1111111111111111,\"#46039f\"],[0.2222222222222222,\"#7201a8\"],[0.3333333333333333,\"#9c179e\"],[0.4444444444444444,\"#bd3786\"],[0.5555555555555556,\"#d8576b\"],[0.6666666666666666,\"#ed7953\"],[0.7777777777777778,\"#fb9f3a\"],[0.8888888888888888,\"#fdca26\"],[1.0,\"#f0f921\"]]}],\"surface\":[{\"type\":\"surface\",\"colorbar\":{\"outlinewidth\":0,\"ticks\":\"\"},\"colorscale\":[[0.0,\"#0d0887\"],[0.1111111111111111,\"#46039f\"],[0.2222222222222222,\"#7201a8\"],[0.3333333333333333,\"#9c179e\"],[0.4444444444444444,\"#bd3786\"],[0.5555555555555556,\"#d8576b\"],[0.6666666666666666,\"#ed7953\"],[0.7777777777777778,\"#fb9f3a\"],[0.8888888888888888,\"#fdca26\"],[1.0,\"#f0f921\"]]}],\"mesh3d\":[{\"type\":\"mesh3d\",\"colorbar\":{\"outlinewidth\":0,\"ticks\":\"\"}}],\"scatter\":[{\"fillpattern\":{\"fillmode\":\"overlay\",\"size\":10,\"solidity\":0.2},\"type\":\"scatter\"}],\"parcoords\":[{\"type\":\"parcoords\",\"line\":{\"colorbar\":{\"outlinewidth\":0,\"ticks\":\"\"}}}],\"scatterpolargl\":[{\"type\":\"scatterpolargl\",\"marker\":{\"colorbar\":{\"outlinewidth\":0,\"ticks\":\"\"}}}],\"bar\":[{\"error_x\":{\"color\":\"#2a3f5f\"},\"error_y\":{\"color\":\"#2a3f5f\"},\"marker\":{\"line\":{\"color\":\"#E5ECF6\",\"width\":0.5},\"pattern\":{\"fillmode\":\"overlay\",\"size\":10,\"solidity\":0.2}},\"type\":\"bar\"}],\"scattergeo\":[{\"type\":\"scattergeo\",\"marker\":{\"colorbar\":{\"outlinewidth\":0,\"ticks\":\"\"}}}],\"scatterpolar\":[{\"type\":\"scatterpolar\",\"marker\":{\"colorbar\":{\"outlinewidth\":0,\"ticks\":\"\"}}}],\"histogram\":[{\"marker\":{\"pattern\":{\"fillmode\":\"overlay\",\"size\":10,\"solidity\":0.2}},\"type\":\"histogram\"}],\"scattergl\":[{\"type\":\"scattergl\",\"marker\":{\"colorbar\":{\"outlinewidth\":0,\"ticks\":\"\"}}}],\"scatter3d\":[{\"type\":\"scatter3d\",\"line\":{\"colorbar\":{\"outlinewidth\":0,\"ticks\":\"\"}},\"marker\":{\"colorbar\":{\"outlinewidth\":0,\"ticks\":\"\"}}}],\"scattermapbox\":[{\"type\":\"scattermapbox\",\"marker\":{\"colorbar\":{\"outlinewidth\":0,\"ticks\":\"\"}}}],\"scatterternary\":[{\"type\":\"scatterternary\",\"marker\":{\"colorbar\":{\"outlinewidth\":0,\"ticks\":\"\"}}}],\"scattercarpet\":[{\"type\":\"scattercarpet\",\"marker\":{\"colorbar\":{\"outlinewidth\":0,\"ticks\":\"\"}}}],\"carpet\":[{\"aaxis\":{\"endlinecolor\":\"#2a3f5f\",\"gridcolor\":\"white\",\"linecolor\":\"white\",\"minorgridcolor\":\"white\",\"startlinecolor\":\"#2a3f5f\"},\"baxis\":{\"endlinecolor\":\"#2a3f5f\",\"gridcolor\":\"white\",\"linecolor\":\"white\",\"minorgridcolor\":\"white\",\"startlinecolor\":\"#2a3f5f\"},\"type\":\"carpet\"}],\"table\":[{\"cells\":{\"fill\":{\"color\":\"#EBF0F8\"},\"line\":{\"color\":\"white\"}},\"header\":{\"fill\":{\"color\":\"#C8D4E3\"},\"line\":{\"color\":\"white\"}},\"type\":\"table\"}],\"barpolar\":[{\"marker\":{\"line\":{\"color\":\"#E5ECF6\",\"width\":0.5},\"pattern\":{\"fillmode\":\"overlay\",\"size\":10,\"solidity\":0.2}},\"type\":\"barpolar\"}],\"pie\":[{\"automargin\":true,\"type\":\"pie\"}]},\"layout\":{\"autotypenumbers\":\"strict\",\"colorway\":[\"#636efa\",\"#EF553B\",\"#00cc96\",\"#ab63fa\",\"#FFA15A\",\"#19d3f3\",\"#FF6692\",\"#B6E880\",\"#FF97FF\",\"#FECB52\"],\"font\":{\"color\":\"#2a3f5f\"},\"hovermode\":\"closest\",\"hoverlabel\":{\"align\":\"left\"},\"paper_bgcolor\":\"white\",\"plot_bgcolor\":\"#E5ECF6\",\"polar\":{\"bgcolor\":\"#E5ECF6\",\"angularaxis\":{\"gridcolor\":\"white\",\"linecolor\":\"white\",\"ticks\":\"\"},\"radialaxis\":{\"gridcolor\":\"white\",\"linecolor\":\"white\",\"ticks\":\"\"}},\"ternary\":{\"bgcolor\":\"#E5ECF6\",\"aaxis\":{\"gridcolor\":\"white\",\"linecolor\":\"white\",\"ticks\":\"\"},\"baxis\":{\"gridcolor\":\"white\",\"linecolor\":\"white\",\"ticks\":\"\"},\"caxis\":{\"gridcolor\":\"white\",\"linecolor\":\"white\",\"ticks\":\"\"}},\"coloraxis\":{\"colorbar\":{\"outlinewidth\":0,\"ticks\":\"\"}},\"colorscale\":{\"sequential\":[[0.0,\"#0d0887\"],[0.1111111111111111,\"#46039f\"],[0.2222222222222222,\"#7201a8\"],[0.3333333333333333,\"#9c179e\"],[0.4444444444444444,\"#bd3786\"],[0.5555555555555556,\"#d8576b\"],[0.6666666666666666,\"#ed7953\"],[0.7777777777777778,\"#fb9f3a\"],[0.8888888888888888,\"#fdca26\"],[1.0,\"#f0f921\"]],\"sequentialminus\":[[0.0,\"#0d0887\"],[0.1111111111111111,\"#46039f\"],[0.2222222222222222,\"#7201a8\"],[0.3333333333333333,\"#9c179e\"],[0.4444444444444444,\"#bd3786\"],[0.5555555555555556,\"#d8576b\"],[0.6666666666666666,\"#ed7953\"],[0.7777777777777778,\"#fb9f3a\"],[0.8888888888888888,\"#fdca26\"],[1.0,\"#f0f921\"]],\"diverging\":[[0,\"#8e0152\"],[0.1,\"#c51b7d\"],[0.2,\"#de77ae\"],[0.3,\"#f1b6da\"],[0.4,\"#fde0ef\"],[0.5,\"#f7f7f7\"],[0.6,\"#e6f5d0\"],[0.7,\"#b8e186\"],[0.8,\"#7fbc41\"],[0.9,\"#4d9221\"],[1,\"#276419\"]]},\"xaxis\":{\"gridcolor\":\"white\",\"linecolor\":\"white\",\"ticks\":\"\",\"title\":{\"standoff\":15},\"zerolinecolor\":\"white\",\"automargin\":true,\"zerolinewidth\":2},\"yaxis\":{\"gridcolor\":\"white\",\"linecolor\":\"white\",\"ticks\":\"\",\"title\":{\"standoff\":15},\"zerolinecolor\":\"white\",\"automargin\":true,\"zerolinewidth\":2},\"scene\":{\"xaxis\":{\"backgroundcolor\":\"#E5ECF6\",\"gridcolor\":\"white\",\"linecolor\":\"white\",\"showbackground\":true,\"ticks\":\"\",\"zerolinecolor\":\"white\",\"gridwidth\":2},\"yaxis\":{\"backgroundcolor\":\"#E5ECF6\",\"gridcolor\":\"white\",\"linecolor\":\"white\",\"showbackground\":true,\"ticks\":\"\",\"zerolinecolor\":\"white\",\"gridwidth\":2},\"zaxis\":{\"backgroundcolor\":\"#E5ECF6\",\"gridcolor\":\"white\",\"linecolor\":\"white\",\"showbackground\":true,\"ticks\":\"\",\"zerolinecolor\":\"white\",\"gridwidth\":2}},\"shapedefaults\":{\"line\":{\"color\":\"#2a3f5f\"}},\"annotationdefaults\":{\"arrowcolor\":\"#2a3f5f\",\"arrowhead\":0,\"arrowwidth\":1},\"geo\":{\"bgcolor\":\"white\",\"landcolor\":\"#E5ECF6\",\"subunitcolor\":\"white\",\"showland\":true,\"showlakes\":true,\"lakecolor\":\"white\"},\"title\":{\"x\":0.05},\"mapbox\":{\"style\":\"light\"}}},\"xaxis\":{\"anchor\":\"y\",\"domain\":[0.0,1.0],\"title\":{\"text\":\"Period\"}},\"yaxis\":{\"anchor\":\"x\",\"domain\":[0.0,1.0],\"title\":{\"text\":\"FactValueNumeric\"}},\"legend\":{\"title\":{\"text\":\"Location\"},\"tracegroupgap\":0},\"title\":{\"text\":\"Road Traffic Deaths by Country and Year\"}},                        {\"responsive\": true}                    ).then(function(){\n",
       "                            \n",
       "var gd = document.getElementById('695c7475-ac94-4698-b4cd-e17f67efd251');\n",
       "var x = new MutationObserver(function (mutations, observer) {{\n",
       "        var display = window.getComputedStyle(gd).display;\n",
       "        if (!display || display === 'none') {{\n",
       "            console.log([gd, 'removed!']);\n",
       "            Plotly.purge(gd);\n",
       "            observer.disconnect();\n",
       "        }}\n",
       "}});\n",
       "\n",
       "// Listen for the removal of the full notebook cells\n",
       "var notebookContainer = gd.closest('#notebook-container');\n",
       "if (notebookContainer) {{\n",
       "    x.observe(notebookContainer, {childList: true});\n",
       "}}\n",
       "\n",
       "// Listen for the clearing of the current output cell\n",
       "var outputEl = gd.closest('.output');\n",
       "if (outputEl) {{\n",
       "    x.observe(outputEl, {childList: true});\n",
       "}}\n",
       "\n",
       "                        })                };                });            </script>        </div>"
      ]
     },
     "metadata": {},
     "output_type": "display_data"
    }
   ],
   "source": [
    "road_safety_data = pd.read_csv(\"data.csv\")\n",
    "# print(road_safety_data.head(10))\n",
    "# selected_df = road_safety_data[road_safety_data['Location'].isin(['USA', 'China', 'India', 'Pakisthan', 'Brazil', 'Indonesia', 'Nigeria'])]\n",
    "# Create the plot\n",
    "# print(selected_df)\n",
    "fig = px.line(road_safety_data, x='Period', y='FactValueNumeric', color='Location', title='Road Traffic Deaths by Country and Year')\n",
    "# Show the plot\n",
    "fig.show()"
   ]
  },
  {
   "attachments": {},
   "cell_type": "markdown",
   "metadata": {},
   "source": [
    "Different plots to know about the dataset."
   ]
  },
  {
   "cell_type": "code",
   "execution_count": 9,
   "metadata": {},
   "outputs": [
    {
     "data": {
      "image/png": "[encoded data removed]",
      "text/plain": [
       "<Figure size 640x480 with 1 Axes>"
      ]
     },
     "metadata": {},
     "output_type": "display_data"
    }
   ],
   "source": [
    "df_x = pd.read_csv('data.csv')\n",
    "df_x = df_x.groupby(\"Period\")[\"FactValueNumeric\"].sum()\n",
    "df_x = df_x.to_frame()\n",
    "df_x = df_x.reset_index()\n",
    "\n",
    "# plot graph of period and factvaluenumeric \n",
    "df_x.plot(x=\"Period\", y=\"FactValueNumeric\", kind=\"line\")\n",
    "plt.title(\"Period vs FactValueNumeric\")\n",
    "plt.show()"
   ]
  },
  {
   "cell_type": "code",
   "execution_count": 10,
   "metadata": {},
   "outputs": [
    {
     "data": {
      "image/png": "[encoded data removed]",
      "text/plain": [
       "<Figure size 640x480 with 1 Axes>"
      ]
     },
     "metadata": {},
     "output_type": "display_data"
    }
   ],
   "source": [
    "data_3 = pd.read_csv('cleaned.csv')\n",
    "age_groups = data_3.groupby('Age_band_of_driver').size()\n",
    "age_pct = age_groups / age_groups.sum() * 100\n",
    "\n",
    "age_pct.plot(kind='bar')\n",
    "plt.xlabel('Age band of driver')\n",
    "plt.ylabel('Percentage of accidents')\n",
    "plt.title('Percentage of accidents by age band of driver')\n",
    "plt.show()"
   ]
  },
  {
   "cell_type": "code",
   "execution_count": 12,
   "metadata": {},
   "outputs": [
    {
     "data": {
      "image/png": "[encoded data removed]",
      "text/plain": [
       "<Figure size 640x480 with 1 Axes>"
      ]
     },
     "metadata": {},
     "output_type": "display_data"
    }
   ],
   "source": [
    "driving_groups = data_3.groupby('Driving_experience').size()\n",
    "driving_pct = driving_groups / driving_groups.sum() * 100\n",
    "\n",
    "driving_pct.plot(kind='bar')\n",
    "plt.xlabel('Driving experience')\n",
    "plt.ylabel('Percentage of accidents')\n",
    "plt.title('Percentage of accidents by driving experience')\n",
    "plt.show()"
   ]
  },
  {
   "cell_type": "code",
   "execution_count": 13,
   "metadata": {},
   "outputs": [
    {
     "data": {
      "image/png": "[encoded data removed]",
      "text/plain": [
       "<Figure size 640x480 with 1 Axes>"
      ]
     },
     "metadata": {},
     "output_type": "display_data"
    }
   ],
   "source": [
    "male_data = pd.read_csv('male_data.csv')\n",
    "female_data = pd.read_csv('female_data.csv')\n",
    "male_data = male_data.groupby('Period')['FactValueNumeric'].sum().to_frame().reset_index()  \n",
    "female_data = female_data.groupby('Period')['FactValueNumeric'].sum().to_frame().reset_index()\n",
    "\n",
    "plt.bar(male_data['Period'], male_data['FactValueNumeric'], label = 'male_deaths')\n",
    "plt.bar(female_data['Period'], female_data['FactValueNumeric'], label = 'female_deaths')\n",
    "plt.legend()\n",
    "plt.xlabel('Period')\n",
    "plt.ylabel('FactValueNumeric - No of deaths')\n",
    "plt.show()"
   ]
  },
  {
   "cell_type": "code",
   "execution_count": 14,
   "metadata": {},
   "outputs": [
    {
     "data": {
      "image/png": "[encoded data removed]",
      "text/plain": [
       "<Figure size 640x480 with 1 Axes>"
      ]
     },
     "metadata": {},
     "output_type": "display_data"
    }
   ],
   "source": [
    "data_2 = pd.read_csv(\"RS_246.csv\")\n",
    "data_2 = data_2.dropna(axis=1, how='all')\n",
    "plot_data_2 = data_2.groupby(\"DisaggregatingDimension1ValueCode\")[\"NumericValue\"].sum()\n",
    "plot_data_2.plot(x='DisaggregatingDimension1ValueCode', y='NumericValue', kind='bar')\n",
    "plt.title('Cases and Type of Vehicle')\n",
    "plt.xlabel('Period')\n",
    "plt.ylabel('Cases')\n",
    "plt.show()"
   ]
  },
  {
   "cell_type": "code",
   "execution_count": 15,
   "metadata": {},
   "outputs": [
    {
     "data": {
      "image/png": "[encoded data removed]",
      "text/plain": [
       "<Figure size 640x480 with 1 Axes>"
      ]
     },
     "metadata": {},
     "output_type": "display_data"
    }
   ],
   "source": [
    "df_x = pd.read_csv('data.csv')\n",
    "df_x = df_x.groupby(\"Location\")[\"FactValueNumeric\"].sum()\n",
    "df_x = df_x.to_frame()\n",
    "df_x = df_x.reset_index()\n",
    "df_x.sort_values(by=['FactValueNumeric'], inplace=True, ascending=False)\n",
    "\n",
    "\n",
    "plt.bar(df_x['Location'].head(10), df_x['FactValueNumeric'].head(10))\n",
    "plt.xlabel('Location')\n",
    "plt.ylabel('No of Deaths')\n",
    "plt.title('No of Deaths v/s Location')\n",
    "plt.xticks(rotation = 90)\n",
    "plt.show()"
   ]
  },
  {
   "cell_type": "code",
   "execution_count": 16,
   "metadata": {},
   "outputs": [],
   "source": [
    "df = pd.read_csv('data.csv')\n",
    "# df[\"ParentLocation\"].unique()"
   ]
  },
  {
   "cell_type": "code",
   "execution_count": 17,
   "metadata": {},
   "outputs": [
    {
     "data": {
      "text/plain": [
       "ParentLocation\n",
       "Africa                   4746425.48\n",
       "Americas                 3030029.64\n",
       "Eastern Mediterranean    2230774.74\n",
       "Europe                   2090586.37\n",
       "South-East Asia          6035770.10\n",
       "Western Pacific          6718368.47\n",
       "Name: FactValueNumeric, dtype: float64"
      ]
     },
     "execution_count": 17,
     "metadata": {},
     "output_type": "execute_result"
    }
   ],
   "source": [
    "df_Africa = df[df[\"ParentLocation\"]==\"Africa\"]\n",
    "df_Americas = df[df[\"ParentLocation\"]==\"Americas\"]\n",
    "df_pacific = df[df[\"ParentLocation\"]==\"Western Pacific\"]\n",
    "df_medd = df[df[\"ParentLocation\"]==\"Eastern Mediterranean\"]\n",
    "df_europe = df[df[\"ParentLocation\"]==\"Europe\"]\n",
    "df_Asia = df[df[\"ParentLocation\"]==\"South-East Asia\"]\n",
    "df_continent = df.groupby(\"ParentLocation\")[\"FactValueNumeric\"].sum()\n",
    "df_continent"
   ]
  },
  {
   "cell_type": "code",
   "execution_count": 18,
   "metadata": {},
   "outputs": [
    {
     "data": {
      "image/png": "[encoded data removed]",
      "text/plain": [
       "<Figure size 640x480 with 1 Axes>"
      ]
     },
     "metadata": {},
     "output_type": "display_data"
    }
   ],
   "source": [
    "plt.bar(df_continent.index, df_continent)\n",
    "plt.title(\"Continents vs No of Deaths\")\n",
    "plt.xlabel(\"Continents\")\n",
    "plt.ylabel(\"No of Deaths\")\n",
    "plt.xticks(rotation = 90)\n",
    "plt.show()"
   ]
  },
  {
   "cell_type": "code",
   "execution_count": 19,
   "metadata": {},
   "outputs": [
    {
     "data": {
      "image/png": "[encoded data removed]",
      "text/plain": [
       "<Figure size 640x480 with 1 Axes>"
      ]
     },
     "metadata": {},
     "output_type": "display_data"
    }
   ],
   "source": [
    "plot_data_2 = df_Asia.groupby(\"Period\")[\"FactValueNumeric\"].sum()\n",
    "plot_data_2.plot(x='Period', y='NumericValue', label=\"South-East Asia\")\n",
    "\n",
    "plot_data_2 = df_Americas.groupby(\"Period\")[\"FactValueNumeric\"].sum()\n",
    "plot_data_2.plot(x='Period', y='NumericValue', label=\"Americas\")\n",
    "\n",
    "plot_data_2 = df_medd.groupby(\"Period\")[\"FactValueNumeric\"].sum()\n",
    "plot_data_2.plot(x='Period', y='NumericValue', label=\"Eastern Mediterranean\")\n",
    "\n",
    "plot_data_2 = df_europe.groupby(\"Period\")[\"FactValueNumeric\"].sum()\n",
    "plot_data_2.plot(x='Period', y='NumericValue', label=\"Europe\")\n",
    "\n",
    "plot_data_2 = df_pacific.groupby(\"Period\")[\"FactValueNumeric\"].sum()\n",
    "plot_data_2.plot(x='Period', y='NumericValue', label=\"Western Pacific\")\n",
    "plot_data_2 = df_Africa.groupby(\"Period\")[\"FactValueNumeric\"].sum()\n",
    "plot_data_2.plot(x='Period', y='NumericValue', label=\"Africa\")\n",
    "plt.legend(loc = 'upper right')\n",
    "plt.show()"
   ]
  },
  {
   "cell_type": "code",
   "execution_count": 20,
   "metadata": {},
   "outputs": [
    {
     "data": {
      "image/png": "[encoded data removed]",
      "text/plain": [
       "<Figure size 640x480 with 1 Axes>"
      ]
     },
     "metadata": {},
     "output_type": "display_data"
    }
   ],
   "source": [
    "population_data = pd.read_csv('population.csv')\n",
    "road_safety_data = pd.read_csv('data.csv')\n",
    "\n",
    "#rename the column of country with location\n",
    "population_data.rename(columns = {'Country (or dependency)':'Location'}, inplace = True)\n",
    "\n",
    "population_data.sort_values(by=['Population'], inplace=True, ascending=False)\n",
    "plt.plot(population_data['Location'].head(10), population_data['Population'].head(10))\n",
    "plt.xlabel('Location')\n",
    "plt.ylabel('Population')\n",
    "plt.title('Population v/s Location')\n",
    "plt.xticks(rotation = 90)\n",
    "plt.show()"
   ]
  },
  {
   "cell_type": "code",
   "execution_count": 21,
   "metadata": {},
   "outputs": [
    {
     "data": {
      "image/png": "[encoded data removed]",
      "text/plain": [
       "<Figure size 640x480 with 1 Axes>"
      ]
     },
     "metadata": {},
     "output_type": "display_data"
    }
   ],
   "source": [
    "road_safety_data = pd.read_csv('data.csv')\n",
    "\n",
    "road_safety_data = road_safety_data[road_safety_data['Period'] == 2019]\n",
    "road_safety_data.sort_values(by=['FactValueNumeric'], inplace=True, ascending=False)\n",
    "plt.plot(road_safety_data['Location'].head(10), road_safety_data['FactValueNumeric'].head(10))\n",
    "plt.xlabel('Location')\n",
    "plt.ylabel('Deaths')\n",
    "plt.title('Deaths v/s Location')\n",
    "plt.xticks(rotation = 90)\n",
    "plt.show()"
   ]
  },
  {
   "cell_type": "code",
   "execution_count": null,
   "metadata": {},
   "outputs": [],
   "source": [
    "df = pd.read_csv('data.csv')\n",
    "df = df.groupby(by =  \"Period\")[\"FactValueNumeric\"].sum()\n",
    "df = df.to_frame()\n",
    "df = df.reset_index()\n",
    "df"
   ]
  },
  {
   "cell_type": "code",
   "execution_count": null,
   "metadata": {},
   "outputs": [],
   "source": [
    "df.plot(x=\"Period\", y=\"FactValueNumeric\", kind=\"bar\")\n",
    "plt.title(\"Period vs Count\")\n",
    "plt.xticks(rotation = 90)\n",
    "plt.show()"
   ]
  }
 ],
 "metadata": {
  "kernelspec": {
   "display_name": "Python 3 (ipykernel)",
   "language": "python",
   "name": "python3"
  },
  "language_info": {
   "codemirror_mode": {
    "name": "ipython",
    "version": 3
   },
   "file_extension": ".py",
   "mimetype": "text/x-python",
   "name": "python",
   "nbconvert_exporter": "python",
   "pygments_lexer": "ipython3",
   "version": "3.11.2"
  }
 },
 "nbformat": 4,
 "nbformat_minor": 2
}
